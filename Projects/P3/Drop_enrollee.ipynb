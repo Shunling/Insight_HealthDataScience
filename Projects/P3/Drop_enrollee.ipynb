{
 "cells": [
  {
   "cell_type": "code",
   "execution_count": 1,
   "metadata": {},
   "outputs": [
    {
     "name": "stderr",
     "output_type": "stream",
     "text": [
      "/Users/shunling/opt/anaconda3/lib/python3.7/site-packages/lightgbm/__init__.py:48: UserWarning: Starting from version 2.2.1, the library file in distribution wheels for macOS is built by the Apple Clang (Xcode_8.3.3) compiler.\n",
      "This means that in case of installing LightGBM from PyPI via the ``pip install lightgbm`` command, you don't need to install the gcc compiler anymore.\n",
      "Instead of that, you need to install the OpenMP library, which is required for running LightGBM on the system with the Apple Clang compiler.\n",
      "You can install the OpenMP library by the following command: ``brew install libomp``.\n",
      "  \"You can install the OpenMP library by the following command: ``brew install libomp``.\", UserWarning)\n"
     ]
    }
   ],
   "source": [
    "import pandas as pd\n",
    "import numpy as np\n",
    "\n",
    "from lightgbm import LGBMClassifier\n",
    "from xgboost import XGBClassifier\n",
    "import xgboost\n",
    "\n",
    "from sklearn.model_selection import train_test_split\n",
    "from sklearn.model_selection import KFold\n",
    "from sklearn.naive_bayes import ComplementNB\n",
    "import pickle\n",
    "\n",
    "from sklearn.metrics import confusion_matrix,f1_score,roc_auc_score,roc_curve\n",
    "import matplotlib.pyplot as plt\n",
    "%matplotlib inline"
   ]
  },
  {
   "cell_type": "markdown",
   "metadata": {},
   "source": [
    "# data"
   ]
  },
  {
   "cell_type": "code",
   "execution_count": 15,
   "metadata": {},
   "outputs": [],
   "source": [
    "df = pd.read_csv('Processed_data/full_clean_data.csv',index_col = 0)"
   ]
  },
  {
   "cell_type": "code",
   "execution_count": 16,
   "metadata": {},
   "outputs": [
    {
     "data": {
      "text/html": [
       "<div>\n",
       "<style scoped>\n",
       "    .dataframe tbody tr th:only-of-type {\n",
       "        vertical-align: middle;\n",
       "    }\n",
       "\n",
       "    .dataframe tbody tr th {\n",
       "        vertical-align: top;\n",
       "    }\n",
       "\n",
       "    .dataframe thead th {\n",
       "        text-align: right;\n",
       "    }\n",
       "</style>\n",
       "<table border=\"1\" class=\"dataframe\">\n",
       "  <thead>\n",
       "    <tr style=\"text-align: right;\">\n",
       "      <th></th>\n",
       "      <th>claim_id</th>\n",
       "      <th>enrollee_id</th>\n",
       "      <th>provider_id</th>\n",
       "      <th>provider_status</th>\n",
       "      <th>hmo_id</th>\n",
       "      <th>care_id</th>\n",
       "      <th>qty</th>\n",
       "      <th>amount</th>\n",
       "      <th>approved_qty</th>\n",
       "      <th>approved_amount</th>\n",
       "      <th>hmo_approved</th>\n",
       "      <th>created_at</th>\n",
       "      <th>vetted_at</th>\n",
       "      <th>label</th>\n",
       "      <th>unit_price</th>\n",
       "      <th>id</th>\n",
       "      <th>diagnosis_id</th>\n",
       "    </tr>\n",
       "  </thead>\n",
       "  <tbody>\n",
       "    <tr>\n",
       "      <td>0</td>\n",
       "      <td>10.0</td>\n",
       "      <td>89.0</td>\n",
       "      <td>1.0</td>\n",
       "      <td>1.0</td>\n",
       "      <td>1.0</td>\n",
       "      <td>586.0</td>\n",
       "      <td>6.0</td>\n",
       "      <td>1816.08</td>\n",
       "      <td>6.0</td>\n",
       "      <td>1816.08</td>\n",
       "      <td>1.0</td>\n",
       "      <td>2018-03-12 14:53:46</td>\n",
       "      <td>2018-05-21 10:05:30</td>\n",
       "      <td>0</td>\n",
       "      <td>302.68</td>\n",
       "      <td>15.0</td>\n",
       "      <td>9.0</td>\n",
       "    </tr>\n",
       "    <tr>\n",
       "      <td>1</td>\n",
       "      <td>11.0</td>\n",
       "      <td>89.0</td>\n",
       "      <td>1.0</td>\n",
       "      <td>1.0</td>\n",
       "      <td>1.0</td>\n",
       "      <td>586.0</td>\n",
       "      <td>6.0</td>\n",
       "      <td>1816.08</td>\n",
       "      <td>6.0</td>\n",
       "      <td>1816.08</td>\n",
       "      <td>1.0</td>\n",
       "      <td>2018-03-13 14:50:39</td>\n",
       "      <td>2018-05-21 10:07:19</td>\n",
       "      <td>0</td>\n",
       "      <td>302.68</td>\n",
       "      <td>16.0</td>\n",
       "      <td>15925.0</td>\n",
       "    </tr>\n",
       "    <tr>\n",
       "      <td>2</td>\n",
       "      <td>13.0</td>\n",
       "      <td>74.0</td>\n",
       "      <td>1.0</td>\n",
       "      <td>1.0</td>\n",
       "      <td>1.0</td>\n",
       "      <td>434.0</td>\n",
       "      <td>5.0</td>\n",
       "      <td>115.00</td>\n",
       "      <td>5.0</td>\n",
       "      <td>115.00</td>\n",
       "      <td>1.0</td>\n",
       "      <td>2018-03-16 10:28:53</td>\n",
       "      <td>2018-05-21 10:09:30</td>\n",
       "      <td>0</td>\n",
       "      <td>23.00</td>\n",
       "      <td>36.0</td>\n",
       "      <td>4342.0</td>\n",
       "    </tr>\n",
       "    <tr>\n",
       "      <td>3</td>\n",
       "      <td>13.0</td>\n",
       "      <td>74.0</td>\n",
       "      <td>1.0</td>\n",
       "      <td>1.0</td>\n",
       "      <td>1.0</td>\n",
       "      <td>1102.0</td>\n",
       "      <td>10.0</td>\n",
       "      <td>1265.00</td>\n",
       "      <td>10.0</td>\n",
       "      <td>1265.00</td>\n",
       "      <td>1.0</td>\n",
       "      <td>2018-03-16 10:28:53</td>\n",
       "      <td>2018-05-21 10:09:30</td>\n",
       "      <td>0</td>\n",
       "      <td>126.50</td>\n",
       "      <td>36.0</td>\n",
       "      <td>4342.0</td>\n",
       "    </tr>\n",
       "    <tr>\n",
       "      <td>4</td>\n",
       "      <td>13.0</td>\n",
       "      <td>74.0</td>\n",
       "      <td>1.0</td>\n",
       "      <td>1.0</td>\n",
       "      <td>1.0</td>\n",
       "      <td>299.0</td>\n",
       "      <td>15.0</td>\n",
       "      <td>138.00</td>\n",
       "      <td>15.0</td>\n",
       "      <td>138.00</td>\n",
       "      <td>1.0</td>\n",
       "      <td>2018-03-16 10:28:53</td>\n",
       "      <td>2018-05-21 10:09:30</td>\n",
       "      <td>0</td>\n",
       "      <td>9.20</td>\n",
       "      <td>36.0</td>\n",
       "      <td>4342.0</td>\n",
       "    </tr>\n",
       "  </tbody>\n",
       "</table>\n",
       "</div>"
      ],
      "text/plain": [
       "   claim_id  enrollee_id  provider_id  provider_status  hmo_id  care_id   qty  \\\n",
       "0      10.0         89.0          1.0              1.0     1.0    586.0   6.0   \n",
       "1      11.0         89.0          1.0              1.0     1.0    586.0   6.0   \n",
       "2      13.0         74.0          1.0              1.0     1.0    434.0   5.0   \n",
       "3      13.0         74.0          1.0              1.0     1.0   1102.0  10.0   \n",
       "4      13.0         74.0          1.0              1.0     1.0    299.0  15.0   \n",
       "\n",
       "    amount  approved_qty  approved_amount  hmo_approved           created_at  \\\n",
       "0  1816.08           6.0          1816.08           1.0  2018-03-12 14:53:46   \n",
       "1  1816.08           6.0          1816.08           1.0  2018-03-13 14:50:39   \n",
       "2   115.00           5.0           115.00           1.0  2018-03-16 10:28:53   \n",
       "3  1265.00          10.0          1265.00           1.0  2018-03-16 10:28:53   \n",
       "4   138.00          15.0           138.00           1.0  2018-03-16 10:28:53   \n",
       "\n",
       "             vetted_at  label  unit_price    id  diagnosis_id  \n",
       "0  2018-05-21 10:05:30      0      302.68  15.0           9.0  \n",
       "1  2018-05-21 10:07:19      0      302.68  16.0       15925.0  \n",
       "2  2018-05-21 10:09:30      0       23.00  36.0        4342.0  \n",
       "3  2018-05-21 10:09:30      0      126.50  36.0        4342.0  \n",
       "4  2018-05-21 10:09:30      0        9.20  36.0        4342.0  "
      ]
     },
     "execution_count": 16,
     "metadata": {},
     "output_type": "execute_result"
    }
   ],
   "source": [
    "df.head()"
   ]
  },
  {
   "cell_type": "code",
   "execution_count": 17,
   "metadata": {},
   "outputs": [
    {
     "data": {
      "text/plain": [
       "(2496865315.030001, 266294130.82000002)"
      ]
     },
     "execution_count": 17,
     "metadata": {},
     "output_type": "execute_result"
    }
   ],
   "source": [
    "df.loc[df['label'] == 0]['amount'].sum(),df.loc[df['label'] == 1]['amount'].sum()"
   ]
  },
  {
   "cell_type": "code",
   "execution_count": 18,
   "metadata": {},
   "outputs": [
    {
     "data": {
      "text/plain": [
       "(29389, 634234)"
      ]
     },
     "execution_count": 18,
     "metadata": {},
     "output_type": "execute_result"
    }
   ],
   "source": [
    "df.loc[df['label']==1]['claim_id'].count(),df.loc[df['label']==0]['claim_id'].count()\n"
   ]
  },
  {
   "cell_type": "code",
   "execution_count": 20,
   "metadata": {},
   "outputs": [],
   "source": [
    "X = df[['diagnosis_id','provider_id','provider_status','hmo_id','care_id','qty','unit_price']]\n",
    "y = df['label']"
   ]
  },
  {
   "cell_type": "code",
   "execution_count": 21,
   "metadata": {},
   "outputs": [
    {
     "name": "stdout",
     "output_type": "stream",
     "text": [
      "<class 'pandas.core.frame.DataFrame'>\n",
      "Int64Index: 663623 entries, 0 to 663622\n",
      "Data columns (total 7 columns):\n",
      "diagnosis_id       663615 non-null float64\n",
      "provider_id        663623 non-null float64\n",
      "provider_status    663623 non-null float64\n",
      "hmo_id             663623 non-null float64\n",
      "care_id            663623 non-null float64\n",
      "qty                663623 non-null float64\n",
      "unit_price         663623 non-null float64\n",
      "dtypes: float64(7)\n",
      "memory usage: 40.5 MB\n"
     ]
    }
   ],
   "source": [
    "X.info()"
   ]
  },
  {
   "cell_type": "code",
   "execution_count": 22,
   "metadata": {},
   "outputs": [],
   "source": [
    "dropindex = X.loc[X.diagnosis_id.isnull()].index"
   ]
  },
  {
   "cell_type": "code",
   "execution_count": 23,
   "metadata": {},
   "outputs": [
    {
     "name": "stderr",
     "output_type": "stream",
     "text": [
      "/Users/shunling/opt/anaconda3/lib/python3.7/site-packages/pandas/core/frame.py:4102: SettingWithCopyWarning: \n",
      "A value is trying to be set on a copy of a slice from a DataFrame\n",
      "\n",
      "See the caveats in the documentation: http://pandas.pydata.org/pandas-docs/stable/user_guide/indexing.html#returning-a-view-versus-a-copy\n",
      "  errors=errors,\n"
     ]
    }
   ],
   "source": [
    "X.drop(dropindex, axis=0, inplace = True)\n",
    "y.drop(dropindex, axis=0, inplace = True)"
   ]
  },
  {
   "cell_type": "code",
   "execution_count": 24,
   "metadata": {},
   "outputs": [
    {
     "name": "stdout",
     "output_type": "stream",
     "text": [
      "<class 'pandas.core.frame.DataFrame'>\n",
      "Int64Index: 663615 entries, 0 to 663622\n",
      "Data columns (total 7 columns):\n",
      "diagnosis_id       663615 non-null float64\n",
      "provider_id        663615 non-null float64\n",
      "provider_status    663615 non-null float64\n",
      "hmo_id             663615 non-null float64\n",
      "care_id            663615 non-null float64\n",
      "qty                663615 non-null float64\n",
      "unit_price         663615 non-null float64\n",
      "dtypes: float64(7)\n",
      "memory usage: 40.5 MB\n"
     ]
    }
   ],
   "source": [
    "X.info()"
   ]
  },
  {
   "cell_type": "code",
   "execution_count": 25,
   "metadata": {},
   "outputs": [],
   "source": [
    "def init_scores():\n",
    "     \n",
    "    scores = {}\n",
    "    scores['f1_socre'] = []\n",
    "    scores['precision'] = []\n",
    "    scores['recall'] = []\n",
    "    scores['FPR'] = []\n",
    "    scores['specificity'] = []\n",
    "    scores['roc_auc'] = []\n",
    "    \n",
    "    return scores\n",
    "\n",
    "\n",
    "def evaluation(ytest,Xtest,cls):\n",
    "\n",
    "    scores = init_scores()\n",
    "    ypred = cls.predict(Xtest)\n",
    "    C = confusion_matrix(ytest,ypred)\n",
    "    TN = C[0][0]\n",
    "    FN = C[1][0]\n",
    "    TP = C[1][1]\n",
    "    FP = C[0][1]\n",
    "\n",
    "    print('f1_socre: {:0.3f}'.format(f1_score(ytest,ypred)))\n",
    "    scores['f1_socre'].append(f1_score(ytest,ypred))\n",
    "    print('precision: {:0.3f}'.format(TP/(TP+FP)))\n",
    "    scores['precision'].append(TP/(TP+FP))\n",
    "    print('recall/sensitivity(true positive rate): {:0.3f}'.format(TP/(TP+FN)))\n",
    "    scores['recall'].append(TP/(TP+FN))\n",
    "    print('false positive rate (FPR): {:0.3f}'.format(1-(TN/(TN+FP)))) # 1 - specificity\n",
    "    scores['FPR'].append(1-(TN/(TN+FP)))\n",
    "    print('spcificity(true negative rate): {:0.3f}'.format(TN/(TN+FP)))\n",
    "    scores['specificity'].append(TN/(TN+FP))\n",
    "    print('ROC_AUC_score: {:0.3f}'.format(roc_auc_score(ytest,ypred)))\n",
    "    scores['roc_auc'].append(roc_auc_score(ytest,ypred))\n",
    "    \n",
    "    return scores\n",
    "      \n",
    "def cv(Xtrain,ytrain,model):\n",
    "    \n",
    "    models = []\n",
    "    kf = KFold(n_splits=4)\n",
    "    print(model)\n",
    "    n = 0\n",
    "    for train_index, test_index in kf.split(Xtrain):\n",
    "        print('cross_validate_run: {}'.format(n))\n",
    "        Xtr, Xte = Xtrain[train_index], Xtrain[test_index]\n",
    "        ytr, yte = ytrain[train_index], ytrain[test_index]\n",
    "        cls = model.fit(Xtr, ytr) \n",
    "        models.append(cls)\n",
    "        scores = evaluation(yte,Xte,cls)\n",
    "        n += 1\n",
    "        \n",
    "    \n",
    "    print('\\n mean scores +/- sd: \\n')\n",
    "    for k in scores:\n",
    "        print('{} : {:0.3f} +/- {:0.3f}'.format(k, np.array(scores[k]).mean(),  np.array(scores[k]).std()))\n",
    "\n",
    "    return models, scores"
   ]
  },
  {
   "cell_type": "code",
   "execution_count": 26,
   "metadata": {},
   "outputs": [],
   "source": [
    "\n",
    "Xtrain, Xtest, ytrain, ytest = train_test_split(X, y, test_size = 0.2, random_state=42)\n"
   ]
  },
  {
   "cell_type": "markdown",
   "metadata": {},
   "source": [
    "# 3 models upsampling training data and testing data"
   ]
  },
  {
   "cell_type": "code",
   "execution_count": 32,
   "metadata": {},
   "outputs": [],
   "source": [
    "\n",
    "Xy = X.copy()\n",
    "Xy['y'] = y\n",
    "\n",
    "class0up = Xy.loc[Xy.y == 0]\n",
    "class1up = Xy.loc[Xy.y == 1]\n",
    "\n",
    "class1up = class1up.sample(n=class0up.shape[0],replace=True,random_state=0)\n",
    "Xy = pd.concat([class0up,class1up])\n",
    "yup = Xy['y']\n",
    "Xup = Xy.drop(columns=['y'])\n",
    "# re-do train_test split of balanced data\n",
    "Xuptrain,Xuptest,yuptrain,yuptest = train_test_split(Xup.values,yup.values,test_size = 0.2,random_state=42)"
   ]
  },
  {
   "cell_type": "code",
   "execution_count": 33,
   "metadata": {},
   "outputs": [
    {
     "name": "stdout",
     "output_type": "stream",
     "text": [
      "nb_up_train:\n",
      "ComplementNB(alpha=1.0, class_prior=None, fit_prior=True, norm=False)\n",
      "cross_validate_run: 0\n",
      "f1_socre: 0.381\n",
      "precision: 0.525\n",
      "recall/sensitivity(true positive rate): 0.299\n",
      "false positive rate (FPR): 0.269\n",
      "spcificity(true negative rate): 0.731\n",
      "ROC_AUC_score: 0.515\n",
      "cross_validate_run: 1\n",
      "f1_socre: 0.373\n",
      "precision: 0.523\n",
      "recall/sensitivity(true positive rate): 0.289\n",
      "false positive rate (FPR): 0.264\n",
      "spcificity(true negative rate): 0.736\n",
      "ROC_AUC_score: 0.513\n",
      "cross_validate_run: 2\n",
      "f1_socre: 0.366\n",
      "precision: 0.528\n",
      "recall/sensitivity(true positive rate): 0.280\n",
      "false positive rate (FPR): 0.250\n",
      "spcificity(true negative rate): 0.750\n",
      "ROC_AUC_score: 0.515\n",
      "cross_validate_run: 3\n",
      "f1_socre: 0.378\n",
      "precision: 0.526\n",
      "recall/sensitivity(true positive rate): 0.295\n",
      "false positive rate (FPR): 0.266\n",
      "spcificity(true negative rate): 0.734\n",
      "ROC_AUC_score: 0.514\n",
      "\n",
      " mean scores +/- sd: \n",
      "\n",
      "f1_socre : 0.378 +/- 0.000\n",
      "precision : 0.526 +/- 0.000\n",
      "recall : 0.295 +/- 0.000\n",
      "FPR : 0.266 +/- 0.000\n",
      "specificity : 0.734 +/- 0.000\n",
      "roc_auc : 0.514 +/- 0.000\n",
      "lgb:\n",
      "LGBMClassifier(boosting_type='gbdt', class_weight={1: 1}, colsample_bytree=1.0,\n",
      "               importance_type='split', learning_rate=0.1, max_depth=15,\n",
      "               min_child_samples=20, min_child_weight=0.001, min_split_gain=0.0,\n",
      "               n_estimators=300, n_jobs=4, num_leaves=100, objective=None,\n",
      "               random_state=None, reg_alpha=0.0, reg_lambda=0.0, silent=True,\n",
      "               subsample=1.0, subsample_for_bin=200000, subsample_freq=0)\n",
      "cross_validate_run: 0\n",
      "f1_socre: 0.862\n",
      "precision: 0.841\n",
      "recall/sensitivity(true positive rate): 0.884\n",
      "false positive rate (FPR): 0.166\n",
      "spcificity(true negative rate): 0.834\n",
      "ROC_AUC_score: 0.859\n",
      "cross_validate_run: 1\n",
      "f1_socre: 0.865\n",
      "precision: 0.842\n",
      "recall/sensitivity(true positive rate): 0.890\n",
      "false positive rate (FPR): 0.166\n",
      "spcificity(true negative rate): 0.834\n",
      "ROC_AUC_score: 0.862\n",
      "cross_validate_run: 2\n",
      "f1_socre: 0.866\n",
      "precision: 0.843\n",
      "recall/sensitivity(true positive rate): 0.891\n",
      "false positive rate (FPR): 0.166\n",
      "spcificity(true negative rate): 0.834\n",
      "ROC_AUC_score: 0.863\n",
      "cross_validate_run: 3\n",
      "f1_socre: 0.866\n",
      "precision: 0.845\n",
      "recall/sensitivity(true positive rate): 0.888\n",
      "false positive rate (FPR): 0.164\n",
      "spcificity(true negative rate): 0.836\n",
      "ROC_AUC_score: 0.862\n",
      "\n",
      " mean scores +/- sd: \n",
      "\n",
      "f1_socre : 0.866 +/- 0.000\n",
      "precision : 0.845 +/- 0.000\n",
      "recall : 0.888 +/- 0.000\n",
      "FPR : 0.164 +/- 0.000\n",
      "specificity : 0.836 +/- 0.000\n",
      "roc_auc : 0.862 +/- 0.000\n"
     ]
    }
   ],
   "source": [
    "# nb\n",
    "print('nb_up_train:')\n",
    "model_nb = ComplementNB(alpha=1.0, class_prior=None, fit_prior=True, norm=False)\n",
    "models_nb_utt, scores_nb_utt = cv(Xuptrain,yuptrain, model_nb)\n",
    "\n",
    "# lgb\n",
    "print('lgb:')\n",
    "model_lgb = LGBMClassifier(boosting_type='gbdt', class_weight={1: 1}, colsample_bytree=1.0,\n",
    "               importance_type='split', learning_rate=0.1, max_depth=15,\n",
    "               min_child_samples=20, min_child_weight=0.001, min_split_gain=0.0,\n",
    "               n_estimators=300, n_jobs=4, num_leaves=100, objective=None,\n",
    "               random_state=None, reg_alpha=0.0, reg_lambda=0.0, silent=True,\n",
    "               subsample=1.0, subsample_for_bin=200000, subsample_freq=0)\n",
    "models_lgb_utt, scores_lgb_utt = cv(Xuptrain,yuptrain,model_lgb)"
   ]
  },
  {
   "cell_type": "code",
   "execution_count": 34,
   "metadata": {},
   "outputs": [
    {
     "name": "stdout",
     "output_type": "stream",
     "text": [
      "xgb:\n",
      "XGBClassifier(base_score=0.5, booster='gbtree', colsample_bylevel=1,\n",
      "              colsample_bynode=1, colsample_bytree=1, gamma=0,\n",
      "              learning_rate=0.1, max_delta_step=0, max_depth=15,\n",
      "              min_child_weight=1, missing=None, n_estimators=300, n_jobs=4,\n",
      "              nthread=None, objective='binary:logistic', random_state=0,\n",
      "              reg_alpha=0, reg_lambda=1, scale_pos_weight=1, seed=None,\n",
      "              silent=None, subsample=1, verbosity=1)\n",
      "cross_validate_run: 0\n",
      "f1_socre: 0.942\n",
      "precision: 0.911\n",
      "recall/sensitivity(true positive rate): 0.975\n",
      "false positive rate (FPR): 0.095\n",
      "spcificity(true negative rate): 0.905\n",
      "ROC_AUC_score: 0.940\n",
      "cross_validate_run: 1\n",
      "f1_socre: 0.942\n",
      "precision: 0.911\n",
      "recall/sensitivity(true positive rate): 0.975\n",
      "false positive rate (FPR): 0.095\n",
      "spcificity(true negative rate): 0.905\n",
      "ROC_AUC_score: 0.940\n",
      "cross_validate_run: 2\n",
      "f1_socre: 0.942\n",
      "precision: 0.912\n",
      "recall/sensitivity(true positive rate): 0.974\n",
      "false positive rate (FPR): 0.094\n",
      "spcificity(true negative rate): 0.906\n",
      "ROC_AUC_score: 0.940\n",
      "cross_validate_run: 3\n",
      "f1_socre: 0.942\n",
      "precision: 0.911\n",
      "recall/sensitivity(true positive rate): 0.975\n",
      "false positive rate (FPR): 0.096\n",
      "spcificity(true negative rate): 0.904\n",
      "ROC_AUC_score: 0.940\n",
      "\n",
      " mean scores +/- sd: \n",
      "\n",
      "f1_socre : 0.942 +/- 0.000\n",
      "precision : 0.911 +/- 0.000\n",
      "recall : 0.975 +/- 0.000\n",
      "FPR : 0.096 +/- 0.000\n",
      "specificity : 0.904 +/- 0.000\n",
      "roc_auc : 0.940 +/- 0.000\n"
     ]
    }
   ],
   "source": [
    "# xgb\n",
    "print('xgb:')\n",
    "model_xgb = XGBClassifier(base_score=0.5, booster='gbtree', colsample_bylevel=1,\n",
    "              colsample_bynode=1, colsample_bytree=1, gamma=0,\n",
    "              learning_rate=0.1, max_delta_step=0, max_depth=15,\n",
    "              min_child_weight=1, missing=None, n_estimators=300, n_jobs=4,\n",
    "              nthread=None, objective='binary:logistic', random_state=0,\n",
    "              reg_alpha=0, reg_lambda=1, scale_pos_weight=1, seed=None,\n",
    "              silent=None, subsample=1, verbosity=1)\n",
    "models_xgb_utt, scores_xgb_utt = cv(Xuptrain,yuptrain,model_xgb)"
   ]
  },
  {
   "cell_type": "code",
   "execution_count": 35,
   "metadata": {},
   "outputs": [
    {
     "name": "stdout",
     "output_type": "stream",
     "text": [
      "f1_socre: 0.512\n",
      "precision: 0.347\n",
      "recall/sensitivity(true positive rate): 0.979\n",
      "false positive rate (FPR): 0.086\n",
      "spcificity(true negative rate): 0.914\n",
      "ROC_AUC_score: 0.946\n",
      "f1_socre: 0.335\n",
      "precision: 0.206\n",
      "recall/sensitivity(true positive rate): 0.898\n",
      "false positive rate (FPR): 0.162\n",
      "spcificity(true negative rate): 0.838\n",
      "ROC_AUC_score: 0.868\n"
     ]
    }
   ],
   "source": [
    "# results without enrollee\n",
    "test_scores_xgb_utt = evaluation(ytest.values,Xtest.values,models_xgb_utt[0])\n",
    "test_scores_lgb_utt = evaluation(ytest.values,Xtest.values,models_lgb_utt[0])"
   ]
  },
  {
   "cell_type": "code",
   "execution_count": 58,
   "metadata": {},
   "outputs": [
    {
     "name": "stdout",
     "output_type": "stream",
     "text": [
      "f1_socre: 0.696\n",
      "precision: 0.534\n",
      "recall/sensitivity(true positive rate): 0.998\n",
      "false positive rate (FPR): 0.041\n",
      "spcificity(true negative rate): 0.959\n",
      "ROC_AUC_score: 0.979\n",
      "f1_socre: 0.378\n",
      "precision: 0.238\n",
      "recall/sensitivity(true positive rate): 0.920\n",
      "false positive rate (FPR): 0.138\n",
      "spcificity(true negative rate): 0.862\n",
      "ROC_AUC_score: 0.891\n"
     ]
    }
   ],
   "source": [
    "# past results with all features\n",
    "\"\"\"\n",
    "test_scores_xgb_utt = evaluation(ytest.values,Xtest.values,models_xgb_utt[0])\n",
    "test_scores_lgb_utt = evaluation(ytest.values,Xtest.values,models_lgb_utt[0])\n",
    "\"\"\"\n"
   ]
  },
  {
   "cell_type": "code",
   "execution_count": 36,
   "metadata": {},
   "outputs": [],
   "source": [
    "pickle.dump(models_xgb_utt[0],open(\"Models/upsample/xgb_noEnrollee.dat\", \"wb\"))\n",
    "pickle.dump(models_lgb_utt[0],open(\"Models/upsample/lgb_noEnrollee.dat\", \"wb\"))"
   ]
  },
  {
   "cell_type": "code",
   "execution_count": null,
   "metadata": {},
   "outputs": [],
   "source": []
  }
 ],
 "metadata": {
  "kernelspec": {
   "display_name": "Python 3",
   "language": "python",
   "name": "python3"
  },
  "language_info": {
   "codemirror_mode": {
    "name": "ipython",
    "version": 3
   },
   "file_extension": ".py",
   "mimetype": "text/x-python",
   "name": "python",
   "nbconvert_exporter": "python",
   "pygments_lexer": "ipython3",
   "version": "3.7.4"
  }
 },
 "nbformat": 4,
 "nbformat_minor": 2
}
