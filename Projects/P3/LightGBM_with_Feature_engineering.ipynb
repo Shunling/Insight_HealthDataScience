{
 "cells": [
  {
   "cell_type": "code",
   "execution_count": 1,
   "metadata": {},
   "outputs": [
    {
     "name": "stderr",
     "output_type": "stream",
     "text": [
      "/Users/shunling/opt/anaconda3/lib/python3.7/site-packages/lightgbm/__init__.py:48: UserWarning: Starting from version 2.2.1, the library file in distribution wheels for macOS is built by the Apple Clang (Xcode_8.3.3) compiler.\n",
      "This means that in case of installing LightGBM from PyPI via the ``pip install lightgbm`` command, you don't need to install the gcc compiler anymore.\n",
      "Instead of that, you need to install the OpenMP library, which is required for running LightGBM on the system with the Apple Clang compiler.\n",
      "You can install the OpenMP library by the following command: ``brew install libomp``.\n",
      "  \"You can install the OpenMP library by the following command: ``brew install libomp``.\", UserWarning)\n"
     ]
    }
   ],
   "source": [
    "from lightgbm import LGBMClassifier\n",
    "import pandas as pd\n",
    "import numpy as np\n",
    "\n",
    "from sklearn.model_selection import train_test_split\n",
    "from sklearn.model_selection import KFold\n",
    "import pickle\n",
    "\n",
    "from sklearn.metrics import confusion_matrix,f1_score,roc_auc_score,roc_curve\n",
    "import matplotlib.pyplot as plt\n",
    "%matplotlib inline"
   ]
  },
  {
   "cell_type": "code",
   "execution_count": 2,
   "metadata": {},
   "outputs": [
    {
     "name": "stdout",
     "output_type": "stream",
     "text": [
      "<class 'pandas.core.frame.DataFrame'>\n",
      "Int64Index: 744870 entries, 0 to 744869\n",
      "Data columns (total 13 columns):\n",
      "claim_id        744870 non-null float64\n",
      "enrollee_id     744870 non-null float64\n",
      "provider_id     744870 non-null float64\n",
      "hmo_id          744870 non-null float64\n",
      "care_id         744870 non-null float64\n",
      "diagnosis_id    744861 non-null float64\n",
      "qty             744870 non-null float64\n",
      "amount          744870 non-null float64\n",
      "unit_price      744870 non-null float64\n",
      "tariffs         668049 non-null float64\n",
      "created_at      744870 non-null object\n",
      "vetted_at       744870 non-null object\n",
      "label           744870 non-null int64\n",
      "dtypes: float64(10), int64(1), object(2)\n",
      "memory usage: 79.6+ MB\n"
     ]
    }
   ],
   "source": [
    "# load data\n",
    "df = pd.read_csv('Processed_data/all_data.csv',index_col=0)\n",
    "df.info()"
   ]
  },
  {
   "cell_type": "markdown",
   "metadata": {},
   "source": [
    "## create month feature for claim created and vetted date"
   ]
  },
  {
   "cell_type": "code",
   "execution_count": 3,
   "metadata": {},
   "outputs": [
    {
     "data": {
      "text/plain": [
       "('03', '2018-03-12 14:53:46')"
      ]
     },
     "execution_count": 3,
     "metadata": {},
     "output_type": "execute_result"
    }
   ],
   "source": [
    "# check data format\n",
    "df.iloc[0].created_at[5:7],df.iloc[0].created_at"
   ]
  },
  {
   "cell_type": "code",
   "execution_count": 4,
   "metadata": {},
   "outputs": [],
   "source": [
    "\n",
    "df['create_m'] = df.created_at.apply(lambda x: x[5:7])\n",
    "df['vetted_m'] = df.vetted_at.apply(lambda x: x[5:7])"
   ]
  },
  {
   "cell_type": "markdown",
   "metadata": {},
   "source": [
    "## create feature for enrollee_id by cummulated claim number and amount"
   ]
  },
  {
   "cell_type": "code",
   "execution_count": 5,
   "metadata": {},
   "outputs": [],
   "source": [
    "a = df.sort_values(by='created_at')[['claim_id','enrollee_id','created_at']]"
   ]
  },
  {
   "cell_type": "code",
   "execution_count": 6,
   "metadata": {},
   "outputs": [
    {
     "data": {
      "text/html": [
       "<div>\n",
       "<style scoped>\n",
       "    .dataframe tbody tr th:only-of-type {\n",
       "        vertical-align: middle;\n",
       "    }\n",
       "\n",
       "    .dataframe tbody tr th {\n",
       "        vertical-align: top;\n",
       "    }\n",
       "\n",
       "    .dataframe thead th {\n",
       "        text-align: right;\n",
       "    }\n",
       "</style>\n",
       "<table border=\"1\" class=\"dataframe\">\n",
       "  <thead>\n",
       "    <tr style=\"text-align: right;\">\n",
       "      <th></th>\n",
       "      <th>claim_id</th>\n",
       "      <th>enrollee_id</th>\n",
       "      <th>created_at</th>\n",
       "    </tr>\n",
       "  </thead>\n",
       "  <tbody>\n",
       "    <tr>\n",
       "      <td>0</td>\n",
       "      <td>10.0</td>\n",
       "      <td>89.0</td>\n",
       "      <td>2018-03-12 14:53:46</td>\n",
       "    </tr>\n",
       "    <tr>\n",
       "      <td>1</td>\n",
       "      <td>11.0</td>\n",
       "      <td>89.0</td>\n",
       "      <td>2018-03-13 14:50:39</td>\n",
       "    </tr>\n",
       "    <tr>\n",
       "      <td>2</td>\n",
       "      <td>13.0</td>\n",
       "      <td>74.0</td>\n",
       "      <td>2018-03-16 10:28:53</td>\n",
       "    </tr>\n",
       "    <tr>\n",
       "      <td>3</td>\n",
       "      <td>13.0</td>\n",
       "      <td>74.0</td>\n",
       "      <td>2018-03-16 10:28:53</td>\n",
       "    </tr>\n",
       "    <tr>\n",
       "      <td>4</td>\n",
       "      <td>13.0</td>\n",
       "      <td>74.0</td>\n",
       "      <td>2018-03-16 10:28:53</td>\n",
       "    </tr>\n",
       "  </tbody>\n",
       "</table>\n",
       "</div>"
      ],
      "text/plain": [
       "   claim_id  enrollee_id           created_at\n",
       "0      10.0         89.0  2018-03-12 14:53:46\n",
       "1      11.0         89.0  2018-03-13 14:50:39\n",
       "2      13.0         74.0  2018-03-16 10:28:53\n",
       "3      13.0         74.0  2018-03-16 10:28:53\n",
       "4      13.0         74.0  2018-03-16 10:28:53"
      ]
     },
     "execution_count": 6,
     "metadata": {},
     "output_type": "execute_result"
    }
   ],
   "source": [
    "a.head()"
   ]
  },
  {
   "cell_type": "code",
   "execution_count": 7,
   "metadata": {},
   "outputs": [
    {
     "name": "stdout",
     "output_type": "stream",
     "text": [
      "<class 'pandas.core.frame.DataFrame'>\n",
      "Int64Index: 744870 entries, 0 to 744869\n",
      "Data columns (total 3 columns):\n",
      "claim_id       744870 non-null float64\n",
      "enrollee_id    744870 non-null float64\n",
      "created_at     744870 non-null object\n",
      "dtypes: float64(2), object(1)\n",
      "memory usage: 22.7+ MB\n"
     ]
    }
   ],
   "source": [
    "a.info()"
   ]
  },
  {
   "cell_type": "code",
   "execution_count": 8,
   "metadata": {},
   "outputs": [],
   "source": [
    "df['enrollee_cum_claim_count'] = a.groupby(['enrollee_id']).cumcount()+1"
   ]
  },
  {
   "cell_type": "code",
   "execution_count": 9,
   "metadata": {},
   "outputs": [
    {
     "data": {
      "text/html": [
       "<div>\n",
       "<style scoped>\n",
       "    .dataframe tbody tr th:only-of-type {\n",
       "        vertical-align: middle;\n",
       "    }\n",
       "\n",
       "    .dataframe tbody tr th {\n",
       "        vertical-align: top;\n",
       "    }\n",
       "\n",
       "    .dataframe thead th {\n",
       "        text-align: right;\n",
       "    }\n",
       "</style>\n",
       "<table border=\"1\" class=\"dataframe\">\n",
       "  <thead>\n",
       "    <tr style=\"text-align: right;\">\n",
       "      <th></th>\n",
       "      <th>claim_id</th>\n",
       "      <th>enrollee_id</th>\n",
       "      <th>provider_id</th>\n",
       "      <th>hmo_id</th>\n",
       "      <th>care_id</th>\n",
       "      <th>diagnosis_id</th>\n",
       "      <th>qty</th>\n",
       "      <th>amount</th>\n",
       "      <th>unit_price</th>\n",
       "      <th>tariffs</th>\n",
       "      <th>created_at</th>\n",
       "      <th>vetted_at</th>\n",
       "      <th>label</th>\n",
       "      <th>create_m</th>\n",
       "      <th>vetted_m</th>\n",
       "      <th>enrollee_cum_claim_count</th>\n",
       "    </tr>\n",
       "  </thead>\n",
       "  <tbody>\n",
       "    <tr>\n",
       "      <td>0</td>\n",
       "      <td>10.0</td>\n",
       "      <td>89.0</td>\n",
       "      <td>1.0</td>\n",
       "      <td>1.0</td>\n",
       "      <td>586.0</td>\n",
       "      <td>9.0</td>\n",
       "      <td>6.0</td>\n",
       "      <td>1816.08</td>\n",
       "      <td>302.68</td>\n",
       "      <td>302.68</td>\n",
       "      <td>2018-03-12 14:53:46</td>\n",
       "      <td>2018-05-21 10:05:30</td>\n",
       "      <td>0</td>\n",
       "      <td>03</td>\n",
       "      <td>05</td>\n",
       "      <td>1</td>\n",
       "    </tr>\n",
       "    <tr>\n",
       "      <td>1</td>\n",
       "      <td>11.0</td>\n",
       "      <td>89.0</td>\n",
       "      <td>1.0</td>\n",
       "      <td>1.0</td>\n",
       "      <td>586.0</td>\n",
       "      <td>15925.0</td>\n",
       "      <td>6.0</td>\n",
       "      <td>1816.08</td>\n",
       "      <td>302.68</td>\n",
       "      <td>302.68</td>\n",
       "      <td>2018-03-13 14:50:39</td>\n",
       "      <td>2018-05-21 10:07:19</td>\n",
       "      <td>0</td>\n",
       "      <td>03</td>\n",
       "      <td>05</td>\n",
       "      <td>2</td>\n",
       "    </tr>\n",
       "    <tr>\n",
       "      <td>2</td>\n",
       "      <td>13.0</td>\n",
       "      <td>74.0</td>\n",
       "      <td>1.0</td>\n",
       "      <td>1.0</td>\n",
       "      <td>434.0</td>\n",
       "      <td>4342.0</td>\n",
       "      <td>5.0</td>\n",
       "      <td>115.00</td>\n",
       "      <td>23.00</td>\n",
       "      <td>23.00</td>\n",
       "      <td>2018-03-16 10:28:53</td>\n",
       "      <td>2018-05-21 10:09:30</td>\n",
       "      <td>0</td>\n",
       "      <td>03</td>\n",
       "      <td>05</td>\n",
       "      <td>1</td>\n",
       "    </tr>\n",
       "    <tr>\n",
       "      <td>3</td>\n",
       "      <td>13.0</td>\n",
       "      <td>74.0</td>\n",
       "      <td>1.0</td>\n",
       "      <td>1.0</td>\n",
       "      <td>1102.0</td>\n",
       "      <td>4342.0</td>\n",
       "      <td>10.0</td>\n",
       "      <td>1265.00</td>\n",
       "      <td>126.50</td>\n",
       "      <td>126.50</td>\n",
       "      <td>2018-03-16 10:28:53</td>\n",
       "      <td>2018-05-21 10:09:30</td>\n",
       "      <td>0</td>\n",
       "      <td>03</td>\n",
       "      <td>05</td>\n",
       "      <td>2</td>\n",
       "    </tr>\n",
       "    <tr>\n",
       "      <td>4</td>\n",
       "      <td>13.0</td>\n",
       "      <td>74.0</td>\n",
       "      <td>1.0</td>\n",
       "      <td>1.0</td>\n",
       "      <td>299.0</td>\n",
       "      <td>4342.0</td>\n",
       "      <td>15.0</td>\n",
       "      <td>138.00</td>\n",
       "      <td>9.20</td>\n",
       "      <td>9.20</td>\n",
       "      <td>2018-03-16 10:28:53</td>\n",
       "      <td>2018-05-21 10:09:30</td>\n",
       "      <td>0</td>\n",
       "      <td>03</td>\n",
       "      <td>05</td>\n",
       "      <td>3</td>\n",
       "    </tr>\n",
       "  </tbody>\n",
       "</table>\n",
       "</div>"
      ],
      "text/plain": [
       "   claim_id  enrollee_id  provider_id  hmo_id  care_id  diagnosis_id   qty  \\\n",
       "0      10.0         89.0          1.0     1.0    586.0           9.0   6.0   \n",
       "1      11.0         89.0          1.0     1.0    586.0       15925.0   6.0   \n",
       "2      13.0         74.0          1.0     1.0    434.0        4342.0   5.0   \n",
       "3      13.0         74.0          1.0     1.0   1102.0        4342.0  10.0   \n",
       "4      13.0         74.0          1.0     1.0    299.0        4342.0  15.0   \n",
       "\n",
       "    amount  unit_price  tariffs           created_at            vetted_at  \\\n",
       "0  1816.08      302.68   302.68  2018-03-12 14:53:46  2018-05-21 10:05:30   \n",
       "1  1816.08      302.68   302.68  2018-03-13 14:50:39  2018-05-21 10:07:19   \n",
       "2   115.00       23.00    23.00  2018-03-16 10:28:53  2018-05-21 10:09:30   \n",
       "3  1265.00      126.50   126.50  2018-03-16 10:28:53  2018-05-21 10:09:30   \n",
       "4   138.00        9.20     9.20  2018-03-16 10:28:53  2018-05-21 10:09:30   \n",
       "\n",
       "   label create_m vetted_m  enrollee_cum_claim_count  \n",
       "0      0       03       05                         1  \n",
       "1      0       03       05                         2  \n",
       "2      0       03       05                         1  \n",
       "3      0       03       05                         2  \n",
       "4      0       03       05                         3  "
      ]
     },
     "execution_count": 9,
     "metadata": {},
     "output_type": "execute_result"
    }
   ],
   "source": [
    "df.head()"
   ]
  },
  {
   "cell_type": "code",
   "execution_count": 10,
   "metadata": {},
   "outputs": [],
   "source": [
    "df['enrollee_cum_claim_amount'] = df.groupby(['enrollee_id'])['amount'].cumsum()"
   ]
  },
  {
   "cell_type": "code",
   "execution_count": 11,
   "metadata": {},
   "outputs": [
    {
     "data": {
      "text/html": [
       "<div>\n",
       "<style scoped>\n",
       "    .dataframe tbody tr th:only-of-type {\n",
       "        vertical-align: middle;\n",
       "    }\n",
       "\n",
       "    .dataframe tbody tr th {\n",
       "        vertical-align: top;\n",
       "    }\n",
       "\n",
       "    .dataframe thead th {\n",
       "        text-align: right;\n",
       "    }\n",
       "</style>\n",
       "<table border=\"1\" class=\"dataframe\">\n",
       "  <thead>\n",
       "    <tr style=\"text-align: right;\">\n",
       "      <th></th>\n",
       "      <th>claim_id</th>\n",
       "      <th>enrollee_id</th>\n",
       "      <th>provider_id</th>\n",
       "      <th>hmo_id</th>\n",
       "      <th>care_id</th>\n",
       "      <th>diagnosis_id</th>\n",
       "      <th>qty</th>\n",
       "      <th>amount</th>\n",
       "      <th>unit_price</th>\n",
       "      <th>tariffs</th>\n",
       "      <th>created_at</th>\n",
       "      <th>vetted_at</th>\n",
       "      <th>label</th>\n",
       "      <th>create_m</th>\n",
       "      <th>vetted_m</th>\n",
       "      <th>enrollee_cum_claim_count</th>\n",
       "      <th>enrollee_cum_claim_amount</th>\n",
       "    </tr>\n",
       "  </thead>\n",
       "  <tbody>\n",
       "    <tr>\n",
       "      <td>0</td>\n",
       "      <td>10.0</td>\n",
       "      <td>89.0</td>\n",
       "      <td>1.0</td>\n",
       "      <td>1.0</td>\n",
       "      <td>586.0</td>\n",
       "      <td>9.0</td>\n",
       "      <td>6.0</td>\n",
       "      <td>1816.08</td>\n",
       "      <td>302.68</td>\n",
       "      <td>302.68</td>\n",
       "      <td>2018-03-12 14:53:46</td>\n",
       "      <td>2018-05-21 10:05:30</td>\n",
       "      <td>0</td>\n",
       "      <td>03</td>\n",
       "      <td>05</td>\n",
       "      <td>1</td>\n",
       "      <td>1816.08</td>\n",
       "    </tr>\n",
       "    <tr>\n",
       "      <td>1</td>\n",
       "      <td>11.0</td>\n",
       "      <td>89.0</td>\n",
       "      <td>1.0</td>\n",
       "      <td>1.0</td>\n",
       "      <td>586.0</td>\n",
       "      <td>15925.0</td>\n",
       "      <td>6.0</td>\n",
       "      <td>1816.08</td>\n",
       "      <td>302.68</td>\n",
       "      <td>302.68</td>\n",
       "      <td>2018-03-13 14:50:39</td>\n",
       "      <td>2018-05-21 10:07:19</td>\n",
       "      <td>0</td>\n",
       "      <td>03</td>\n",
       "      <td>05</td>\n",
       "      <td>2</td>\n",
       "      <td>3632.16</td>\n",
       "    </tr>\n",
       "    <tr>\n",
       "      <td>2</td>\n",
       "      <td>13.0</td>\n",
       "      <td>74.0</td>\n",
       "      <td>1.0</td>\n",
       "      <td>1.0</td>\n",
       "      <td>434.0</td>\n",
       "      <td>4342.0</td>\n",
       "      <td>5.0</td>\n",
       "      <td>115.00</td>\n",
       "      <td>23.00</td>\n",
       "      <td>23.00</td>\n",
       "      <td>2018-03-16 10:28:53</td>\n",
       "      <td>2018-05-21 10:09:30</td>\n",
       "      <td>0</td>\n",
       "      <td>03</td>\n",
       "      <td>05</td>\n",
       "      <td>1</td>\n",
       "      <td>115.00</td>\n",
       "    </tr>\n",
       "    <tr>\n",
       "      <td>3</td>\n",
       "      <td>13.0</td>\n",
       "      <td>74.0</td>\n",
       "      <td>1.0</td>\n",
       "      <td>1.0</td>\n",
       "      <td>1102.0</td>\n",
       "      <td>4342.0</td>\n",
       "      <td>10.0</td>\n",
       "      <td>1265.00</td>\n",
       "      <td>126.50</td>\n",
       "      <td>126.50</td>\n",
       "      <td>2018-03-16 10:28:53</td>\n",
       "      <td>2018-05-21 10:09:30</td>\n",
       "      <td>0</td>\n",
       "      <td>03</td>\n",
       "      <td>05</td>\n",
       "      <td>2</td>\n",
       "      <td>1380.00</td>\n",
       "    </tr>\n",
       "    <tr>\n",
       "      <td>4</td>\n",
       "      <td>13.0</td>\n",
       "      <td>74.0</td>\n",
       "      <td>1.0</td>\n",
       "      <td>1.0</td>\n",
       "      <td>299.0</td>\n",
       "      <td>4342.0</td>\n",
       "      <td>15.0</td>\n",
       "      <td>138.00</td>\n",
       "      <td>9.20</td>\n",
       "      <td>9.20</td>\n",
       "      <td>2018-03-16 10:28:53</td>\n",
       "      <td>2018-05-21 10:09:30</td>\n",
       "      <td>0</td>\n",
       "      <td>03</td>\n",
       "      <td>05</td>\n",
       "      <td>3</td>\n",
       "      <td>1518.00</td>\n",
       "    </tr>\n",
       "  </tbody>\n",
       "</table>\n",
       "</div>"
      ],
      "text/plain": [
       "   claim_id  enrollee_id  provider_id  hmo_id  care_id  diagnosis_id   qty  \\\n",
       "0      10.0         89.0          1.0     1.0    586.0           9.0   6.0   \n",
       "1      11.0         89.0          1.0     1.0    586.0       15925.0   6.0   \n",
       "2      13.0         74.0          1.0     1.0    434.0        4342.0   5.0   \n",
       "3      13.0         74.0          1.0     1.0   1102.0        4342.0  10.0   \n",
       "4      13.0         74.0          1.0     1.0    299.0        4342.0  15.0   \n",
       "\n",
       "    amount  unit_price  tariffs           created_at            vetted_at  \\\n",
       "0  1816.08      302.68   302.68  2018-03-12 14:53:46  2018-05-21 10:05:30   \n",
       "1  1816.08      302.68   302.68  2018-03-13 14:50:39  2018-05-21 10:07:19   \n",
       "2   115.00       23.00    23.00  2018-03-16 10:28:53  2018-05-21 10:09:30   \n",
       "3  1265.00      126.50   126.50  2018-03-16 10:28:53  2018-05-21 10:09:30   \n",
       "4   138.00        9.20     9.20  2018-03-16 10:28:53  2018-05-21 10:09:30   \n",
       "\n",
       "   label create_m vetted_m  enrollee_cum_claim_count  \\\n",
       "0      0       03       05                         1   \n",
       "1      0       03       05                         2   \n",
       "2      0       03       05                         1   \n",
       "3      0       03       05                         2   \n",
       "4      0       03       05                         3   \n",
       "\n",
       "   enrollee_cum_claim_amount  \n",
       "0                    1816.08  \n",
       "1                    3632.16  \n",
       "2                     115.00  \n",
       "3                    1380.00  \n",
       "4                    1518.00  "
      ]
     },
     "execution_count": 11,
     "metadata": {},
     "output_type": "execute_result"
    }
   ],
   "source": [
    "df.head()\n"
   ]
  },
  {
   "cell_type": "code",
   "execution_count": 12,
   "metadata": {},
   "outputs": [],
   "source": [
    "df_engineered = df[['claim_id','enrollee_id','enrollee_cum_claim_count','enrollee_cum_claim_amount','provider_id',\\\n",
    "                   'hmo_id','care_id','diagnosis_id','qty','amount','unit_price','tariffs','create_m','vetted_m','label']]"
   ]
  },
  {
   "cell_type": "code",
   "execution_count": 13,
   "metadata": {},
   "outputs": [],
   "source": [
    "#df_engineered.to_csv('Processed_data/feature_engineered.csv')\n",
    "#df_engineered = pd.read_csv('Processed_data/feature_engineered.csv')"
   ]
  },
  {
   "cell_type": "code",
   "execution_count": 14,
   "metadata": {},
   "outputs": [],
   "source": [
    "# training and testing data\n",
    "X = df_engineered.drop(columns=['claim_id','enrollee_id','vetted_m','label'])\n",
    "y = df_engineered.label"
   ]
  },
  {
   "cell_type": "code",
   "execution_count": 15,
   "metadata": {},
   "outputs": [],
   "source": [
    "Xtrain, Xtest, ytrain, ytest = train_test_split(X,y,test_size=0.2,random_state=2)"
   ]
  },
  {
   "cell_type": "code",
   "execution_count": 18,
   "metadata": {},
   "outputs": [],
   "source": [
    "def init_scores():\n",
    "    \n",
    "    scores = {}\n",
    "    scores['f1_socre'] = []\n",
    "    scores['precision'] = []\n",
    "    scores['recall'] = []\n",
    "    scores['FPR'] = []\n",
    "    scores['specificity'] = []\n",
    "    scores['roc_auc'] = []\n",
    "    \n",
    "    return scores\n",
    "\n",
    "\n",
    "def evaluation(ytest,Xtest,cls):\n",
    "\n",
    "    scores = init_scores()\n",
    "    ypred = cls.predict(Xtest)\n",
    "    C = confusion_matrix(ytest,ypred)\n",
    "    TN = C[0][0]\n",
    "    FN = C[1][0]\n",
    "    TP = C[1][1]\n",
    "    FP = C[0][1]\n",
    "\n",
    "    print('f1_socre: {:0.3f}'.format(f1_score(ytest,ypred)))\n",
    "    scores['f1_socre'].append(f1_score(ytest,ypred))\n",
    "    print('precision: {:0.3f}'.format(TP/(TP+FP)))\n",
    "    scores['precision'].append(TP/(TP+FP))\n",
    "    print('recall/sensitivity(true positive rate): {:0.3f}'.format(TP/(TP+FN)))\n",
    "    scores['recall'].append(TP/(TP+FN))\n",
    "    print('false positive rate (FPR): {:0.3f}'.format(1-(TN/(TN+FP)))) # 1 - specificity\n",
    "    scores['FPR'].append(1-(TN/(TN+FP)))\n",
    "    print('spcificity(true negative rate): {:0.3f}'.format(TN/(TN+FP)))\n",
    "    scores['specificity'].append(TN/(TN+FP))\n",
    "    print('ROC_AUC_score: {:0.3f}'.format(roc_auc_score(ytest,ypred)))\n",
    "    scores['roc_auc'].append(roc_auc_score(ytest,ypred))\n",
    "    \n",
    "    return scores\n",
    "    \n",
    "def cv(Xtrain,ytrain,model):\n",
    "\n",
    "    models = []\n",
    "    kf = KFold(n_splits=4)\n",
    "    print(model)\n",
    "    n = 0\n",
    "    for train_index, test_index in kf.split(Xtrain):\n",
    "        print('cross_validate_run: {}'.format(n))\n",
    "        Xtr, Xte = Xtrain[train_index], Xtrain[test_index]\n",
    "        ytr, yte = ytrain[train_index], ytrain[test_index]\n",
    "        cls = model.fit(Xtr, ytr) \n",
    "        models.append(cls)\n",
    "        scores = evaluation(yte,Xte,cls)\n",
    "        n += 1\n",
    "    \n",
    "    print('\\n mean scores +/- sd: \\n')\n",
    "    for k in scores:\n",
    "        print('{} : {:0.3f} +/- {:0.3f}'.format(k, np.array(scores[k]).mean(),  np.array(scores[k]).std()))\n",
    "        \n",
    "    \n",
    "    return models, scores"
   ]
  },
  {
   "cell_type": "code",
   "execution_count": 19,
   "metadata": {},
   "outputs": [
    {
     "name": "stdout",
     "output_type": "stream",
     "text": [
      "maximum depth: 5\n",
      "LGBMClassifier(bagging_fraction=0.1, bagging_freq=10, boosting_type='gbdt',\n",
      "               class_weight={1: 50}, colsample_bytree=1.0,\n",
      "               importance_type='split', learning_rate=0.1, max_depth=5,\n",
      "               min_child_samples=1, min_child_weight=1, min_split_gain=0.0,\n",
      "               n_estimators=300, n_jobs=4, num_leaves=31, objective=None,\n",
      "               random_state=None, reg_alpha=0.0, reg_lambda=1, silent=True,\n",
      "               subsample=1.0, subsample_for_bin=200000, subsample_freq=0)\n",
      "cross_validate_run: 0\n",
      "f1_socre: 0.154\n",
      "precision: 0.084\n",
      "recall/sensitivity(true positive rate): 0.897\n",
      "false positive rate (FPR): 0.436\n",
      "spcificity(true negative rate): 0.564\n",
      "ROC_AUC_score: 0.730\n",
      "cross_validate_run: 1\n",
      "f1_socre: 0.159\n",
      "precision: 0.087\n",
      "recall/sensitivity(true positive rate): 0.892\n",
      "false positive rate (FPR): 0.416\n",
      "spcificity(true negative rate): 0.584\n",
      "ROC_AUC_score: 0.738\n",
      "cross_validate_run: 2\n",
      "f1_socre: 0.158\n",
      "precision: 0.087\n",
      "recall/sensitivity(true positive rate): 0.899\n",
      "false positive rate (FPR): 0.420\n",
      "spcificity(true negative rate): 0.580\n",
      "ROC_AUC_score: 0.739\n",
      "cross_validate_run: 3\n",
      "f1_socre: 0.155\n",
      "precision: 0.085\n",
      "recall/sensitivity(true positive rate): 0.885\n",
      "false positive rate (FPR): 0.428\n",
      "spcificity(true negative rate): 0.572\n",
      "ROC_AUC_score: 0.729\n",
      "\n",
      " mean scores +/- sd: \n",
      "\n",
      "f1_socre : 0.155 +/- 0.000\n",
      "precision : 0.085 +/- 0.000\n",
      "recall : 0.885 +/- 0.000\n",
      "FPR : 0.428 +/- 0.000\n",
      "specificity : 0.572 +/- 0.000\n",
      "roc_auc : 0.729 +/- 0.000\n",
      "maximum depth: 10\n",
      "LGBMClassifier(bagging_fraction=0.1, bagging_freq=10, boosting_type='gbdt',\n",
      "               class_weight={1: 50}, colsample_bytree=1.0,\n",
      "               importance_type='split', learning_rate=0.1, max_depth=10,\n",
      "               min_child_samples=1, min_child_weight=1, min_split_gain=0.0,\n",
      "               n_estimators=300, n_jobs=4, num_leaves=300, objective=None,\n",
      "               random_state=None, reg_alpha=0.0, reg_lambda=1, silent=True,\n",
      "               subsample=1.0, subsample_for_bin=200000, subsample_freq=0)\n",
      "cross_validate_run: 0\n",
      "f1_socre: 0.259\n",
      "precision: 0.157\n",
      "recall/sensitivity(true positive rate): 0.732\n",
      "false positive rate (FPR): 0.176\n",
      "spcificity(true negative rate): 0.824\n",
      "ROC_AUC_score: 0.778\n",
      "cross_validate_run: 1\n",
      "f1_socre: 0.255\n",
      "precision: 0.154\n",
      "recall/sensitivity(true positive rate): 0.747\n",
      "false positive rate (FPR): 0.184\n",
      "spcificity(true negative rate): 0.816\n",
      "ROC_AUC_score: 0.781\n",
      "cross_validate_run: 2\n",
      "f1_socre: 0.262\n",
      "precision: 0.160\n",
      "recall/sensitivity(true positive rate): 0.725\n",
      "false positive rate (FPR): 0.169\n",
      "spcificity(true negative rate): 0.831\n",
      "ROC_AUC_score: 0.778\n",
      "cross_validate_run: 3\n",
      "f1_socre: 0.267\n",
      "precision: 0.163\n",
      "recall/sensitivity(true positive rate): 0.738\n",
      "false positive rate (FPR): 0.170\n",
      "spcificity(true negative rate): 0.830\n",
      "ROC_AUC_score: 0.784\n",
      "\n",
      " mean scores +/- sd: \n",
      "\n",
      "f1_socre : 0.267 +/- 0.000\n",
      "precision : 0.163 +/- 0.000\n",
      "recall : 0.738 +/- 0.000\n",
      "FPR : 0.170 +/- 0.000\n",
      "specificity : 0.830 +/- 0.000\n",
      "roc_auc : 0.784 +/- 0.000\n",
      "maximum depth: 15\n",
      "LGBMClassifier(bagging_fraction=0.1, bagging_freq=10, boosting_type='gbdt',\n",
      "               class_weight={1: 50}, colsample_bytree=1.0,\n",
      "               importance_type='split', learning_rate=0.1, max_depth=15,\n",
      "               min_child_samples=1, min_child_weight=1, min_split_gain=0.0,\n",
      "               n_estimators=300, n_jobs=4, num_leaves=300, objective=None,\n",
      "               random_state=None, reg_alpha=0.0, reg_lambda=1, silent=True,\n",
      "               subsample=1.0, subsample_for_bin=200000, subsample_freq=0)\n",
      "cross_validate_run: 0\n",
      "f1_socre: 0.371\n",
      "precision: 0.256\n",
      "recall/sensitivity(true positive rate): 0.673\n",
      "false positive rate (FPR): 0.088\n",
      "spcificity(true negative rate): 0.912\n",
      "ROC_AUC_score: 0.793\n",
      "cross_validate_run: 1\n",
      "f1_socre: 0.389\n",
      "precision: 0.272\n",
      "recall/sensitivity(true positive rate): 0.684\n",
      "false positive rate (FPR): 0.082\n",
      "spcificity(true negative rate): 0.918\n",
      "ROC_AUC_score: 0.801\n",
      "cross_validate_run: 2\n",
      "f1_socre: 0.384\n",
      "precision: 0.268\n",
      "recall/sensitivity(true positive rate): 0.677\n",
      "false positive rate (FPR): 0.082\n",
      "spcificity(true negative rate): 0.918\n",
      "ROC_AUC_score: 0.798\n",
      "cross_validate_run: 3\n",
      "f1_socre: 0.380\n",
      "precision: 0.266\n",
      "recall/sensitivity(true positive rate): 0.664\n",
      "false positive rate (FPR): 0.082\n",
      "spcificity(true negative rate): 0.918\n",
      "ROC_AUC_score: 0.791\n",
      "\n",
      " mean scores +/- sd: \n",
      "\n",
      "f1_socre : 0.380 +/- 0.000\n",
      "precision : 0.266 +/- 0.000\n",
      "recall : 0.664 +/- 0.000\n",
      "FPR : 0.082 +/- 0.000\n",
      "specificity : 0.918 +/- 0.000\n",
      "roc_auc : 0.791 +/- 0.000\n",
      "maximum depth: 20\n",
      "LGBMClassifier(bagging_fraction=0.1, bagging_freq=10, boosting_type='gbdt',\n",
      "               class_weight={1: 50}, colsample_bytree=1.0,\n",
      "               importance_type='split', learning_rate=0.1, max_depth=20,\n",
      "               min_child_samples=1, min_child_weight=1, min_split_gain=0.0,\n",
      "               n_estimators=300, n_jobs=4, num_leaves=300, objective=None,\n",
      "               random_state=None, reg_alpha=0.0, reg_lambda=1, silent=True,\n",
      "               subsample=1.0, subsample_for_bin=200000, subsample_freq=0)\n",
      "cross_validate_run: 0\n",
      "f1_socre: 0.387\n",
      "precision: 0.272\n",
      "recall/sensitivity(true positive rate): 0.669\n",
      "false positive rate (FPR): 0.080\n",
      "spcificity(true negative rate): 0.920\n",
      "ROC_AUC_score: 0.795\n",
      "cross_validate_run: 1\n",
      "f1_socre: 0.397\n",
      "precision: 0.282\n",
      "recall/sensitivity(true positive rate): 0.672\n",
      "false positive rate (FPR): 0.077\n",
      "spcificity(true negative rate): 0.923\n",
      "ROC_AUC_score: 0.798\n",
      "cross_validate_run: 2\n",
      "f1_socre: 0.386\n",
      "precision: 0.272\n",
      "recall/sensitivity(true positive rate): 0.667\n",
      "false positive rate (FPR): 0.079\n",
      "spcificity(true negative rate): 0.921\n",
      "ROC_AUC_score: 0.794\n",
      "cross_validate_run: 3\n",
      "f1_socre: 0.393\n",
      "precision: 0.278\n",
      "recall/sensitivity(true positive rate): 0.671\n",
      "false positive rate (FPR): 0.078\n",
      "spcificity(true negative rate): 0.922\n",
      "ROC_AUC_score: 0.796\n",
      "\n",
      " mean scores +/- sd: \n",
      "\n",
      "f1_socre : 0.393 +/- 0.000\n",
      "precision : 0.278 +/- 0.000\n",
      "recall : 0.671 +/- 0.000\n",
      "FPR : 0.078 +/- 0.000\n",
      "specificity : 0.922 +/- 0.000\n",
      "roc_auc : 0.796 +/- 0.000\n",
      "maximum depth: 25\n",
      "LGBMClassifier(bagging_fraction=0.1, bagging_freq=10, boosting_type='gbdt',\n",
      "               class_weight={1: 50}, colsample_bytree=1.0,\n",
      "               importance_type='split', learning_rate=0.1, max_depth=25,\n",
      "               min_child_samples=1, min_child_weight=1, min_split_gain=0.0,\n",
      "               n_estimators=300, n_jobs=4, num_leaves=300, objective=None,\n",
      "               random_state=None, reg_alpha=0.0, reg_lambda=1, silent=True,\n",
      "               subsample=1.0, subsample_for_bin=200000, subsample_freq=0)\n",
      "cross_validate_run: 0\n",
      "f1_socre: 0.387\n",
      "precision: 0.274\n",
      "recall/sensitivity(true positive rate): 0.659\n",
      "false positive rate (FPR): 0.078\n",
      "spcificity(true negative rate): 0.922\n",
      "ROC_AUC_score: 0.791\n",
      "cross_validate_run: 1\n",
      "f1_socre: 0.396\n",
      "precision: 0.280\n",
      "recall/sensitivity(true positive rate): 0.675\n",
      "false positive rate (FPR): 0.078\n",
      "spcificity(true negative rate): 0.922\n",
      "ROC_AUC_score: 0.799\n",
      "cross_validate_run: 2\n",
      "f1_socre: 0.397\n",
      "precision: 0.282\n",
      "recall/sensitivity(true positive rate): 0.671\n",
      "false positive rate (FPR): 0.076\n",
      "spcificity(true negative rate): 0.924\n",
      "ROC_AUC_score: 0.798\n",
      "cross_validate_run: 3\n",
      "f1_socre: 0.403\n",
      "precision: 0.287\n",
      "recall/sensitivity(true positive rate): 0.677\n",
      "false positive rate (FPR): 0.076\n",
      "spcificity(true negative rate): 0.924\n",
      "ROC_AUC_score: 0.801\n",
      "\n",
      " mean scores +/- sd: \n",
      "\n",
      "f1_socre : 0.403 +/- 0.000\n",
      "precision : 0.287 +/- 0.000\n",
      "recall : 0.677 +/- 0.000\n",
      "FPR : 0.076 +/- 0.000\n",
      "specificity : 0.924 +/- 0.000\n",
      "roc_auc : 0.801 +/- 0.000\n"
     ]
    }
   ],
   "source": [
    "# explore depth info\n",
    "allmodels = []\n",
    "allscores = []\n",
    "for d in [5,10,15,20,25]:\n",
    "    print(\"maximum depth: {}\".format(d))\n",
    "    lgb = LGBMClassifier(boosting_type='gbdt', num_leaves=min(2**d-1,300), max_depth=d, learning_rate=0.1, \\\n",
    "                       n_estimators=300, subsample_for_bin=200000, objective=None, class_weight={1:50}, \\\n",
    "                       min_split_gain=0.0, min_child_weight=1, min_child_samples=1, subsample=1.0, \\\n",
    "                       subsample_freq=0, colsample_bytree=1.0, reg_alpha=0.0, reg_lambda=1, \\\n",
    "                       random_state=None, n_jobs=4, silent=True, importance_type='split',bagging_fraction=0.1,bagging_freq=10)\n",
    "    \n",
    "\n",
    "    lgb_models, lgb_scores = cv(Xtrain.values,ytrain.values,lgb)\n",
    "    allmodels.append(lgb_models)\n",
    "    allscores.append(lgb_scores)"
   ]
  },
  {
   "cell_type": "code",
   "execution_count": null,
   "metadata": {},
   "outputs": [],
   "source": []
  },
  {
   "cell_type": "code",
   "execution_count": 20,
   "metadata": {},
   "outputs": [],
   "source": [
    "name = \"Models/lightgbm/lgb_t\"\n",
    "d = [5,10,15,20,25]\n",
    "for n, model in zip(d,allmodels):\n",
    "    pickle.dump(model,open(name+str(n)+\".dat\", \"wb\"))"
   ]
  },
  {
   "cell_type": "markdown",
   "metadata": {},
   "source": [
    "# upsampling"
   ]
  },
  {
   "cell_type": "code",
   "execution_count": 21,
   "metadata": {},
   "outputs": [
    {
     "name": "stdout",
     "output_type": "stream",
     "text": [
      "(713148, 12) (31722, 12)\n"
     ]
    }
   ],
   "source": [
    "\n",
    "Xy = X.copy()\n",
    "Xy['y'] = y\n",
    "\n",
    "class0 = Xy.loc[Xy.y == 0]\n",
    "class1 = Xy.loc[Xy.y == 1]\n",
    "print(class0.shape,class1.shape)\n",
    "class1 = class1.sample(n=class0.shape[0],replace=True,random_state=0)\n",
    "Xy = pd.concat([class0,class1])\n",
    "yup = Xy['y']\n",
    "Xup = Xy.drop(columns=['y'])\n",
    "# re-do train_test split of balanced data\n",
    "Xuptrain,Xuptest,yuptrain,yuptest = train_test_split(Xup.values,yup.values,test_size = 0.2,random_state=42)"
   ]
  },
  {
   "cell_type": "code",
   "execution_count": 22,
   "metadata": {},
   "outputs": [
    {
     "name": "stdout",
     "output_type": "stream",
     "text": [
      "maximum depth: 5\n",
      "LGBMClassifier(bagging_fraction=0.1, bagging_freq=10, boosting_type='gbdt',\n",
      "               class_weight={1: 2}, colsample_bytree=1.0,\n",
      "               importance_type='split', learning_rate=0.1, max_depth=5,\n",
      "               min_child_samples=1, min_child_weight=1, min_split_gain=0.0,\n",
      "               n_estimators=300, n_jobs=4, num_leaves=31, objective=None,\n",
      "               random_state=None, reg_alpha=0.0, reg_lambda=1, silent=True,\n",
      "               subsample=1.0, subsample_for_bin=200000, subsample_freq=0)\n",
      "cross_validate_run: 0\n",
      "f1_socre: 0.820\n",
      "precision: 0.727\n",
      "recall/sensitivity(true positive rate): 0.940\n",
      "false positive rate (FPR): 0.351\n",
      "spcificity(true negative rate): 0.649\n",
      "ROC_AUC_score: 0.794\n",
      "cross_validate_run: 1\n",
      "f1_socre: 0.820\n",
      "precision: 0.728\n",
      "recall/sensitivity(true positive rate): 0.938\n",
      "false positive rate (FPR): 0.351\n",
      "spcificity(true negative rate): 0.649\n",
      "ROC_AUC_score: 0.793\n",
      "cross_validate_run: 2\n",
      "f1_socre: 0.819\n",
      "precision: 0.726\n",
      "recall/sensitivity(true positive rate): 0.939\n",
      "false positive rate (FPR): 0.354\n",
      "spcificity(true negative rate): 0.646\n",
      "ROC_AUC_score: 0.793\n",
      "cross_validate_run: 3\n",
      "f1_socre: 0.821\n",
      "precision: 0.730\n",
      "recall/sensitivity(true positive rate): 0.940\n",
      "false positive rate (FPR): 0.349\n",
      "spcificity(true negative rate): 0.651\n",
      "ROC_AUC_score: 0.795\n",
      "\n",
      " mean scores +/- sd: \n",
      "\n",
      "f1_socre : 0.821 +/- 0.000\n",
      "precision : 0.730 +/- 0.000\n",
      "recall : 0.940 +/- 0.000\n",
      "FPR : 0.349 +/- 0.000\n",
      "specificity : 0.651 +/- 0.000\n",
      "roc_auc : 0.795 +/- 0.000\n",
      "maximum depth: 10\n",
      "LGBMClassifier(bagging_fraction=0.1, bagging_freq=10, boosting_type='gbdt',\n",
      "               class_weight={1: 2}, colsample_bytree=1.0,\n",
      "               importance_type='split', learning_rate=0.1, max_depth=10,\n",
      "               min_child_samples=1, min_child_weight=1, min_split_gain=0.0,\n",
      "               n_estimators=300, n_jobs=4, num_leaves=300, objective=None,\n",
      "               random_state=None, reg_alpha=0.0, reg_lambda=1, silent=True,\n",
      "               subsample=1.0, subsample_for_bin=200000, subsample_freq=0)\n",
      "cross_validate_run: 0\n",
      "f1_socre: 0.937\n",
      "precision: 0.888\n",
      "recall/sensitivity(true positive rate): 0.993\n",
      "false positive rate (FPR): 0.125\n",
      "spcificity(true negative rate): 0.875\n",
      "ROC_AUC_score: 0.934\n",
      "cross_validate_run: 1\n",
      "f1_socre: 0.939\n",
      "precision: 0.890\n",
      "recall/sensitivity(true positive rate): 0.993\n",
      "false positive rate (FPR): 0.122\n",
      "spcificity(true negative rate): 0.878\n",
      "ROC_AUC_score: 0.935\n",
      "cross_validate_run: 2\n",
      "f1_socre: 0.938\n",
      "precision: 0.889\n",
      "recall/sensitivity(true positive rate): 0.992\n",
      "false positive rate (FPR): 0.123\n",
      "spcificity(true negative rate): 0.877\n",
      "ROC_AUC_score: 0.935\n",
      "cross_validate_run: 3\n",
      "f1_socre: 0.936\n",
      "precision: 0.887\n",
      "recall/sensitivity(true positive rate): 0.991\n",
      "false positive rate (FPR): 0.127\n",
      "spcificity(true negative rate): 0.873\n",
      "ROC_AUC_score: 0.932\n",
      "\n",
      " mean scores +/- sd: \n",
      "\n",
      "f1_socre : 0.936 +/- 0.000\n",
      "precision : 0.887 +/- 0.000\n",
      "recall : 0.991 +/- 0.000\n",
      "FPR : 0.127 +/- 0.000\n",
      "specificity : 0.873 +/- 0.000\n",
      "roc_auc : 0.932 +/- 0.000\n",
      "maximum depth: 15\n",
      "LGBMClassifier(bagging_fraction=0.1, bagging_freq=10, boosting_type='gbdt',\n",
      "               class_weight={1: 2}, colsample_bytree=1.0,\n",
      "               importance_type='split', learning_rate=0.1, max_depth=15,\n",
      "               min_child_samples=1, min_child_weight=1, min_split_gain=0.0,\n",
      "               n_estimators=300, n_jobs=4, num_leaves=300, objective=None,\n",
      "               random_state=None, reg_alpha=0.0, reg_lambda=1, silent=True,\n",
      "               subsample=1.0, subsample_for_bin=200000, subsample_freq=0)\n",
      "cross_validate_run: 0\n",
      "f1_socre: 0.954\n",
      "precision: 0.914\n",
      "recall/sensitivity(true positive rate): 0.997\n",
      "false positive rate (FPR): 0.093\n",
      "spcificity(true negative rate): 0.907\n",
      "ROC_AUC_score: 0.952\n",
      "cross_validate_run: 1\n",
      "f1_socre: 0.955\n",
      "precision: 0.917\n",
      "recall/sensitivity(true positive rate): 0.997\n",
      "false positive rate (FPR): 0.091\n",
      "spcificity(true negative rate): 0.909\n",
      "ROC_AUC_score: 0.953\n",
      "cross_validate_run: 2\n",
      "f1_socre: 0.955\n",
      "precision: 0.916\n",
      "recall/sensitivity(true positive rate): 0.998\n",
      "false positive rate (FPR): 0.091\n",
      "spcificity(true negative rate): 0.909\n",
      "ROC_AUC_score: 0.953\n",
      "cross_validate_run: 3\n",
      "f1_socre: 0.955\n",
      "precision: 0.917\n",
      "recall/sensitivity(true positive rate): 0.997\n",
      "false positive rate (FPR): 0.090\n",
      "spcificity(true negative rate): 0.910\n",
      "ROC_AUC_score: 0.953\n",
      "\n",
      " mean scores +/- sd: \n",
      "\n",
      "f1_socre : 0.955 +/- 0.000\n",
      "precision : 0.917 +/- 0.000\n",
      "recall : 0.997 +/- 0.000\n",
      "FPR : 0.090 +/- 0.000\n",
      "specificity : 0.910 +/- 0.000\n",
      "roc_auc : 0.953 +/- 0.000\n",
      "maximum depth: 20\n",
      "LGBMClassifier(bagging_fraction=0.1, bagging_freq=10, boosting_type='gbdt',\n",
      "               class_weight={1: 2}, colsample_bytree=1.0,\n",
      "               importance_type='split', learning_rate=0.1, max_depth=20,\n",
      "               min_child_samples=1, min_child_weight=1, min_split_gain=0.0,\n",
      "               n_estimators=300, n_jobs=4, num_leaves=300, objective=None,\n",
      "               random_state=None, reg_alpha=0.0, reg_lambda=1, silent=True,\n",
      "               subsample=1.0, subsample_for_bin=200000, subsample_freq=0)\n",
      "cross_validate_run: 0\n",
      "f1_socre: 0.957\n",
      "precision: 0.919\n",
      "recall/sensitivity(true positive rate): 0.997\n",
      "false positive rate (FPR): 0.087\n",
      "spcificity(true negative rate): 0.913\n",
      "ROC_AUC_score: 0.955\n",
      "cross_validate_run: 1\n",
      "f1_socre: 0.957\n",
      "precision: 0.920\n",
      "recall/sensitivity(true positive rate): 0.998\n",
      "false positive rate (FPR): 0.087\n",
      "spcificity(true negative rate): 0.913\n",
      "ROC_AUC_score: 0.955\n",
      "cross_validate_run: 2\n",
      "f1_socre: 0.958\n",
      "precision: 0.921\n",
      "recall/sensitivity(true positive rate): 0.998\n",
      "false positive rate (FPR): 0.086\n",
      "spcificity(true negative rate): 0.914\n",
      "ROC_AUC_score: 0.956\n",
      "cross_validate_run: 3\n",
      "f1_socre: 0.958\n",
      "precision: 0.921\n",
      "recall/sensitivity(true positive rate): 0.998\n",
      "false positive rate (FPR): 0.086\n",
      "spcificity(true negative rate): 0.914\n",
      "ROC_AUC_score: 0.956\n",
      "\n",
      " mean scores +/- sd: \n",
      "\n",
      "f1_socre : 0.958 +/- 0.000\n",
      "precision : 0.921 +/- 0.000\n",
      "recall : 0.998 +/- 0.000\n",
      "FPR : 0.086 +/- 0.000\n",
      "specificity : 0.914 +/- 0.000\n",
      "roc_auc : 0.956 +/- 0.000\n"
     ]
    }
   ],
   "source": [
    "allupmodels = []\n",
    "allupscores = []\n",
    "for d in [5,10,15,20]:\n",
    "    print(\"maximum depth: {}\".format(d))\n",
    "    lgb = LGBMClassifier(boosting_type='gbdt', num_leaves=min(2**d-1,300), max_depth=d, learning_rate=0.1, \\\n",
    "                       n_estimators=300, subsample_for_bin=200000, objective=None, class_weight={1:2}, \\\n",
    "                       min_split_gain=0.0, min_child_weight=1, min_child_samples=1, subsample=1.0, \\\n",
    "                       subsample_freq=0, colsample_bytree=1.0, reg_alpha=0.0, reg_lambda=1, \\\n",
    "                       random_state=None, n_jobs=4, silent=True, importance_type='split',bagging_fraction=0.1,bagging_freq=10)\n",
    "    \n",
    "\n",
    "    lgb_models, lgb_scores = cv(Xuptrain,yuptrain,lgb)\n",
    "    allupmodels.append(lgb_models)\n",
    "    allupscores.append(lgb_scores)"
   ]
  },
  {
   "cell_type": "code",
   "execution_count": 23,
   "metadata": {},
   "outputs": [],
   "source": [
    "name = \"Models/lightgbm/lgb_up_t\"\n",
    "d = [5,10,15,20]\n",
    "for n, model in zip(d,allupmodels):\n",
    "    pickle.dump(model,open(name+str(n)+\".dat\", \"wb\"))"
   ]
  },
  {
   "cell_type": "code",
   "execution_count": 24,
   "metadata": {},
   "outputs": [
    {
     "name": "stdout",
     "output_type": "stream",
     "text": [
      "maximum depth: 25\n",
      "LGBMClassifier(bagging_fraction=0.1, bagging_freq=10, boosting_type='gbdt',\n",
      "               class_weight={1: 2}, colsample_bytree=1.0,\n",
      "               importance_type='split', learning_rate=0.1, max_depth=25,\n",
      "               min_child_samples=1, min_child_weight=1, min_split_gain=0.0,\n",
      "               n_estimators=300, n_jobs=4, num_leaves=300, objective=None,\n",
      "               random_state=None, reg_alpha=0.0, reg_lambda=1, silent=True,\n",
      "               subsample=1.0, subsample_for_bin=200000, subsample_freq=0)\n",
      "cross_validate_run: 0\n",
      "f1_socre: 0.957\n",
      "precision: 0.919\n",
      "recall/sensitivity(true positive rate): 0.998\n",
      "false positive rate (FPR): 0.088\n",
      "spcificity(true negative rate): 0.912\n",
      "ROC_AUC_score: 0.955\n",
      "cross_validate_run: 1\n",
      "f1_socre: 0.958\n",
      "precision: 0.920\n",
      "recall/sensitivity(true positive rate): 0.998\n",
      "false positive rate (FPR): 0.086\n",
      "spcificity(true negative rate): 0.914\n",
      "ROC_AUC_score: 0.956\n",
      "cross_validate_run: 2\n",
      "f1_socre: 0.958\n",
      "precision: 0.922\n",
      "recall/sensitivity(true positive rate): 0.998\n",
      "false positive rate (FPR): 0.084\n",
      "spcificity(true negative rate): 0.916\n",
      "ROC_AUC_score: 0.957\n",
      "cross_validate_run: 3\n",
      "f1_socre: 0.958\n",
      "precision: 0.921\n",
      "recall/sensitivity(true positive rate): 0.998\n",
      "false positive rate (FPR): 0.085\n",
      "spcificity(true negative rate): 0.915\n",
      "ROC_AUC_score: 0.956\n",
      "\n",
      " mean scores +/- sd: \n",
      "\n",
      "f1_socre : 0.958 +/- 0.000\n",
      "precision : 0.921 +/- 0.000\n",
      "recall : 0.998 +/- 0.000\n",
      "FPR : 0.085 +/- 0.000\n",
      "specificity : 0.915 +/- 0.000\n",
      "roc_auc : 0.956 +/- 0.000\n",
      "maximum depth: 30\n",
      "LGBMClassifier(bagging_fraction=0.1, bagging_freq=10, boosting_type='gbdt',\n",
      "               class_weight={1: 2}, colsample_bytree=1.0,\n",
      "               importance_type='split', learning_rate=0.1, max_depth=30,\n",
      "               min_child_samples=1, min_child_weight=1, min_split_gain=0.0,\n",
      "               n_estimators=300, n_jobs=4, num_leaves=300, objective=None,\n",
      "               random_state=None, reg_alpha=0.0, reg_lambda=1, silent=True,\n",
      "               subsample=1.0, subsample_for_bin=200000, subsample_freq=0)\n",
      "cross_validate_run: 0\n",
      "f1_socre: 0.958\n",
      "precision: 0.920\n",
      "recall/sensitivity(true positive rate): 0.998\n",
      "false positive rate (FPR): 0.086\n",
      "spcificity(true negative rate): 0.914\n",
      "ROC_AUC_score: 0.956\n",
      "cross_validate_run: 1\n",
      "f1_socre: 0.958\n",
      "precision: 0.921\n",
      "recall/sensitivity(true positive rate): 0.998\n",
      "false positive rate (FPR): 0.086\n",
      "spcificity(true negative rate): 0.914\n",
      "ROC_AUC_score: 0.956\n",
      "cross_validate_run: 2\n",
      "f1_socre: 0.958\n",
      "precision: 0.922\n",
      "recall/sensitivity(true positive rate): 0.998\n",
      "false positive rate (FPR): 0.084\n",
      "spcificity(true negative rate): 0.916\n",
      "ROC_AUC_score: 0.957\n",
      "cross_validate_run: 3\n",
      "f1_socre: 0.958\n",
      "precision: 0.922\n",
      "recall/sensitivity(true positive rate): 0.998\n",
      "false positive rate (FPR): 0.085\n",
      "spcificity(true negative rate): 0.915\n",
      "ROC_AUC_score: 0.956\n",
      "\n",
      " mean scores +/- sd: \n",
      "\n",
      "f1_socre : 0.958 +/- 0.000\n",
      "precision : 0.922 +/- 0.000\n",
      "recall : 0.998 +/- 0.000\n",
      "FPR : 0.085 +/- 0.000\n",
      "specificity : 0.915 +/- 0.000\n",
      "roc_auc : 0.956 +/- 0.000\n"
     ]
    }
   ],
   "source": [
    "for d in [25,30]:\n",
    "    print(\"maximum depth: {}\".format(d))\n",
    "    lgb = LGBMClassifier(boosting_type='gbdt', num_leaves=min(2**d-1,300), max_depth=d, learning_rate=0.1, \\\n",
    "                       n_estimators=300, subsample_for_bin=200000, objective=None, class_weight={1:2}, \\\n",
    "                       min_split_gain=0.0, min_child_weight=1, min_child_samples=1, subsample=1.0, \\\n",
    "                       subsample_freq=0, colsample_bytree=1.0, reg_alpha=0.0, reg_lambda=1, \\\n",
    "                       random_state=None, n_jobs=4, silent=True, importance_type='split',bagging_fraction=0.1,bagging_freq=10)\n",
    "    \n",
    "    lgb_models, lgb_scores = cv(Xuptrain,yuptrain,lgb)\n",
    "    allmodels.append(lgb_models)\n",
    "    allscores.append(lgb_scores)"
   ]
  },
  {
   "cell_type": "markdown",
   "metadata": {},
   "source": [
    "# Evaluation by testing data"
   ]
  },
  {
   "cell_type": "code",
   "execution_count": 25,
   "metadata": {},
   "outputs": [],
   "source": [
    "best_model = LGBMClassifier(bagging_fraction=0.1, bagging_freq=10, boosting_type='gbdt',\n",
    "               class_weight={1: 2}, colsample_bytree=1.0,\n",
    "               importance_type='split', learning_rate=0.1, max_depth=15,\n",
    "               min_child_samples=1, min_child_weight=1, min_split_gain=0.0,\n",
    "               n_estimators=300, n_jobs=4, num_leaves=300, objective=None,\n",
    "               random_state=None, reg_alpha=0.0, reg_lambda=1, silent=True,\n",
    "               subsample=1.0, subsample_for_bin=200000, subsample_freq=0)"
   ]
  },
  {
   "cell_type": "code",
   "execution_count": 26,
   "metadata": {},
   "outputs": [
    {
     "data": {
      "text/plain": [
       "LGBMClassifier(bagging_fraction=0.1, bagging_freq=10, boosting_type='gbdt',\n",
       "               class_weight={1: 2}, colsample_bytree=1.0,\n",
       "               importance_type='split', learning_rate=0.1, max_depth=15,\n",
       "               min_child_samples=1, min_child_weight=1, min_split_gain=0.0,\n",
       "               n_estimators=300, n_jobs=4, num_leaves=300, objective=None,\n",
       "               random_state=None, reg_alpha=0.0, reg_lambda=1, silent=True,\n",
       "               subsample=1.0, subsample_for_bin=200000, subsample_freq=0)"
      ]
     },
     "execution_count": 26,
     "metadata": {},
     "output_type": "execute_result"
    }
   ],
   "source": [
    "best_model.fit(Xuptrain,yuptrain)"
   ]
  },
  {
   "cell_type": "code",
   "execution_count": 27,
   "metadata": {},
   "outputs": [
    {
     "name": "stdout",
     "output_type": "stream",
     "text": [
      "f1_socre: 0.957\n",
      "precision: 0.920\n",
      "recall/sensitivity(true positive rate): 0.998\n",
      "false positive rate (FPR): 0.088\n",
      "spcificity(true negative rate): 0.912\n",
      "ROC_AUC_score: 0.955\n"
     ]
    }
   ],
   "source": [
    "testscores = evaluation(yuptest,Xuptest,best_model)"
   ]
  },
  {
   "cell_type": "markdown",
   "metadata": {},
   "source": [
    "# plot model performence"
   ]
  },
  {
   "cell_type": "code",
   "execution_count": 28,
   "metadata": {},
   "outputs": [],
   "source": [
    "def plot_roc_curves(curves,colors,labels):\n",
    "    plt.plot([0,0.5,1],[0,0.5,1], linestyle='--', color = 'black') # default classification bound\n",
    "    \n",
    "    for i in range(len(curves)):\n",
    "        fpr, tpr, _ = curves[i]\n",
    "        plt.plot(fpr,tpr,color=colors[i],linewidth=2,label=labels[i])\n",
    "    \n",
    "    plt.xlabel('False Positive Rate',fontsize=20)\n",
    "    plt.ylabel('True Positive Rate',fontsize=20)\n",
    "    plt.xticks(fontsize=18)\n",
    "    plt.yticks(fontsize=18)\n",
    "    plt.legend(fontsize=18)\n",
    "\n",
    "    plt.show()\n",
    "    "
   ]
  },
  {
   "cell_type": "code",
   "execution_count": 29,
   "metadata": {},
   "outputs": [
    {
     "data": {
      "text/plain": [
       "LGBMClassifier(bagging_fraction=0.1, bagging_freq=10, boosting_type='gbdt',\n",
       "               class_weight={1: 50}, colsample_bytree=1.0,\n",
       "               importance_type='split', learning_rate=0.1, max_depth=15,\n",
       "               min_child_samples=1, min_child_weight=1, min_split_gain=0.0,\n",
       "               n_estimators=300, n_jobs=4, num_leaves=300, objective=None,\n",
       "               random_state=None, reg_alpha=0.0, reg_lambda=1, silent=True,\n",
       "               subsample=1.0, subsample_for_bin=200000, subsample_freq=0)"
      ]
     },
     "execution_count": 29,
     "metadata": {},
     "output_type": "execute_result"
    }
   ],
   "source": [
    "allmodels[2][0]"
   ]
  },
  {
   "cell_type": "code",
   "execution_count": 30,
   "metadata": {},
   "outputs": [],
   "source": [
    "predd5 = allmodels[0][0].predict_proba(Xuptest)\n",
    "predd10 = allmodels[1][0].predict_proba(Xuptest)"
   ]
  },
  {
   "cell_type": "code",
   "execution_count": 31,
   "metadata": {},
   "outputs": [],
   "source": [
    "curve5 = roc_curve(yuptest, predd5[:,1])\n",
    "curve10 = roc_curve(yuptest,predd10[:,1])\n",
    "curve15 = roc_curve(yuptest,best_model.predict_proba(Xuptest)[:,1])"
   ]
  },
  {
   "cell_type": "code",
   "execution_count": 32,
   "metadata": {},
   "outputs": [
    {
     "data": {
      "image/png": "[encoded data removed]",
      "text/plain": [
       "<Figure size 432x288 with 1 Axes>"
      ]
     },
     "metadata": {
      "needs_background": "light"
     },
     "output_type": "display_data"
    }
   ],
   "source": [
    "plot_roc_curves([curve5, curve10, curve15],['red','blue','black'],['depth5','depth10','depth15'])\n"
   ]
  },
  {
   "cell_type": "code",
   "execution_count": 33,
   "metadata": {},
   "outputs": [],
   "source": [
    "# plot importance\n",
    "import lightgbm\n",
    "\n",
    "def feature_importance(model,columns):\n",
    "    # Plot importance for beset model: model_mse\n",
    "    fig, ax = plt.subplots(figsize=(15,5))\n",
    "\n",
    "    g1 = lightgbm.plot_importance(model,ax=ax,grid=False)\n",
    "\n",
    "    oldy = g1.yaxis.get_majorticklabels()\n",
    "    feature_dict = dict(zip(['Column_'+str(i) for i in range(len(columns))], columns))\n",
    "    newy = [feature_dict[y._text] for y in oldy]\n",
    "    g1.set_yticklabels(newy,rotation=0,fontsize=18)\n",
    "\n",
    "    #fig.savefig('feature_importance.jpg')\n",
    "    plt.title('Feature Importance',fontsize=26)\n",
    "    plt.xlabel('Feature importance',fontsize = 24)\n",
    "    plt.ylabel('Features', fontsize = 24)\n",
    "    plt.show()"
   ]
  },
  {
   "cell_type": "code",
   "execution_count": 34,
   "metadata": {},
   "outputs": [],
   "source": [
    "columns = ['enrollee_cum_claim_count', 'enrollee_cum_claim_amount', 'provider',\n",
    "       'insurance_policy', 'care', 'diagnosis', 'qty', 'claim amount', 'care_price',\n",
    "       'tariffs', 'claim month', 'vetted_month']"
   ]
  },
  {
   "cell_type": "code",
   "execution_count": 35,
   "metadata": {},
   "outputs": [
    {
     "data": {
      "image/png": "[encoded data removed]",
      "text/plain": [
       "<Figure size 1080x360 with 1 Axes>"
      ]
     },
     "metadata": {
      "needs_background": "light"
     },
     "output_type": "display_data"
    }
   ],
   "source": [
    "feature_importance(allmodels[2][0],columns)"
   ]
  },
  {
   "cell_type": "markdown",
   "metadata": {},
   "source": [
    "### Further validating feature importance"
   ]
  },
  {
   "cell_type": "code",
   "execution_count": 36,
   "metadata": {},
   "outputs": [],
   "source": [
    "# drop diagnosis\n",
    "# train test split\n",
    "X1 = Xup.drop(columns=['diagnosis_id'])\n",
    "X1train,X1test,y1train,y1test = train_test_split(X1,yup,test_size = 0.2, random_state=42)"
   ]
  },
  {
   "cell_type": "code",
   "execution_count": 37,
   "metadata": {},
   "outputs": [],
   "source": [
    "# model\n",
    "best_model = LGBMClassifier(bagging_fraction=0.1, bagging_freq=10, boosting_type='gbdt',\n",
    "               class_weight={1: 2}, colsample_bytree=1.0,\n",
    "               importance_type='split', learning_rate=0.1, max_depth=15,\n",
    "               min_child_samples=1, min_child_weight=1, min_split_gain=0.0,\n",
    "               n_estimators=300, n_jobs=4, num_leaves=300, objective=None,\n",
    "               random_state=None, reg_alpha=0.0, reg_lambda=1, silent=True,\n",
    "               subsample=1.0, subsample_for_bin=200000, subsample_freq=0)"
   ]
  },
  {
   "cell_type": "code",
   "execution_count": 38,
   "metadata": {},
   "outputs": [
    {
     "data": {
      "text/plain": [
       "LGBMClassifier(bagging_fraction=0.1, bagging_freq=10, boosting_type='gbdt',\n",
       "               class_weight={1: 2}, colsample_bytree=1.0,\n",
       "               importance_type='split', learning_rate=0.1, max_depth=15,\n",
       "               min_child_samples=1, min_child_weight=1, min_split_gain=0.0,\n",
       "               n_estimators=300, n_jobs=4, num_leaves=300, objective=None,\n",
       "               random_state=None, reg_alpha=0.0, reg_lambda=1, silent=True,\n",
       "               subsample=1.0, subsample_for_bin=200000, subsample_freq=0)"
      ]
     },
     "execution_count": 38,
     "metadata": {},
     "output_type": "execute_result"
    }
   ],
   "source": [
    "# fit model\n",
    "best_model.fit(X1train.values,y1train.values)"
   ]
  },
  {
   "cell_type": "code",
   "execution_count": 39,
   "metadata": {},
   "outputs": [
    {
     "name": "stdout",
     "output_type": "stream",
     "text": [
      "f1_socre: 0.957\n",
      "precision: 0.921\n",
      "recall/sensitivity(true positive rate): 0.997\n",
      "false positive rate (FPR): 0.086\n",
      "spcificity(true negative rate): 0.914\n",
      "ROC_AUC_score: 0.955\n"
     ]
    }
   ],
   "source": [
    "# test score validation\n",
    "test1 = evaluation(y1test.values,X1test.values,best_model)"
   ]
  },
  {
   "cell_type": "code",
   "execution_count": 40,
   "metadata": {},
   "outputs": [
    {
     "data": {
      "image/png": "[encoded data removed]",
      "text/plain": [
       "<Figure size 1080x360 with 1 Axes>"
      ]
     },
     "metadata": {
      "needs_background": "light"
     },
     "output_type": "display_data"
    }
   ],
   "source": [
    "# plot feature importance\n",
    "feature_importance(best_model,X1train.columns)"
   ]
  },
  {
   "cell_type": "code",
   "execution_count": 41,
   "metadata": {},
   "outputs": [],
   "source": [
    "# roc_curve\n",
    "nodiag = roc_curve(y1test,best_model.predict_proba(X1test.values)[:,1])"
   ]
  },
  {
   "cell_type": "code",
   "execution_count": 42,
   "metadata": {},
   "outputs": [],
   "source": [
    "# save model\n",
    "pickle.dump(best_model,open(\"Models/lightgbm/lgb_noDiag.dat\", \"wb\"))"
   ]
  },
  {
   "cell_type": "code",
   "execution_count": 43,
   "metadata": {},
   "outputs": [
    {
     "name": "stdout",
     "output_type": "stream",
     "text": [
      "f1_socre: 0.956\n",
      "precision: 0.917\n",
      "recall/sensitivity(true positive rate): 0.998\n",
      "false positive rate (FPR): 0.090\n",
      "spcificity(true negative rate): 0.910\n",
      "ROC_AUC_score: 0.954\n"
     ]
    },
    {
     "data": {
      "image/png": "[encoded data removed]",
      "text/plain": [
       "<Figure size 1080x360 with 1 Axes>"
      ]
     },
     "metadata": {
      "needs_background": "light"
     },
     "output_type": "display_data"
    }
   ],
   "source": [
    "# drop tariffs\n",
    "X2 = Xup.drop(columns=['tariffs'])\n",
    "X2train,X2test,y2train,y2test = train_test_split(X2,yup,test_size = 0.2, random_state=42)\n",
    "model2 = best_model\n",
    "model2.fit(X2train.values,y2train.values)\n",
    "test2 = evaluation(y2test.values,X2test.values,model2)\n",
    "feature_importance(model2,X2train.columns)"
   ]
  },
  {
   "cell_type": "code",
   "execution_count": 44,
   "metadata": {},
   "outputs": [],
   "source": [
    "# roc_curve and save model\n",
    "notarif = roc_curve(y2test,model2.predict_proba(X2test.values)[:,1])\n",
    "pickle.dump(model2,open(\"Models/lightgbm/lgb_noTariff.dat\", \"wb\"))"
   ]
  },
  {
   "cell_type": "code",
   "execution_count": 45,
   "metadata": {},
   "outputs": [],
   "source": [
    "# drop enrollee\n",
    "X3 = Xup.drop(columns=['enrollee_cum_claim_count','enrollee_cum_claim_amount'])\n",
    "X3train,X3test,y3train,y3test = train_test_split(X3,yup,test_size = 0.2, random_state=42)\n"
   ]
  },
  {
   "cell_type": "code",
   "execution_count": 46,
   "metadata": {},
   "outputs": [
    {
     "name": "stdout",
     "output_type": "stream",
     "text": [
      "f1_socre: 0.936\n",
      "precision: 0.885\n",
      "recall/sensitivity(true positive rate): 0.992\n",
      "false positive rate (FPR): 0.129\n",
      "spcificity(true negative rate): 0.871\n",
      "ROC_AUC_score: 0.931\n"
     ]
    },
    {
     "data": {
      "image/png": "[encoded data removed]",
      "text/plain": [
       "<Figure size 1080x360 with 1 Axes>"
      ]
     },
     "metadata": {
      "needs_background": "light"
     },
     "output_type": "display_data"
    }
   ],
   "source": [
    "model3 = best_model\n",
    "model3.fit(X3train.values,y3train.values)\n",
    "test3 = evaluation(y3test.values,X3test.values,model3)\n",
    "feature_importance(model3,X3train.columns)\n",
    "# roc_curve and save model\n",
    "noenro = roc_curve(y3test,model3.predict_proba(X3test.values)[:,1])\n",
    "pickle.dump(model3,open(\"Models/lightgbm/lgb_noEnrollee.dat\", \"wb\"))"
   ]
  },
  {
   "cell_type": "code",
   "execution_count": 47,
   "metadata": {},
   "outputs": [
    {
     "name": "stdout",
     "output_type": "stream",
     "text": [
      "f1_socre: 0.917\n",
      "precision: 0.857\n",
      "recall/sensitivity(true positive rate): 0.986\n",
      "false positive rate (FPR): 0.165\n",
      "spcificity(true negative rate): 0.835\n",
      "ROC_AUC_score: 0.910\n"
     ]
    },
    {
     "data": {
      "image/png": "[encoded data removed]",
      "text/plain": [
       "<Figure size 1080x360 with 1 Axes>"
      ]
     },
     "metadata": {
      "needs_background": "light"
     },
     "output_type": "display_data"
    }
   ],
   "source": [
    "# drop enrollee_care\n",
    "\n",
    "X5 = Xup.drop(columns=['enrollee_cum_claim_count','enrollee_cum_claim_amount','care_id'])\n",
    "X5train,X5test,y5train,y5test = train_test_split(X5,yup,test_size = 0.2, random_state=42)\n",
    "model5 = best_model\n",
    "model5.fit(X5train.values,y5train.values)\n",
    "test5 = evaluation(y5test.values,X5test.values,model5)\n",
    "feature_importance(model5,X5train.columns)\n",
    "no2 = roc_curve(y5test,model5.predict_proba(X5test.values)[:,1])\n",
    "pickle.dump(model5,open(\"Models/lightgbm/lgb_noEnrolleeOrCare.dat\", \"wb\"))"
   ]
  },
  {
   "cell_type": "code",
   "execution_count": 52,
   "metadata": {},
   "outputs": [
    {
     "data": {
      "image/png": "[encoded data removed]",
      "text/plain": [
       "<Figure size 432x288 with 1 Axes>"
      ]
     },
     "metadata": {
      "needs_background": "light"
     },
     "output_type": "display_data"
    }
   ],
   "source": [
    "plot_roc_curves([no2, noenro,  nodiag ],['y','orange','black'],['noEnroCare','noEnrollee','noDiag'])"
   ]
  },
  {
   "cell_type": "code",
   "execution_count": null,
   "metadata": {},
   "outputs": [],
   "source": [
    "\n"
   ]
  }
 ],
 "metadata": {
  "kernelspec": {
   "display_name": "Python 3",
   "language": "python",
   "name": "python3"
  },
  "language_info": {
   "codemirror_mode": {
    "name": "ipython",
    "version": 3
   },
   "file_extension": ".py",
   "mimetype": "text/x-python",
   "name": "python",
   "nbconvert_exporter": "python",
   "pygments_lexer": "ipython3",
   "version": "3.7.4"
  }
 },
 "nbformat": 4,
 "nbformat_minor": 2
}
