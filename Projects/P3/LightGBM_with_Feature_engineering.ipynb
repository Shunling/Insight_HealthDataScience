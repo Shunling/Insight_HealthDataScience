{
 "cells": [
  {
   "cell_type": "code",
   "execution_count": 1,
   "metadata": {},
   "outputs": [
    {
     "name": "stderr",
     "output_type": "stream",
     "text": [
      "/Users/shunling/opt/anaconda3/lib/python3.7/site-packages/lightgbm/__init__.py:48: UserWarning: Starting from version 2.2.1, the library file in distribution wheels for macOS is built by the Apple Clang (Xcode_8.3.3) compiler.\n",
      "This means that in case of installing LightGBM from PyPI via the ``pip install lightgbm`` command, you don't need to install the gcc compiler anymore.\n",
      "Instead of that, you need to install the OpenMP library, which is required for running LightGBM on the system with the Apple Clang compiler.\n",
      "You can install the OpenMP library by the following command: ``brew install libomp``.\n",
      "  \"You can install the OpenMP library by the following command: ``brew install libomp``.\", UserWarning)\n"
     ]
    }
   ],
   "source": [
    "from lightgbm import LGBMClassifier\n",
    "import pandas as pd\n",
    "import numpy as np\n",
    "\n",
    "from sklearn.model_selection import train_test_split\n",
    "from sklearn.model_selection import KFold\n",
    "import pickle\n",
    "\n",
    "from sklearn.metrics import confusion_matrix,f1_score,roc_auc_score,roc_curve\n",
    "import matplotlib.pyplot as plt\n",
    "%matplotlib inline"
   ]
  },
  {
   "cell_type": "code",
   "execution_count": 54,
   "metadata": {},
   "outputs": [
    {
     "name": "stdout",
     "output_type": "stream",
     "text": [
      "<class 'pandas.core.frame.DataFrame'>\n",
      "Int64Index: 744870 entries, 0 to 744869\n",
      "Data columns (total 13 columns):\n",
      "claim_id        744870 non-null float64\n",
      "enrollee_id     744870 non-null float64\n",
      "provider_id     744870 non-null float64\n",
      "hmo_id          744870 non-null float64\n",
      "care_id         744870 non-null float64\n",
      "diagnosis_id    744861 non-null float64\n",
      "qty             744870 non-null float64\n",
      "amount          744870 non-null float64\n",
      "unit_price      744870 non-null float64\n",
      "tariffs         668049 non-null float64\n",
      "created_at      744870 non-null object\n",
      "vetted_at       744870 non-null object\n",
      "label           744870 non-null int64\n",
      "dtypes: float64(10), int64(1), object(2)\n",
      "memory usage: 79.6+ MB\n"
     ]
    }
   ],
   "source": [
    "# load data\n",
    "df = pd.read_csv('Processed_data/all_data.csv',index_col=0)\n",
    "df.info()"
   ]
  },
  {
   "cell_type": "markdown",
   "metadata": {},
   "source": [
    "## create month feature for claim created and vetted date"
   ]
  },
  {
   "cell_type": "code",
   "execution_count": 8,
   "metadata": {},
   "outputs": [
    {
     "data": {
      "text/plain": [
       "('03', '2018-03-12 14:53:46')"
      ]
     },
     "execution_count": 8,
     "metadata": {},
     "output_type": "execute_result"
    }
   ],
   "source": [
    "# check data format\n",
    "df.iloc[0].created_at[5:7],df.iloc[0].created_at"
   ]
  },
  {
   "cell_type": "code",
   "execution_count": 55,
   "metadata": {},
   "outputs": [],
   "source": [
    "\n",
    "df['create_m'] = df.created_at.apply(lambda x: x[5:7])\n",
    "df['vetted_m'] = df.vetted_at.apply(lambda x: x[5:7])"
   ]
  },
  {
   "cell_type": "markdown",
   "metadata": {},
   "source": [
    "## create feature for enrollee_id by cummulated claim number and amount"
   ]
  },
  {
   "cell_type": "code",
   "execution_count": 57,
   "metadata": {},
   "outputs": [],
   "source": [
    "a = df.sort_values(by='created_at')[['claim_id','enrollee_id','created_at']]"
   ]
  },
  {
   "cell_type": "code",
   "execution_count": 58,
   "metadata": {},
   "outputs": [
    {
     "data": {
      "text/html": [
       "<div>\n",
       "<style scoped>\n",
       "    .dataframe tbody tr th:only-of-type {\n",
       "        vertical-align: middle;\n",
       "    }\n",
       "\n",
       "    .dataframe tbody tr th {\n",
       "        vertical-align: top;\n",
       "    }\n",
       "\n",
       "    .dataframe thead th {\n",
       "        text-align: right;\n",
       "    }\n",
       "</style>\n",
       "<table border=\"1\" class=\"dataframe\">\n",
       "  <thead>\n",
       "    <tr style=\"text-align: right;\">\n",
       "      <th></th>\n",
       "      <th>claim_id</th>\n",
       "      <th>enrollee_id</th>\n",
       "      <th>created_at</th>\n",
       "    </tr>\n",
       "  </thead>\n",
       "  <tbody>\n",
       "    <tr>\n",
       "      <td>0</td>\n",
       "      <td>10.0</td>\n",
       "      <td>89.0</td>\n",
       "      <td>2018-03-12 14:53:46</td>\n",
       "    </tr>\n",
       "    <tr>\n",
       "      <td>1</td>\n",
       "      <td>11.0</td>\n",
       "      <td>89.0</td>\n",
       "      <td>2018-03-13 14:50:39</td>\n",
       "    </tr>\n",
       "    <tr>\n",
       "      <td>2</td>\n",
       "      <td>13.0</td>\n",
       "      <td>74.0</td>\n",
       "      <td>2018-03-16 10:28:53</td>\n",
       "    </tr>\n",
       "    <tr>\n",
       "      <td>3</td>\n",
       "      <td>13.0</td>\n",
       "      <td>74.0</td>\n",
       "      <td>2018-03-16 10:28:53</td>\n",
       "    </tr>\n",
       "    <tr>\n",
       "      <td>4</td>\n",
       "      <td>13.0</td>\n",
       "      <td>74.0</td>\n",
       "      <td>2018-03-16 10:28:53</td>\n",
       "    </tr>\n",
       "  </tbody>\n",
       "</table>\n",
       "</div>"
      ],
      "text/plain": [
       "   claim_id  enrollee_id           created_at\n",
       "0      10.0         89.0  2018-03-12 14:53:46\n",
       "1      11.0         89.0  2018-03-13 14:50:39\n",
       "2      13.0         74.0  2018-03-16 10:28:53\n",
       "3      13.0         74.0  2018-03-16 10:28:53\n",
       "4      13.0         74.0  2018-03-16 10:28:53"
      ]
     },
     "execution_count": 58,
     "metadata": {},
     "output_type": "execute_result"
    }
   ],
   "source": [
    "a.head()"
   ]
  },
  {
   "cell_type": "code",
   "execution_count": 59,
   "metadata": {},
   "outputs": [
    {
     "name": "stdout",
     "output_type": "stream",
     "text": [
      "<class 'pandas.core.frame.DataFrame'>\n",
      "Int64Index: 744870 entries, 0 to 744869\n",
      "Data columns (total 3 columns):\n",
      "claim_id       744870 non-null float64\n",
      "enrollee_id    744870 non-null float64\n",
      "created_at     744870 non-null object\n",
      "dtypes: float64(2), object(1)\n",
      "memory usage: 22.7+ MB\n"
     ]
    }
   ],
   "source": [
    "a.info()"
   ]
  },
  {
   "cell_type": "code",
   "execution_count": 62,
   "metadata": {},
   "outputs": [],
   "source": [
    "df['enrollee_cum_claim_count'] = a.groupby(['enrollee_id']).cumcount()+1"
   ]
  },
  {
   "cell_type": "code",
   "execution_count": 63,
   "metadata": {},
   "outputs": [
    {
     "data": {
      "text/html": [
       "<div>\n",
       "<style scoped>\n",
       "    .dataframe tbody tr th:only-of-type {\n",
       "        vertical-align: middle;\n",
       "    }\n",
       "\n",
       "    .dataframe tbody tr th {\n",
       "        vertical-align: top;\n",
       "    }\n",
       "\n",
       "    .dataframe thead th {\n",
       "        text-align: right;\n",
       "    }\n",
       "</style>\n",
       "<table border=\"1\" class=\"dataframe\">\n",
       "  <thead>\n",
       "    <tr style=\"text-align: right;\">\n",
       "      <th></th>\n",
       "      <th>claim_id</th>\n",
       "      <th>enrollee_id</th>\n",
       "      <th>provider_id</th>\n",
       "      <th>hmo_id</th>\n",
       "      <th>care_id</th>\n",
       "      <th>diagnosis_id</th>\n",
       "      <th>qty</th>\n",
       "      <th>amount</th>\n",
       "      <th>unit_price</th>\n",
       "      <th>tariffs</th>\n",
       "      <th>created_at</th>\n",
       "      <th>vetted_at</th>\n",
       "      <th>label</th>\n",
       "      <th>create_m</th>\n",
       "      <th>vetted_m</th>\n",
       "      <th>enrollee_cum_claim_count</th>\n",
       "    </tr>\n",
       "  </thead>\n",
       "  <tbody>\n",
       "    <tr>\n",
       "      <td>0</td>\n",
       "      <td>10.0</td>\n",
       "      <td>89.0</td>\n",
       "      <td>1.0</td>\n",
       "      <td>1.0</td>\n",
       "      <td>586.0</td>\n",
       "      <td>9.0</td>\n",
       "      <td>6.0</td>\n",
       "      <td>1816.08</td>\n",
       "      <td>302.68</td>\n",
       "      <td>302.68</td>\n",
       "      <td>2018-03-12 14:53:46</td>\n",
       "      <td>2018-05-21 10:05:30</td>\n",
       "      <td>0</td>\n",
       "      <td>03</td>\n",
       "      <td>05</td>\n",
       "      <td>1</td>\n",
       "    </tr>\n",
       "    <tr>\n",
       "      <td>1</td>\n",
       "      <td>11.0</td>\n",
       "      <td>89.0</td>\n",
       "      <td>1.0</td>\n",
       "      <td>1.0</td>\n",
       "      <td>586.0</td>\n",
       "      <td>15925.0</td>\n",
       "      <td>6.0</td>\n",
       "      <td>1816.08</td>\n",
       "      <td>302.68</td>\n",
       "      <td>302.68</td>\n",
       "      <td>2018-03-13 14:50:39</td>\n",
       "      <td>2018-05-21 10:07:19</td>\n",
       "      <td>0</td>\n",
       "      <td>03</td>\n",
       "      <td>05</td>\n",
       "      <td>2</td>\n",
       "    </tr>\n",
       "    <tr>\n",
       "      <td>2</td>\n",
       "      <td>13.0</td>\n",
       "      <td>74.0</td>\n",
       "      <td>1.0</td>\n",
       "      <td>1.0</td>\n",
       "      <td>434.0</td>\n",
       "      <td>4342.0</td>\n",
       "      <td>5.0</td>\n",
       "      <td>115.00</td>\n",
       "      <td>23.00</td>\n",
       "      <td>23.00</td>\n",
       "      <td>2018-03-16 10:28:53</td>\n",
       "      <td>2018-05-21 10:09:30</td>\n",
       "      <td>0</td>\n",
       "      <td>03</td>\n",
       "      <td>05</td>\n",
       "      <td>1</td>\n",
       "    </tr>\n",
       "    <tr>\n",
       "      <td>3</td>\n",
       "      <td>13.0</td>\n",
       "      <td>74.0</td>\n",
       "      <td>1.0</td>\n",
       "      <td>1.0</td>\n",
       "      <td>1102.0</td>\n",
       "      <td>4342.0</td>\n",
       "      <td>10.0</td>\n",
       "      <td>1265.00</td>\n",
       "      <td>126.50</td>\n",
       "      <td>126.50</td>\n",
       "      <td>2018-03-16 10:28:53</td>\n",
       "      <td>2018-05-21 10:09:30</td>\n",
       "      <td>0</td>\n",
       "      <td>03</td>\n",
       "      <td>05</td>\n",
       "      <td>2</td>\n",
       "    </tr>\n",
       "    <tr>\n",
       "      <td>4</td>\n",
       "      <td>13.0</td>\n",
       "      <td>74.0</td>\n",
       "      <td>1.0</td>\n",
       "      <td>1.0</td>\n",
       "      <td>299.0</td>\n",
       "      <td>4342.0</td>\n",
       "      <td>15.0</td>\n",
       "      <td>138.00</td>\n",
       "      <td>9.20</td>\n",
       "      <td>9.20</td>\n",
       "      <td>2018-03-16 10:28:53</td>\n",
       "      <td>2018-05-21 10:09:30</td>\n",
       "      <td>0</td>\n",
       "      <td>03</td>\n",
       "      <td>05</td>\n",
       "      <td>3</td>\n",
       "    </tr>\n",
       "  </tbody>\n",
       "</table>\n",
       "</div>"
      ],
      "text/plain": [
       "   claim_id  enrollee_id  provider_id  hmo_id  care_id  diagnosis_id   qty  \\\n",
       "0      10.0         89.0          1.0     1.0    586.0           9.0   6.0   \n",
       "1      11.0         89.0          1.0     1.0    586.0       15925.0   6.0   \n",
       "2      13.0         74.0          1.0     1.0    434.0        4342.0   5.0   \n",
       "3      13.0         74.0          1.0     1.0   1102.0        4342.0  10.0   \n",
       "4      13.0         74.0          1.0     1.0    299.0        4342.0  15.0   \n",
       "\n",
       "    amount  unit_price  tariffs           created_at            vetted_at  \\\n",
       "0  1816.08      302.68   302.68  2018-03-12 14:53:46  2018-05-21 10:05:30   \n",
       "1  1816.08      302.68   302.68  2018-03-13 14:50:39  2018-05-21 10:07:19   \n",
       "2   115.00       23.00    23.00  2018-03-16 10:28:53  2018-05-21 10:09:30   \n",
       "3  1265.00      126.50   126.50  2018-03-16 10:28:53  2018-05-21 10:09:30   \n",
       "4   138.00        9.20     9.20  2018-03-16 10:28:53  2018-05-21 10:09:30   \n",
       "\n",
       "   label create_m vetted_m  enrollee_cum_claim_count  \n",
       "0      0       03       05                         1  \n",
       "1      0       03       05                         2  \n",
       "2      0       03       05                         1  \n",
       "3      0       03       05                         2  \n",
       "4      0       03       05                         3  "
      ]
     },
     "execution_count": 63,
     "metadata": {},
     "output_type": "execute_result"
    }
   ],
   "source": [
    "df.head()"
   ]
  },
  {
   "cell_type": "code",
   "execution_count": 65,
   "metadata": {},
   "outputs": [],
   "source": [
    "df['enrollee_cum_claim_amount'] = df.groupby(['enrollee_id'])['amount'].cumsum()"
   ]
  },
  {
   "cell_type": "code",
   "execution_count": 66,
   "metadata": {},
   "outputs": [
    {
     "data": {
      "text/html": [
       "<div>\n",
       "<style scoped>\n",
       "    .dataframe tbody tr th:only-of-type {\n",
       "        vertical-align: middle;\n",
       "    }\n",
       "\n",
       "    .dataframe tbody tr th {\n",
       "        vertical-align: top;\n",
       "    }\n",
       "\n",
       "    .dataframe thead th {\n",
       "        text-align: right;\n",
       "    }\n",
       "</style>\n",
       "<table border=\"1\" class=\"dataframe\">\n",
       "  <thead>\n",
       "    <tr style=\"text-align: right;\">\n",
       "      <th></th>\n",
       "      <th>claim_id</th>\n",
       "      <th>enrollee_id</th>\n",
       "      <th>provider_id</th>\n",
       "      <th>hmo_id</th>\n",
       "      <th>care_id</th>\n",
       "      <th>diagnosis_id</th>\n",
       "      <th>qty</th>\n",
       "      <th>amount</th>\n",
       "      <th>unit_price</th>\n",
       "      <th>tariffs</th>\n",
       "      <th>created_at</th>\n",
       "      <th>vetted_at</th>\n",
       "      <th>label</th>\n",
       "      <th>create_m</th>\n",
       "      <th>vetted_m</th>\n",
       "      <th>enrollee_cum_claim_count</th>\n",
       "      <th>enrollee_cum_claim_amount</th>\n",
       "    </tr>\n",
       "  </thead>\n",
       "  <tbody>\n",
       "    <tr>\n",
       "      <td>0</td>\n",
       "      <td>10.0</td>\n",
       "      <td>89.0</td>\n",
       "      <td>1.0</td>\n",
       "      <td>1.0</td>\n",
       "      <td>586.0</td>\n",
       "      <td>9.0</td>\n",
       "      <td>6.0</td>\n",
       "      <td>1816.08</td>\n",
       "      <td>302.68</td>\n",
       "      <td>302.68</td>\n",
       "      <td>2018-03-12 14:53:46</td>\n",
       "      <td>2018-05-21 10:05:30</td>\n",
       "      <td>0</td>\n",
       "      <td>03</td>\n",
       "      <td>05</td>\n",
       "      <td>1</td>\n",
       "      <td>1816.08</td>\n",
       "    </tr>\n",
       "    <tr>\n",
       "      <td>1</td>\n",
       "      <td>11.0</td>\n",
       "      <td>89.0</td>\n",
       "      <td>1.0</td>\n",
       "      <td>1.0</td>\n",
       "      <td>586.0</td>\n",
       "      <td>15925.0</td>\n",
       "      <td>6.0</td>\n",
       "      <td>1816.08</td>\n",
       "      <td>302.68</td>\n",
       "      <td>302.68</td>\n",
       "      <td>2018-03-13 14:50:39</td>\n",
       "      <td>2018-05-21 10:07:19</td>\n",
       "      <td>0</td>\n",
       "      <td>03</td>\n",
       "      <td>05</td>\n",
       "      <td>2</td>\n",
       "      <td>3632.16</td>\n",
       "    </tr>\n",
       "    <tr>\n",
       "      <td>2</td>\n",
       "      <td>13.0</td>\n",
       "      <td>74.0</td>\n",
       "      <td>1.0</td>\n",
       "      <td>1.0</td>\n",
       "      <td>434.0</td>\n",
       "      <td>4342.0</td>\n",
       "      <td>5.0</td>\n",
       "      <td>115.00</td>\n",
       "      <td>23.00</td>\n",
       "      <td>23.00</td>\n",
       "      <td>2018-03-16 10:28:53</td>\n",
       "      <td>2018-05-21 10:09:30</td>\n",
       "      <td>0</td>\n",
       "      <td>03</td>\n",
       "      <td>05</td>\n",
       "      <td>1</td>\n",
       "      <td>115.00</td>\n",
       "    </tr>\n",
       "    <tr>\n",
       "      <td>3</td>\n",
       "      <td>13.0</td>\n",
       "      <td>74.0</td>\n",
       "      <td>1.0</td>\n",
       "      <td>1.0</td>\n",
       "      <td>1102.0</td>\n",
       "      <td>4342.0</td>\n",
       "      <td>10.0</td>\n",
       "      <td>1265.00</td>\n",
       "      <td>126.50</td>\n",
       "      <td>126.50</td>\n",
       "      <td>2018-03-16 10:28:53</td>\n",
       "      <td>2018-05-21 10:09:30</td>\n",
       "      <td>0</td>\n",
       "      <td>03</td>\n",
       "      <td>05</td>\n",
       "      <td>2</td>\n",
       "      <td>1380.00</td>\n",
       "    </tr>\n",
       "    <tr>\n",
       "      <td>4</td>\n",
       "      <td>13.0</td>\n",
       "      <td>74.0</td>\n",
       "      <td>1.0</td>\n",
       "      <td>1.0</td>\n",
       "      <td>299.0</td>\n",
       "      <td>4342.0</td>\n",
       "      <td>15.0</td>\n",
       "      <td>138.00</td>\n",
       "      <td>9.20</td>\n",
       "      <td>9.20</td>\n",
       "      <td>2018-03-16 10:28:53</td>\n",
       "      <td>2018-05-21 10:09:30</td>\n",
       "      <td>0</td>\n",
       "      <td>03</td>\n",
       "      <td>05</td>\n",
       "      <td>3</td>\n",
       "      <td>1518.00</td>\n",
       "    </tr>\n",
       "  </tbody>\n",
       "</table>\n",
       "</div>"
      ],
      "text/plain": [
       "   claim_id  enrollee_id  provider_id  hmo_id  care_id  diagnosis_id   qty  \\\n",
       "0      10.0         89.0          1.0     1.0    586.0           9.0   6.0   \n",
       "1      11.0         89.0          1.0     1.0    586.0       15925.0   6.0   \n",
       "2      13.0         74.0          1.0     1.0    434.0        4342.0   5.0   \n",
       "3      13.0         74.0          1.0     1.0   1102.0        4342.0  10.0   \n",
       "4      13.0         74.0          1.0     1.0    299.0        4342.0  15.0   \n",
       "\n",
       "    amount  unit_price  tariffs           created_at            vetted_at  \\\n",
       "0  1816.08      302.68   302.68  2018-03-12 14:53:46  2018-05-21 10:05:30   \n",
       "1  1816.08      302.68   302.68  2018-03-13 14:50:39  2018-05-21 10:07:19   \n",
       "2   115.00       23.00    23.00  2018-03-16 10:28:53  2018-05-21 10:09:30   \n",
       "3  1265.00      126.50   126.50  2018-03-16 10:28:53  2018-05-21 10:09:30   \n",
       "4   138.00        9.20     9.20  2018-03-16 10:28:53  2018-05-21 10:09:30   \n",
       "\n",
       "   label create_m vetted_m  enrollee_cum_claim_count  \\\n",
       "0      0       03       05                         1   \n",
       "1      0       03       05                         2   \n",
       "2      0       03       05                         1   \n",
       "3      0       03       05                         2   \n",
       "4      0       03       05                         3   \n",
       "\n",
       "   enrollee_cum_claim_amount  \n",
       "0                    1816.08  \n",
       "1                    3632.16  \n",
       "2                     115.00  \n",
       "3                    1380.00  \n",
       "4                    1518.00  "
      ]
     },
     "execution_count": 66,
     "metadata": {},
     "output_type": "execute_result"
    }
   ],
   "source": [
    "df.head()\n"
   ]
  },
  {
   "cell_type": "code",
   "execution_count": 68,
   "metadata": {},
   "outputs": [],
   "source": [
    "df_engineered = df[['claim_id','enrollee_id','enrollee_cum_claim_count','enrollee_cum_claim_amount','provider_id',\\\n",
    "                   'hmo_id','care_id','diagnosis_id','qty','amount','unit_price','tariffs','create_m','vetted_m','label']]"
   ]
  },
  {
   "cell_type": "code",
   "execution_count": 69,
   "metadata": {},
   "outputs": [],
   "source": [
    "df_engineered.to_csv('Processed_data/feature_engineered.csv')"
   ]
  },
  {
   "cell_type": "code",
   "execution_count": 70,
   "metadata": {},
   "outputs": [],
   "source": [
    "# training and testing data\n",
    "X = df_engineered.drop(columns=['claim_id','enrollee_id','label'])\n",
    "y = df_engineered.label"
   ]
  },
  {
   "cell_type": "code",
   "execution_count": 71,
   "metadata": {},
   "outputs": [],
   "source": [
    "Xtrain, Xtest, ytrain, ytest = train_test_split(X,y,test_size=0.2,random_state=2)"
   ]
  },
  {
   "cell_type": "code",
   "execution_count": 106,
   "metadata": {},
   "outputs": [],
   "source": [
    "def init_scores():\n",
    "    \n",
    "    scores = {}\n",
    "    scores['f1_socre'] = []\n",
    "    scores['precision'] = []\n",
    "    scores['recall'] = []\n",
    "    scores['FPR'] = []\n",
    "    scores['specificity'] = []\n",
    "    scores['roc_auc'] = []\n",
    "    \n",
    "    return scores\n",
    "\n",
    "\n",
    "def evaluation(ytest,Xtest,cls):\n",
    "\n",
    "    scores = init_scores()\n",
    "    ypred = cls.predict(Xtest)\n",
    "    C = confusion_matrix(ytest,ypred)\n",
    "    TN = C[0][0]\n",
    "    FN = C[1][0]\n",
    "    TP = C[1][1]\n",
    "    FP = C[0][1]\n",
    "\n",
    "    print('f1_socre: {:0.3f}'.format(f1_score(ytest,ypred)))\n",
    "    scores['f1_socre'].append(f1_score(ytest,ypred))\n",
    "    print('precision: {:0.3f}'.format(TP/(TP+FP)))\n",
    "    scores['precision'].append(TP/(TP+FP))\n",
    "    print('recall/sensitivity(true positive rate): {:0.3f}'.format(TP/(TP+FN)))\n",
    "    scores['recall'].append(TP/(TP+FN))\n",
    "    print('false positive rate (FPR): {:0.3f}'.format(1-(TN/(TN+FP)))) # 1 - specificity\n",
    "    scores['FPR'].append(1-(TN/(TN+FP)))\n",
    "    print('spcificity(true negative rate): {:0.3f}'.format(TN/(TN+FP)))\n",
    "    scores['specificity'].append(TN/(TN+FP))\n",
    "    print('ROC_AUC_score: {:0.3f}'.format(roc_auc_score(ytest,ypred)))\n",
    "    scores['roc_auc'].append(roc_auc_score(ytest,ypred))\n",
    "    \n",
    "    return scores\n",
    "    \n",
    "def cv(Xtrain,ytrain,model):\n",
    "\n",
    "    models = []\n",
    "    kf = KFold(n_splits=4)\n",
    "    print(model)\n",
    "    n = 0\n",
    "    for train_index, test_index in kf.split(Xtrain):\n",
    "        print('cross_validate_run: {}'.format(n))\n",
    "        Xtr, Xte = Xtrain[train_index], Xtrain[test_index]\n",
    "        ytr, yte = ytrain[train_index], ytrain[test_index]\n",
    "        cls = model.fit(Xtr, ytr) \n",
    "        models.append(cls)\n",
    "        evaluation(yte,Xte,cls)\n",
    "        n += 1\n",
    "    \n",
    "    print('\\n mean scores +/- sd: \\n')\n",
    "    for k in scores:\n",
    "        print('{} : {:0.3f} +/- {:0.3f}'.format(k, np.array(scores[k]).mean(),  np.array(scores[k]).std()))\n",
    "        \n",
    "    \n",
    "    return models, scores"
   ]
  },
  {
   "cell_type": "code",
   "execution_count": 86,
   "metadata": {},
   "outputs": [
    {
     "name": "stdout",
     "output_type": "stream",
     "text": [
      "maximum depth: 5\n",
      "LGBMClassifier(bagging_fraction=0.1, bagging_freq=10, boosting_type='gbdt',\n",
      "               class_weight={1: 50}, colsample_bytree=1.0,\n",
      "               importance_type='split', learning_rate=0.1, max_depth=5,\n",
      "               min_child_samples=1, min_child_weight=1, min_split_gain=0.0,\n",
      "               n_estimators=300, n_jobs=4, num_leaves=31, objective=None,\n",
      "               random_state=None, reg_alpha=0.0, reg_lambda=1, silent=True,\n",
      "               subsample=1.0, subsample_for_bin=200000, subsample_freq=0)\n",
      "cross_validate_run: 0\n",
      "f1_socre: 0.157\n",
      "precision: 0.086\n",
      "recall/sensitivity(true positive rate): 0.900\n",
      "false positive rate (FPR): 0.429\n",
      "spcificity(true negative rate): 0.571\n",
      "ROC_AUC_score: 0.736\n",
      "cross_validate_run: 1\n",
      "f1_socre: 0.162\n",
      "precision: 0.089\n",
      "recall/sensitivity(true positive rate): 0.900\n",
      "false positive rate (FPR): 0.412\n",
      "spcificity(true negative rate): 0.588\n",
      "ROC_AUC_score: 0.744\n",
      "cross_validate_run: 2\n",
      "f1_socre: 0.164\n",
      "precision: 0.090\n",
      "recall/sensitivity(true positive rate): 0.896\n",
      "false positive rate (FPR): 0.400\n",
      "spcificity(true negative rate): 0.600\n",
      "ROC_AUC_score: 0.748\n",
      "cross_validate_run: 3\n",
      "f1_socre: 0.166\n",
      "precision: 0.091\n",
      "recall/sensitivity(true positive rate): 0.895\n",
      "false positive rate (FPR): 0.400\n",
      "spcificity(true negative rate): 0.600\n",
      "ROC_AUC_score: 0.748\n",
      "\n",
      " mean scores +/- sd: \n",
      "\n",
      "f1_socre : 0.166 +/- 0.000\n",
      "precision : 0.091 +/- 0.000\n",
      "recall : 0.895 +/- 0.000\n",
      "FPR : 0.400 +/- 0.000\n",
      "specificity : 0.600 +/- 0.000\n",
      "roc_auc : 0.748 +/- 0.000\n",
      "maximum depth: 10\n",
      "LGBMClassifier(bagging_fraction=0.1, bagging_freq=10, boosting_type='gbdt',\n",
      "               class_weight={1: 50}, colsample_bytree=1.0,\n",
      "               importance_type='split', learning_rate=0.1, max_depth=10,\n",
      "               min_child_samples=1, min_child_weight=1, min_split_gain=0.0,\n",
      "               n_estimators=300, n_jobs=4, num_leaves=1023, objective=None,\n",
      "               random_state=None, reg_alpha=0.0, reg_lambda=1, silent=True,\n",
      "               subsample=1.0, subsample_for_bin=200000, subsample_freq=0)\n",
      "cross_validate_run: 0\n",
      "f1_socre: 0.252\n",
      "precision: 0.152\n",
      "recall/sensitivity(true positive rate): 0.734\n",
      "false positive rate (FPR): 0.183\n",
      "spcificity(true negative rate): 0.817\n",
      "ROC_AUC_score: 0.775\n",
      "cross_validate_run: 1\n",
      "f1_socre: 0.279\n",
      "precision: 0.172\n",
      "recall/sensitivity(true positive rate): 0.742\n",
      "false positive rate (FPR): 0.160\n",
      "spcificity(true negative rate): 0.840\n",
      "ROC_AUC_score: 0.791\n",
      "cross_validate_run: 2\n",
      "f1_socre: 0.286\n",
      "precision: 0.177\n",
      "recall/sensitivity(true positive rate): 0.753\n",
      "false positive rate (FPR): 0.156\n",
      "spcificity(true negative rate): 0.844\n",
      "ROC_AUC_score: 0.799\n",
      "cross_validate_run: 3\n",
      "f1_socre: 0.282\n",
      "precision: 0.174\n",
      "recall/sensitivity(true positive rate): 0.735\n",
      "false positive rate (FPR): 0.156\n",
      "spcificity(true negative rate): 0.844\n",
      "ROC_AUC_score: 0.789\n",
      "\n",
      " mean scores +/- sd: \n",
      "\n",
      "f1_socre : 0.282 +/- 0.000\n",
      "precision : 0.174 +/- 0.000\n",
      "recall : 0.735 +/- 0.000\n",
      "FPR : 0.156 +/- 0.000\n",
      "specificity : 0.844 +/- 0.000\n",
      "roc_auc : 0.789 +/- 0.000\n",
      "maximum depth: 15\n",
      "LGBMClassifier(bagging_fraction=0.1, bagging_freq=10, boosting_type='gbdt',\n",
      "               class_weight={1: 50}, colsample_bytree=1.0,\n",
      "               importance_type='split', learning_rate=0.1, max_depth=15,\n",
      "               min_child_samples=1, min_child_weight=1, min_split_gain=0.0,\n",
      "               n_estimators=300, n_jobs=4, num_leaves=32767, objective=None,\n",
      "               random_state=None, reg_alpha=0.0, reg_lambda=1, silent=True,\n",
      "               subsample=1.0, subsample_for_bin=200000, subsample_freq=0)\n",
      "cross_validate_run: 0\n",
      "f1_socre: 0.444\n",
      "precision: 0.361\n",
      "recall/sensitivity(true positive rate): 0.579\n",
      "false positive rate (FPR): 0.046\n",
      "spcificity(true negative rate): 0.954\n",
      "ROC_AUC_score: 0.767\n",
      "cross_validate_run: 1\n",
      "f1_socre: 0.466\n",
      "precision: 0.381\n",
      "recall/sensitivity(true positive rate): 0.599\n",
      "false positive rate (FPR): 0.043\n",
      "spcificity(true negative rate): 0.957\n",
      "ROC_AUC_score: 0.778\n",
      "cross_validate_run: 2\n",
      "f1_socre: 0.443\n",
      "precision: 0.347\n",
      "recall/sensitivity(true positive rate): 0.613\n",
      "false positive rate (FPR): 0.051\n",
      "spcificity(true negative rate): 0.949\n",
      "ROC_AUC_score: 0.781\n",
      "cross_validate_run: 3\n",
      "f1_socre: 0.444\n",
      "precision: 0.351\n",
      "recall/sensitivity(true positive rate): 0.603\n",
      "false positive rate (FPR): 0.050\n",
      "spcificity(true negative rate): 0.950\n",
      "ROC_AUC_score: 0.776\n",
      "\n",
      " mean scores +/- sd: \n",
      "\n",
      "f1_socre : 0.444 +/- 0.000\n",
      "precision : 0.351 +/- 0.000\n",
      "recall : 0.603 +/- 0.000\n",
      "FPR : 0.050 +/- 0.000\n",
      "specificity : 0.950 +/- 0.000\n",
      "roc_auc : 0.776 +/- 0.000\n",
      "maximum depth: 20\n",
      "LGBMClassifier(bagging_fraction=0.1, bagging_freq=10, boosting_type='gbdt',\n",
      "               class_weight={1: 50}, colsample_bytree=1.0,\n",
      "               importance_type='split', learning_rate=0.1, max_depth=20,\n",
      "               min_child_samples=1, min_child_weight=1, min_split_gain=0.0,\n",
      "               n_estimators=300, n_jobs=4, num_leaves=1048575, objective=None,\n",
      "               random_state=None, reg_alpha=0.0, reg_lambda=1, silent=True,\n",
      "               subsample=1.0, subsample_for_bin=200000, subsample_freq=0)\n",
      "cross_validate_run: 0\n"
     ]
    },
    {
     "ename": "LightGBMError",
     "evalue": "Check failed: num_leaves <=131072 at /tmp/pip-req-build-ny46z16n/compile/src/io/config_auto.cpp, line 305 .\n",
     "output_type": "error",
     "traceback": [
      "\u001b[0;31m---------------------------------------------------------------------------\u001b[0m",
      "\u001b[0;31mLightGBMError\u001b[0m                             Traceback (most recent call last)",
      "\u001b[0;32m~/opt/anaconda3/lib/python3.7/site-packages/lightgbm/engine.py\u001b[0m in \u001b[0;36mtrain\u001b[0;34m(params, train_set, num_boost_round, valid_sets, valid_names, fobj, feval, init_model, feature_name, categorical_feature, early_stopping_rounds, evals_result, verbose_eval, learning_rates, keep_training_booster, callbacks)\u001b[0m\n\u001b[1;32m    227\u001b[0m     \u001b[0;32mtry\u001b[0m\u001b[0;34m:\u001b[0m\u001b[0;34m\u001b[0m\u001b[0;34m\u001b[0m\u001b[0m\n\u001b[0;32m--> 228\u001b[0;31m         \u001b[0mbooster\u001b[0m \u001b[0;34m=\u001b[0m \u001b[0mBooster\u001b[0m\u001b[0;34m(\u001b[0m\u001b[0mparams\u001b[0m\u001b[0;34m=\u001b[0m\u001b[0mparams\u001b[0m\u001b[0;34m,\u001b[0m \u001b[0mtrain_set\u001b[0m\u001b[0;34m=\u001b[0m\u001b[0mtrain_set\u001b[0m\u001b[0;34m)\u001b[0m\u001b[0;34m\u001b[0m\u001b[0;34m\u001b[0m\u001b[0m\n\u001b[0m\u001b[1;32m    229\u001b[0m         \u001b[0;32mif\u001b[0m \u001b[0mis_valid_contain_train\u001b[0m\u001b[0;34m:\u001b[0m\u001b[0;34m\u001b[0m\u001b[0;34m\u001b[0m\u001b[0m\n",
      "\u001b[0;32m~/opt/anaconda3/lib/python3.7/site-packages/lightgbm/basic.py\u001b[0m in \u001b[0;36m__init__\u001b[0;34m(self, params, train_set, model_file, model_str, silent)\u001b[0m\n\u001b[1;32m   1663\u001b[0m             _safe_call(_LIB.LGBM_BoosterCreate(\n\u001b[0;32m-> 1664\u001b[0;31m                 \u001b[0mtrain_set\u001b[0m\u001b[0;34m.\u001b[0m\u001b[0mconstruct\u001b[0m\u001b[0;34m(\u001b[0m\u001b[0;34m)\u001b[0m\u001b[0;34m.\u001b[0m\u001b[0mhandle\u001b[0m\u001b[0;34m,\u001b[0m\u001b[0;34m\u001b[0m\u001b[0;34m\u001b[0m\u001b[0m\n\u001b[0m\u001b[1;32m   1665\u001b[0m                 \u001b[0mc_str\u001b[0m\u001b[0;34m(\u001b[0m\u001b[0mparams_str\u001b[0m\u001b[0;34m)\u001b[0m\u001b[0;34m,\u001b[0m\u001b[0;34m\u001b[0m\u001b[0;34m\u001b[0m\u001b[0m\n",
      "\u001b[0;32m~/opt/anaconda3/lib/python3.7/site-packages/lightgbm/basic.py\u001b[0m in \u001b[0;36mconstruct\u001b[0;34m(self)\u001b[0m\n\u001b[1;32m   1036\u001b[0m                                 \u001b[0msilent\u001b[0m\u001b[0;34m=\u001b[0m\u001b[0mself\u001b[0m\u001b[0;34m.\u001b[0m\u001b[0msilent\u001b[0m\u001b[0;34m,\u001b[0m \u001b[0mfeature_name\u001b[0m\u001b[0;34m=\u001b[0m\u001b[0mself\u001b[0m\u001b[0;34m.\u001b[0m\u001b[0mfeature_name\u001b[0m\u001b[0;34m,\u001b[0m\u001b[0;34m\u001b[0m\u001b[0;34m\u001b[0m\u001b[0m\n\u001b[0;32m-> 1037\u001b[0;31m                                 categorical_feature=self.categorical_feature, params=self.params)\n\u001b[0m\u001b[1;32m   1038\u001b[0m             \u001b[0;32mif\u001b[0m \u001b[0mself\u001b[0m\u001b[0;34m.\u001b[0m\u001b[0mfree_raw_data\u001b[0m\u001b[0;34m:\u001b[0m\u001b[0;34m\u001b[0m\u001b[0;34m\u001b[0m\u001b[0m\n",
      "\u001b[0;32m~/opt/anaconda3/lib/python3.7/site-packages/lightgbm/basic.py\u001b[0m in \u001b[0;36m_lazy_init\u001b[0;34m(self, data, label, reference, weight, group, init_score, predictor, silent, feature_name, categorical_feature, params)\u001b[0m\n\u001b[1;32m    838\u001b[0m         \u001b[0;32melif\u001b[0m \u001b[0misinstance\u001b[0m\u001b[0;34m(\u001b[0m\u001b[0mdata\u001b[0m\u001b[0;34m,\u001b[0m \u001b[0mnp\u001b[0m\u001b[0;34m.\u001b[0m\u001b[0mndarray\u001b[0m\u001b[0;34m)\u001b[0m\u001b[0;34m:\u001b[0m\u001b[0;34m\u001b[0m\u001b[0;34m\u001b[0m\u001b[0m\n\u001b[0;32m--> 839\u001b[0;31m             \u001b[0mself\u001b[0m\u001b[0;34m.\u001b[0m\u001b[0m__init_from_np2d\u001b[0m\u001b[0;34m(\u001b[0m\u001b[0mdata\u001b[0m\u001b[0;34m,\u001b[0m \u001b[0mparams_str\u001b[0m\u001b[0;34m,\u001b[0m \u001b[0mref_dataset\u001b[0m\u001b[0;34m)\u001b[0m\u001b[0;34m\u001b[0m\u001b[0;34m\u001b[0m\u001b[0m\n\u001b[0m\u001b[1;32m    840\u001b[0m         \u001b[0;32melif\u001b[0m \u001b[0misinstance\u001b[0m\u001b[0;34m(\u001b[0m\u001b[0mdata\u001b[0m\u001b[0;34m,\u001b[0m \u001b[0mlist\u001b[0m\u001b[0;34m)\u001b[0m \u001b[0;32mand\u001b[0m \u001b[0mlen\u001b[0m\u001b[0;34m(\u001b[0m\u001b[0mdata\u001b[0m\u001b[0;34m)\u001b[0m \u001b[0;34m>\u001b[0m \u001b[0;36m0\u001b[0m \u001b[0;32mand\u001b[0m \u001b[0mall\u001b[0m\u001b[0;34m(\u001b[0m\u001b[0misinstance\u001b[0m\u001b[0;34m(\u001b[0m\u001b[0mx\u001b[0m\u001b[0;34m,\u001b[0m \u001b[0mnp\u001b[0m\u001b[0;34m.\u001b[0m\u001b[0mndarray\u001b[0m\u001b[0;34m)\u001b[0m \u001b[0;32mfor\u001b[0m \u001b[0mx\u001b[0m \u001b[0;32min\u001b[0m \u001b[0mdata\u001b[0m\u001b[0;34m)\u001b[0m\u001b[0;34m:\u001b[0m\u001b[0;34m\u001b[0m\u001b[0;34m\u001b[0m\u001b[0m\n",
      "\u001b[0;32m~/opt/anaconda3/lib/python3.7/site-packages/lightgbm/basic.py\u001b[0m in \u001b[0;36m__init_from_np2d\u001b[0;34m(self, mat, params_str, ref_dataset)\u001b[0m\n\u001b[1;32m    888\u001b[0m             \u001b[0mref_dataset\u001b[0m\u001b[0;34m,\u001b[0m\u001b[0;34m\u001b[0m\u001b[0;34m\u001b[0m\u001b[0m\n\u001b[0;32m--> 889\u001b[0;31m             ctypes.byref(self.handle)))\n\u001b[0m\u001b[1;32m    890\u001b[0m         \u001b[0;32mreturn\u001b[0m \u001b[0mself\u001b[0m\u001b[0;34m\u001b[0m\u001b[0;34m\u001b[0m\u001b[0m\n",
      "\u001b[0;32m~/opt/anaconda3/lib/python3.7/site-packages/lightgbm/basic.py\u001b[0m in \u001b[0;36m_safe_call\u001b[0;34m(ret)\u001b[0m\n\u001b[1;32m     46\u001b[0m     \u001b[0;32mif\u001b[0m \u001b[0mret\u001b[0m \u001b[0;34m!=\u001b[0m \u001b[0;36m0\u001b[0m\u001b[0;34m:\u001b[0m\u001b[0;34m\u001b[0m\u001b[0;34m\u001b[0m\u001b[0m\n\u001b[0;32m---> 47\u001b[0;31m         \u001b[0;32mraise\u001b[0m \u001b[0mLightGBMError\u001b[0m\u001b[0;34m(\u001b[0m\u001b[0mdecode_string\u001b[0m\u001b[0;34m(\u001b[0m\u001b[0m_LIB\u001b[0m\u001b[0;34m.\u001b[0m\u001b[0mLGBM_GetLastError\u001b[0m\u001b[0;34m(\u001b[0m\u001b[0;34m)\u001b[0m\u001b[0;34m)\u001b[0m\u001b[0;34m)\u001b[0m\u001b[0;34m\u001b[0m\u001b[0;34m\u001b[0m\u001b[0m\n\u001b[0m\u001b[1;32m     48\u001b[0m \u001b[0;34m\u001b[0m\u001b[0m\n",
      "\u001b[0;31mLightGBMError\u001b[0m: Check failed: num_leaves <=131072 at /tmp/pip-req-build-ny46z16n/compile/src/io/config_auto.cpp, line 305 .\n",
      "\nDuring handling of the above exception, another exception occurred:\n",
      "\u001b[0;31mLightGBMError\u001b[0m                             Traceback (most recent call last)",
      "\u001b[0;32m<ipython-input-86-e4d4c2712e94>\u001b[0m in \u001b[0;36m<module>\u001b[0;34m\u001b[0m\n\u001b[1;32m     11\u001b[0m \u001b[0;34m\u001b[0m\u001b[0m\n\u001b[1;32m     12\u001b[0m \u001b[0;34m\u001b[0m\u001b[0m\n\u001b[0;32m---> 13\u001b[0;31m     \u001b[0mlgb_models\u001b[0m\u001b[0;34m,\u001b[0m \u001b[0mlgb_scores\u001b[0m \u001b[0;34m=\u001b[0m \u001b[0mcv\u001b[0m\u001b[0;34m(\u001b[0m\u001b[0mXtrain\u001b[0m\u001b[0;34m.\u001b[0m\u001b[0mvalues\u001b[0m\u001b[0;34m,\u001b[0m\u001b[0mytrain\u001b[0m\u001b[0;34m.\u001b[0m\u001b[0mvalues\u001b[0m\u001b[0;34m,\u001b[0m\u001b[0mlgb\u001b[0m\u001b[0;34m)\u001b[0m\u001b[0;34m\u001b[0m\u001b[0;34m\u001b[0m\u001b[0m\n\u001b[0m\u001b[1;32m     14\u001b[0m     \u001b[0mallmodels\u001b[0m\u001b[0;34m.\u001b[0m\u001b[0mappend\u001b[0m\u001b[0;34m(\u001b[0m\u001b[0mlgb_models\u001b[0m\u001b[0;34m)\u001b[0m\u001b[0;34m\u001b[0m\u001b[0;34m\u001b[0m\u001b[0m\n\u001b[1;32m     15\u001b[0m     \u001b[0mallscores\u001b[0m\u001b[0;34m.\u001b[0m\u001b[0mappend\u001b[0m\u001b[0;34m(\u001b[0m\u001b[0mlgb_scores\u001b[0m\u001b[0;34m)\u001b[0m\u001b[0;34m\u001b[0m\u001b[0;34m\u001b[0m\u001b[0m\n",
      "\u001b[0;32m<ipython-input-84-155b82694514>\u001b[0m in \u001b[0;36mcv\u001b[0;34m(Xtrain, ytrain, model)\u001b[0m\n\u001b[1;32m     47\u001b[0m         \u001b[0mXtr\u001b[0m\u001b[0;34m,\u001b[0m \u001b[0mXte\u001b[0m \u001b[0;34m=\u001b[0m \u001b[0mXtrain\u001b[0m\u001b[0;34m[\u001b[0m\u001b[0mtrain_index\u001b[0m\u001b[0;34m]\u001b[0m\u001b[0;34m,\u001b[0m \u001b[0mXtrain\u001b[0m\u001b[0;34m[\u001b[0m\u001b[0mtest_index\u001b[0m\u001b[0;34m]\u001b[0m\u001b[0;34m\u001b[0m\u001b[0;34m\u001b[0m\u001b[0m\n\u001b[1;32m     48\u001b[0m         \u001b[0mytr\u001b[0m\u001b[0;34m,\u001b[0m \u001b[0myte\u001b[0m \u001b[0;34m=\u001b[0m \u001b[0mytrain\u001b[0m\u001b[0;34m[\u001b[0m\u001b[0mtrain_index\u001b[0m\u001b[0;34m]\u001b[0m\u001b[0;34m,\u001b[0m \u001b[0mytrain\u001b[0m\u001b[0;34m[\u001b[0m\u001b[0mtest_index\u001b[0m\u001b[0;34m]\u001b[0m\u001b[0;34m\u001b[0m\u001b[0;34m\u001b[0m\u001b[0m\n\u001b[0;32m---> 49\u001b[0;31m         \u001b[0mcls\u001b[0m \u001b[0;34m=\u001b[0m \u001b[0mmodel\u001b[0m\u001b[0;34m.\u001b[0m\u001b[0mfit\u001b[0m\u001b[0;34m(\u001b[0m\u001b[0mXtr\u001b[0m\u001b[0;34m,\u001b[0m \u001b[0mytr\u001b[0m\u001b[0;34m)\u001b[0m\u001b[0;34m\u001b[0m\u001b[0;34m\u001b[0m\u001b[0m\n\u001b[0m\u001b[1;32m     50\u001b[0m         \u001b[0mmodels\u001b[0m\u001b[0;34m.\u001b[0m\u001b[0mappend\u001b[0m\u001b[0;34m(\u001b[0m\u001b[0mcls\u001b[0m\u001b[0;34m)\u001b[0m\u001b[0;34m\u001b[0m\u001b[0;34m\u001b[0m\u001b[0m\n\u001b[1;32m     51\u001b[0m         \u001b[0mevaluation\u001b[0m\u001b[0;34m(\u001b[0m\u001b[0myte\u001b[0m\u001b[0;34m,\u001b[0m\u001b[0mXte\u001b[0m\u001b[0;34m,\u001b[0m\u001b[0mcls\u001b[0m\u001b[0;34m)\u001b[0m\u001b[0;34m\u001b[0m\u001b[0;34m\u001b[0m\u001b[0m\n",
      "\u001b[0;32m~/opt/anaconda3/lib/python3.7/site-packages/lightgbm/sklearn.py\u001b[0m in \u001b[0;36mfit\u001b[0;34m(self, X, y, sample_weight, init_score, eval_set, eval_names, eval_sample_weight, eval_class_weight, eval_init_score, eval_metric, early_stopping_rounds, verbose, feature_name, categorical_feature, callbacks)\u001b[0m\n\u001b[1;32m    798\u001b[0m                                         \u001b[0mverbose\u001b[0m\u001b[0;34m=\u001b[0m\u001b[0mverbose\u001b[0m\u001b[0;34m,\u001b[0m \u001b[0mfeature_name\u001b[0m\u001b[0;34m=\u001b[0m\u001b[0mfeature_name\u001b[0m\u001b[0;34m,\u001b[0m\u001b[0;34m\u001b[0m\u001b[0;34m\u001b[0m\u001b[0m\n\u001b[1;32m    799\u001b[0m                                         \u001b[0mcategorical_feature\u001b[0m\u001b[0;34m=\u001b[0m\u001b[0mcategorical_feature\u001b[0m\u001b[0;34m,\u001b[0m\u001b[0;34m\u001b[0m\u001b[0;34m\u001b[0m\u001b[0m\n\u001b[0;32m--> 800\u001b[0;31m                                         callbacks=callbacks)\n\u001b[0m\u001b[1;32m    801\u001b[0m         \u001b[0;32mreturn\u001b[0m \u001b[0mself\u001b[0m\u001b[0;34m\u001b[0m\u001b[0;34m\u001b[0m\u001b[0m\n\u001b[1;32m    802\u001b[0m \u001b[0;34m\u001b[0m\u001b[0m\n",
      "\u001b[0;32m~/opt/anaconda3/lib/python3.7/site-packages/lightgbm/sklearn.py\u001b[0m in \u001b[0;36mfit\u001b[0;34m(self, X, y, sample_weight, init_score, group, eval_set, eval_names, eval_sample_weight, eval_class_weight, eval_init_score, eval_group, eval_metric, early_stopping_rounds, verbose, feature_name, categorical_feature, callbacks)\u001b[0m\n\u001b[1;32m    593\u001b[0m                               \u001b[0mverbose_eval\u001b[0m\u001b[0;34m=\u001b[0m\u001b[0mverbose\u001b[0m\u001b[0;34m,\u001b[0m \u001b[0mfeature_name\u001b[0m\u001b[0;34m=\u001b[0m\u001b[0mfeature_name\u001b[0m\u001b[0;34m,\u001b[0m\u001b[0;34m\u001b[0m\u001b[0;34m\u001b[0m\u001b[0m\n\u001b[1;32m    594\u001b[0m                               \u001b[0mcategorical_feature\u001b[0m\u001b[0;34m=\u001b[0m\u001b[0mcategorical_feature\u001b[0m\u001b[0;34m,\u001b[0m\u001b[0;34m\u001b[0m\u001b[0;34m\u001b[0m\u001b[0m\n\u001b[0;32m--> 595\u001b[0;31m                               callbacks=callbacks)\n\u001b[0m\u001b[1;32m    596\u001b[0m \u001b[0;34m\u001b[0m\u001b[0m\n\u001b[1;32m    597\u001b[0m         \u001b[0;32mif\u001b[0m \u001b[0mevals_result\u001b[0m\u001b[0;34m:\u001b[0m\u001b[0;34m\u001b[0m\u001b[0;34m\u001b[0m\u001b[0m\n",
      "\u001b[0;32m~/opt/anaconda3/lib/python3.7/site-packages/lightgbm/engine.py\u001b[0m in \u001b[0;36mtrain\u001b[0;34m(params, train_set, num_boost_round, valid_sets, valid_names, fobj, feval, init_model, feature_name, categorical_feature, early_stopping_rounds, evals_result, verbose_eval, learning_rates, keep_training_booster, callbacks)\u001b[0m\n\u001b[1;32m    232\u001b[0m             \u001b[0mbooster\u001b[0m\u001b[0;34m.\u001b[0m\u001b[0madd_valid\u001b[0m\u001b[0;34m(\u001b[0m\u001b[0mvalid_set\u001b[0m\u001b[0;34m,\u001b[0m \u001b[0mname_valid_set\u001b[0m\u001b[0;34m)\u001b[0m\u001b[0;34m\u001b[0m\u001b[0;34m\u001b[0m\u001b[0m\n\u001b[1;32m    233\u001b[0m     \u001b[0;32mfinally\u001b[0m\u001b[0;34m:\u001b[0m\u001b[0;34m\u001b[0m\u001b[0;34m\u001b[0m\u001b[0m\n\u001b[0;32m--> 234\u001b[0;31m         \u001b[0mtrain_set\u001b[0m\u001b[0;34m.\u001b[0m\u001b[0m_reverse_update_params\u001b[0m\u001b[0;34m(\u001b[0m\u001b[0;34m)\u001b[0m\u001b[0;34m\u001b[0m\u001b[0;34m\u001b[0m\u001b[0m\n\u001b[0m\u001b[1;32m    235\u001b[0m         \u001b[0;32mfor\u001b[0m \u001b[0mvalid_set\u001b[0m \u001b[0;32min\u001b[0m \u001b[0mreduced_valid_sets\u001b[0m\u001b[0;34m:\u001b[0m\u001b[0;34m\u001b[0m\u001b[0;34m\u001b[0m\u001b[0m\n\u001b[1;32m    236\u001b[0m             \u001b[0mvalid_set\u001b[0m\u001b[0;34m.\u001b[0m\u001b[0m_reverse_update_params\u001b[0m\u001b[0;34m(\u001b[0m\u001b[0;34m)\u001b[0m\u001b[0;34m\u001b[0m\u001b[0;34m\u001b[0m\u001b[0m\n",
      "\u001b[0;32m~/opt/anaconda3/lib/python3.7/site-packages/lightgbm/basic.py\u001b[0m in \u001b[0;36m_reverse_update_params\u001b[0;34m(self)\u001b[0m\n\u001b[1;32m   1131\u001b[0m         \u001b[0mself\u001b[0m\u001b[0;34m.\u001b[0m\u001b[0mparams_back_up\u001b[0m \u001b[0;34m=\u001b[0m \u001b[0;32mNone\u001b[0m\u001b[0;34m\u001b[0m\u001b[0;34m\u001b[0m\u001b[0m\n\u001b[1;32m   1132\u001b[0m         \u001b[0;32mif\u001b[0m \u001b[0mself\u001b[0m\u001b[0;34m.\u001b[0m\u001b[0mhandle\u001b[0m \u001b[0;32mis\u001b[0m \u001b[0;32mnot\u001b[0m \u001b[0;32mNone\u001b[0m \u001b[0;32mand\u001b[0m \u001b[0mself\u001b[0m\u001b[0;34m.\u001b[0m\u001b[0mparams\u001b[0m \u001b[0;32mis\u001b[0m \u001b[0;32mnot\u001b[0m \u001b[0;32mNone\u001b[0m\u001b[0;34m:\u001b[0m\u001b[0;34m\u001b[0m\u001b[0;34m\u001b[0m\u001b[0m\n\u001b[0;32m-> 1133\u001b[0;31m             \u001b[0m_safe_call\u001b[0m\u001b[0;34m(\u001b[0m\u001b[0m_LIB\u001b[0m\u001b[0;34m.\u001b[0m\u001b[0mLGBM_DatasetUpdateParam\u001b[0m\u001b[0;34m(\u001b[0m\u001b[0mself\u001b[0m\u001b[0;34m.\u001b[0m\u001b[0mhandle\u001b[0m\u001b[0;34m,\u001b[0m \u001b[0mc_str\u001b[0m\u001b[0;34m(\u001b[0m\u001b[0mparam_dict_to_str\u001b[0m\u001b[0;34m(\u001b[0m\u001b[0mself\u001b[0m\u001b[0;34m.\u001b[0m\u001b[0mparams\u001b[0m\u001b[0;34m)\u001b[0m\u001b[0;34m)\u001b[0m\u001b[0;34m)\u001b[0m\u001b[0;34m)\u001b[0m\u001b[0;34m\u001b[0m\u001b[0;34m\u001b[0m\u001b[0m\n\u001b[0m\u001b[1;32m   1134\u001b[0m         \u001b[0;32mreturn\u001b[0m \u001b[0mself\u001b[0m\u001b[0;34m\u001b[0m\u001b[0;34m\u001b[0m\u001b[0m\n\u001b[1;32m   1135\u001b[0m \u001b[0;34m\u001b[0m\u001b[0m\n",
      "\u001b[0;32m~/opt/anaconda3/lib/python3.7/site-packages/lightgbm/basic.py\u001b[0m in \u001b[0;36m_safe_call\u001b[0;34m(ret)\u001b[0m\n\u001b[1;32m     45\u001b[0m     \"\"\"\n\u001b[1;32m     46\u001b[0m     \u001b[0;32mif\u001b[0m \u001b[0mret\u001b[0m \u001b[0;34m!=\u001b[0m \u001b[0;36m0\u001b[0m\u001b[0;34m:\u001b[0m\u001b[0;34m\u001b[0m\u001b[0;34m\u001b[0m\u001b[0m\n\u001b[0;32m---> 47\u001b[0;31m         \u001b[0;32mraise\u001b[0m \u001b[0mLightGBMError\u001b[0m\u001b[0;34m(\u001b[0m\u001b[0mdecode_string\u001b[0m\u001b[0;34m(\u001b[0m\u001b[0m_LIB\u001b[0m\u001b[0;34m.\u001b[0m\u001b[0mLGBM_GetLastError\u001b[0m\u001b[0;34m(\u001b[0m\u001b[0;34m)\u001b[0m\u001b[0;34m)\u001b[0m\u001b[0;34m)\u001b[0m\u001b[0;34m\u001b[0m\u001b[0;34m\u001b[0m\u001b[0m\n\u001b[0m\u001b[1;32m     48\u001b[0m \u001b[0;34m\u001b[0m\u001b[0m\n\u001b[1;32m     49\u001b[0m \u001b[0;34m\u001b[0m\u001b[0m\n",
      "\u001b[0;31mLightGBMError\u001b[0m: Check failed: num_leaves <=131072 at /tmp/pip-req-build-ny46z16n/compile/src/io/config_auto.cpp, line 305 .\n"
     ]
    }
   ],
   "source": [
    "# explore depth info\n",
    "allmodels = []\n",
    "allscores = []\n",
    "for d in [5,10,15,20,25]:\n",
    "    print(\"maximum depth: {}\".format(d))\n",
    "    lgb = LGBMClassifier(boosting_type='gbdt', num_leaves=min(2**d-1,300), max_depth=d, learning_rate=0.1, \\\n",
    "                       n_estimators=300, subsample_for_bin=200000, objective=None, class_weight={1:50}, \\\n",
    "                       min_split_gain=0.0, min_child_weight=1, min_child_samples=1, subsample=1.0, \\\n",
    "                       subsample_freq=0, colsample_bytree=1.0, reg_alpha=0.0, reg_lambda=1, \\\n",
    "                       random_state=None, n_jobs=4, silent=True, importance_type='split',bagging_fraction=0.1,bagging_freq=10)\n",
    "    \n",
    "\n",
    "    lgb_models, lgb_scores = cv(Xtrain.values,ytrain.values,lgb)\n",
    "    allmodels.append(lgb_models)\n",
    "    allscores.append(lgb_scores)"
   ]
  },
  {
   "cell_type": "markdown",
   "metadata": {},
   "source": [
    "# upsampling"
   ]
  },
  {
   "cell_type": "code",
   "execution_count": 87,
   "metadata": {},
   "outputs": [
    {
     "name": "stdout",
     "output_type": "stream",
     "text": [
      "(713148, 13) (31722, 13)\n"
     ]
    }
   ],
   "source": [
    "\n",
    "Xy = X.copy()\n",
    "Xy['y'] = y\n",
    "\n",
    "class0 = Xy.loc[Xy.y == 0]\n",
    "class1 = Xy.loc[Xy.y == 1]\n",
    "print(class0.shape,class1.shape)\n",
    "class1 = class1.sample(n=class0.shape[0],replace=True,random_state=0)\n",
    "Xy = pd.concat([class0,class1])\n",
    "yup = Xy['y']\n",
    "Xup = Xy.drop(columns=['y'])\n",
    "# re-do train_test split of balanced data\n",
    "Xuptrain,Xuptest,yuptrain,yuptest = train_test_split(Xup.values,yup.values,test_size = 0.2,random_state=42)"
   ]
  },
  {
   "cell_type": "code",
   "execution_count": 89,
   "metadata": {},
   "outputs": [
    {
     "name": "stdout",
     "output_type": "stream",
     "text": [
      "maximum depth: 5\n",
      "LGBMClassifier(bagging_fraction=0.1, bagging_freq=10, boosting_type='gbdt',\n",
      "               class_weight={1: 2}, colsample_bytree=1.0,\n",
      "               importance_type='split', learning_rate=0.1, max_depth=5,\n",
      "               min_child_samples=1, min_child_weight=1, min_split_gain=0.0,\n",
      "               n_estimators=300, n_jobs=4, num_leaves=31, objective=None,\n",
      "               random_state=None, reg_alpha=0.0, reg_lambda=1, silent=True,\n",
      "               subsample=1.0, subsample_for_bin=200000, subsample_freq=0)\n",
      "cross_validate_run: 0\n",
      "f1_socre: 0.826\n",
      "precision: 0.734\n",
      "recall/sensitivity(true positive rate): 0.945\n",
      "false positive rate (FPR): 0.341\n",
      "spcificity(true negative rate): 0.659\n",
      "ROC_AUC_score: 0.802\n",
      "cross_validate_run: 1\n",
      "f1_socre: 0.825\n",
      "precision: 0.733\n",
      "recall/sensitivity(true positive rate): 0.943\n",
      "false positive rate (FPR): 0.343\n",
      "spcificity(true negative rate): 0.657\n",
      "ROC_AUC_score: 0.800\n",
      "cross_validate_run: 2\n",
      "f1_socre: 0.826\n",
      "precision: 0.735\n",
      "recall/sensitivity(true positive rate): 0.942\n",
      "false positive rate (FPR): 0.339\n",
      "spcificity(true negative rate): 0.661\n",
      "ROC_AUC_score: 0.801\n",
      "cross_validate_run: 3\n",
      "f1_socre: 0.826\n",
      "precision: 0.736\n",
      "recall/sensitivity(true positive rate): 0.941\n",
      "false positive rate (FPR): 0.338\n",
      "spcificity(true negative rate): 0.662\n",
      "ROC_AUC_score: 0.801\n",
      "\n",
      " mean scores +/- sd: \n",
      "\n",
      "f1_socre : 0.826 +/- 0.000\n",
      "precision : 0.736 +/- 0.000\n",
      "recall : 0.941 +/- 0.000\n",
      "FPR : 0.338 +/- 0.000\n",
      "specificity : 0.662 +/- 0.000\n",
      "roc_auc : 0.801 +/- 0.000\n",
      "maximum depth: 10\n",
      "LGBMClassifier(bagging_fraction=0.1, bagging_freq=10, boosting_type='gbdt',\n",
      "               class_weight={1: 2}, colsample_bytree=1.0,\n",
      "               importance_type='split', learning_rate=0.1, max_depth=10,\n",
      "               min_child_samples=1, min_child_weight=1, min_split_gain=0.0,\n",
      "               n_estimators=300, n_jobs=4, num_leaves=300, objective=None,\n",
      "               random_state=None, reg_alpha=0.0, reg_lambda=1, silent=True,\n",
      "               subsample=1.0, subsample_for_bin=200000, subsample_freq=0)\n",
      "cross_validate_run: 0\n",
      "f1_socre: 0.944\n",
      "precision: 0.898\n",
      "recall/sensitivity(true positive rate): 0.994\n",
      "false positive rate (FPR): 0.112\n",
      "spcificity(true negative rate): 0.888\n",
      "ROC_AUC_score: 0.941\n",
      "cross_validate_run: 1\n",
      "f1_socre: 0.943\n",
      "precision: 0.896\n",
      "recall/sensitivity(true positive rate): 0.994\n",
      "false positive rate (FPR): 0.115\n",
      "spcificity(true negative rate): 0.885\n",
      "ROC_AUC_score: 0.939\n",
      "cross_validate_run: 2\n",
      "f1_socre: 0.943\n",
      "precision: 0.898\n",
      "recall/sensitivity(true positive rate): 0.993\n",
      "false positive rate (FPR): 0.113\n",
      "spcificity(true negative rate): 0.887\n",
      "ROC_AUC_score: 0.940\n",
      "cross_validate_run: 3\n",
      "f1_socre: 0.945\n",
      "precision: 0.901\n",
      "recall/sensitivity(true positive rate): 0.994\n",
      "false positive rate (FPR): 0.109\n",
      "spcificity(true negative rate): 0.891\n",
      "ROC_AUC_score: 0.942\n",
      "\n",
      " mean scores +/- sd: \n",
      "\n",
      "f1_socre : 0.945 +/- 0.000\n",
      "precision : 0.901 +/- 0.000\n",
      "recall : 0.994 +/- 0.000\n",
      "FPR : 0.109 +/- 0.000\n",
      "specificity : 0.891 +/- 0.000\n",
      "roc_auc : 0.942 +/- 0.000\n",
      "maximum depth: 15\n",
      "LGBMClassifier(bagging_fraction=0.1, bagging_freq=10, boosting_type='gbdt',\n",
      "               class_weight={1: 2}, colsample_bytree=1.0,\n",
      "               importance_type='split', learning_rate=0.1, max_depth=15,\n",
      "               min_child_samples=1, min_child_weight=1, min_split_gain=0.0,\n",
      "               n_estimators=300, n_jobs=4, num_leaves=300, objective=None,\n",
      "               random_state=None, reg_alpha=0.0, reg_lambda=1, silent=True,\n",
      "               subsample=1.0, subsample_for_bin=200000, subsample_freq=0)\n",
      "cross_validate_run: 0\n",
      "f1_socre: 0.959\n",
      "precision: 0.922\n",
      "recall/sensitivity(true positive rate): 0.998\n",
      "false positive rate (FPR): 0.084\n",
      "spcificity(true negative rate): 0.916\n",
      "ROC_AUC_score: 0.957\n",
      "cross_validate_run: 1\n",
      "f1_socre: 0.959\n",
      "precision: 0.923\n",
      "recall/sensitivity(true positive rate): 0.998\n",
      "false positive rate (FPR): 0.083\n",
      "spcificity(true negative rate): 0.917\n",
      "ROC_AUC_score: 0.957\n",
      "cross_validate_run: 2\n",
      "f1_socre: 0.960\n",
      "precision: 0.925\n",
      "recall/sensitivity(true positive rate): 0.998\n",
      "false positive rate (FPR): 0.081\n",
      "spcificity(true negative rate): 0.919\n",
      "ROC_AUC_score: 0.958\n",
      "cross_validate_run: 3\n",
      "f1_socre: 0.960\n",
      "precision: 0.926\n",
      "recall/sensitivity(true positive rate): 0.998\n",
      "false positive rate (FPR): 0.080\n",
      "spcificity(true negative rate): 0.920\n",
      "ROC_AUC_score: 0.959\n",
      "\n",
      " mean scores +/- sd: \n",
      "\n",
      "f1_socre : 0.960 +/- 0.000\n",
      "precision : 0.926 +/- 0.000\n",
      "recall : 0.998 +/- 0.000\n",
      "FPR : 0.080 +/- 0.000\n",
      "specificity : 0.920 +/- 0.000\n",
      "roc_auc : 0.959 +/- 0.000\n",
      "maximum depth: 20\n",
      "LGBMClassifier(bagging_fraction=0.1, bagging_freq=10, boosting_type='gbdt',\n",
      "               class_weight={1: 2}, colsample_bytree=1.0,\n",
      "               importance_type='split', learning_rate=0.1, max_depth=20,\n",
      "               min_child_samples=1, min_child_weight=1, min_split_gain=0.0,\n",
      "               n_estimators=300, n_jobs=4, num_leaves=300, objective=None,\n",
      "               random_state=None, reg_alpha=0.0, reg_lambda=1, silent=True,\n",
      "               subsample=1.0, subsample_for_bin=200000, subsample_freq=0)\n",
      "cross_validate_run: 0\n",
      "f1_socre: 0.961\n",
      "precision: 0.926\n",
      "recall/sensitivity(true positive rate): 0.998\n",
      "false positive rate (FPR): 0.079\n",
      "spcificity(true negative rate): 0.921\n",
      "ROC_AUC_score: 0.960\n",
      "cross_validate_run: 1\n",
      "f1_socre: 0.961\n",
      "precision: 0.926\n",
      "recall/sensitivity(true positive rate): 0.998\n",
      "false positive rate (FPR): 0.079\n",
      "spcificity(true negative rate): 0.921\n",
      "ROC_AUC_score: 0.959\n",
      "cross_validate_run: 2\n",
      "f1_socre: 0.962\n",
      "precision: 0.927\n",
      "recall/sensitivity(true positive rate): 0.998\n",
      "false positive rate (FPR): 0.078\n",
      "spcificity(true negative rate): 0.922\n",
      "ROC_AUC_score: 0.960\n",
      "cross_validate_run: 3\n",
      "f1_socre: 0.962\n",
      "precision: 0.928\n",
      "recall/sensitivity(true positive rate): 0.998\n",
      "false positive rate (FPR): 0.078\n",
      "spcificity(true negative rate): 0.922\n",
      "ROC_AUC_score: 0.960\n",
      "\n",
      " mean scores +/- sd: \n",
      "\n",
      "f1_socre : 0.962 +/- 0.000\n",
      "precision : 0.928 +/- 0.000\n",
      "recall : 0.998 +/- 0.000\n",
      "FPR : 0.078 +/- 0.000\n",
      "specificity : 0.922 +/- 0.000\n",
      "roc_auc : 0.960 +/- 0.000\n"
     ]
    }
   ],
   "source": [
    "allmodels = []\n",
    "allscores = []\n",
    "for d in [5,10,15,20]:\n",
    "    print(\"maximum depth: {}\".format(d))\n",
    "    lgb = LGBMClassifier(boosting_type='gbdt', num_leaves=min(2**d-1,300), max_depth=d, learning_rate=0.1, \\\n",
    "                       n_estimators=300, subsample_for_bin=200000, objective=None, class_weight={1:2}, \\\n",
    "                       min_split_gain=0.0, min_child_weight=1, min_child_samples=1, subsample=1.0, \\\n",
    "                       subsample_freq=0, colsample_bytree=1.0, reg_alpha=0.0, reg_lambda=1, \\\n",
    "                       random_state=None, n_jobs=4, silent=True, importance_type='split',bagging_fraction=0.1,bagging_freq=10)\n",
    "    \n",
    "\n",
    "    lgb_models, lgb_scores = cv(Xuptrain,yuptrain,lgb)\n",
    "    allmodels.append(lgb_models)\n",
    "    allscores.append(lgb_scores)"
   ]
  },
  {
   "cell_type": "code",
   "execution_count": 90,
   "metadata": {},
   "outputs": [
    {
     "name": "stdout",
     "output_type": "stream",
     "text": [
      "maximum depth: 25\n",
      "LGBMClassifier(bagging_fraction=0.1, bagging_freq=10, boosting_type='gbdt',\n",
      "               class_weight={1: 2}, colsample_bytree=1.0,\n",
      "               importance_type='split', learning_rate=0.1, max_depth=25,\n",
      "               min_child_samples=1, min_child_weight=1, min_split_gain=0.0,\n",
      "               n_estimators=300, n_jobs=4, num_leaves=300, objective=None,\n",
      "               random_state=None, reg_alpha=0.0, reg_lambda=1, silent=True,\n",
      "               subsample=1.0, subsample_for_bin=200000, subsample_freq=0)\n",
      "cross_validate_run: 0\n",
      "f1_socre: 0.961\n",
      "precision: 0.925\n",
      "recall/sensitivity(true positive rate): 0.998\n",
      "false positive rate (FPR): 0.080\n",
      "spcificity(true negative rate): 0.920\n",
      "ROC_AUC_score: 0.959\n",
      "cross_validate_run: 1\n",
      "f1_socre: 0.962\n",
      "precision: 0.928\n",
      "recall/sensitivity(true positive rate): 0.998\n",
      "false positive rate (FPR): 0.078\n",
      "spcificity(true negative rate): 0.922\n",
      "ROC_AUC_score: 0.960\n",
      "cross_validate_run: 2\n",
      "f1_socre: 0.962\n",
      "precision: 0.928\n",
      "recall/sensitivity(true positive rate): 0.998\n",
      "false positive rate (FPR): 0.077\n",
      "spcificity(true negative rate): 0.923\n",
      "ROC_AUC_score: 0.961\n",
      "cross_validate_run: 3\n",
      "f1_socre: 0.962\n",
      "precision: 0.928\n",
      "recall/sensitivity(true positive rate): 0.998\n",
      "false positive rate (FPR): 0.078\n",
      "spcificity(true negative rate): 0.922\n",
      "ROC_AUC_score: 0.960\n",
      "\n",
      " mean scores +/- sd: \n",
      "\n",
      "f1_socre : 0.962 +/- 0.000\n",
      "precision : 0.928 +/- 0.000\n",
      "recall : 0.998 +/- 0.000\n",
      "FPR : 0.078 +/- 0.000\n",
      "specificity : 0.922 +/- 0.000\n",
      "roc_auc : 0.960 +/- 0.000\n",
      "maximum depth: 30\n",
      "LGBMClassifier(bagging_fraction=0.1, bagging_freq=10, boosting_type='gbdt',\n",
      "               class_weight={1: 2}, colsample_bytree=1.0,\n",
      "               importance_type='split', learning_rate=0.1, max_depth=30,\n",
      "               min_child_samples=1, min_child_weight=1, min_split_gain=0.0,\n",
      "               n_estimators=300, n_jobs=4, num_leaves=300, objective=None,\n",
      "               random_state=None, reg_alpha=0.0, reg_lambda=1, silent=True,\n",
      "               subsample=1.0, subsample_for_bin=200000, subsample_freq=0)\n",
      "cross_validate_run: 0\n",
      "f1_socre: 0.961\n",
      "precision: 0.926\n",
      "recall/sensitivity(true positive rate): 0.998\n",
      "false positive rate (FPR): 0.079\n",
      "spcificity(true negative rate): 0.921\n",
      "ROC_AUC_score: 0.960\n",
      "cross_validate_run: 1\n",
      "f1_socre: 0.962\n",
      "precision: 0.927\n",
      "recall/sensitivity(true positive rate): 0.999\n",
      "false positive rate (FPR): 0.079\n",
      "spcificity(true negative rate): 0.921\n",
      "ROC_AUC_score: 0.960\n",
      "cross_validate_run: 2\n",
      "f1_socre: 0.963\n",
      "precision: 0.930\n",
      "recall/sensitivity(true positive rate): 0.998\n",
      "false positive rate (FPR): 0.075\n",
      "spcificity(true negative rate): 0.925\n",
      "ROC_AUC_score: 0.961\n",
      "cross_validate_run: 3\n",
      "f1_socre: 0.962\n",
      "precision: 0.929\n",
      "recall/sensitivity(true positive rate): 0.998\n",
      "false positive rate (FPR): 0.077\n",
      "spcificity(true negative rate): 0.923\n",
      "ROC_AUC_score: 0.961\n",
      "\n",
      " mean scores +/- sd: \n",
      "\n",
      "f1_socre : 0.962 +/- 0.000\n",
      "precision : 0.929 +/- 0.000\n",
      "recall : 0.998 +/- 0.000\n",
      "FPR : 0.077 +/- 0.000\n",
      "specificity : 0.923 +/- 0.000\n",
      "roc_auc : 0.961 +/- 0.000\n"
     ]
    }
   ],
   "source": [
    "for d in [25,30]:\n",
    "    print(\"maximum depth: {}\".format(d))\n",
    "    lgb = LGBMClassifier(boosting_type='gbdt', num_leaves=min(2**d-1,300), max_depth=d, learning_rate=0.1, \\\n",
    "                       n_estimators=300, subsample_for_bin=200000, objective=None, class_weight={1:2}, \\\n",
    "                       min_split_gain=0.0, min_child_weight=1, min_child_samples=1, subsample=1.0, \\\n",
    "                       subsample_freq=0, colsample_bytree=1.0, reg_alpha=0.0, reg_lambda=1, \\\n",
    "                       random_state=None, n_jobs=4, silent=True, importance_type='split',bagging_fraction=0.1,bagging_freq=10)\n",
    "    \n",
    "\n",
    "    lgb_models, lgb_scores = cv(Xuptrain,yuptrain,lgb)\n",
    "    allmodels.append(lgb_models)\n",
    "    allscores.append(lgb_scores)"
   ]
  },
  {
   "cell_type": "markdown",
   "metadata": {},
   "source": [
    "# Evaluation by testing data"
   ]
  },
  {
   "cell_type": "code",
   "execution_count": 96,
   "metadata": {},
   "outputs": [],
   "source": [
    "best_model = LGBMClassifier(bagging_fraction=0.1, bagging_freq=10, boosting_type='gbdt',\n",
    "               class_weight={1: 2}, colsample_bytree=1.0,\n",
    "               importance_type='split', learning_rate=0.1, max_depth=15,\n",
    "               min_child_samples=1, min_child_weight=1, min_split_gain=0.0,\n",
    "               n_estimators=300, n_jobs=4, num_leaves=300, objective=None,\n",
    "               random_state=None, reg_alpha=0.0, reg_lambda=1, silent=True,\n",
    "               subsample=1.0, subsample_for_bin=200000, subsample_freq=0)"
   ]
  },
  {
   "cell_type": "code",
   "execution_count": 99,
   "metadata": {},
   "outputs": [
    {
     "data": {
      "text/plain": [
       "LGBMClassifier(bagging_fraction=0.1, bagging_freq=10, boosting_type='gbdt',\n",
       "               class_weight={1: 2}, colsample_bytree=1.0,\n",
       "               importance_type='split', learning_rate=0.1, max_depth=15,\n",
       "               min_child_samples=1, min_child_weight=1, min_split_gain=0.0,\n",
       "               n_estimators=300, n_jobs=4, num_leaves=300, objective=None,\n",
       "               random_state=None, reg_alpha=0.0, reg_lambda=1, silent=True,\n",
       "               subsample=1.0, subsample_for_bin=200000, subsample_freq=0)"
      ]
     },
     "execution_count": 99,
     "metadata": {},
     "output_type": "execute_result"
    }
   ],
   "source": [
    "best_model.fit(Xuptrain,yuptrain)"
   ]
  },
  {
   "cell_type": "code",
   "execution_count": 107,
   "metadata": {},
   "outputs": [
    {
     "name": "stdout",
     "output_type": "stream",
     "text": [
      "f1_socre: 0.963\n",
      "precision: 0.929\n",
      "recall/sensitivity(true positive rate): 0.999\n",
      "false positive rate (FPR): 0.077\n",
      "spcificity(true negative rate): 0.923\n",
      "ROC_AUC_score: 0.961\n"
     ]
    }
   ],
   "source": [
    "testscores = evaluation(yuptest,Xuptest,best_model)"
   ]
  },
  {
   "cell_type": "markdown",
   "metadata": {},
   "source": [
    "# plot model performence"
   ]
  },
  {
   "cell_type": "code",
   "execution_count": 102,
   "metadata": {},
   "outputs": [],
   "source": [
    "def plot_roc_curves(curves,colors,labels):\n",
    "    plt.plot([0,0.5,1],[0,0.5,1], linestyle='--', color = 'black') # default classification bound\n",
    "    \n",
    "    for i in range(len(curves)):\n",
    "        fpr, tpr, _ = curves[i]\n",
    "        plt.plot(fpr,tpr,color=colors[i],linewidth=2,label=labels[i])\n",
    "    \n",
    "    plt.xlabel('False Positive Rate',fontsize=20)\n",
    "    plt.ylabel('True Positive Rate',fontsize=20)\n",
    "    plt.xticks(fontsize=18)\n",
    "    plt.yticks(fontsize=18)\n",
    "    plt.legend(fontsize=18)\n",
    "\n",
    "    plt.show()\n",
    "    "
   ]
  },
  {
   "cell_type": "code",
   "execution_count": 127,
   "metadata": {},
   "outputs": [
    {
     "data": {
      "text/plain": [
       "LGBMClassifier(bagging_fraction=0.1, bagging_freq=10, boosting_type='gbdt',\n",
       "               class_weight={1: 2}, colsample_bytree=1.0,\n",
       "               importance_type='split', learning_rate=0.1, max_depth=15,\n",
       "               min_child_samples=1, min_child_weight=1, min_split_gain=0.0,\n",
       "               n_estimators=300, n_jobs=4, num_leaves=300, objective=None,\n",
       "               random_state=None, reg_alpha=0.0, reg_lambda=1, silent=True,\n",
       "               subsample=1.0, subsample_for_bin=200000, subsample_freq=0)"
      ]
     },
     "execution_count": 127,
     "metadata": {},
     "output_type": "execute_result"
    }
   ],
   "source": [
    "allmodels[2][0]"
   ]
  },
  {
   "cell_type": "code",
   "execution_count": 112,
   "metadata": {},
   "outputs": [],
   "source": [
    "predd5 = allmodels[0][0].predict_proba(Xuptest)\n",
    "predd10 = allmodels[1][0].predict_proba(Xuptest)"
   ]
  },
  {
   "cell_type": "code",
   "execution_count": 114,
   "metadata": {},
   "outputs": [],
   "source": [
    "curve5 = roc_curve(yuptest, predd5[:,1])\n",
    "curve10 = roc_curve(yuptest,predd10[:,1])\n",
    "curve15 = roc_curve(yuptest,best_model.predict_proba(Xuptest)[:,1])"
   ]
  },
  {
   "cell_type": "code",
   "execution_count": 116,
   "metadata": {},
   "outputs": [
    {
     "data": {
      "image/png": "[encoded data removed]",
      "text/plain": [
       "<Figure size 432x288 with 1 Axes>"
      ]
     },
     "metadata": {
      "needs_background": "light"
     },
     "output_type": "display_data"
    }
   ],
   "source": [
    "plot_roc_curves([curve5, curve10, curve15],['red','blue','black'],['depth5','depth10','depth15'])\n"
   ]
  },
  {
   "cell_type": "code",
   "execution_count": 138,
   "metadata": {},
   "outputs": [],
   "source": [
    "# plot importance\n",
    "import lightgbm\n",
    "\n",
    "def feature_importance(model,columns):\n",
    "    # Plot importance for beset model: model_mse\n",
    "    fig, ax = plt.subplots(figsize=(15,5))\n",
    "\n",
    "    g1 = lightgbm.plot_importance(model,ax=ax,grid=False)\n",
    "\n",
    "    oldy = g1.yaxis.get_majorticklabels()\n",
    "    feature_dict = dict(zip(['Column_'+str(i) for i in range(len(columns))], columns))\n",
    "    newy = [feature_dict[y._text] for y in oldy]\n",
    "    g1.set_yticklabels(newy,rotation=0,fontsize=18)\n",
    "\n",
    "    #fig.savefig('feature_importance.jpg')\n",
    "    plt.title('Feature Importance',fontsize=26)\n",
    "    plt.xlabel('Feature importance',fontsize = 24)\n",
    "    plt.ylabel('Features', fontsize = 24)\n",
    "    plt.show()"
   ]
  },
  {
   "cell_type": "code",
   "execution_count": 141,
   "metadata": {},
   "outputs": [],
   "source": [
    "columns = ['enrollee_cum_claim_count', 'enrollee_cum_claim_amount', 'provider',\n",
    "       'insurance_policy', 'care', 'diagnosis', 'qty', 'claim amount', 'care_price',\n",
    "       'tariffs', 'claim month', 'vetted_month']"
   ]
  },
  {
   "cell_type": "code",
   "execution_count": 143,
   "metadata": {},
   "outputs": [
    {
     "data": {
      "image/png": "[encoded data removed]",
      "text/plain": [
       "<Figure size 1080x360 with 1 Axes>"
      ]
     },
     "metadata": {
      "needs_background": "light"
     },
     "output_type": "display_data"
    }
   ],
   "source": [
    "feature_importance(allmodels[2][0],columns)"
   ]
  },
  {
   "cell_type": "markdown",
   "metadata": {},
   "source": [
    "### Further validating feature importance"
   ]
  },
  {
   "cell_type": "code",
   "execution_count": 103,
   "metadata": {},
   "outputs": [],
   "source": [
    "# drop diagnosis\n",
    "X1 = Xup.drop(columns=['diagnosis_id'])\n",
    "X1train,X1test,y1train,y1test = train_test_split(X1,yup,test_size = 0.2, random_state=42)"
   ]
  },
  {
   "cell_type": "code",
   "execution_count": 144,
   "metadata": {},
   "outputs": [
    {
     "data": {
      "text/plain": [
       "LGBMClassifier(bagging_fraction=0.1, bagging_freq=10, boosting_type='gbdt',\n",
       "               class_weight={1: 2}, colsample_bytree=1.0,\n",
       "               importance_type='split', learning_rate=0.1, max_depth=15,\n",
       "               min_child_samples=1, min_child_weight=1, min_split_gain=0.0,\n",
       "               n_estimators=300, n_jobs=4, num_leaves=300, objective=None,\n",
       "               random_state=None, reg_alpha=0.0, reg_lambda=1, silent=True,\n",
       "               subsample=1.0, subsample_for_bin=200000, subsample_freq=0)"
      ]
     },
     "execution_count": 144,
     "metadata": {},
     "output_type": "execute_result"
    }
   ],
   "source": [
    "best_model.fit(X1train.values,y1train.values)"
   ]
  },
  {
   "cell_type": "code",
   "execution_count": 147,
   "metadata": {},
   "outputs": [
    {
     "name": "stdout",
     "output_type": "stream",
     "text": [
      "f1_socre: 0.963\n",
      "precision: 0.930\n",
      "recall/sensitivity(true positive rate): 0.998\n",
      "false positive rate (FPR): 0.076\n",
      "spcificity(true negative rate): 0.924\n",
      "ROC_AUC_score: 0.961\n"
     ]
    }
   ],
   "source": [
    "test1 = evaluation(y1test.values,X1test.values,best_model)"
   ]
  },
  {
   "cell_type": "code",
   "execution_count": 148,
   "metadata": {},
   "outputs": [
    {
     "data": {
      "image/png": "[encoded data removed]",
      "text/plain": [
       "<Figure size 1080x360 with 1 Axes>"
      ]
     },
     "metadata": {
      "needs_background": "light"
     },
     "output_type": "display_data"
    }
   ],
   "source": [
    "feature_importance(best_model,X1train.columns)"
   ]
  },
  {
   "cell_type": "code",
   "execution_count": 152,
   "metadata": {},
   "outputs": [
    {
     "name": "stdout",
     "output_type": "stream",
     "text": [
      "f1_socre: 0.961\n",
      "precision: 0.926\n",
      "recall/sensitivity(true positive rate): 0.999\n",
      "false positive rate (FPR): 0.080\n",
      "spcificity(true negative rate): 0.920\n",
      "ROC_AUC_score: 0.959\n"
     ]
    },
    {
     "data": {
      "image/png": "[encoded data removed]",
      "text/plain": [
       "<Figure size 1080x360 with 1 Axes>"
      ]
     },
     "metadata": {
      "needs_background": "light"
     },
     "output_type": "display_data"
    }
   ],
   "source": [
    "# drop tariffs\n",
    "X2 = Xup.drop(columns=['tariffs'])\n",
    "X2train,X2test,y2train,y2test = train_test_split(X2,yup,test_size = 0.2, random_state=42)\n",
    "model2 = best_model\n",
    "model2.fit(X2train.values,y2train.values)\n",
    "test2 = evaluation(y2test.values,X2test.values,model2)\n",
    "feature_importance(model2,X2train.columns)"
   ]
  },
  {
   "cell_type": "code",
   "execution_count": 153,
   "metadata": {},
   "outputs": [
    {
     "name": "stdout",
     "output_type": "stream",
     "text": [
      "f1_socre: 0.943\n",
      "precision: 0.897\n",
      "recall/sensitivity(true positive rate): 0.994\n",
      "false positive rate (FPR): 0.115\n",
      "spcificity(true negative rate): 0.885\n",
      "ROC_AUC_score: 0.939\n"
     ]
    },
    {
     "data": {
      "image/png": "[encoded data removed]",
      "text/plain": [
       "<Figure size 1080x360 with 1 Axes>"
      ]
     },
     "metadata": {
      "needs_background": "light"
     },
     "output_type": "display_data"
    }
   ],
   "source": [
    "# drop enrollee_cum_claim_count\n",
    "X3 = Xup.drop(columns=['enrollee_cum_claim_count','enrollee_cum_claim_amount'])\n",
    "X3train,X3test,y3train,y3test = train_test_split(X3,yup,test_size = 0.2, random_state=42)\n",
    "model3 = best_model\n",
    "model3.fit(X3train.values,y3train.values)\n",
    "test3 = evaluation(y3test.values,X3test.values,model2)\n",
    "feature_importance(model3,X3train.columns)"
   ]
  },
  {
   "cell_type": "code",
   "execution_count": 154,
   "metadata": {},
   "outputs": [
    {
     "name": "stdout",
     "output_type": "stream",
     "text": [
      "f1_socre: 0.956\n",
      "precision: 0.917\n",
      "recall/sensitivity(true positive rate): 0.998\n",
      "false positive rate (FPR): 0.091\n",
      "spcificity(true negative rate): 0.909\n",
      "ROC_AUC_score: 0.953\n"
     ]
    },
    {
     "data": {
      "image/png": "[encoded data removed]",
      "text/plain": [
       "<Figure size 1080x360 with 1 Axes>"
      ]
     },
     "metadata": {
      "needs_background": "light"
     },
     "output_type": "display_data"
    }
   ],
   "source": [
    "# drop enrollee_cum_claim_count\n",
    "X3 = Xup.drop(columns=['enrollee_cum_claim_amount'])\n",
    "X3train,X3test,y3train,y3test = train_test_split(X3,yup,test_size = 0.2, random_state=42)\n",
    "model3 = best_model\n",
    "model3.fit(X3train.values,y3train.values)\n",
    "test3 = evaluation(y3test.values,X3test.values,model2)\n",
    "feature_importance(model3,X3train.columns)"
   ]
  },
  {
   "cell_type": "code",
   "execution_count": null,
   "metadata": {},
   "outputs": [],
   "source": []
  },
  {
   "cell_type": "code",
   "execution_count": null,
   "metadata": {},
   "outputs": [],
   "source": []
  }
 ],
 "metadata": {
  "kernelspec": {
   "display_name": "Python 3",
   "language": "python",
   "name": "python3"
  },
  "language_info": {
   "codemirror_mode": {
    "name": "ipython",
    "version": 3
   },
   "file_extension": ".py",
   "mimetype": "text/x-python",
   "name": "python",
   "nbconvert_exporter": "python",
   "pygments_lexer": "ipython3",
   "version": "3.7.4"
  }
 },
 "nbformat": 4,
 "nbformat_minor": 2
}
