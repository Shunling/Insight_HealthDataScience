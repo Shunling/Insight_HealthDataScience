{
 "cells": [
  {
   "cell_type": "code",
   "execution_count": 1,
   "metadata": {},
   "outputs": [
    {
     "name": "stderr",
     "output_type": "stream",
     "text": [
      "/Users/shunling/opt/anaconda3/lib/python3.7/site-packages/lightgbm/__init__.py:48: UserWarning: Starting from version 2.2.1, the library file in distribution wheels for macOS is built by the Apple Clang (Xcode_8.3.3) compiler.\n",
      "This means that in case of installing LightGBM from PyPI via the ``pip install lightgbm`` command, you don't need to install the gcc compiler anymore.\n",
      "Instead of that, you need to install the OpenMP library, which is required for running LightGBM on the system with the Apple Clang compiler.\n",
      "You can install the OpenMP library by the following command: ``brew install libomp``.\n",
      "  \"You can install the OpenMP library by the following command: ``brew install libomp``.\", UserWarning)\n"
     ]
    }
   ],
   "source": [
    "import pandas as pd\n",
    "import numpy as np\n",
    "\n",
    "from lightgbm import LGBMClassifier\n",
    "from xgboost import XGBClassifier\n",
    "\n",
    "from sklearn.model_selection import train_test_split\n",
    "from sklearn.model_selection import KFold\n",
    "from sklearn.naive_bayes import ComplementNB\n",
    "import pickle\n",
    "\n",
    "from sklearn.metrics import confusion_matrix,f1_score,roc_auc_score,roc_curve\n",
    "import matplotlib.pyplot as plt\n",
    "%matplotlib inline"
   ]
  },
  {
   "cell_type": "markdown",
   "metadata": {},
   "source": [
    "# data"
   ]
  },
  {
   "cell_type": "code",
   "execution_count": 2,
   "metadata": {},
   "outputs": [],
   "source": [
    "df = pd.read_csv('Processed_data/clean_data.csv',index_col=0)"
   ]
  },
  {
   "cell_type": "code",
   "execution_count": 3,
   "metadata": {},
   "outputs": [
    {
     "data": {
      "text/html": [
       "<div>\n",
       "<style scoped>\n",
       "    .dataframe tbody tr th:only-of-type {\n",
       "        vertical-align: middle;\n",
       "    }\n",
       "\n",
       "    .dataframe tbody tr th {\n",
       "        vertical-align: top;\n",
       "    }\n",
       "\n",
       "    .dataframe thead th {\n",
       "        text-align: right;\n",
       "    }\n",
       "</style>\n",
       "<table border=\"1\" class=\"dataframe\">\n",
       "  <thead>\n",
       "    <tr style=\"text-align: right;\">\n",
       "      <th></th>\n",
       "      <th>claim_id</th>\n",
       "      <th>enrollee_id</th>\n",
       "      <th>provider_id</th>\n",
       "      <th>provider_status</th>\n",
       "      <th>hmo_id</th>\n",
       "      <th>care_id</th>\n",
       "      <th>qty</th>\n",
       "      <th>amount</th>\n",
       "      <th>approved_qty</th>\n",
       "      <th>approved_amount</th>\n",
       "      <th>hmo_approved</th>\n",
       "      <th>created_at</th>\n",
       "      <th>vetted_at</th>\n",
       "      <th>label</th>\n",
       "      <th>unit_price</th>\n",
       "    </tr>\n",
       "  </thead>\n",
       "  <tbody>\n",
       "    <tr>\n",
       "      <td>0</td>\n",
       "      <td>10.0</td>\n",
       "      <td>89.0</td>\n",
       "      <td>1.0</td>\n",
       "      <td>1.0</td>\n",
       "      <td>1.0</td>\n",
       "      <td>586.0</td>\n",
       "      <td>6.0</td>\n",
       "      <td>1816.08</td>\n",
       "      <td>6.0</td>\n",
       "      <td>1816.08</td>\n",
       "      <td>1.0</td>\n",
       "      <td>2018-03-12 14:53:46</td>\n",
       "      <td>2018-05-21 10:05:30</td>\n",
       "      <td>0</td>\n",
       "      <td>302.68</td>\n",
       "    </tr>\n",
       "    <tr>\n",
       "      <td>1</td>\n",
       "      <td>11.0</td>\n",
       "      <td>89.0</td>\n",
       "      <td>1.0</td>\n",
       "      <td>1.0</td>\n",
       "      <td>1.0</td>\n",
       "      <td>586.0</td>\n",
       "      <td>6.0</td>\n",
       "      <td>1816.08</td>\n",
       "      <td>6.0</td>\n",
       "      <td>1816.08</td>\n",
       "      <td>1.0</td>\n",
       "      <td>2018-03-13 14:50:39</td>\n",
       "      <td>2018-05-21 10:07:19</td>\n",
       "      <td>0</td>\n",
       "      <td>302.68</td>\n",
       "    </tr>\n",
       "    <tr>\n",
       "      <td>2</td>\n",
       "      <td>13.0</td>\n",
       "      <td>74.0</td>\n",
       "      <td>1.0</td>\n",
       "      <td>1.0</td>\n",
       "      <td>1.0</td>\n",
       "      <td>434.0</td>\n",
       "      <td>5.0</td>\n",
       "      <td>115.00</td>\n",
       "      <td>5.0</td>\n",
       "      <td>115.00</td>\n",
       "      <td>1.0</td>\n",
       "      <td>2018-03-16 10:28:53</td>\n",
       "      <td>2018-05-21 10:09:30</td>\n",
       "      <td>0</td>\n",
       "      <td>23.00</td>\n",
       "    </tr>\n",
       "    <tr>\n",
       "      <td>3</td>\n",
       "      <td>13.0</td>\n",
       "      <td>74.0</td>\n",
       "      <td>1.0</td>\n",
       "      <td>1.0</td>\n",
       "      <td>1.0</td>\n",
       "      <td>1102.0</td>\n",
       "      <td>10.0</td>\n",
       "      <td>1265.00</td>\n",
       "      <td>10.0</td>\n",
       "      <td>1265.00</td>\n",
       "      <td>1.0</td>\n",
       "      <td>2018-03-16 10:28:53</td>\n",
       "      <td>2018-05-21 10:09:30</td>\n",
       "      <td>0</td>\n",
       "      <td>126.50</td>\n",
       "    </tr>\n",
       "    <tr>\n",
       "      <td>4</td>\n",
       "      <td>13.0</td>\n",
       "      <td>74.0</td>\n",
       "      <td>1.0</td>\n",
       "      <td>1.0</td>\n",
       "      <td>1.0</td>\n",
       "      <td>299.0</td>\n",
       "      <td>15.0</td>\n",
       "      <td>138.00</td>\n",
       "      <td>15.0</td>\n",
       "      <td>138.00</td>\n",
       "      <td>1.0</td>\n",
       "      <td>2018-03-16 10:28:53</td>\n",
       "      <td>2018-05-21 10:09:30</td>\n",
       "      <td>0</td>\n",
       "      <td>9.20</td>\n",
       "    </tr>\n",
       "  </tbody>\n",
       "</table>\n",
       "</div>"
      ],
      "text/plain": [
       "   claim_id  enrollee_id  provider_id  provider_status  hmo_id  care_id   qty  \\\n",
       "0      10.0         89.0          1.0              1.0     1.0    586.0   6.0   \n",
       "1      11.0         89.0          1.0              1.0     1.0    586.0   6.0   \n",
       "2      13.0         74.0          1.0              1.0     1.0    434.0   5.0   \n",
       "3      13.0         74.0          1.0              1.0     1.0   1102.0  10.0   \n",
       "4      13.0         74.0          1.0              1.0     1.0    299.0  15.0   \n",
       "\n",
       "    amount  approved_qty  approved_amount  hmo_approved           created_at  \\\n",
       "0  1816.08           6.0          1816.08           1.0  2018-03-12 14:53:46   \n",
       "1  1816.08           6.0          1816.08           1.0  2018-03-13 14:50:39   \n",
       "2   115.00           5.0           115.00           1.0  2018-03-16 10:28:53   \n",
       "3  1265.00          10.0          1265.00           1.0  2018-03-16 10:28:53   \n",
       "4   138.00          15.0           138.00           1.0  2018-03-16 10:28:53   \n",
       "\n",
       "             vetted_at  label  unit_price  \n",
       "0  2018-05-21 10:05:30      0      302.68  \n",
       "1  2018-05-21 10:07:19      0      302.68  \n",
       "2  2018-05-21 10:09:30      0       23.00  \n",
       "3  2018-05-21 10:09:30      0      126.50  \n",
       "4  2018-05-21 10:09:30      0        9.20  "
      ]
     },
     "execution_count": 3,
     "metadata": {},
     "output_type": "execute_result"
    }
   ],
   "source": [
    "df.head()"
   ]
  },
  {
   "cell_type": "code",
   "execution_count": 3,
   "metadata": {},
   "outputs": [],
   "source": [
    "X = df[['enrollee_id','provider_id','provider_status','hmo_id','care_id','qty','unit_price']]\n",
    "y = df['label']\n",
    "Xtrain,Xtest,ytrain,ytest = train_test_split(X.values,y.values,test_size = 0.2,random_state=0)\n"
   ]
  },
  {
   "cell_type": "code",
   "execution_count": 4,
   "metadata": {},
   "outputs": [],
   "source": [
    "def init_scores():\n",
    "    \n",
    "    global scores \n",
    "    scores = {}\n",
    "    scores['f1_socre'] = []\n",
    "    scores['precision'] = []\n",
    "    scores['recall'] = []\n",
    "    scores['FPR'] = []\n",
    "    scores['specificity'] = []\n",
    "    scores['roc_auc'] = []\n",
    "    \n",
    "    return scores\n",
    "\n",
    "\n",
    "def evaluation(ytest,Xtest,cls):\n",
    "    global scores\n",
    "    scores = init_scores()\n",
    "    ypred = cls.predict(Xtest)\n",
    "    C = confusion_matrix(ytest,ypred)\n",
    "    TN = C[0][0]\n",
    "    FN = C[1][0]\n",
    "    TP = C[1][1]\n",
    "    FP = C[0][1]\n",
    "\n",
    "    print('f1_socre: {:0.3f}'.format(f1_score(ytest,ypred)))\n",
    "    scores['f1_socre'].append(f1_score(ytest,ypred))\n",
    "    print('precision: {:0.3f}'.format(TP/(TP+FP)))\n",
    "    scores['precision'].append(TP/(TP+FP))\n",
    "    print('recall/sensitivity(true positive rate): {:0.3f}'.format(TP/(TP+FN)))\n",
    "    scores['recall'].append(TP/(TP+FN))\n",
    "    print('false positive rate (FPR): {:0.3f}'.format(1-(TN/(TN+FP)))) # 1 - specificity\n",
    "    scores['FPR'].append(1-(TN/(TN+FP)))\n",
    "    print('spcificity(true negative rate): {:0.3f}'.format(TN/(TN+FP)))\n",
    "    scores['specificity'].append(TN/(TN+FP))\n",
    "    print('ROC_AUC_score: {:0.3f}'.format(roc_auc_score(ytest,ypred)))\n",
    "    scores['roc_auc'].append(roc_auc_score(ytest,ypred))\n",
    "    \n",
    "    \n",
    "def cv(Xtrain,ytrain,model):\n",
    "    global scores\n",
    "    models = []\n",
    "    kf = KFold(n_splits=4)\n",
    "    print(model)\n",
    "    n = 0\n",
    "    for train_index, test_index in kf.split(Xtrain):\n",
    "        print('cross_validate_run: {}'.format(n))\n",
    "        Xtr, Xte = Xtrain[train_index], Xtrain[test_index]\n",
    "        ytr, yte = ytrain[train_index], ytrain[test_index]\n",
    "        cls = model.fit(Xtr, ytr) \n",
    "        models.append(cls)\n",
    "        evaluation(yte,Xte,cls)\n",
    "        n += 1\n",
    "    \n",
    "    print('\\n mean scores +/- sd: \\n')\n",
    "    for k in scores:\n",
    "        print('{} : {:0.3f} +/- {:0.3f}'.format(k, np.array(scores[k]).mean(),  np.array(scores[k]).std()))\n",
    "        \n",
    "    scores = init_scores()\n",
    "    return models"
   ]
  },
  {
   "cell_type": "markdown",
   "metadata": {},
   "source": [
    "# naive bayes"
   ]
  },
  {
   "cell_type": "code",
   "execution_count": 35,
   "metadata": {},
   "outputs": [
    {
     "name": "stdout",
     "output_type": "stream",
     "text": [
      "ComplementNB(alpha=1.0, class_prior=None, fit_prior=True, norm=False)\n",
      "cross_validate_run: 0\n",
      "f1_socre: 0.103\n",
      "precision: 0.059\n",
      "recall/sensitivity(true positive rate): 0.401\n",
      "false positive rate (FPR): 0.329\n",
      "spcificity(true negative rate): 0.671\n",
      "ROC_AUC_score: 0.536\n",
      "cross_validate_run: 1\n",
      "f1_socre: 0.108\n",
      "precision: 0.063\n",
      "recall/sensitivity(true positive rate): 0.394\n",
      "false positive rate (FPR): 0.313\n",
      "spcificity(true negative rate): 0.687\n",
      "ROC_AUC_score: 0.540\n",
      "cross_validate_run: 2\n",
      "f1_socre: 0.106\n",
      "precision: 0.061\n",
      "recall/sensitivity(true positive rate): 0.396\n",
      "false positive rate (FPR): 0.311\n",
      "spcificity(true negative rate): 0.689\n",
      "ROC_AUC_score: 0.543\n",
      "cross_validate_run: 3\n",
      "f1_socre: 0.109\n",
      "precision: 0.063\n",
      "recall/sensitivity(true positive rate): 0.386\n",
      "false positive rate (FPR): 0.306\n",
      "spcificity(true negative rate): 0.694\n",
      "ROC_AUC_score: 0.540\n",
      "\n",
      " mean scores +/- sd: \n",
      "\n",
      "f1_socre : 0.109 +/- 0.000\n",
      "precision : 0.063 +/- 0.000\n",
      "recall : 0.386 +/- 0.000\n",
      "FPR : 0.306 +/- 0.000\n",
      "specificity : 0.694 +/- 0.000\n",
      "roc_auc : 0.540 +/- 0.000\n"
     ]
    }
   ],
   "source": [
    "\n",
    "model_nb = ComplementNB()\n",
    "models_nb = cv(Xtrain,ytrain,model_nb)"
   ]
  },
  {
   "cell_type": "code",
   "execution_count": 36,
   "metadata": {},
   "outputs": [
    {
     "name": "stdout",
     "output_type": "stream",
     "text": [
      "f1_socre: 0.100\n",
      "precision: 0.058\n",
      "recall/sensitivity(true positive rate): 0.372\n",
      "false positive rate (FPR): 0.306\n",
      "spcificity(true negative rate): 0.694\n",
      "ROC_AUC_score: 0.533\n"
     ]
    }
   ],
   "source": [
    "evaluation(ytest,Xtest,models_nb[2])"
   ]
  },
  {
   "cell_type": "code",
   "execution_count": 37,
   "metadata": {},
   "outputs": [],
   "source": [
    "pickle.dump(models_nb[2],open(\"Models/xgb_nb.dat\", \"wb\"))"
   ]
  },
  {
   "cell_type": "markdown",
   "metadata": {},
   "source": [
    "# lightGBM no_upsampling"
   ]
  },
  {
   "cell_type": "code",
   "execution_count": 30,
   "metadata": {},
   "outputs": [
    {
     "name": "stdout",
     "output_type": "stream",
     "text": [
      "LGBMClassifier(boosting_type='gbdt', class_weight={1: 100},\n",
      "               colsample_bytree=1.0, importance_type='split', learning_rate=0.1,\n",
      "               max_depth=15, min_child_samples=20, min_child_weight=0.001,\n",
      "               min_split_gain=0.0, n_estimators=300, n_jobs=3, num_leaves=100,\n",
      "               objective=None, random_state=None, reg_alpha=0.0, reg_lambda=0.0,\n",
      "               silent=True, subsample=1.0, subsample_for_bin=200000,\n",
      "               subsample_freq=0)\n",
      "cross_validate_run: 0\n",
      "f1_socre: 0.195\n",
      "precision: 0.111\n",
      "recall/sensitivity(true positive rate): 0.825\n",
      "false positive rate (FPR): 0.341\n",
      "spcificity(true negative rate): 0.659\n",
      "ROC_AUC_score: 0.742\n",
      "cross_validate_run: 1\n",
      "f1_socre: 0.200\n",
      "precision: 0.114\n",
      "recall/sensitivity(true positive rate): 0.823\n",
      "false positive rate (FPR): 0.340\n",
      "spcificity(true negative rate): 0.660\n",
      "ROC_AUC_score: 0.742\n",
      "cross_validate_run: 2\n",
      "f1_socre: 0.193\n",
      "precision: 0.109\n",
      "recall/sensitivity(true positive rate): 0.823\n",
      "false positive rate (FPR): 0.342\n",
      "spcificity(true negative rate): 0.658\n",
      "ROC_AUC_score: 0.740\n",
      "cross_validate_run: 3\n",
      "f1_socre: 0.199\n",
      "precision: 0.113\n",
      "recall/sensitivity(true positive rate): 0.808\n",
      "false positive rate (FPR): 0.338\n",
      "spcificity(true negative rate): 0.662\n",
      "ROC_AUC_score: 0.735\n",
      "\n",
      " mean scores +/- sd: \n",
      "\n",
      "f1_socre : 0.199 +/- 0.000\n",
      "precision : 0.113 +/- 0.000\n",
      "recall : 0.808 +/- 0.000\n",
      "FPR : 0.338 +/- 0.000\n",
      "specificity : 0.662 +/- 0.000\n",
      "roc_auc : 0.735 +/- 0.000\n"
     ]
    }
   ],
   "source": [
    "model_lgb = LGBMClassifier(boosting_type='gbdt', num_leaves=100, max_depth=15, learning_rate=0.1, \\\n",
    "                       n_estimators=300, subsample_for_bin=200000, objective=None, class_weight={1:100}, \\\n",
    "                       min_split_gain=0.0, min_child_weight=0.001, min_child_samples=20, subsample=1.0, \\\n",
    "                       subsample_freq=0, colsample_bytree=1.0, reg_alpha=0.0, reg_lambda=0.0, \\\n",
    "                       random_state=None, n_jobs=3, silent=True, importance_type='split')\n",
    "models_lgb = cv(Xtrain,ytrain,model_lgb)"
   ]
  },
  {
   "cell_type": "code",
   "execution_count": 22,
   "metadata": {},
   "outputs": [
    {
     "name": "stdout",
     "output_type": "stream",
     "text": [
      "LGBMClassifier(boosting_type='gbdt', class_weight={1: 50}, colsample_bytree=1.0,\n",
      "               importance_type='split', learning_rate=0.1, max_depth=10,\n",
      "               min_child_samples=20, min_child_weight=0.001, min_split_gain=0.0,\n",
      "               n_estimators=300, n_jobs=3, num_leaves=100, objective=None,\n",
      "               random_state=None, reg_alpha=0.0, reg_lambda=0.0, silent=True,\n",
      "               subsample=1.0, subsample_for_bin=200000, subsample_freq=0)\n",
      "cross_validate_run: 0\n",
      "f1_socre: 0.216\n",
      "precision: 0.125\n",
      "recall/sensitivity(true positive rate): 0.796\n",
      "false positive rate (FPR): 0.288\n",
      "spcificity(true negative rate): 0.712\n",
      "ROC_AUC_score: 0.754\n",
      "cross_validate_run: 1\n",
      "f1_socre: 0.225\n",
      "precision: 0.131\n",
      "recall/sensitivity(true positive rate): 0.805\n",
      "false positive rate (FPR): 0.285\n",
      "spcificity(true negative rate): 0.715\n",
      "ROC_AUC_score: 0.760\n",
      "cross_validate_run: 2\n",
      "f1_socre: 0.214\n",
      "precision: 0.123\n",
      "recall/sensitivity(true positive rate): 0.791\n",
      "false positive rate (FPR): 0.286\n",
      "spcificity(true negative rate): 0.714\n",
      "ROC_AUC_score: 0.752\n",
      "cross_validate_run: 3\n",
      "f1_socre: 0.221\n",
      "precision: 0.129\n",
      "recall/sensitivity(true positive rate): 0.775\n",
      "false positive rate (FPR): 0.280\n",
      "spcificity(true negative rate): 0.720\n",
      "ROC_AUC_score: 0.747\n",
      "\n",
      " mean scores +/- sd: \n",
      "\n",
      "f1_socre : 0.221 +/- 0.000\n",
      "precision : 0.129 +/- 0.000\n",
      "recall : 0.775 +/- 0.000\n",
      "FPR : 0.280 +/- 0.000\n",
      "specificity : 0.720 +/- 0.000\n",
      "roc_auc : 0.747 +/- 0.000\n"
     ]
    }
   ],
   "source": [
    "model_lgb = LGBMClassifier(boosting_type='gbdt', num_leaves=100, max_depth=10, learning_rate=0.1, \\\n",
    "                       n_estimators=300, subsample_for_bin=200000, objective=None, class_weight={1:50}, \\\n",
    "                       min_split_gain=0.0, min_child_weight=0.001, min_child_samples=20, subsample=1.0, \\\n",
    "                       subsample_freq=0, colsample_bytree=1.0, reg_alpha=0.0, reg_lambda=0.0, \\\n",
    "                       random_state=None, n_jobs=3, silent=True, importance_type='split')\n",
    "models_lgb = cv(Xtrain,ytrain,model_lgb)"
   ]
  },
  {
   "cell_type": "markdown",
   "metadata": {},
   "source": [
    "# xgboost-no_upsampling_with_scale"
   ]
  },
  {
   "cell_type": "code",
   "execution_count": 19,
   "metadata": {},
   "outputs": [],
   "source": [
    "\n",
    "model_xgb = XGBClassifier(base_score=0.5, booster='gbtree', colsample_bylevel=1,\n",
    "              colsample_bynode=1, colsample_bytree=1, gamma=0,\n",
    "              learning_rate=0.1, max_delta_step=0, max_depth=15,\n",
    "              min_child_weight=1, missing=None, n_estimators=300, n_jobs=4,\n",
    "              nthread=None, objective='binary:logistic', random_state=0,\n",
    "              reg_alpha=0, reg_lambda=1, scale_pos_weight=19, seed=None,\n",
    "              silent=None, subsample=1, verbosity=1)"
   ]
  },
  {
   "cell_type": "code",
   "execution_count": 20,
   "metadata": {},
   "outputs": [
    {
     "name": "stdout",
     "output_type": "stream",
     "text": [
      "XGBClassifier(base_score=0.5, booster='gbtree', colsample_bylevel=1,\n",
      "              colsample_bynode=1, colsample_bytree=1, gamma=0,\n",
      "              learning_rate=0.1, max_delta_step=0, max_depth=15,\n",
      "              min_child_weight=1, missing=None, n_estimators=300, n_jobs=4,\n",
      "              nthread=None, objective='binary:logistic', random_state=0,\n",
      "              reg_alpha=0, reg_lambda=1, scale_pos_weight=19, seed=None,\n",
      "              silent=None, subsample=1, verbosity=1)\n",
      "cross_validate_run: 0\n",
      "f1_socre: 0.338\n",
      "precision: 0.266\n",
      "recall/sensitivity(true positive rate): 0.464\n",
      "false positive rate (FPR): 0.066\n",
      "spcificity(true negative rate): 0.934\n",
      "ROC_AUC_score: 0.699\n",
      "cross_validate_run: 1\n",
      "f1_socre: 0.346\n",
      "precision: 0.275\n",
      "recall/sensitivity(true positive rate): 0.465\n",
      "false positive rate (FPR): 0.065\n",
      "spcificity(true negative rate): 0.935\n",
      "ROC_AUC_score: 0.700\n",
      "cross_validate_run: 2\n",
      "f1_socre: 0.335\n",
      "precision: 0.264\n",
      "recall/sensitivity(true positive rate): 0.460\n",
      "false positive rate (FPR): 0.065\n",
      "spcificity(true negative rate): 0.935\n",
      "ROC_AUC_score: 0.697\n",
      "cross_validate_run: 3\n",
      "f1_socre: 0.330\n",
      "precision: 0.263\n",
      "recall/sensitivity(true positive rate): 0.442\n",
      "false positive rate (FPR): 0.066\n",
      "spcificity(true negative rate): 0.934\n",
      "ROC_AUC_score: 0.688\n",
      "\n",
      " mean scores +/- sd: \n",
      "\n",
      "f1_socre : 0.330 +/- 0.000\n",
      "precision : 0.263 +/- 0.000\n",
      "recall : 0.442 +/- 0.000\n",
      "FPR : 0.066 +/- 0.000\n",
      "specificity : 0.934 +/- 0.000\n",
      "roc_auc : 0.688 +/- 0.000\n"
     ]
    },
    {
     "data": {
      "text/plain": [
       "[XGBClassifier(base_score=0.5, booster='gbtree', colsample_bylevel=1,\n",
       "               colsample_bynode=1, colsample_bytree=1, gamma=0,\n",
       "               learning_rate=0.1, max_delta_step=0, max_depth=15,\n",
       "               min_child_weight=1, missing=None, n_estimators=300, n_jobs=4,\n",
       "               nthread=None, objective='binary:logistic', random_state=0,\n",
       "               reg_alpha=0, reg_lambda=1, scale_pos_weight=19, seed=None,\n",
       "               silent=None, subsample=1, verbosity=1),\n",
       " XGBClassifier(base_score=0.5, booster='gbtree', colsample_bylevel=1,\n",
       "               colsample_bynode=1, colsample_bytree=1, gamma=0,\n",
       "               learning_rate=0.1, max_delta_step=0, max_depth=15,\n",
       "               min_child_weight=1, missing=None, n_estimators=300, n_jobs=4,\n",
       "               nthread=None, objective='binary:logistic', random_state=0,\n",
       "               reg_alpha=0, reg_lambda=1, scale_pos_weight=19, seed=None,\n",
       "               silent=None, subsample=1, verbosity=1),\n",
       " XGBClassifier(base_score=0.5, booster='gbtree', colsample_bylevel=1,\n",
       "               colsample_bynode=1, colsample_bytree=1, gamma=0,\n",
       "               learning_rate=0.1, max_delta_step=0, max_depth=15,\n",
       "               min_child_weight=1, missing=None, n_estimators=300, n_jobs=4,\n",
       "               nthread=None, objective='binary:logistic', random_state=0,\n",
       "               reg_alpha=0, reg_lambda=1, scale_pos_weight=19, seed=None,\n",
       "               silent=None, subsample=1, verbosity=1),\n",
       " XGBClassifier(base_score=0.5, booster='gbtree', colsample_bylevel=1,\n",
       "               colsample_bynode=1, colsample_bytree=1, gamma=0,\n",
       "               learning_rate=0.1, max_delta_step=0, max_depth=15,\n",
       "               min_child_weight=1, missing=None, n_estimators=300, n_jobs=4,\n",
       "               nthread=None, objective='binary:logistic', random_state=0,\n",
       "               reg_alpha=0, reg_lambda=1, scale_pos_weight=19, seed=None,\n",
       "               silent=None, subsample=1, verbosity=1)]"
      ]
     },
     "execution_count": 20,
     "metadata": {},
     "output_type": "execute_result"
    }
   ],
   "source": [
    "cv(Xtrain,ytrain,model_xgb)"
   ]
  },
  {
   "cell_type": "markdown",
   "metadata": {},
   "source": [
    "# upsampling\n",
    "## llightGBM"
   ]
  },
  {
   "cell_type": "code",
   "execution_count": 8,
   "metadata": {},
   "outputs": [
    {
     "name": "stdout",
     "output_type": "stream",
     "text": [
      "(268137, 8) (13914, 8)\n"
     ]
    }
   ],
   "source": [
    "Xy = X.copy()\n",
    "Xy['y'] = y\n",
    "\n",
    "class0 = Xy.loc[Xy.y == 0]\n",
    "class1 = Xy.loc[Xy.y == 1]\n",
    "print(class0.shape,class1.shape)\n",
    "class1 = class1.sample(n=class0.shape[0],replace=True,random_state=0)\n",
    "Xy = pd.concat([class0,class1])\n",
    "yup = Xy['y']\n",
    "Xup = Xy.drop(columns=['y'])\n",
    "# re-do train_test split of balanced data\n",
    "Xuptrain,Xuptest,yuptrain,yuptest = train_test_split(Xup.values,yup.values,test_size = 0.2,random_state=42)"
   ]
  },
  {
   "cell_type": "code",
   "execution_count": 26,
   "metadata": {},
   "outputs": [
    {
     "name": "stdout",
     "output_type": "stream",
     "text": [
      "(268137, 8) (13914, 8)\n",
      "LGBMClassifier(boosting_type='gbdt', class_weight={1: 2}, colsample_bytree=1.0,\n",
      "               importance_type='split', learning_rate=0.1, max_depth=15,\n",
      "               min_child_samples=20, min_child_weight=0.001, min_split_gain=0.0,\n",
      "               n_estimators=300, n_jobs=3, num_leaves=100, objective=None,\n",
      "               random_state=None, reg_alpha=0.0, reg_lambda=0.0, silent=True,\n",
      "               subsample=1.0, subsample_for_bin=200000, subsample_freq=0)\n",
      "cross_validate_run: 0\n",
      "f1_socre: 0.868\n",
      "precision: 0.784\n",
      "recall/sensitivity(true positive rate): 0.973\n",
      "false positive rate (FPR): 0.268\n",
      "spcificity(true negative rate): 0.732\n",
      "ROC_AUC_score: 0.852\n",
      "cross_validate_run: 1\n",
      "f1_socre: 0.869\n",
      "precision: 0.784\n",
      "recall/sensitivity(true positive rate): 0.974\n",
      "false positive rate (FPR): 0.270\n",
      "spcificity(true negative rate): 0.730\n",
      "ROC_AUC_score: 0.852\n",
      "cross_validate_run: 2\n",
      "f1_socre: 0.869\n",
      "precision: 0.786\n",
      "recall/sensitivity(true positive rate): 0.972\n",
      "false positive rate (FPR): 0.265\n",
      "spcificity(true negative rate): 0.735\n",
      "ROC_AUC_score: 0.853\n",
      "cross_validate_run: 3\n",
      "f1_socre: 0.869\n",
      "precision: 0.785\n",
      "recall/sensitivity(true positive rate): 0.974\n",
      "false positive rate (FPR): 0.267\n",
      "spcificity(true negative rate): 0.733\n",
      "ROC_AUC_score: 0.854\n",
      "\n",
      " mean scores +/- sd: \n",
      "\n",
      "f1_socre : 0.869 +/- 0.000\n",
      "precision : 0.785 +/- 0.000\n",
      "recall : 0.974 +/- 0.000\n",
      "FPR : 0.267 +/- 0.000\n",
      "specificity : 0.733 +/- 0.000\n",
      "roc_auc : 0.854 +/- 0.000\n"
     ]
    }
   ],
   "source": [
    "\n",
    "# lightgmb with class weight\n",
    "model_lgb_up_sc = LGBMClassifier(boosting_type='gbdt', class_weight={1: 2}, colsample_bytree=1.0,\n",
    "               importance_type='split', learning_rate=0.1, max_depth=15,\n",
    "               min_child_samples=20, min_child_weight=0.001, min_split_gain=0.0,\n",
    "               n_estimators=300, n_jobs=3, num_leaves=100, objective=None,\n",
    "               random_state=None, reg_alpha=0.0, reg_lambda=0.0, silent=True,\n",
    "               subsample=1.0, subsample_for_bin=200000, subsample_freq=0)\n",
    "\n",
    "models_up_sc = cv(Xuptrain,yuptrain,model_lgb_up_sc)"
   ]
  },
  {
   "cell_type": "code",
   "execution_count": 31,
   "metadata": {},
   "outputs": [
    {
     "name": "stdout",
     "output_type": "stream",
     "text": [
      "f1_socre: 0.868\n",
      "precision: 0.783\n",
      "recall/sensitivity(true positive rate): 0.973\n",
      "false positive rate (FPR): 0.269\n",
      "spcificity(true negative rate): 0.731\n",
      "ROC_AUC_score: 0.852\n"
     ]
    }
   ],
   "source": [
    "evaluation(yuptest,Xuptest,models_up_sc[3])"
   ]
  },
  {
   "cell_type": "code",
   "execution_count": 39,
   "metadata": {},
   "outputs": [
    {
     "name": "stdout",
     "output_type": "stream",
     "text": [
      "LGBMClassifier(boosting_type='gbdt', class_weight=None, colsample_bytree=1.0,\n",
      "               importance_type='split', learning_rate=0.1, max_depth=15,\n",
      "               min_child_samples=20, min_child_weight=0.001, min_split_gain=0.0,\n",
      "               n_estimators=300, n_jobs=3, num_leaves=100, objective=None,\n",
      "               random_state=None, reg_alpha=0.0, reg_lambda=0.0, silent=True,\n",
      "               subsample=1.0, subsample_for_bin=200000, subsample_freq=0)\n",
      "cross_validate_run: 0\n",
      "f1_socre: 0.872\n",
      "precision: 0.848\n",
      "recall/sensitivity(true positive rate): 0.897\n",
      "false positive rate (FPR): 0.161\n",
      "spcificity(true negative rate): 0.839\n",
      "ROC_AUC_score: 0.868\n",
      "cross_validate_run: 1\n",
      "f1_socre: 0.871\n",
      "precision: 0.848\n",
      "recall/sensitivity(true positive rate): 0.896\n",
      "false positive rate (FPR): 0.162\n",
      "spcificity(true negative rate): 0.838\n",
      "ROC_AUC_score: 0.867\n",
      "cross_validate_run: 2\n",
      "f1_socre: 0.871\n",
      "precision: 0.845\n",
      "recall/sensitivity(true positive rate): 0.899\n",
      "false positive rate (FPR): 0.165\n",
      "spcificity(true negative rate): 0.835\n",
      "ROC_AUC_score: 0.867\n",
      "cross_validate_run: 3\n",
      "f1_socre: 0.873\n",
      "precision: 0.845\n",
      "recall/sensitivity(true positive rate): 0.903\n",
      "false positive rate (FPR): 0.165\n",
      "spcificity(true negative rate): 0.835\n",
      "ROC_AUC_score: 0.869\n",
      "\n",
      " mean scores +/- sd: \n",
      "\n",
      "f1_socre : 0.873 +/- 0.000\n",
      "precision : 0.845 +/- 0.000\n",
      "recall : 0.903 +/- 0.000\n",
      "FPR : 0.165 +/- 0.000\n",
      "specificity : 0.835 +/- 0.000\n",
      "roc_auc : 0.869 +/- 0.000\n"
     ]
    }
   ],
   "source": [
    "# without class weight\n",
    "model_lgb_up = LGBMClassifier(boosting_type='gbdt', class_weight=None, colsample_bytree=1.0,\n",
    "               importance_type='split', learning_rate=0.1, max_depth=15,\n",
    "               min_child_samples=20, min_child_weight=0.001, min_split_gain=0.0,\n",
    "               n_estimators=300, n_jobs=3, num_leaves=100, objective=None,\n",
    "               random_state=None, reg_alpha=0.0, reg_lambda=0.0, silent=True,\n",
    "               subsample=1.0, subsample_for_bin=200000, subsample_freq=0)\n",
    "models_up = cv(Xuptrain,yuptrain,model_lgb_up)"
   ]
  },
  {
   "cell_type": "code",
   "execution_count": 34,
   "metadata": {},
   "outputs": [
    {
     "name": "stdout",
     "output_type": "stream",
     "text": [
      "f1_socre: 0.874\n",
      "precision: 0.846\n",
      "recall/sensitivity(true positive rate): 0.904\n",
      "false positive rate (FPR): 0.164\n",
      "spcificity(true negative rate): 0.836\n",
      "ROC_AUC_score: 0.870\n"
     ]
    }
   ],
   "source": [
    "evaluation(yuptest,Xuptest,models_up[3])"
   ]
  },
  {
   "cell_type": "code",
   "execution_count": 40,
   "metadata": {},
   "outputs": [],
   "source": [
    "pickle.dump(models_up[3],open(\"Models/xgb_lgb_up.dat\", \"wb\"))"
   ]
  },
  {
   "cell_type": "markdown",
   "metadata": {},
   "source": [
    "## xgboost"
   ]
  },
  {
   "cell_type": "code",
   "execution_count": 32,
   "metadata": {},
   "outputs": [
    {
     "name": "stdout",
     "output_type": "stream",
     "text": [
      "XGBClassifier(base_score=0.5, booster='gbtree', colsample_bylevel=1,\n",
      "              colsample_bynode=1, colsample_bytree=1, gamma=0,\n",
      "              learning_rate=0.1, max_delta_step=0, max_depth=15,\n",
      "              min_child_weight=1, missing=None, n_estimators=300, n_jobs=4,\n",
      "              nthread=None, objective='binary:logistic', random_state=0,\n",
      "              reg_alpha=0, reg_lambda=1, scale_pos_weight=1, seed=None,\n",
      "              silent=None, subsample=1, verbosity=1)\n",
      "cross_validate_run: 0\n",
      "f1_socre: 0.954\n",
      "precision: 0.919\n",
      "recall/sensitivity(true positive rate): 0.991\n",
      "false positive rate (FPR): 0.087\n",
      "spcificity(true negative rate): 0.913\n",
      "ROC_AUC_score: 0.952\n",
      "cross_validate_run: 1\n",
      "f1_socre: 0.952\n",
      "precision: 0.917\n",
      "recall/sensitivity(true positive rate): 0.990\n",
      "false positive rate (FPR): 0.091\n",
      "spcificity(true negative rate): 0.909\n",
      "ROC_AUC_score: 0.950\n",
      "cross_validate_run: 2\n",
      "f1_socre: 0.953\n",
      "precision: 0.916\n",
      "recall/sensitivity(true positive rate): 0.992\n",
      "false positive rate (FPR): 0.090\n",
      "spcificity(true negative rate): 0.910\n",
      "ROC_AUC_score: 0.951\n",
      "cross_validate_run: 3\n",
      "f1_socre: 0.951\n",
      "precision: 0.914\n",
      "recall/sensitivity(true positive rate): 0.990\n",
      "false positive rate (FPR): 0.093\n",
      "spcificity(true negative rate): 0.907\n",
      "ROC_AUC_score: 0.949\n",
      "\n",
      " mean scores +/- sd: \n",
      "\n",
      "f1_socre : 0.951 +/- 0.000\n",
      "precision : 0.914 +/- 0.000\n",
      "recall : 0.990 +/- 0.000\n",
      "FPR : 0.093 +/- 0.000\n",
      "specificity : 0.907 +/- 0.000\n",
      "roc_auc : 0.949 +/- 0.000\n"
     ]
    }
   ],
   "source": [
    "# without scale positive class\n",
    "model_xgb_up = XGBClassifier(base_score=0.5, booster='gbtree', colsample_bylevel=1,\n",
    "              colsample_bynode=1, colsample_bytree=1, gamma=0,\n",
    "              learning_rate=0.1, max_delta_step=0, max_depth=15,\n",
    "              min_child_weight=1, missing=None, n_estimators=300, n_jobs=4,\n",
    "              nthread=None, objective='binary:logistic', random_state=0,\n",
    "              reg_alpha=0, reg_lambda=1, scale_pos_weight=1, seed=None,\n",
    "              silent=None, subsample=1, verbosity=1)\n",
    "models_up_xgb = cv(Xuptrain,yuptrain,model_xgb_up)"
   ]
  },
  {
   "cell_type": "code",
   "execution_count": 35,
   "metadata": {},
   "outputs": [
    {
     "name": "stdout",
     "output_type": "stream",
     "text": [
      "f1_socre: 0.951\n",
      "precision: 0.914\n",
      "recall/sensitivity(true positive rate): 0.990\n",
      "false positive rate (FPR): 0.092\n",
      "spcificity(true negative rate): 0.908\n",
      "ROC_AUC_score: 0.949\n"
     ]
    }
   ],
   "source": [
    "evaluation(yuptest,Xuptest,models_up_xgb[0])"
   ]
  },
  {
   "cell_type": "code",
   "execution_count": 28,
   "metadata": {},
   "outputs": [
    {
     "name": "stdout",
     "output_type": "stream",
     "text": [
      "XGBClassifier(base_score=0.5, booster='gbtree', colsample_bylevel=1,\n",
      "              colsample_bynode=1, colsample_bytree=1, gamma=0,\n",
      "              learning_rate=0.1, max_delta_step=0, max_depth=15,\n",
      "              min_child_weight=1, missing=None, n_estimators=300, n_jobs=4,\n",
      "              nthread=None, objective='binary:logistic', random_state=0,\n",
      "              reg_alpha=0, reg_lambda=1, scale_pos_weight=2, seed=None,\n",
      "              silent=None, subsample=1, verbosity=1)\n",
      "cross_validate_run: 0\n",
      "f1_socre: 0.947\n",
      "precision: 0.901\n",
      "recall/sensitivity(true positive rate): 0.999\n",
      "false positive rate (FPR): 0.110\n",
      "spcificity(true negative rate): 0.890\n",
      "ROC_AUC_score: 0.944\n",
      "cross_validate_run: 1\n",
      "f1_socre: 0.947\n",
      "precision: 0.899\n",
      "recall/sensitivity(true positive rate): 0.999\n",
      "false positive rate (FPR): 0.112\n",
      "spcificity(true negative rate): 0.888\n",
      "ROC_AUC_score: 0.943\n",
      "cross_validate_run: 2\n",
      "f1_socre: 0.945\n",
      "precision: 0.896\n",
      "recall/sensitivity(true positive rate): 0.999\n",
      "false positive rate (FPR): 0.116\n",
      "spcificity(true negative rate): 0.884\n",
      "ROC_AUC_score: 0.942\n",
      "cross_validate_run: 3\n",
      "f1_socre: 0.944\n",
      "precision: 0.895\n",
      "recall/sensitivity(true positive rate): 0.999\n",
      "false positive rate (FPR): 0.117\n",
      "spcificity(true negative rate): 0.883\n",
      "ROC_AUC_score: 0.941\n",
      "\n",
      " mean scores +/- sd: \n",
      "\n",
      "f1_socre : 0.944 +/- 0.000\n",
      "precision : 0.895 +/- 0.000\n",
      "recall : 0.999 +/- 0.000\n",
      "FPR : 0.117 +/- 0.000\n",
      "specificity : 0.883 +/- 0.000\n",
      "roc_auc : 0.941 +/- 0.000\n"
     ]
    }
   ],
   "source": [
    "# with scale positive class\n",
    "model_xgb_up_sc = XGBClassifier(base_score=0.5, booster='gbtree', colsample_bylevel=1,\n",
    "              colsample_bynode=1, colsample_bytree=1, gamma=0,\n",
    "              learning_rate=0.1, max_delta_step=0, max_depth=15,\n",
    "              min_child_weight=1, missing=None, n_estimators=300, n_jobs=4,\n",
    "              nthread=None, objective='binary:logistic', random_state=0,\n",
    "              reg_alpha=0, reg_lambda=1, scale_pos_weight=2, seed=None,\n",
    "              silent=None, subsample=1, verbosity=1)\n",
    "models_up_xgb_sc = cv(Xuptrain,yuptrain,model_xgb_up)"
   ]
  },
  {
   "cell_type": "code",
   "execution_count": 29,
   "metadata": {},
   "outputs": [
    {
     "name": "stdout",
     "output_type": "stream",
     "text": [
      "f1_socre: 0.944\n",
      "precision: 0.896\n",
      "recall/sensitivity(true positive rate): 0.998\n",
      "false positive rate (FPR): 0.116\n",
      "spcificity(true negative rate): 0.884\n",
      "ROC_AUC_score: 0.941\n"
     ]
    }
   ],
   "source": [
    "evaluation(yuptest,Xuptest,models_up_xgb_sc[0])"
   ]
  },
  {
   "cell_type": "code",
   "execution_count": 38,
   "metadata": {},
   "outputs": [
    {
     "name": "stdout",
     "output_type": "stream",
     "text": [
      "f1_socre: 0.951\n",
      "precision: 0.914\n",
      "recall/sensitivity(true positive rate): 0.990\n",
      "false positive rate (FPR): 0.092\n",
      "spcificity(true negative rate): 0.908\n",
      "ROC_AUC_score: 0.949\n"
     ]
    }
   ],
   "source": [
    "evaluation(yuptest,Xuptest,models_up_xgb[0])"
   ]
  },
  {
   "cell_type": "code",
   "execution_count": 39,
   "metadata": {},
   "outputs": [],
   "source": [
    "pickle.dump(models_up_xgb[0],open(\"Models/xgb_up_tree15.dat\", \"wb\"))"
   ]
  },
  {
   "cell_type": "code",
   "execution_count": 36,
   "metadata": {},
   "outputs": [
    {
     "name": "stdout",
     "output_type": "stream",
     "text": [
      "ComplementNB(alpha=1.0, class_prior=None, fit_prior=True, norm=False)\n",
      "cross_validate_run: 0\n",
      "f1_socre: 0.450\n",
      "precision: 0.551\n",
      "recall/sensitivity(true positive rate): 0.380\n",
      "false positive rate (FPR): 0.310\n",
      "spcificity(true negative rate): 0.690\n",
      "ROC_AUC_score: 0.535\n",
      "cross_validate_run: 1\n",
      "f1_socre: 0.457\n",
      "precision: 0.559\n",
      "recall/sensitivity(true positive rate): 0.387\n",
      "false positive rate (FPR): 0.308\n",
      "spcificity(true negative rate): 0.692\n",
      "ROC_AUC_score: 0.540\n",
      "cross_validate_run: 2\n",
      "f1_socre: 0.451\n",
      "precision: 0.550\n",
      "recall/sensitivity(true positive rate): 0.383\n",
      "false positive rate (FPR): 0.312\n",
      "spcificity(true negative rate): 0.688\n",
      "ROC_AUC_score: 0.535\n",
      "cross_validate_run: 3\n",
      "f1_socre: 0.453\n",
      "precision: 0.554\n",
      "recall/sensitivity(true positive rate): 0.383\n",
      "false positive rate (FPR): 0.308\n",
      "spcificity(true negative rate): 0.692\n",
      "ROC_AUC_score: 0.538\n",
      "\n",
      " mean scores +/- sd: \n",
      "\n",
      "f1_socre : 0.453 +/- 0.000\n",
      "precision : 0.554 +/- 0.000\n",
      "recall : 0.383 +/- 0.000\n",
      "FPR : 0.308 +/- 0.000\n",
      "specificity : 0.692 +/- 0.000\n",
      "roc_auc : 0.538 +/- 0.000\n",
      "f1_socre: 0.451\n",
      "precision: 0.551\n",
      "recall/sensitivity(true positive rate): 0.381\n",
      "false positive rate (FPR): 0.309\n",
      "spcificity(true negative rate): 0.691\n",
      "ROC_AUC_score: 0.536\n"
     ]
    }
   ],
   "source": [
    "from sklearn.naive_bayes import ComplementNB\n",
    "model1 = ComplementNB()\n",
    "models_nb = cv(Xuptrain,yuptrain,model1)\n",
    "evaluation(yuptest,Xuptest,models_nb[0])"
   ]
  },
  {
   "cell_type": "markdown",
   "metadata": {},
   "source": [
    "# plot performance\n",
    "## plot scores"
   ]
  },
  {
   "cell_type": "code",
   "execution_count": 2,
   "metadata": {},
   "outputs": [],
   "source": [
    "\n",
    "f1_score =  [ \n",
    "    0.108,\n",
    "0.249,\n",
    "0.451,\n",
    "0.951,\n",
    "0.874,\n",
    "0.944,\n",
    "0.868,\n",
    "]\n",
    "\n",
    "sensitivity = [\n",
    "     0.404,\n",
    "0.715,\n",
    "0.381,\n",
    "0.990,\n",
    "0.904,\n",
    "0.998,\n",
    "0.973,\n",
    "]\n",
    "\n",
    "specificity = [\n",
    "     0.689,\n",
    "0.793,\n",
    "0.691,\n",
    "0.908,\n",
    "0.836,\n",
    "0.884,\n",
    "0.731,\n",
    "]\n",
    "\n",
    "roc_auc = [\n",
    "     0.547,\n",
    "0.754,\n",
    "0.536,\n",
    "0.949,\n",
    "0.870,\n",
    "0.941,\n",
    "0.852,\n",
    "]\n",
    "\n",
    "models = [\n",
    "    \n",
    "     'NB',\n",
    "'XGB',\n",
    "'NB_up',\n",
    "'XGB_up',\n",
    "'LGB_up',\n",
    "'XGB_up_w',\n",
    "'LGB_up_w',\n",
    "\n",
    "]"
   ]
  },
  {
   "cell_type": "code",
   "execution_count": 50,
   "metadata": {},
   "outputs": [
    {
     "data": {
      "text/plain": [
       "<BarContainer object of 7 artists>"
      ]
     },
     "execution_count": 50,
     "metadata": {},
     "output_type": "execute_result"
    },
    {
     "data": {
      "image/png": "[encoded data removed]",
      "text/plain": [
       "<Figure size 432x288 with 1 Axes>"
      ]
     },
     "metadata": {
      "needs_background": "light"
     },
     "output_type": "display_data"
    }
   ],
   "source": [
    "w = 0.2\n",
    "x = np.array([0,1,2,3,4,5,6])\n",
    "\n",
    "plt.bar(x,f1_score, label = 'f1_score',color = 'r',width=w)\n",
    "plt.bar(x+w, sensitivity, label = 'sensitivity',color = 'g',width=w)\n",
    "plt.bar(x+2*w, specificity, label = 'specificity',color = 'b',width=w)\n",
    "plt.bar(x+3*w, roc_auc,label = 'auc_roc',color='black',width=w)"
   ]
  },
  {
   "cell_type": "code",
   "execution_count": 3,
   "metadata": {},
   "outputs": [],
   "source": [
    "nb = [ 0.108,\n",
    "0.404,\n",
    "0.689,\n",
    "0.547\n",
    "]\n",
    "xgb = [ 0.249,\n",
    "0.715,\n",
    "0.793,\n",
    "0.754\n",
    "]\n",
    "nb_up = [ 0.451,\n",
    "0.381,\n",
    "0.691,\n",
    "0.536\n",
    "]\n",
    "xgb_up = [ 0.951,\n",
    "0.990,\n",
    "0.908,\n",
    "0.949\n",
    "]\n",
    "lgb_up = [ 0.874,\n",
    "0.904,\n",
    "0.836,\n",
    "0.870,\n",
    "]\n",
    "xgb_up_w = [ 0.944,\n",
    "0.998,\n",
    "0.884,\n",
    "0.941\n",
    "]\n",
    "lgb_up_w = [ 0.868,\n",
    "0.973,\n",
    "0.731,\n",
    "0.852\n",
    "]"
   ]
  },
  {
   "cell_type": "code",
   "execution_count": 66,
   "metadata": {},
   "outputs": [
    {
     "data": {
      "text/plain": [
       "<matplotlib.legend.Legend at 0x1a21737810>"
      ]
     },
     "execution_count": 66,
     "metadata": {},
     "output_type": "execute_result"
    },
    {
     "data": {
      "image/png": "[encoded data removed]",
      "text/plain": [
       "<Figure size 720x216 with 1 Axes>"
      ]
     },
     "metadata": {
      "needs_background": "light"
     },
     "output_type": "display_data"
    }
   ],
   "source": [
    "fig = plt.figure(figsize=(10,3))\n",
    "w = 0.12\n",
    "x = np.array([0,1,2,3])\n",
    "\n",
    "plt.bar(x,nb, label = 'NB',color = 'pink',width=w, edgecolor = 'yellow',linewidth=3)\n",
    "plt.bar(x+w, xgb, label = 'XGB',color = 'lightgreen',width=w,edgecolor = 'yellow',linewidth=3)\n",
    "plt.bar(x+2*w, nb_up, label = 'NB_UP',color = 'pink',width=w,edgecolor = 'black',linewidth=3)\n",
    "plt.bar(x+3*w, xgb_up,label = 'XGB_UP',color='lightgreen',width=w,edgecolor = 'black',linewidth=3)\n",
    "plt.bar(x+4*w, lgb_up,label = 'LGBM_UP',color='royalblue',width=w,edgecolor = 'black',linewidth=3)\n",
    "plt.bar(x+5*w, xgb_up_w,label = 'XGB_UP_w',color='lightgreen',width=w,edgecolor = 'orange',linewidth=3)\n",
    "plt.bar(x+6*w, lgb_up_w,label = 'LGBM_UP_w',color='royalblue',width=w,edgecolor = 'orange',linewidth=3)\n",
    "plt.hlines(1,0,3+7*w,linestyles='dashed')\n",
    "plt.xticks(x+3*w,['f1_score','sensitivity','specificity','auc_roc'],fontsize=18)\n",
    "plt.yticks(fontsize=17)\n",
    "plt.ylabel('Score',fontsize=20)\n",
    "plt.legend(bbox_to_anchor=(1, 0.9), fontsize=13)#prop=dict(weight='bold')"
   ]
  },
  {
   "cell_type": "markdown",
   "metadata": {},
   "source": [
    "## verify baseline by random predict"
   ]
  },
  {
   "cell_type": "code",
   "execution_count": 75,
   "metadata": {},
   "outputs": [],
   "source": [
    "def predict_rand(ytest,ypred):\n",
    "    global scores\n",
    "    scores = init_scores()\n",
    "\n",
    "    C = confusion_matrix(ytest,ypred)\n",
    "    TN = C[0][0]\n",
    "    FN = C[1][0]\n",
    "    TP = C[1][1]\n",
    "    FP = C[0][1]\n",
    "\n",
    "    print('f1_socre: {:0.3f}'.format(f1_score(ytest,ypred)))\n",
    "    scores['f1_socre'].append(f1_score(ytest,ypred))\n",
    "    print('precision: {:0.3f}'.format(TP/(TP+FP)))\n",
    "    scores['precision'].append(TP/(TP+FP))\n",
    "    print('recall/sensitivity(true positive rate): {:0.3f}'.format(TP/(TP+FN)))\n",
    "    scores['recall'].append(TP/(TP+FN))\n",
    "    print('false positive rate (FPR): {:0.3f}'.format(1-(TN/(TN+FP)))) # 1 - specificity\n",
    "    scores['FPR'].append(1-(TN/(TN+FP)))\n",
    "    print('spcificity(true negative rate): {:0.3f}'.format(TN/(TN+FP)))\n",
    "    scores['specificity'].append(TN/(TN+FP))\n",
    "    print('ROC_AUC_score: {:0.3f}'.format(roc_auc_score(ytest,ypred)))\n",
    "    scores['roc_auc'].append(roc_auc_score(ytest,ypred))\n",
    "    \n"
   ]
  },
  {
   "cell_type": "code",
   "execution_count": 81,
   "metadata": {},
   "outputs": [
    {
     "name": "stdout",
     "output_type": "stream",
     "text": [
      "f1_socre: 0.091\n",
      "precision: 0.506\n",
      "recall/sensitivity(true positive rate): 0.050\n",
      "false positive rate (FPR): 0.049\n",
      "spcificity(true negative rate): 0.951\n",
      "ROC_AUC_score: 0.501\n"
     ]
    }
   ],
   "source": [
    "# baseline for 5% positive\n",
    "unbalanced = (np.random.rand(len(yuptest)) < 0.05).astype(int)\n",
    "predict_rand(yuptest,unbalanced)"
   ]
  },
  {
   "cell_type": "code",
   "execution_count": 82,
   "metadata": {},
   "outputs": [
    {
     "name": "stdout",
     "output_type": "stream",
     "text": [
      "f1_socre: 0.497\n",
      "precision: 0.496\n",
      "recall/sensitivity(true positive rate): 0.498\n",
      "false positive rate (FPR): 0.504\n",
      "spcificity(true negative rate): 0.496\n",
      "ROC_AUC_score: 0.497\n"
     ]
    }
   ],
   "source": [
    "# baseline with balanced class\n",
    "balanced = (np.random.rand(len(yuptest)) < 0.5).astype(int)\n",
    "predict_rand(yuptest,balanced)"
   ]
  },
  {
   "cell_type": "markdown",
   "metadata": {},
   "source": [
    "## plot ROC_curves"
   ]
  },
  {
   "cell_type": "code",
   "execution_count": 6,
   "metadata": {},
   "outputs": [],
   "source": [
    "model_xgb = pickle.load(open(\"Models/xgb_up_tree15.dat\", \"rb\"))\n",
    "model_nb = pickle.load(open(\"Models/nb.dat\", \"rb\"))\n",
    "model_lgb = pickle.load(open(\"Models/lgb_up.dat\", \"rb\"))"
   ]
  },
  {
   "cell_type": "code",
   "execution_count": 46,
   "metadata": {},
   "outputs": [],
   "source": [
    "xbg_curve = roc_curve(yuptest,model_xgb.predict_proba(Xuptest)[:,1])\n",
    "nb_curve = roc_curve(yuptest,model_nb.predict_proba(Xuptest)[:,1])\n",
    "lgb_curve = roc_curve(yuptest,model_lgb.predict_proba(Xuptest)[:,1])"
   ]
  },
  {
   "cell_type": "code",
   "execution_count": 28,
   "metadata": {},
   "outputs": [],
   "source": [
    "def plot_roc_curves(curves,colors,labels):\n",
    "    plt.plot([0,0.5,1],[0,0.5,1], linestyle='--', color = 'black') # default classification bound\n",
    "    \n",
    "    for i in range(len(curves)):\n",
    "        fpr, tpr, _ = curves[i]\n",
    "        plt.plot(fpr,tpr,color=colors[i],linewidth=2,label=labels[i])\n",
    "    \n",
    "    plt.xlabel('False Positive Rate',fontsize=20)\n",
    "    plt.ylabel('True Positive Rate',fontsize=20)\n",
    "    plt.xticks(fontsize=18)\n",
    "    plt.yticks(fontsize=18)\n",
    "    plt.legend(fontsize=18)\n",
    "\n",
    "    plt.show()\n",
    "    "
   ]
  },
  {
   "cell_type": "code",
   "execution_count": 56,
   "metadata": {},
   "outputs": [
    {
     "data": {
      "image/png": "[encoded data removed]",
      "text/plain": [
       "<Figure size 432x288 with 1 Axes>"
      ]
     },
     "metadata": {
      "needs_background": "light"
     },
     "output_type": "display_data"
    }
   ],
   "source": [
    "plot_roc_curves([nb_curve,xbg_curve,lgb_curve],['pink','lightgreen','royalblue'],['NB','XGB_up','LGB_up'])"
   ]
  },
  {
   "cell_type": "markdown",
   "metadata": {},
   "source": [
    "# evaluate unbalanced testing data"
   ]
  },
  {
   "cell_type": "code",
   "execution_count": 7,
   "metadata": {},
   "outputs": [
    {
     "name": "stdout",
     "output_type": "stream",
     "text": [
      "f1_socre: 0.100\n",
      "precision: 0.058\n",
      "recall/sensitivity(true positive rate): 0.372\n",
      "false positive rate (FPR): 0.306\n",
      "spcificity(true negative rate): 0.694\n",
      "ROC_AUC_score: 0.533\n",
      "----------\n",
      "f1_socre: 0.566\n",
      "precision: 0.397\n",
      "recall/sensitivity(true positive rate): 0.989\n",
      "false positive rate (FPR): 0.076\n",
      "spcificity(true negative rate): 0.924\n",
      "ROC_AUC_score: 0.957\n",
      "----------\n",
      "f1_socre: 0.364\n",
      "precision: 0.228\n",
      "recall/sensitivity(true positive rate): 0.902\n",
      "false positive rate (FPR): 0.154\n",
      "spcificity(true negative rate): 0.846\n",
      "ROC_AUC_score: 0.874\n"
     ]
    }
   ],
   "source": [
    "evaluation(ytest, Xtest, model_nb)\n",
    "print(\"----------\")\n",
    "evaluation(ytest, Xtest, model_xgb)\n",
    "print(\"----------\")\n",
    "evaluation(ytest, Xtest, model_lgb)"
   ]
  },
  {
   "cell_type": "code",
   "execution_count": 32,
   "metadata": {},
   "outputs": [
    {
     "data": {
      "image/png": "[encoded data removed]",
      "text/plain": [
       "<Figure size 432x288 with 1 Axes>"
      ]
     },
     "metadata": {
      "needs_background": "light"
     },
     "output_type": "display_data"
    }
   ],
   "source": [
    "# plot ROC_curve for unbalanced data set\n",
    "xbg_curve_ub = roc_curve(ytest,model_xgb.predict_proba(Xtest)[:,1])\n",
    "nb_curve_ub = roc_curve(ytest,model_nb.predict_proba(Xtest)[:,1])\n",
    "lgb_curve_ub = roc_curve(ytest,model_lgb.predict_proba(Xtest)[:,1])\n",
    "plot_roc_curves([nb_curve_ub,xbg_curve_ub,lgb_curve_ub],['pink','lightgreen','royalblue'],['NB','XGB_up','LGB_up'])\n"
   ]
  },
  {
   "cell_type": "code",
   "execution_count": null,
   "metadata": {},
   "outputs": [],
   "source": []
  }
 ],
 "metadata": {
  "kernelspec": {
   "display_name": "Python 3",
   "language": "python",
   "name": "python3"
  },
  "language_info": {
   "codemirror_mode": {
    "name": "ipython",
    "version": 3
   },
   "file_extension": ".py",
   "mimetype": "text/x-python",
   "name": "python",
   "nbconvert_exporter": "python",
   "pygments_lexer": "ipython3",
   "version": "3.7.4"
  }
 },
 "nbformat": 4,
 "nbformat_minor": 2
}
