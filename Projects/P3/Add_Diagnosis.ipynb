{
 "cells": [
  {
   "cell_type": "code",
   "execution_count": 152,
   "metadata": {},
   "outputs": [],
   "source": [
    "import pandas as pd\n",
    "import numpy as np\n",
    "\n",
    "from lightgbm import LGBMClassifier\n",
    "from xgboost import XGBClassifier\n",
    "import xgboost\n",
    "\n",
    "from sklearn.model_selection import train_test_split\n",
    "from sklearn.model_selection import KFold\n",
    "from sklearn.naive_bayes import ComplementNB\n",
    "import pickle\n",
    "\n",
    "from sklearn.metrics import confusion_matrix,f1_score,roc_auc_score,roc_curve\n",
    "import matplotlib.pyplot as plt\n",
    "%matplotlib inline"
   ]
  },
  {
   "cell_type": "markdown",
   "metadata": {},
   "source": [
    "# data"
   ]
  },
  {
   "cell_type": "code",
   "execution_count": 2,
   "metadata": {},
   "outputs": [],
   "source": [
    "df = pd.read_csv('Processed_data/clean_data.csv',index_col=0)\n",
    "diag = pd.read_csv('Data/claim_diagnoses.csv',index_col=0)"
   ]
  },
  {
   "cell_type": "code",
   "execution_count": 5,
   "metadata": {},
   "outputs": [
    {
     "data": {
      "text/html": [
       "<div>\n",
       "<style scoped>\n",
       "    .dataframe tbody tr th:only-of-type {\n",
       "        vertical-align: middle;\n",
       "    }\n",
       "\n",
       "    .dataframe tbody tr th {\n",
       "        vertical-align: top;\n",
       "    }\n",
       "\n",
       "    .dataframe thead th {\n",
       "        text-align: right;\n",
       "    }\n",
       "</style>\n",
       "<table border=\"1\" class=\"dataframe\">\n",
       "  <thead>\n",
       "    <tr style=\"text-align: right;\">\n",
       "      <th></th>\n",
       "      <th>claim_id</th>\n",
       "      <th>enrollee_id</th>\n",
       "      <th>provider_id</th>\n",
       "      <th>provider_status</th>\n",
       "      <th>hmo_id</th>\n",
       "      <th>care_id</th>\n",
       "      <th>qty</th>\n",
       "      <th>amount</th>\n",
       "      <th>approved_qty</th>\n",
       "      <th>approved_amount</th>\n",
       "      <th>hmo_approved</th>\n",
       "      <th>created_at</th>\n",
       "      <th>vetted_at</th>\n",
       "      <th>label</th>\n",
       "      <th>unit_price</th>\n",
       "    </tr>\n",
       "  </thead>\n",
       "  <tbody>\n",
       "    <tr>\n",
       "      <td>0</td>\n",
       "      <td>10.0</td>\n",
       "      <td>89.0</td>\n",
       "      <td>1.0</td>\n",
       "      <td>1.0</td>\n",
       "      <td>1.0</td>\n",
       "      <td>586.0</td>\n",
       "      <td>6.0</td>\n",
       "      <td>1816.08</td>\n",
       "      <td>6.0</td>\n",
       "      <td>1816.08</td>\n",
       "      <td>1.0</td>\n",
       "      <td>2018-03-12 14:53:46</td>\n",
       "      <td>2018-05-21 10:05:30</td>\n",
       "      <td>0</td>\n",
       "      <td>302.68</td>\n",
       "    </tr>\n",
       "    <tr>\n",
       "      <td>1</td>\n",
       "      <td>11.0</td>\n",
       "      <td>89.0</td>\n",
       "      <td>1.0</td>\n",
       "      <td>1.0</td>\n",
       "      <td>1.0</td>\n",
       "      <td>586.0</td>\n",
       "      <td>6.0</td>\n",
       "      <td>1816.08</td>\n",
       "      <td>6.0</td>\n",
       "      <td>1816.08</td>\n",
       "      <td>1.0</td>\n",
       "      <td>2018-03-13 14:50:39</td>\n",
       "      <td>2018-05-21 10:07:19</td>\n",
       "      <td>0</td>\n",
       "      <td>302.68</td>\n",
       "    </tr>\n",
       "    <tr>\n",
       "      <td>2</td>\n",
       "      <td>13.0</td>\n",
       "      <td>74.0</td>\n",
       "      <td>1.0</td>\n",
       "      <td>1.0</td>\n",
       "      <td>1.0</td>\n",
       "      <td>434.0</td>\n",
       "      <td>5.0</td>\n",
       "      <td>115.00</td>\n",
       "      <td>5.0</td>\n",
       "      <td>115.00</td>\n",
       "      <td>1.0</td>\n",
       "      <td>2018-03-16 10:28:53</td>\n",
       "      <td>2018-05-21 10:09:30</td>\n",
       "      <td>0</td>\n",
       "      <td>23.00</td>\n",
       "    </tr>\n",
       "    <tr>\n",
       "      <td>3</td>\n",
       "      <td>13.0</td>\n",
       "      <td>74.0</td>\n",
       "      <td>1.0</td>\n",
       "      <td>1.0</td>\n",
       "      <td>1.0</td>\n",
       "      <td>1102.0</td>\n",
       "      <td>10.0</td>\n",
       "      <td>1265.00</td>\n",
       "      <td>10.0</td>\n",
       "      <td>1265.00</td>\n",
       "      <td>1.0</td>\n",
       "      <td>2018-03-16 10:28:53</td>\n",
       "      <td>2018-05-21 10:09:30</td>\n",
       "      <td>0</td>\n",
       "      <td>126.50</td>\n",
       "    </tr>\n",
       "    <tr>\n",
       "      <td>4</td>\n",
       "      <td>13.0</td>\n",
       "      <td>74.0</td>\n",
       "      <td>1.0</td>\n",
       "      <td>1.0</td>\n",
       "      <td>1.0</td>\n",
       "      <td>299.0</td>\n",
       "      <td>15.0</td>\n",
       "      <td>138.00</td>\n",
       "      <td>15.0</td>\n",
       "      <td>138.00</td>\n",
       "      <td>1.0</td>\n",
       "      <td>2018-03-16 10:28:53</td>\n",
       "      <td>2018-05-21 10:09:30</td>\n",
       "      <td>0</td>\n",
       "      <td>9.20</td>\n",
       "    </tr>\n",
       "  </tbody>\n",
       "</table>\n",
       "</div>"
      ],
      "text/plain": [
       "   claim_id  enrollee_id  provider_id  provider_status  hmo_id  care_id   qty  \\\n",
       "0      10.0         89.0          1.0              1.0     1.0    586.0   6.0   \n",
       "1      11.0         89.0          1.0              1.0     1.0    586.0   6.0   \n",
       "2      13.0         74.0          1.0              1.0     1.0    434.0   5.0   \n",
       "3      13.0         74.0          1.0              1.0     1.0   1102.0  10.0   \n",
       "4      13.0         74.0          1.0              1.0     1.0    299.0  15.0   \n",
       "\n",
       "    amount  approved_qty  approved_amount  hmo_approved           created_at  \\\n",
       "0  1816.08           6.0          1816.08           1.0  2018-03-12 14:53:46   \n",
       "1  1816.08           6.0          1816.08           1.0  2018-03-13 14:50:39   \n",
       "2   115.00           5.0           115.00           1.0  2018-03-16 10:28:53   \n",
       "3  1265.00          10.0          1265.00           1.0  2018-03-16 10:28:53   \n",
       "4   138.00          15.0           138.00           1.0  2018-03-16 10:28:53   \n",
       "\n",
       "             vetted_at  label  unit_price  \n",
       "0  2018-05-21 10:05:30      0      302.68  \n",
       "1  2018-05-21 10:07:19      0      302.68  \n",
       "2  2018-05-21 10:09:30      0       23.00  \n",
       "3  2018-05-21 10:09:30      0      126.50  \n",
       "4  2018-05-21 10:09:30      0        9.20  "
      ]
     },
     "execution_count": 5,
     "metadata": {},
     "output_type": "execute_result"
    }
   ],
   "source": [
    "df.head()"
   ]
  },
  {
   "cell_type": "code",
   "execution_count": 3,
   "metadata": {},
   "outputs": [
    {
     "data": {
      "text/html": [
       "<div>\n",
       "<style scoped>\n",
       "    .dataframe tbody tr th:only-of-type {\n",
       "        vertical-align: middle;\n",
       "    }\n",
       "\n",
       "    .dataframe tbody tr th {\n",
       "        vertical-align: top;\n",
       "    }\n",
       "\n",
       "    .dataframe thead th {\n",
       "        text-align: right;\n",
       "    }\n",
       "</style>\n",
       "<table border=\"1\" class=\"dataframe\">\n",
       "  <thead>\n",
       "    <tr style=\"text-align: right;\">\n",
       "      <th></th>\n",
       "      <th>id</th>\n",
       "      <th>claim_id</th>\n",
       "      <th>diagnosis_id</th>\n",
       "    </tr>\n",
       "  </thead>\n",
       "  <tbody>\n",
       "    <tr>\n",
       "      <td>0</td>\n",
       "      <td>15</td>\n",
       "      <td>10</td>\n",
       "      <td>9</td>\n",
       "    </tr>\n",
       "    <tr>\n",
       "      <td>1</td>\n",
       "      <td>16</td>\n",
       "      <td>11</td>\n",
       "      <td>15925</td>\n",
       "    </tr>\n",
       "    <tr>\n",
       "      <td>2</td>\n",
       "      <td>36</td>\n",
       "      <td>13</td>\n",
       "      <td>4342</td>\n",
       "    </tr>\n",
       "    <tr>\n",
       "      <td>3</td>\n",
       "      <td>37</td>\n",
       "      <td>14</td>\n",
       "      <td>15925</td>\n",
       "    </tr>\n",
       "    <tr>\n",
       "      <td>4</td>\n",
       "      <td>38</td>\n",
       "      <td>15</td>\n",
       "      <td>6190</td>\n",
       "    </tr>\n",
       "  </tbody>\n",
       "</table>\n",
       "</div>"
      ],
      "text/plain": [
       "   id  claim_id  diagnosis_id\n",
       "0  15        10             9\n",
       "1  16        11         15925\n",
       "2  36        13          4342\n",
       "3  37        14         15925\n",
       "4  38        15          6190"
      ]
     },
     "execution_count": 3,
     "metadata": {},
     "output_type": "execute_result"
    }
   ],
   "source": [
    "diag.head()"
   ]
  },
  {
   "cell_type": "code",
   "execution_count": 6,
   "metadata": {},
   "outputs": [
    {
     "data": {
      "text/plain": [
       "(663623, 17)"
      ]
     },
     "execution_count": 6,
     "metadata": {},
     "output_type": "execute_result"
    }
   ],
   "source": [
    "dfmerge = df.merge(diag, how = 'left', left_on = 'claim_id', right_on = 'claim_id')\n",
    "dfmerge.shape"
   ]
  },
  {
   "cell_type": "code",
   "execution_count": 53,
   "metadata": {},
   "outputs": [],
   "source": [
    "dfmerge.to_csv('Processed_data/full_clean_data.csv')"
   ]
  },
  {
   "cell_type": "code",
   "execution_count": 7,
   "metadata": {},
   "outputs": [
    {
     "name": "stdout",
     "output_type": "stream",
     "text": [
      "<class 'pandas.core.frame.DataFrame'>\n",
      "Int64Index: 663623 entries, 0 to 663622\n",
      "Data columns (total 17 columns):\n",
      "claim_id           663623 non-null float64\n",
      "enrollee_id        663623 non-null float64\n",
      "provider_id        663623 non-null float64\n",
      "provider_status    663623 non-null float64\n",
      "hmo_id             663623 non-null float64\n",
      "care_id            663623 non-null float64\n",
      "qty                663623 non-null float64\n",
      "amount             663623 non-null float64\n",
      "approved_qty       663623 non-null float64\n",
      "approved_amount    663623 non-null float64\n",
      "hmo_approved       663623 non-null float64\n",
      "created_at         663623 non-null object\n",
      "vetted_at          663623 non-null object\n",
      "label              663623 non-null int64\n",
      "unit_price         663623 non-null float64\n",
      "id                 663615 non-null float64\n",
      "diagnosis_id       663615 non-null float64\n",
      "dtypes: float64(14), int64(1), object(2)\n",
      "memory usage: 91.1+ MB\n"
     ]
    }
   ],
   "source": [
    "dfmerge.info()"
   ]
  },
  {
   "cell_type": "code",
   "execution_count": 177,
   "metadata": {},
   "outputs": [
    {
     "data": {
      "text/plain": [
       "(663623, 17)"
      ]
     },
     "execution_count": 177,
     "metadata": {},
     "output_type": "execute_result"
    }
   ],
   "source": [
    "dfmerge.shape"
   ]
  },
  {
   "cell_type": "code",
   "execution_count": 199,
   "metadata": {},
   "outputs": [
    {
     "data": {
      "text/plain": [
       "(1058638193.4299998, 113948584.74)"
      ]
     },
     "execution_count": 199,
     "metadata": {},
     "output_type": "execute_result"
    }
   ],
   "source": [
    "df.loc[df['label'] == 0]['amount'].sum(),df.loc[df['label'] == 1]['amount'].sum()"
   ]
  },
  {
   "cell_type": "code",
   "execution_count": 202,
   "metadata": {},
   "outputs": [
    {
     "data": {
      "text/plain": [
       "(13914, 268137)"
      ]
     },
     "execution_count": 202,
     "metadata": {},
     "output_type": "execute_result"
    }
   ],
   "source": [
    "df.loc[df['label']==1]['claim_id'].count(),df.loc[df['label']==0]['claim_id'].count()\n"
   ]
  },
  {
   "cell_type": "code",
   "execution_count": 9,
   "metadata": {},
   "outputs": [],
   "source": [
    "X = dfmerge[['enrollee_id','diagnosis_id','provider_id','provider_status','hmo_id','care_id','qty','unit_price']]\n",
    "y = dfmerge['label']"
   ]
  },
  {
   "cell_type": "code",
   "execution_count": 187,
   "metadata": {},
   "outputs": [
    {
     "data": {
      "text/plain": [
       "(694362.5539434494, 663615, 0.044281699479366804)"
      ]
     },
     "execution_count": 187,
     "metadata": {},
     "output_type": "execute_result"
    }
   ],
   "source": []
  },
  {
   "cell_type": "code",
   "execution_count": 10,
   "metadata": {},
   "outputs": [
    {
     "name": "stdout",
     "output_type": "stream",
     "text": [
      "<class 'pandas.core.frame.DataFrame'>\n",
      "Int64Index: 663623 entries, 0 to 663622\n",
      "Data columns (total 8 columns):\n",
      "enrollee_id        663623 non-null float64\n",
      "diagnosis_id       663615 non-null float64\n",
      "provider_id        663623 non-null float64\n",
      "provider_status    663623 non-null float64\n",
      "hmo_id             663623 non-null float64\n",
      "care_id            663623 non-null float64\n",
      "qty                663623 non-null float64\n",
      "unit_price         663623 non-null float64\n",
      "dtypes: float64(8)\n",
      "memory usage: 45.6 MB\n"
     ]
    }
   ],
   "source": [
    "X.info()"
   ]
  },
  {
   "cell_type": "code",
   "execution_count": 11,
   "metadata": {},
   "outputs": [
    {
     "data": {
      "text/plain": [
       "(2.0, 104275.0)"
      ]
     },
     "execution_count": 11,
     "metadata": {},
     "output_type": "execute_result"
    }
   ],
   "source": [
    "X.diagnosis_id.min(),X.diagnosis_id.max()"
   ]
  },
  {
   "cell_type": "code",
   "execution_count": 14,
   "metadata": {},
   "outputs": [
    {
     "data": {
      "text/html": [
       "<div>\n",
       "<style scoped>\n",
       "    .dataframe tbody tr th:only-of-type {\n",
       "        vertical-align: middle;\n",
       "    }\n",
       "\n",
       "    .dataframe tbody tr th {\n",
       "        vertical-align: top;\n",
       "    }\n",
       "\n",
       "    .dataframe thead th {\n",
       "        text-align: right;\n",
       "    }\n",
       "</style>\n",
       "<table border=\"1\" class=\"dataframe\">\n",
       "  <thead>\n",
       "    <tr style=\"text-align: right;\">\n",
       "      <th></th>\n",
       "      <th>enrollee_id</th>\n",
       "      <th>diagnosis_id</th>\n",
       "      <th>provider_id</th>\n",
       "      <th>provider_status</th>\n",
       "      <th>hmo_id</th>\n",
       "      <th>care_id</th>\n",
       "      <th>qty</th>\n",
       "      <th>unit_price</th>\n",
       "    </tr>\n",
       "  </thead>\n",
       "  <tbody>\n",
       "    <tr>\n",
       "      <td>298716</td>\n",
       "      <td>2.0</td>\n",
       "      <td>NaN</td>\n",
       "      <td>302.0</td>\n",
       "      <td>1.0</td>\n",
       "      <td>1.0</td>\n",
       "      <td>44.0</td>\n",
       "      <td>8.0</td>\n",
       "      <td>5000.0</td>\n",
       "    </tr>\n",
       "    <tr>\n",
       "      <td>338641</td>\n",
       "      <td>107111.0</td>\n",
       "      <td>NaN</td>\n",
       "      <td>83.0</td>\n",
       "      <td>1.0</td>\n",
       "      <td>1.0</td>\n",
       "      <td>15615.0</td>\n",
       "      <td>1.0</td>\n",
       "      <td>5000.0</td>\n",
       "    </tr>\n",
       "    <tr>\n",
       "      <td>338642</td>\n",
       "      <td>107111.0</td>\n",
       "      <td>NaN</td>\n",
       "      <td>83.0</td>\n",
       "      <td>1.0</td>\n",
       "      <td>1.0</td>\n",
       "      <td>15614.0</td>\n",
       "      <td>1.0</td>\n",
       "      <td>1000.0</td>\n",
       "    </tr>\n",
       "    <tr>\n",
       "      <td>339085</td>\n",
       "      <td>107111.0</td>\n",
       "      <td>NaN</td>\n",
       "      <td>83.0</td>\n",
       "      <td>1.0</td>\n",
       "      <td>1.0</td>\n",
       "      <td>15613.0</td>\n",
       "      <td>1.0</td>\n",
       "      <td>15000.0</td>\n",
       "    </tr>\n",
       "    <tr>\n",
       "      <td>339213</td>\n",
       "      <td>107111.0</td>\n",
       "      <td>NaN</td>\n",
       "      <td>83.0</td>\n",
       "      <td>1.0</td>\n",
       "      <td>1.0</td>\n",
       "      <td>15717.0</td>\n",
       "      <td>1.0</td>\n",
       "      <td>15000.0</td>\n",
       "    </tr>\n",
       "    <tr>\n",
       "      <td>339988</td>\n",
       "      <td>107111.0</td>\n",
       "      <td>NaN</td>\n",
       "      <td>83.0</td>\n",
       "      <td>1.0</td>\n",
       "      <td>1.0</td>\n",
       "      <td>15614.0</td>\n",
       "      <td>1.0</td>\n",
       "      <td>1000.0</td>\n",
       "    </tr>\n",
       "    <tr>\n",
       "      <td>340175</td>\n",
       "      <td>113273.0</td>\n",
       "      <td>NaN</td>\n",
       "      <td>83.0</td>\n",
       "      <td>1.0</td>\n",
       "      <td>1.0</td>\n",
       "      <td>12529.0</td>\n",
       "      <td>30.0</td>\n",
       "      <td>60.0</td>\n",
       "    </tr>\n",
       "    <tr>\n",
       "      <td>340176</td>\n",
       "      <td>113273.0</td>\n",
       "      <td>NaN</td>\n",
       "      <td>83.0</td>\n",
       "      <td>1.0</td>\n",
       "      <td>1.0</td>\n",
       "      <td>15717.0</td>\n",
       "      <td>1.0</td>\n",
       "      <td>15000.0</td>\n",
       "    </tr>\n",
       "  </tbody>\n",
       "</table>\n",
       "</div>"
      ],
      "text/plain": [
       "        enrollee_id  diagnosis_id  provider_id  provider_status  hmo_id  \\\n",
       "298716          2.0           NaN        302.0              1.0     1.0   \n",
       "338641     107111.0           NaN         83.0              1.0     1.0   \n",
       "338642     107111.0           NaN         83.0              1.0     1.0   \n",
       "339085     107111.0           NaN         83.0              1.0     1.0   \n",
       "339213     107111.0           NaN         83.0              1.0     1.0   \n",
       "339988     107111.0           NaN         83.0              1.0     1.0   \n",
       "340175     113273.0           NaN         83.0              1.0     1.0   \n",
       "340176     113273.0           NaN         83.0              1.0     1.0   \n",
       "\n",
       "        care_id   qty  unit_price  \n",
       "298716     44.0   8.0      5000.0  \n",
       "338641  15615.0   1.0      5000.0  \n",
       "338642  15614.0   1.0      1000.0  \n",
       "339085  15613.0   1.0     15000.0  \n",
       "339213  15717.0   1.0     15000.0  \n",
       "339988  15614.0   1.0      1000.0  \n",
       "340175  12529.0  30.0        60.0  \n",
       "340176  15717.0   1.0     15000.0  "
      ]
     },
     "execution_count": 14,
     "metadata": {},
     "output_type": "execute_result"
    }
   ],
   "source": [
    "dropindex = X.loc[X.diagnosis_id.isnull()].index\n",
    "X.iloc[dropindex]"
   ]
  },
  {
   "cell_type": "code",
   "execution_count": 15,
   "metadata": {},
   "outputs": [
    {
     "name": "stderr",
     "output_type": "stream",
     "text": [
      "/Users/shunling/opt/anaconda3/lib/python3.7/site-packages/pandas/core/frame.py:4102: SettingWithCopyWarning: \n",
      "A value is trying to be set on a copy of a slice from a DataFrame\n",
      "\n",
      "See the caveats in the documentation: http://pandas.pydata.org/pandas-docs/stable/user_guide/indexing.html#returning-a-view-versus-a-copy\n",
      "  errors=errors,\n"
     ]
    }
   ],
   "source": [
    "X.drop(dropindex, axis=0, inplace = True)\n",
    "y.drop(dropindex, axis=0, inplace = True)"
   ]
  },
  {
   "cell_type": "code",
   "execution_count": 168,
   "metadata": {},
   "outputs": [],
   "source": [
    "def init_scores():\n",
    "     \n",
    "    scores = {}\n",
    "    scores['f1_socre'] = []\n",
    "    scores['precision'] = []\n",
    "    scores['recall'] = []\n",
    "    scores['FPR'] = []\n",
    "    scores['specificity'] = []\n",
    "    scores['roc_auc'] = []\n",
    "    \n",
    "    return scores\n",
    "\n",
    "\n",
    "def evaluation(ytest,Xtest,cls):\n",
    "\n",
    "    scores = init_scores()\n",
    "    ypred = cls.predict(Xtest)\n",
    "    C = confusion_matrix(ytest,ypred)\n",
    "    TN = C[0][0]\n",
    "    FN = C[1][0]\n",
    "    TP = C[1][1]\n",
    "    FP = C[0][1]\n",
    "\n",
    "    print('f1_socre: {:0.3f}'.format(f1_score(ytest,ypred)))\n",
    "    scores['f1_socre'].append(f1_score(ytest,ypred))\n",
    "    print('precision: {:0.3f}'.format(TP/(TP+FP)))\n",
    "    scores['precision'].append(TP/(TP+FP))\n",
    "    print('recall/sensitivity(true positive rate): {:0.3f}'.format(TP/(TP+FN)))\n",
    "    scores['recall'].append(TP/(TP+FN))\n",
    "    print('false positive rate (FPR): {:0.3f}'.format(1-(TN/(TN+FP)))) # 1 - specificity\n",
    "    scores['FPR'].append(1-(TN/(TN+FP)))\n",
    "    print('spcificity(true negative rate): {:0.3f}'.format(TN/(TN+FP)))\n",
    "    scores['specificity'].append(TN/(TN+FP))\n",
    "    print('ROC_AUC_score: {:0.3f}'.format(roc_auc_score(ytest,ypred)))\n",
    "    scores['roc_auc'].append(roc_auc_score(ytest,ypred))\n",
    "    \n",
    "    return scores\n",
    "      \n",
    "def cv(Xtrain,ytrain,model):\n",
    "    \n",
    "    models = []\n",
    "    kf = KFold(n_splits=4)\n",
    "    print(model)\n",
    "    n = 0\n",
    "    for train_index, test_index in kf.split(Xtrain):\n",
    "        print('cross_validate_run: {}'.format(n))\n",
    "        Xtr, Xte = Xtrain[train_index], Xtrain[test_index]\n",
    "        ytr, yte = ytrain[train_index], ytrain[test_index]\n",
    "        cls = model.fit(Xtr, ytr) \n",
    "        models.append(cls)\n",
    "        scores = evaluation(yte,Xte,cls)\n",
    "        n += 1\n",
    "        \n",
    "    \n",
    "    print('\\n mean scores +/- sd: \\n')\n",
    "    for k in scores:\n",
    "        print('{} : {:0.3f} +/- {:0.3f}'.format(k, np.array(scores[k]).mean(),  np.array(scores[k]).std()))\n",
    "\n",
    "    return models, scores"
   ]
  },
  {
   "cell_type": "code",
   "execution_count": 36,
   "metadata": {},
   "outputs": [],
   "source": [
    "\n",
    "Xtrain, Xtest, ytrain, ytest = train_test_split(X, y, test_size = 0.2, random_state=42)\n"
   ]
  },
  {
   "cell_type": "markdown",
   "metadata": {},
   "source": [
    "# 3 models without upsampling and without class weight"
   ]
  },
  {
   "cell_type": "code",
   "execution_count": 41,
   "metadata": {},
   "outputs": [
    {
     "name": "stdout",
     "output_type": "stream",
     "text": [
      "nb:\n",
      "ComplementNB(alpha=1.0, class_prior=None, fit_prior=True, norm=False)\n",
      "cross_validate_run: 0\n",
      "f1_socre: 0.098\n",
      "precision: 0.059\n",
      "recall/sensitivity(true positive rate): 0.298\n",
      "false positive rate (FPR): 0.224\n",
      "spcificity(true negative rate): 0.776\n",
      "ROC_AUC_score: 0.537\n",
      "cross_validate_run: 1\n",
      "f1_socre: 0.099\n",
      "precision: 0.059\n",
      "recall/sensitivity(true positive rate): 0.312\n",
      "false positive rate (FPR): 0.226\n",
      "spcificity(true negative rate): 0.774\n",
      "ROC_AUC_score: 0.543\n",
      "cross_validate_run: 2\n",
      "f1_socre: 0.099\n",
      "precision: 0.059\n",
      "recall/sensitivity(true positive rate): 0.309\n",
      "false positive rate (FPR): 0.227\n",
      "spcificity(true negative rate): 0.773\n",
      "ROC_AUC_score: 0.541\n",
      "cross_validate_run: 3\n",
      "f1_socre: 0.097\n",
      "precision: 0.058\n",
      "recall/sensitivity(true positive rate): 0.295\n",
      "false positive rate (FPR): 0.224\n",
      "spcificity(true negative rate): 0.776\n",
      "ROC_AUC_score: 0.535\n",
      "\n",
      " mean scores +/- sd: \n",
      "\n",
      "f1_socre : 0.097 +/- 0.000\n",
      "precision : 0.058 +/- 0.000\n",
      "recall : 0.295 +/- 0.000\n",
      "FPR : 0.224 +/- 0.000\n",
      "specificity : 0.776 +/- 0.000\n",
      "roc_auc : 0.535 +/- 0.000\n",
      "xgb:\n",
      "XGBClassifier(base_score=0.5, booster='gbtree', colsample_bylevel=1,\n",
      "              colsample_bynode=1, colsample_bytree=1, gamma=0,\n",
      "              learning_rate=0.1, max_delta_step=0, max_depth=15,\n",
      "              min_child_weight=1, missing=None, n_estimators=300, n_jobs=4,\n",
      "              nthread=None, objective='binary:logistic', random_state=0,\n",
      "              reg_alpha=0, reg_lambda=1, scale_pos_weight=1, seed=None,\n",
      "              silent=None, subsample=1, verbosity=1)\n",
      "cross_validate_run: 0\n",
      "f1_socre: 0.464\n",
      "precision: 0.760\n",
      "recall/sensitivity(true positive rate): 0.334\n",
      "false positive rate (FPR): 0.005\n",
      "spcificity(true negative rate): 0.995\n",
      "ROC_AUC_score: 0.665\n",
      "cross_validate_run: 1\n",
      "f1_socre: 0.480\n",
      "precision: 0.761\n",
      "recall/sensitivity(true positive rate): 0.351\n",
      "false positive rate (FPR): 0.005\n",
      "spcificity(true negative rate): 0.995\n",
      "ROC_AUC_score: 0.673\n",
      "cross_validate_run: 2\n",
      "f1_socre: 0.461\n",
      "precision: 0.768\n",
      "recall/sensitivity(true positive rate): 0.329\n",
      "false positive rate (FPR): 0.005\n",
      "spcificity(true negative rate): 0.995\n",
      "ROC_AUC_score: 0.662\n",
      "cross_validate_run: 3\n",
      "f1_socre: 0.462\n",
      "precision: 0.767\n",
      "recall/sensitivity(true positive rate): 0.331\n",
      "false positive rate (FPR): 0.005\n",
      "spcificity(true negative rate): 0.995\n",
      "ROC_AUC_score: 0.663\n",
      "\n",
      " mean scores +/- sd: \n",
      "\n",
      "f1_socre : 0.462 +/- 0.000\n",
      "precision : 0.767 +/- 0.000\n",
      "recall : 0.331 +/- 0.000\n",
      "FPR : 0.005 +/- 0.000\n",
      "specificity : 0.995 +/- 0.000\n",
      "roc_auc : 0.663 +/- 0.000\n",
      "lgb:\n",
      "LGBMClassifier(boosting_type='gbdt', class_weight={1: 1}, colsample_bytree=1.0,\n",
      "               importance_type='split', learning_rate=0.1, max_depth=15,\n",
      "               min_child_samples=20, min_child_weight=0.001, min_split_gain=0.0,\n",
      "               n_estimators=300, n_jobs=4, num_leaves=100, objective=None,\n",
      "               random_state=None, reg_alpha=0.0, reg_lambda=0.0, silent=True,\n",
      "               subsample=1.0, subsample_for_bin=200000, subsample_freq=0)\n",
      "cross_validate_run: 0\n",
      "f1_socre: 0.285\n",
      "precision: 0.778\n",
      "recall/sensitivity(true positive rate): 0.175\n",
      "false positive rate (FPR): 0.002\n",
      "spcificity(true negative rate): 0.998\n",
      "ROC_AUC_score: 0.586\n",
      "cross_validate_run: 1\n",
      "f1_socre: 0.297\n",
      "precision: 0.784\n",
      "recall/sensitivity(true positive rate): 0.183\n",
      "false positive rate (FPR): 0.002\n",
      "spcificity(true negative rate): 0.998\n",
      "ROC_AUC_score: 0.590\n",
      "cross_validate_run: 2\n",
      "f1_socre: 0.283\n",
      "precision: 0.791\n",
      "recall/sensitivity(true positive rate): 0.172\n",
      "false positive rate (FPR): 0.002\n",
      "spcificity(true negative rate): 0.998\n",
      "ROC_AUC_score: 0.585\n",
      "cross_validate_run: 3\n",
      "f1_socre: 0.299\n",
      "precision: 0.801\n",
      "recall/sensitivity(true positive rate): 0.184\n",
      "false positive rate (FPR): 0.002\n",
      "spcificity(true negative rate): 0.998\n",
      "ROC_AUC_score: 0.591\n",
      "\n",
      " mean scores +/- sd: \n",
      "\n",
      "f1_socre : 0.299 +/- 0.000\n",
      "precision : 0.801 +/- 0.000\n",
      "recall : 0.184 +/- 0.000\n",
      "FPR : 0.002 +/- 0.000\n",
      "specificity : 0.998 +/- 0.000\n",
      "roc_auc : 0.591 +/- 0.000\n"
     ]
    }
   ],
   "source": [
    "# nb\n",
    "print('nb:')\n",
    "model_nb = ComplementNB()\n",
    "models_nb, scores_nb = cv(Xtrain.values,ytrain.values,model_nb)\n",
    "\n",
    "\n",
    "# xgb\n",
    "\n",
    "print('xgb:')\n",
    "model_xgb = XGBClassifier(base_score=0.5, booster='gbtree', colsample_bylevel=1,\n",
    "              colsample_bynode=1, colsample_bytree=1, gamma=0,\n",
    "              learning_rate=0.1, max_delta_step=0, max_depth=15,\n",
    "              min_child_weight=1, missing=None, n_estimators=300, n_jobs=4,\n",
    "              nthread=None, objective='binary:logistic', random_state=0,\n",
    "              reg_alpha=0, reg_lambda=1, scale_pos_weight=1, seed=None,\n",
    "              silent=None, subsample=1, verbosity=1)\n",
    "models_xgb, scores_xgb = cv(Xtrain.values,ytrain.values,model_xgb)\n",
    "\n",
    "\n",
    "# lgb\n",
    "print('lgb:')\n",
    "model_lgb = LGBMClassifier(boosting_type='gbdt', num_leaves=100, max_depth=15, learning_rate=0.1, \\\n",
    "                       n_estimators=300, subsample_for_bin=200000, objective=None, class_weight={1:1}, \\\n",
    "                       min_split_gain=0.0, min_child_weight=0.001, min_child_samples=20, subsample=1.0, \\\n",
    "                       subsample_freq=0, colsample_bytree=1.0, reg_alpha=0.0, reg_lambda=0.0, \\\n",
    "                       random_state=None, n_jobs=4, silent=True, importance_type='split')\n",
    "models_lgb, scores_lgb = cv(Xtrain.values,ytrain.values,model_lgb)"
   ]
  },
  {
   "cell_type": "code",
   "execution_count": null,
   "metadata": {},
   "outputs": [],
   "source": []
  },
  {
   "cell_type": "code",
   "execution_count": 42,
   "metadata": {},
   "outputs": [
    {
     "name": "stdout",
     "output_type": "stream",
     "text": [
      "f1_socre: 0.101\n",
      "precision: 0.060\n",
      "recall/sensitivity(true positive rate): 0.307\n",
      "false positive rate (FPR): 0.224\n",
      "spcificity(true negative rate): 0.776\n",
      "ROC_AUC_score: 0.542\n",
      "f1_socre: 0.480\n",
      "precision: 0.774\n",
      "recall/sensitivity(true positive rate): 0.348\n",
      "false positive rate (FPR): 0.005\n",
      "spcificity(true negative rate): 0.995\n",
      "ROC_AUC_score: 0.672\n",
      "f1_socre: 0.303\n",
      "precision: 0.810\n",
      "recall/sensitivity(true positive rate): 0.186\n",
      "false positive rate (FPR): 0.002\n",
      "spcificity(true negative rate): 0.998\n",
      "ROC_AUC_score: 0.592\n"
     ]
    }
   ],
   "source": [
    "test_scores_nb = evaluation(ytest.values,Xtest.values,models_nb[0])\n",
    "test_scores_xgb = evaluation(ytest.values,Xtest.values,models_xgb[0])\n",
    "test_scores_lgb = evaluation(ytest.values,Xtest.values,models_lgb[0])"
   ]
  },
  {
   "cell_type": "code",
   "execution_count": 43,
   "metadata": {},
   "outputs": [],
   "source": [
    "\n",
    "pickle.dump(models_nb[0],open(\"Models/no_upsample/nb.dat\", \"wb\"))\n",
    "pickle.dump(models_xgb[0],open(\"Models/no_upsample/xgb.dat\", \"wb\"))\n",
    "pickle.dump(models_lgb[0],open(\"Models/no_upsample/lgb.dat\", \"wb\"))"
   ]
  },
  {
   "cell_type": "markdown",
   "metadata": {},
   "source": [
    "# 2 models without upsampling but with class weight"
   ]
  },
  {
   "cell_type": "code",
   "execution_count": 55,
   "metadata": {},
   "outputs": [
    {
     "name": "stdout",
     "output_type": "stream",
     "text": [
      "xgb:\n",
      "XGBClassifier(base_score=0.5, booster='gbtree', colsample_bylevel=1,\n",
      "              colsample_bynode=1, colsample_bytree=1, gamma=0,\n",
      "              learning_rate=0.1, max_delta_step=0, max_depth=15,\n",
      "              min_child_weight=1, missing=None, n_estimators=300, n_jobs=4,\n",
      "              nthread=None, objective='binary:logistic', random_state=0,\n",
      "              reg_alpha=0, reg_lambda=1, scale_pos_weight=50, seed=None,\n",
      "              silent=None, subsample=1, verbosity=1)\n",
      "cross_validate_run: 0\n",
      "f1_socre: 0.511\n",
      "precision: 0.395\n",
      "recall/sensitivity(true positive rate): 0.725\n",
      "false positive rate (FPR): 0.052\n",
      "spcificity(true negative rate): 0.948\n",
      "ROC_AUC_score: 0.837\n",
      "cross_validate_run: 1\n",
      "f1_socre: 0.511\n",
      "precision: 0.390\n",
      "recall/sensitivity(true positive rate): 0.738\n",
      "false positive rate (FPR): 0.053\n",
      "spcificity(true negative rate): 0.947\n",
      "ROC_AUC_score: 0.843\n",
      "cross_validate_run: 2\n",
      "f1_socre: 0.516\n",
      "precision: 0.398\n",
      "recall/sensitivity(true positive rate): 0.736\n",
      "false positive rate (FPR): 0.051\n",
      "spcificity(true negative rate): 0.949\n",
      "ROC_AUC_score: 0.842\n",
      "cross_validate_run: 3\n",
      "f1_socre: 0.515\n",
      "precision: 0.395\n",
      "recall/sensitivity(true positive rate): 0.739\n",
      "false positive rate (FPR): 0.053\n",
      "spcificity(true negative rate): 0.947\n",
      "ROC_AUC_score: 0.843\n",
      "\n",
      " mean scores +/- sd: \n",
      "\n",
      "f1_socre : 0.515 +/- 0.000\n",
      "precision : 0.395 +/- 0.000\n",
      "recall : 0.739 +/- 0.000\n",
      "FPR : 0.053 +/- 0.000\n",
      "specificity : 0.947 +/- 0.000\n",
      "roc_auc : 0.843 +/- 0.000\n",
      "lgb:\n",
      "LGBMClassifier(boosting_type='gbdt', class_weight={1: 50}, colsample_bytree=1.0,\n",
      "               importance_type='split', learning_rate=0.1, max_depth=15,\n",
      "               min_child_samples=20, min_child_weight=0.001, min_split_gain=0.0,\n",
      "               n_estimators=300, n_jobs=4, num_leaves=100, objective=None,\n",
      "               random_state=None, reg_alpha=0.0, reg_lambda=0.0, silent=True,\n",
      "               subsample=1.0, subsample_for_bin=200000, subsample_freq=0)\n",
      "cross_validate_run: 0\n",
      "f1_socre: 0.252\n",
      "precision: 0.147\n",
      "recall/sensitivity(true positive rate): 0.886\n",
      "false positive rate (FPR): 0.241\n",
      "spcificity(true negative rate): 0.759\n",
      "ROC_AUC_score: 0.822\n",
      "cross_validate_run: 1\n",
      "f1_socre: 0.249\n",
      "precision: 0.145\n",
      "recall/sensitivity(true positive rate): 0.896\n",
      "false positive rate (FPR): 0.241\n",
      "spcificity(true negative rate): 0.759\n",
      "ROC_AUC_score: 0.827\n",
      "cross_validate_run: 2\n",
      "f1_socre: 0.254\n",
      "precision: 0.148\n",
      "recall/sensitivity(true positive rate): 0.894\n",
      "false positive rate (FPR): 0.236\n",
      "spcificity(true negative rate): 0.764\n",
      "ROC_AUC_score: 0.829\n",
      "cross_validate_run: 3\n",
      "f1_socre: 0.255\n",
      "precision: 0.148\n",
      "recall/sensitivity(true positive rate): 0.894\n",
      "false positive rate (FPR): 0.240\n",
      "spcificity(true negative rate): 0.760\n",
      "ROC_AUC_score: 0.827\n",
      "\n",
      " mean scores +/- sd: \n",
      "\n",
      "f1_socre : 0.255 +/- 0.000\n",
      "precision : 0.148 +/- 0.000\n",
      "recall : 0.894 +/- 0.000\n",
      "FPR : 0.240 +/- 0.000\n",
      "specificity : 0.760 +/- 0.000\n",
      "roc_auc : 0.827 +/- 0.000\n"
     ]
    }
   ],
   "source": [
    "# xgb\n",
    "\n",
    "print('xgb:')\n",
    "model_xgb_w = XGBClassifier(base_score=0.5, booster='gbtree', colsample_bylevel=1,\n",
    "              colsample_bynode=1, colsample_bytree=1, gamma=0,\n",
    "              learning_rate=0.1, max_delta_step=0, max_depth=15,\n",
    "              min_child_weight=1, missing=None, n_estimators=300, n_jobs=4,\n",
    "              nthread=None, objective='binary:logistic', random_state=0,\n",
    "              reg_alpha=0, reg_lambda=1, scale_pos_weight=50, seed=None,\n",
    "              silent=None, subsample=1, verbosity=1)\n",
    "models_xgb_w, scores_xgb_w = cv(Xtrain.values,ytrain.values,model_xgb_w)\n",
    "\n",
    "\n",
    "# lgb\n",
    "print('lgb:')\n",
    "model_lgb_w = LGBMClassifier(boosting_type='gbdt', num_leaves=100, max_depth=15, learning_rate=0.1, \\\n",
    "                       n_estimators=300, subsample_for_bin=200000, objective=None, class_weight={1:50}, \\\n",
    "                       min_split_gain=0.0, min_child_weight=0.001, min_child_samples=20, subsample=1.0, \\\n",
    "                       subsample_freq=0, colsample_bytree=1.0, reg_alpha=0.0, reg_lambda=0.0, \\\n",
    "                       random_state=None, n_jobs=4, silent=True, importance_type='split')\n",
    "models_lgb_w, scores_lgb_w = cv(Xtrain.values,ytrain.values,model_lgb_w)"
   ]
  },
  {
   "cell_type": "code",
   "execution_count": 56,
   "metadata": {},
   "outputs": [
    {
     "name": "stdout",
     "output_type": "stream",
     "text": [
      "f1_socre: 0.510\n",
      "precision: 0.392\n",
      "recall/sensitivity(true positive rate): 0.731\n",
      "false positive rate (FPR): 0.053\n",
      "spcificity(true negative rate): 0.947\n",
      "ROC_AUC_score: 0.839\n",
      "f1_socre: 0.254\n",
      "precision: 0.148\n",
      "recall/sensitivity(true positive rate): 0.897\n",
      "false positive rate (FPR): 0.241\n",
      "spcificity(true negative rate): 0.759\n",
      "ROC_AUC_score: 0.828\n"
     ]
    }
   ],
   "source": [
    "test_scores_xgb_w = evaluation(ytest.values,Xtest.values,models_xgb_w[0])\n",
    "test_scores_lgb_w = evaluation(ytest.values,Xtest.values,models_lgb_w[0])"
   ]
  },
  {
   "cell_type": "code",
   "execution_count": 57,
   "metadata": {},
   "outputs": [],
   "source": [
    "pickle.dump(models_xgb[0],open(\"Models/no_upsample/xgb_w50.dat\", \"wb\"))\n",
    "pickle.dump(models_lgb[0],open(\"Models/no_upsample/lgb_w50.dat\", \"wb\"))"
   ]
  },
  {
   "cell_type": "markdown",
   "metadata": {},
   "source": [
    "# upsampling training data but not testing data"
   ]
  },
  {
   "cell_type": "code",
   "execution_count": 44,
   "metadata": {},
   "outputs": [],
   "source": [
    "Xytrain = Xtrain.copy()\n",
    "Xytrain['y'] = ytrain.copy()\n",
    "\n",
    "class0 = Xytrain.loc[Xytrain.y == 0] # majority\n",
    "class1 = Xytrain.loc[Xytrain.y == 1] # 5%\n",
    "\n",
    "class1 = class1.sample(n=class0.shape[0],replace=True,random_state=0) # upsampled\n",
    "Xytrain_new = pd.concat([class0,class1])\n",
    "\n",
    "ytrain_new = Xytrain_new['y']\n",
    "Xtrain_new = Xytrain_new.drop(columns=['y'])"
   ]
  },
  {
   "cell_type": "code",
   "execution_count": 45,
   "metadata": {},
   "outputs": [
    {
     "data": {
      "text/plain": [
       "((1014852, 8), (1014852,))"
      ]
     },
     "execution_count": 45,
     "metadata": {},
     "output_type": "execute_result"
    }
   ],
   "source": [
    "Xtrain_new.shape,ytrain_new.shape"
   ]
  },
  {
   "cell_type": "code",
   "execution_count": 46,
   "metadata": {},
   "outputs": [
    {
     "name": "stdout",
     "output_type": "stream",
     "text": [
      "<class 'pandas.core.frame.DataFrame'>\n",
      "Int64Index: 1014852 entries, 250744 to 575097\n",
      "Data columns (total 8 columns):\n",
      "enrollee_id        1014852 non-null float64\n",
      "diagnosis_id       1014852 non-null float64\n",
      "provider_id        1014852 non-null float64\n",
      "provider_status    1014852 non-null float64\n",
      "hmo_id             1014852 non-null float64\n",
      "care_id            1014852 non-null float64\n",
      "qty                1014852 non-null float64\n",
      "unit_price         1014852 non-null float64\n",
      "dtypes: float64(8)\n",
      "memory usage: 69.7 MB\n"
     ]
    }
   ],
   "source": [
    "Xtrain_new.info()"
   ]
  },
  {
   "cell_type": "markdown",
   "metadata": {},
   "source": [
    "# 3 models upsampling training data and testing data"
   ]
  },
  {
   "cell_type": "code",
   "execution_count": 50,
   "metadata": {},
   "outputs": [],
   "source": [
    "\n",
    "Xy = X.copy()\n",
    "Xy['y'] = y\n",
    "\n",
    "class0up = Xy.loc[Xy.y == 0]\n",
    "class1up = Xy.loc[Xy.y == 1]\n",
    "\n",
    "class1up = class1up.sample(n=class0up.shape[0],replace=True,random_state=0)\n",
    "Xy = pd.concat([class0up,class1up])\n",
    "yup = Xy['y']\n",
    "Xup = Xy.drop(columns=['y'])\n",
    "# re-do train_test split of balanced data\n",
    "Xuptrain,Xuptest,yuptrain,yuptest = train_test_split(Xup.values,yup.values,test_size = 0.2,random_state=42)"
   ]
  },
  {
   "cell_type": "code",
   "execution_count": 51,
   "metadata": {},
   "outputs": [
    {
     "name": "stdout",
     "output_type": "stream",
     "text": [
      "nb_up_train:\n",
      "ComplementNB(alpha=1.0, class_prior=None, fit_prior=True, norm=False)\n",
      "cross_validate_run: 0\n",
      "f1_socre: 0.395\n",
      "precision: 0.574\n",
      "recall/sensitivity(true positive rate): 0.302\n",
      "false positive rate (FPR): 0.223\n",
      "spcificity(true negative rate): 0.777\n",
      "ROC_AUC_score: 0.539\n",
      "cross_validate_run: 1\n",
      "f1_socre: 0.393\n",
      "precision: 0.573\n",
      "recall/sensitivity(true positive rate): 0.299\n",
      "false positive rate (FPR): 0.222\n",
      "spcificity(true negative rate): 0.778\n",
      "ROC_AUC_score: 0.538\n",
      "cross_validate_run: 2\n",
      "f1_socre: 0.394\n",
      "precision: 0.573\n",
      "recall/sensitivity(true positive rate): 0.301\n",
      "false positive rate (FPR): 0.225\n",
      "spcificity(true negative rate): 0.775\n",
      "ROC_AUC_score: 0.538\n",
      "cross_validate_run: 3\n",
      "f1_socre: 0.395\n",
      "precision: 0.578\n",
      "recall/sensitivity(true positive rate): 0.300\n",
      "false positive rate (FPR): 0.220\n",
      "spcificity(true negative rate): 0.780\n",
      "ROC_AUC_score: 0.540\n",
      "\n",
      " mean scores +/- sd: \n",
      "\n",
      "f1_socre : 0.395 +/- 0.000\n",
      "precision : 0.578 +/- 0.000\n",
      "recall : 0.300 +/- 0.000\n",
      "FPR : 0.220 +/- 0.000\n",
      "specificity : 0.780 +/- 0.000\n",
      "roc_auc : 0.540 +/- 0.000\n",
      "xgb:\n",
      "XGBClassifier(base_score=0.5, booster='gbtree', colsample_bylevel=1,\n",
      "              colsample_bynode=1, colsample_bytree=1, gamma=0,\n",
      "              learning_rate=0.1, max_delta_step=0, max_depth=15,\n",
      "              min_child_weight=1, missing=None, n_estimators=300, n_jobs=4,\n",
      "              nthread=None, objective='binary:logistic', random_state=0,\n",
      "              reg_alpha=0, reg_lambda=1, scale_pos_weight=1, seed=None,\n",
      "              silent=None, subsample=1, verbosity=1)\n",
      "cross_validate_run: 0\n",
      "f1_socre: 0.974\n",
      "precision: 0.951\n",
      "recall/sensitivity(true positive rate): 0.998\n",
      "false positive rate (FPR): 0.051\n",
      "spcificity(true negative rate): 0.949\n",
      "ROC_AUC_score: 0.973\n",
      "cross_validate_run: 1\n",
      "f1_socre: 0.975\n",
      "precision: 0.953\n",
      "recall/sensitivity(true positive rate): 0.998\n",
      "false positive rate (FPR): 0.050\n",
      "spcificity(true negative rate): 0.950\n",
      "ROC_AUC_score: 0.974\n",
      "cross_validate_run: 2\n",
      "f1_socre: 0.975\n",
      "precision: 0.954\n",
      "recall/sensitivity(true positive rate): 0.998\n",
      "false positive rate (FPR): 0.048\n",
      "spcificity(true negative rate): 0.952\n",
      "ROC_AUC_score: 0.975\n",
      "cross_validate_run: 3\n",
      "f1_socre: 0.975\n",
      "precision: 0.953\n",
      "recall/sensitivity(true positive rate): 0.998\n",
      "false positive rate (FPR): 0.050\n",
      "spcificity(true negative rate): 0.950\n",
      "ROC_AUC_score: 0.974\n",
      "\n",
      " mean scores +/- sd: \n",
      "\n",
      "f1_socre : 0.975 +/- 0.000\n",
      "precision : 0.953 +/- 0.000\n",
      "recall : 0.998 +/- 0.000\n",
      "FPR : 0.050 +/- 0.000\n",
      "specificity : 0.950 +/- 0.000\n",
      "roc_auc : 0.974 +/- 0.000\n",
      "lgb:\n",
      "LGBMClassifier(boosting_type='gbdt', class_weight={1: 1}, colsample_bytree=1.0,\n",
      "               importance_type='split', learning_rate=0.1, max_depth=15,\n",
      "               min_child_samples=20, min_child_weight=0.001, min_split_gain=0.0,\n",
      "               n_estimators=300, n_jobs=4, num_leaves=100, objective=None,\n",
      "               random_state=None, reg_alpha=0.0, reg_lambda=0.0, silent=True,\n",
      "               subsample=1.0, subsample_for_bin=200000, subsample_freq=0)\n",
      "cross_validate_run: 0\n",
      "f1_socre: 0.886\n",
      "precision: 0.864\n",
      "recall/sensitivity(true positive rate): 0.909\n",
      "false positive rate (FPR): 0.142\n",
      "spcificity(true negative rate): 0.858\n",
      "ROC_AUC_score: 0.883\n",
      "cross_validate_run: 1\n",
      "f1_socre: 0.888\n",
      "precision: 0.866\n",
      "recall/sensitivity(true positive rate): 0.911\n",
      "false positive rate (FPR): 0.141\n",
      "spcificity(true negative rate): 0.859\n",
      "ROC_AUC_score: 0.885\n",
      "cross_validate_run: 2\n",
      "f1_socre: 0.888\n",
      "precision: 0.866\n",
      "recall/sensitivity(true positive rate): 0.911\n",
      "false positive rate (FPR): 0.140\n",
      "spcificity(true negative rate): 0.860\n",
      "ROC_AUC_score: 0.885\n",
      "cross_validate_run: 3\n",
      "f1_socre: 0.888\n",
      "precision: 0.867\n",
      "recall/sensitivity(true positive rate): 0.909\n",
      "false positive rate (FPR): 0.140\n",
      "spcificity(true negative rate): 0.860\n",
      "ROC_AUC_score: 0.885\n",
      "\n",
      " mean scores +/- sd: \n",
      "\n",
      "f1_socre : 0.888 +/- 0.000\n",
      "precision : 0.867 +/- 0.000\n",
      "recall : 0.909 +/- 0.000\n",
      "FPR : 0.140 +/- 0.000\n",
      "specificity : 0.860 +/- 0.000\n",
      "roc_auc : 0.885 +/- 0.000\n"
     ]
    }
   ],
   "source": [
    "# nb\n",
    "print('nb_up_train:')\n",
    "models_nb_utt, scores_nb_utt = cv(Xuptrain,yuptrain, model_nb)\n",
    "\n",
    "\n",
    "# xgb\n",
    "print('xgb:')\n",
    "\n",
    "models_xgb_utt, scores_xgb_utt = cv(Xuptrain,yuptrain,model_xgb)\n",
    "\n",
    "\n",
    "# lgb\n",
    "print('lgb:')\n",
    "\n",
    "models_lgb_utt, scores_lgb_utt = cv(Xuptrain,yuptrain,model_lgb)"
   ]
  },
  {
   "cell_type": "code",
   "execution_count": 58,
   "metadata": {},
   "outputs": [
    {
     "name": "stdout",
     "output_type": "stream",
     "text": [
      "f1_socre: 0.696\n",
      "precision: 0.534\n",
      "recall/sensitivity(true positive rate): 0.998\n",
      "false positive rate (FPR): 0.041\n",
      "spcificity(true negative rate): 0.959\n",
      "ROC_AUC_score: 0.979\n",
      "f1_socre: 0.378\n",
      "precision: 0.238\n",
      "recall/sensitivity(true positive rate): 0.920\n",
      "false positive rate (FPR): 0.138\n",
      "spcificity(true negative rate): 0.862\n",
      "ROC_AUC_score: 0.891\n"
     ]
    }
   ],
   "source": [
    "test_scores_xgb_utt = evaluation(ytest.values,Xtest.values,models_xgb_utt[0])\n",
    "test_scores_lgb_utt = evaluation(ytest.values,Xtest.values,models_lgb_utt[0])"
   ]
  },
  {
   "cell_type": "code",
   "execution_count": 60,
   "metadata": {},
   "outputs": [],
   "source": [
    "pickle.dump(models_xgb_utt[0],open(\"Models/upsample/xgb.dat\", \"wb\"))\n",
    "pickle.dump(models_lgb_utt[0],open(\"Models/upsample/lgb.dat\", \"wb\"))"
   ]
  },
  {
   "cell_type": "markdown",
   "metadata": {},
   "source": [
    "# plot performance\n",
    "## plot scores"
   ]
  },
  {
   "cell_type": "code",
   "execution_count": 61,
   "metadata": {},
   "outputs": [
    {
     "data": {
      "text/plain": [
       "({'f1_socre': [0.09693438757109168],\n",
       "  'precision': [0.05800517962680125],\n",
       "  'recall': [0.29475282605027836],\n",
       "  'FPR': [0.22375311524022845],\n",
       "  'specificity': [0.7762468847597715],\n",
       "  'roc_auc': [0.535499855405025]},\n",
       " {'f1_socre': [0.46197382384152813],\n",
       "  'precision': [0.7670321064996085],\n",
       "  'recall': [0.33052134300658004],\n",
       "  'FPR': [0.0046925770529038235],\n",
       "  'specificity': [0.9953074229470962],\n",
       "  'roc_auc': [0.6629143829768381]},\n",
       " {'f1_socre': [0.29869595058339055],\n",
       "  'precision': [0.801178203240059],\n",
       "  'recall': [0.18356672853045386],\n",
       "  'FPR': [0.002129404713082428],\n",
       "  'specificity': [0.9978705952869176],\n",
       "  'roc_auc': [0.5907186619086857]})"
      ]
     },
     "execution_count": 61,
     "metadata": {},
     "output_type": "execute_result"
    }
   ],
   "source": [
    "# no upsampling, no weight\n",
    "scores_nb, scores_xgb, scores_lgb"
   ]
  },
  {
   "cell_type": "code",
   "execution_count": 63,
   "metadata": {},
   "outputs": [
    {
     "data": {
      "text/plain": [
       "({'f1_socre': [0.5146886016451234],\n",
       "  'precision': [0.3948435950599477],\n",
       "  'recall': [0.7389910578707609],\n",
       "  'FPR': [0.052943310514527275],\n",
       "  'specificity': [0.9470566894854727],\n",
       "  'roc_auc': [0.8430238736781168]},\n",
       " {'f1_socre': [0.2546476437527021],\n",
       "  'precision': [0.14845828549024],\n",
       "  'recall': [0.894381643327147],\n",
       "  'FPR': [0.23980251742957193],\n",
       "  'specificity': [0.7601974825704281],\n",
       "  'roc_auc': [0.8272895629487875]})"
      ]
     },
     "execution_count": 63,
     "metadata": {},
     "output_type": "execute_result"
    }
   ],
   "source": [
    "# no upsampling, with weight\n",
    "scores_xgb_w, scores_lgb_w"
   ]
  },
  {
   "cell_type": "code",
   "execution_count": 64,
   "metadata": {},
   "outputs": [
    {
     "data": {
      "text/plain": [
       "({'f1_socre': [0.3951383206802623],\n",
       "  'precision': [0.5775029517725773],\n",
       "  'recall': [0.3003069899244333],\n",
       "  'FPR': [0.22037725718707313],\n",
       "  'specificity': [0.7796227428129269],\n",
       "  'roc_auc': [0.5399648663686801]},\n",
       " {'f1_socre': [0.9747244678683595],\n",
       "  'precision': [0.9525594884779816],\n",
       "  'recall': [0.9979455289672544],\n",
       "  'FPR': [0.049853534516111186],\n",
       "  'specificity': [0.9501464654838888],\n",
       "  'roc_auc': [0.9740459972255716]},\n",
       " {'f1_socre': [0.8875451402228199],\n",
       "  'precision': [0.8668317574666067],\n",
       "  'recall': [0.909272670025189],\n",
       "  'FPR': [0.1401173303013794],\n",
       "  'specificity': [0.8598826696986206],\n",
       "  'roc_auc': [0.8845776698619048]})"
      ]
     },
     "execution_count": 64,
     "metadata": {},
     "output_type": "execute_result"
    }
   ],
   "source": [
    "# upsampling, without weight\n",
    "scores_nb_utt, scores_xgb_utt, scores_lgb_utt"
   ]
  },
  {
   "cell_type": "code",
   "execution_count": 170,
   "metadata": {},
   "outputs": [],
   "source": [
    "nb = [scores_nb[k][0] for k in scores_nb]\n",
    "xgb = [scores_xgb[k][0] for k in scores_xgb]\n",
    "lgb = [scores_lgb[k][0] for k in scores_lgb]\n",
    "\n",
    "xgb_w = [scores_xgb_w[k][0] for k in scores_xgb_w]\n",
    "lgb_w = [scores_lgb_w[k][0] for k in scores_lgb_w]\n",
    "\n",
    "nb_utt = [scores_nb_utt[k][0] for k in scores_nb_utt]\n",
    "xgb_utt = [scores_xgb_utt[k][0] for k in scores_xgb_utt]\n",
    "lgb_utt = [scores_lgb_utt[k][0] for k in scores_lgb_utt]"
   ]
  },
  {
   "cell_type": "code",
   "execution_count": 175,
   "metadata": {},
   "outputs": [
    {
     "data": {
      "text/plain": [
       "<matplotlib.legend.Legend at 0x1a1ee20bd0>"
      ]
     },
     "execution_count": 175,
     "metadata": {},
     "output_type": "execute_result"
    },
    {
     "data": {
      "image/png": "[encoded data removed]",
      "text/plain": [
       "<Figure size 1080x216 with 1 Axes>"
      ]
     },
     "metadata": {
      "needs_background": "light"
     },
     "output_type": "display_data"
    }
   ],
   "source": [
    "fig = plt.figure(figsize=(15,3))\n",
    "w = 0.1\n",
    "x = np.array([0,1,2,3,4,5])\n",
    "\n",
    "plt.bar(x,nb, label = 'NB',color = 'pink',width=w, edgecolor = 'y',linewidth=3)\n",
    "plt.bar(x+w, xgb, label = 'XGB',color = 'lightgreen',width=w,edgecolor = 'y',linewidth=3)\n",
    "plt.bar(x+2*w, lgb, label = 'LGB',color = 'royalblue',width=w,edgecolor = 'y',linewidth=3)\n",
    "\n",
    "plt.bar(x+3*w, xgb_w, label = 'XGB_w',color = 'lightgreen',width=w,edgecolor = 'black',linewidth=2)\n",
    "plt.bar(x+4*w, lgb_w,label = 'LGB_w',color='royalblue',width=w,edgecolor = 'black',linewidth=2)\n",
    "\n",
    "plt.bar(x+5*w, nb_utt,label = 'NB_up',color='pink',width=w,edgecolor = 'orange',linewidth=2)\n",
    "plt.bar(x+6*w, xgb_utt,label = 'XGB_up',color='lightgreen',width=w,edgecolor = 'orange',linewidth=2)\n",
    "plt.bar(x+7*w, lgb_utt,label = 'LGB_up',color='royalblue',width=w,edgecolor = 'orange',linewidth=2)\n",
    "plt.hlines(1,0,6+7*w,linestyles='dashed')\n",
    "plt.hlines(0.5,0,6+7*w,linestyles='dashed')\n",
    "plt.hlines(0.05,0,6+7*w,linestyles='dashed')\n",
    "plt.xticks(x+3*w,['f1_score','precision','sensitivity','FPR','specificity','auc_roc'],fontsize=18)\n",
    "plt.yticks(fontsize=17)\n",
    "plt.ylabel('Testing Score',fontsize=20)\n",
    "plt.legend(bbox_to_anchor=(1, 1.03), fontsize=13)#prop=dict(weight='bold')"
   ]
  },
  {
   "cell_type": "markdown",
   "metadata": {},
   "source": [
    "## plot ROC_curves"
   ]
  },
  {
   "cell_type": "code",
   "execution_count": 141,
   "metadata": {},
   "outputs": [],
   "source": [
    "model_xgb = pickle.load(open(\"Models/no_upsample/xgb.dat\", \"rb\"))\n",
    "model_nb = pickle.load(open(\"Models/no_upsample/nb.dat\", \"rb\"))\n",
    "model_lgb = pickle.load(open(\"Models/no_upsample/lgb.dat\", \"rb\"))"
   ]
  },
  {
   "cell_type": "code",
   "execution_count": 142,
   "metadata": {},
   "outputs": [],
   "source": [
    "xbg_curve = roc_curve(yuptest,model_xgb.predict_proba(Xuptest)[:,1])\n",
    "nb_curve = roc_curve(yuptest,model_nb.predict_proba(Xuptest)[:,1])\n",
    "lgb_curve = roc_curve(yuptest,model_lgb.predict_proba(Xuptest)[:,1])"
   ]
  },
  {
   "cell_type": "code",
   "execution_count": 94,
   "metadata": {},
   "outputs": [],
   "source": [
    "def plot_roc_curves(curves,colors,labels):\n",
    "    plt.plot([0,0.5,1],[0,0.5,1], linestyle='--', color = 'black') # default classification bound\n",
    "    \n",
    "    for i in range(len(curves)):\n",
    "        fpr, tpr, _ = curves[i]\n",
    "        plt.plot(fpr,tpr,color=colors[i],linewidth=2,label=labels[i])\n",
    "    \n",
    "    plt.xlabel('False Positive Rate',fontsize=20)\n",
    "    plt.ylabel('True Positive Rate',fontsize=20)\n",
    "    plt.xticks(fontsize=18)\n",
    "    plt.yticks(fontsize=18)\n",
    "    plt.legend(fontsize=18)\n",
    "\n",
    "    plt.show()\n",
    "    "
   ]
  },
  {
   "cell_type": "code",
   "execution_count": 143,
   "metadata": {},
   "outputs": [
    {
     "data": {
      "image/png": "[encoded data removed]",
      "text/plain": [
       "<Figure size 432x288 with 1 Axes>"
      ]
     },
     "metadata": {
      "needs_background": "light"
     },
     "output_type": "display_data"
    }
   ],
   "source": [
    "plot_roc_curves([nb_curve,xbg_curve,lgb_curve],['pink','lightgreen','royalblue'],['NB','XGB','LGB'])"
   ]
  },
  {
   "cell_type": "markdown",
   "metadata": {},
   "source": [
    "## parameter tiltering"
   ]
  },
  {
   "cell_type": "code",
   "execution_count": 161,
   "metadata": {},
   "outputs": [
    {
     "name": "stdout",
     "output_type": "stream",
     "text": [
      "XGBClassifier(base_score=0.5, booster='gbtree', colsample_bylevel=1,\n",
      "              colsample_bynode=1, colsample_bytree=1, gamma=0,\n",
      "              learning_rate=0.1, max_delta_step=0, max_depth=5,\n",
      "              min_child_weight=1, missing=None, n_estimators=300, n_jobs=4,\n",
      "              nthread=None, objective='binary:logistic', random_state=0,\n",
      "              reg_alpha=0, reg_lambda=1, scale_pos_weight=1, seed=None,\n",
      "              silent=None, subsample=1, verbosity=1)\n",
      "cross_validate_run: 0\n",
      "f1_socre: 0.800\n",
      "precision: 0.800\n",
      "recall/sensitivity(true positive rate): 0.801\n",
      "false positive rate (FPR): 0.200\n",
      "spcificity(true negative rate): 0.800\n",
      "ROC_AUC_score: 0.800\n",
      "cross_validate_run: 1\n",
      "f1_socre: 0.804\n",
      "precision: 0.802\n",
      "recall/sensitivity(true positive rate): 0.806\n",
      "false positive rate (FPR): 0.199\n",
      "spcificity(true negative rate): 0.801\n",
      "ROC_AUC_score: 0.804\n",
      "cross_validate_run: 2\n",
      "f1_socre: 0.804\n",
      "precision: 0.803\n",
      "recall/sensitivity(true positive rate): 0.805\n",
      "false positive rate (FPR): 0.198\n",
      "spcificity(true negative rate): 0.802\n",
      "ROC_AUC_score: 0.804\n",
      "cross_validate_run: 3\n",
      "f1_socre: 0.802\n",
      "precision: 0.801\n",
      "recall/sensitivity(true positive rate): 0.803\n",
      "false positive rate (FPR): 0.200\n",
      "spcificity(true negative rate): 0.800\n",
      "ROC_AUC_score: 0.802\n",
      "\n",
      " mean scores +/- sd: \n",
      "\n",
      "f1_socre : 0.802 +/- 0.000\n",
      "precision : 0.801 +/- 0.000\n",
      "recall : 0.803 +/- 0.000\n",
      "FPR : 0.200 +/- 0.000\n",
      "specificity : 0.800 +/- 0.000\n",
      "roc_auc : 0.802 +/- 0.000\n",
      "XGBClassifier(base_score=0.5, booster='gbtree', colsample_bylevel=1,\n",
      "              colsample_bynode=1, colsample_bytree=1, gamma=0,\n",
      "              learning_rate=0.1, max_delta_step=0, max_depth=10,\n",
      "              min_child_weight=1, missing=None, n_estimators=300, n_jobs=4,\n",
      "              nthread=None, objective='binary:logistic', random_state=0,\n",
      "              reg_alpha=0, reg_lambda=1, scale_pos_weight=1, seed=None,\n",
      "              silent=None, subsample=1, verbosity=1)\n",
      "cross_validate_run: 0\n",
      "f1_socre: 0.927\n",
      "precision: 0.903\n",
      "recall/sensitivity(true positive rate): 0.953\n",
      "false positive rate (FPR): 0.102\n",
      "spcificity(true negative rate): 0.898\n",
      "ROC_AUC_score: 0.925\n",
      "cross_validate_run: 1\n",
      "f1_socre: 0.932\n",
      "precision: 0.906\n",
      "recall/sensitivity(true positive rate): 0.959\n",
      "false positive rate (FPR): 0.099\n",
      "spcificity(true negative rate): 0.901\n",
      "ROC_AUC_score: 0.930\n",
      "cross_validate_run: 2\n",
      "f1_socre: 0.929\n",
      "precision: 0.907\n",
      "recall/sensitivity(true positive rate): 0.953\n",
      "false positive rate (FPR): 0.098\n",
      "spcificity(true negative rate): 0.902\n",
      "ROC_AUC_score: 0.928\n",
      "cross_validate_run: 3\n",
      "f1_socre: 0.931\n",
      "precision: 0.906\n",
      "recall/sensitivity(true positive rate): 0.956\n",
      "false positive rate (FPR): 0.099\n",
      "spcificity(true negative rate): 0.901\n",
      "ROC_AUC_score: 0.929\n",
      "\n",
      " mean scores +/- sd: \n",
      "\n",
      "f1_socre : 0.931 +/- 0.000\n",
      "precision : 0.906 +/- 0.000\n",
      "recall : 0.956 +/- 0.000\n",
      "FPR : 0.099 +/- 0.000\n",
      "specificity : 0.901 +/- 0.000\n",
      "roc_auc : 0.929 +/- 0.000\n",
      "XGBClassifier(base_score=0.5, booster='gbtree', colsample_bylevel=1,\n",
      "              colsample_bynode=1, colsample_bytree=1, gamma=0,\n",
      "              learning_rate=0.1, max_delta_step=0, max_depth=10,\n",
      "              min_child_weight=1, missing=None, n_estimators=300, n_jobs=4,\n",
      "              nthread=None, objective='binary:logistic', random_state=0,\n",
      "              reg_alpha=0, reg_lambda=1, scale_pos_weight=3, seed=None,\n",
      "              silent=None, subsample=1, verbosity=1)\n",
      "cross_validate_run: 0\n",
      "f1_socre: 0.901\n",
      "precision: 0.824\n",
      "recall/sensitivity(true positive rate): 0.995\n",
      "false positive rate (FPR): 0.211\n",
      "spcificity(true negative rate): 0.789\n",
      "ROC_AUC_score: 0.892\n",
      "cross_validate_run: 1\n",
      "f1_socre: 0.905\n",
      "precision: 0.829\n",
      "recall/sensitivity(true positive rate): 0.995\n",
      "false positive rate (FPR): 0.205\n",
      "spcificity(true negative rate): 0.795\n",
      "ROC_AUC_score: 0.895\n",
      "cross_validate_run: 2\n",
      "f1_socre: 0.903\n",
      "precision: 0.827\n",
      "recall/sensitivity(true positive rate): 0.994\n",
      "false positive rate (FPR): 0.208\n",
      "spcificity(true negative rate): 0.792\n",
      "ROC_AUC_score: 0.893\n",
      "cross_validate_run: 3\n",
      "f1_socre: 0.906\n",
      "precision: 0.832\n",
      "recall/sensitivity(true positive rate): 0.996\n",
      "false positive rate (FPR): 0.202\n",
      "spcificity(true negative rate): 0.798\n",
      "ROC_AUC_score: 0.897\n",
      "\n",
      " mean scores +/- sd: \n",
      "\n",
      "f1_socre : 0.906 +/- 0.000\n",
      "precision : 0.832 +/- 0.000\n",
      "recall : 0.996 +/- 0.000\n",
      "FPR : 0.202 +/- 0.000\n",
      "specificity : 0.798 +/- 0.000\n",
      "roc_auc : 0.897 +/- 0.000\n"
     ]
    }
   ],
   "source": [
    "cls5 = XGBClassifier(base_score=0.5, booster='gbtree', colsample_bylevel=1,\n",
    "              colsample_bynode=1, colsample_bytree=1, gamma=0,\n",
    "              learning_rate=0.1, max_delta_step=0, max_depth=5,\n",
    "              min_child_weight=1, missing=None, n_estimators=300, n_jobs=4,\n",
    "              nthread=None, objective='binary:logistic', random_state=0,\n",
    "              reg_alpha=0, reg_lambda=1, scale_pos_weight=1, seed=None,\n",
    "              silent=None, subsample=1, verbosity=1)\n",
    "models_cls5, scores_cls5 = cv(Xuptrain,yuptrain,cls5)\n",
    "\n",
    "cls10 = XGBClassifier(base_score=0.5, booster='gbtree', colsample_bylevel=1,\n",
    "              colsample_bynode=1, colsample_bytree=1, gamma=0,\n",
    "              learning_rate=0.1, max_delta_step=0, max_depth=10,\n",
    "              min_child_weight=1, missing=None, n_estimators=300, n_jobs=4,\n",
    "              nthread=None, objective='binary:logistic', random_state=0,\n",
    "              reg_alpha=0, reg_lambda=1, scale_pos_weight=1, seed=None,\n",
    "              silent=None, subsample=1, verbosity=1)\n",
    "models_cls10, scores_cls10 = cv(Xuptrain,yuptrain,cls10)\n",
    "\n",
    "cls_w = XGBClassifier(base_score=0.5, booster='gbtree', colsample_bylevel=1,\n",
    "              colsample_bynode=1, colsample_bytree=1, gamma=0,\n",
    "              learning_rate=0.1, max_delta_step=0, max_depth=10,\n",
    "              min_child_weight=1, missing=None, n_estimators=300, n_jobs=4,\n",
    "              nthread=None, objective='binary:logistic', random_state=0,\n",
    "              reg_alpha=0, reg_lambda=1, scale_pos_weight=3, seed=None,\n",
    "              silent=None, subsample=1, verbosity=1)\n",
    "models_cls_w, scores_cls_w = cv(Xuptrain,yuptrain,cls_w)\n"
   ]
  },
  {
   "cell_type": "code",
   "execution_count": 165,
   "metadata": {},
   "outputs": [
    {
     "data": {
      "image/png": "[encoded data removed]",
      "text/plain": [
       "<Figure size 432x288 with 1 Axes>"
      ]
     },
     "metadata": {
      "needs_background": "light"
     },
     "output_type": "display_data"
    }
   ],
   "source": [
    "plot_roc_curves([xgb5,xgb10,xgb_w],['red','green','blue'],['XGB5','XGB10','XGB_w'])"
   ]
  },
  {
   "cell_type": "code",
   "execution_count": 132,
   "metadata": {},
   "outputs": [],
   "source": [
    "xgb = roc_curve(yuptest,pickle.load(open(\"Models/no_upsample/xgb.dat\", \"rb\")).predict_proba(Xuptest)[:,1])"
   ]
  },
  {
   "cell_type": "code",
   "execution_count": 138,
   "metadata": {},
   "outputs": [],
   "source": [
    "xgb_w = roc_curve(yuptest,pickle.load(open(\"Models/no_upsample/xgb_w50.dat\", \"rb\")).predict_proba(Xuptest)[:,1])"
   ]
  },
  {
   "cell_type": "code",
   "execution_count": 134,
   "metadata": {},
   "outputs": [],
   "source": [
    "xgb_up = roc_curve(yuptest,pickle.load(open(\"Models/upsample/xgb.dat\", \"rb\")).predict_proba(Xuptest)[:,1])"
   ]
  },
  {
   "cell_type": "code",
   "execution_count": 140,
   "metadata": {},
   "outputs": [
    {
     "data": {
      "image/png": "[encoded data removed]",
      "text/plain": [
       "<Figure size 432x288 with 1 Axes>"
      ]
     },
     "metadata": {
      "needs_background": "light"
     },
     "output_type": "display_data"
    }
   ],
   "source": [
    "plot_roc_curves([xgb,xgb_up],['y','orange'],['XGB','XGB_up'])"
   ]
  },
  {
   "cell_type": "markdown",
   "metadata": {},
   "source": [
    "## plot feature importance"
   ]
  },
  {
   "cell_type": "code",
   "execution_count": 147,
   "metadata": {},
   "outputs": [],
   "source": [
    "best = pickle.load(open(\"Models/upsample/xgb.dat\", \"rb\"))"
   ]
  },
  {
   "cell_type": "code",
   "execution_count": 145,
   "metadata": {},
   "outputs": [
    {
     "data": {
      "text/plain": [
       "Index(['enrollee_id', 'diagnosis_id', 'provider_id', 'provider_status',\n",
       "       'hmo_id', 'care_id', 'qty', 'unit_price'],\n",
       "      dtype='object')"
      ]
     },
     "execution_count": 145,
     "metadata": {},
     "output_type": "execute_result"
    }
   ],
   "source": [
    "X.columns"
   ]
  },
  {
   "cell_type": "code",
   "execution_count": 158,
   "metadata": {},
   "outputs": [],
   "source": [
    "columns = ['enrollee', 'diagnosis', 'provider', 'provider_status',\\\n",
    "       'hmo_id', 'care', 'qty', 'care_bill']"
   ]
  },
  {
   "cell_type": "code",
   "execution_count": 153,
   "metadata": {},
   "outputs": [],
   "source": [
    "def feature_importance(model,columns):\n",
    "    # Plot importance for beset model: model_mse\n",
    "    fig, ax = plt.subplots(figsize=(15,5))\n",
    "\n",
    "    g1 = xgboost.plot_importance(model,ax=ax,grid=False)\n",
    "\n",
    "    oldy = g1.yaxis.get_majorticklabels()\n",
    "    feature_dict = dict(zip(['f'+str(i) for i in range(len(columns))], columns))\n",
    "    newy = [feature_dict[y._text] for y in oldy]\n",
    "    g1.set_yticklabels(newy,rotation=0,fontsize=14)\n",
    "\n",
    "    fig.savefig('feature_importance.jpg')\n",
    "    plt.title('Feature Importance',fontsize=20)\n",
    "    plt.xlabel('F score',fontsize = 18)\n",
    "    plt.ylabel('Features', fontsize = 18)\n",
    "    plt.show()"
   ]
  },
  {
   "cell_type": "code",
   "execution_count": 159,
   "metadata": {},
   "outputs": [
    {
     "data": {
      "image/png": "[encoded data removed]",
      "text/plain": [
       "<Figure size 1080x360 with 1 Axes>"
      ]
     },
     "metadata": {
      "needs_background": "light"
     },
     "output_type": "display_data"
    }
   ],
   "source": [
    "feature_importance(best,columns)"
   ]
  },
  {
   "cell_type": "code",
   "execution_count": null,
   "metadata": {},
   "outputs": [],
   "source": []
  }
 ],
 "metadata": {
  "kernelspec": {
   "display_name": "Python 3",
   "language": "python",
   "name": "python3"
  },
  "language_info": {
   "codemirror_mode": {
    "name": "ipython",
    "version": 3
   },
   "file_extension": ".py",
   "mimetype": "text/x-python",
   "name": "python",
   "nbconvert_exporter": "python",
   "pygments_lexer": "ipython3",
   "version": "3.7.4"
  }
 },
 "nbformat": 4,
 "nbformat_minor": 2
}
