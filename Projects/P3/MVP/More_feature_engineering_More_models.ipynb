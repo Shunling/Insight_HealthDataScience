{
 "cells": [
  {
   "cell_type": "code",
   "execution_count": 1,
   "metadata": {},
   "outputs": [
    {
     "name": "stderr",
     "output_type": "stream",
     "text": [
      "/Users/shunling/opt/anaconda3/lib/python3.7/site-packages/lightgbm/__init__.py:48: UserWarning: Starting from version 2.2.1, the library file in distribution wheels for macOS is built by the Apple Clang (Xcode_8.3.3) compiler.\n",
      "This means that in case of installing LightGBM from PyPI via the ``pip install lightgbm`` command, you don't need to install the gcc compiler anymore.\n",
      "Instead of that, you need to install the OpenMP library, which is required for running LightGBM on the system with the Apple Clang compiler.\n",
      "You can install the OpenMP library by the following command: ``brew install libomp``.\n",
      "  \"You can install the OpenMP library by the following command: ``brew install libomp``.\", UserWarning)\n"
     ]
    }
   ],
   "source": [
    "from lightgbm import LGBMClassifier\n",
    "import lightgbm\n",
    "import pandas as pd\n",
    "import numpy as np\n",
    "\n",
    "from sklearn.model_selection import train_test_split\n",
    "from sklearn.model_selection import KFold\n",
    "import pickle\n",
    "\n",
    "from sklearn.metrics import confusion_matrix,f1_score,roc_auc_score,roc_curve\n",
    "import matplotlib.pyplot as plt\n",
    "\n",
    "from tqdm import tqdm \n",
    "from collections import Counter\n",
    "%matplotlib inline"
   ]
  },
  {
   "cell_type": "markdown",
   "metadata": {},
   "source": [
    "# Feature Engineering"
   ]
  },
  {
   "cell_type": "code",
   "execution_count": 2,
   "metadata": {},
   "outputs": [],
   "source": [
    "df = pd.read_csv('Processed_data/feature_engineered.csv',index_col=0)"
   ]
  },
  {
   "cell_type": "code",
   "execution_count": 3,
   "metadata": {},
   "outputs": [
    {
     "data": {
      "text/html": [
       "<div>\n",
       "<style scoped>\n",
       "    .dataframe tbody tr th:only-of-type {\n",
       "        vertical-align: middle;\n",
       "    }\n",
       "\n",
       "    .dataframe tbody tr th {\n",
       "        vertical-align: top;\n",
       "    }\n",
       "\n",
       "    .dataframe thead th {\n",
       "        text-align: right;\n",
       "    }\n",
       "</style>\n",
       "<table border=\"1\" class=\"dataframe\">\n",
       "  <thead>\n",
       "    <tr style=\"text-align: right;\">\n",
       "      <th></th>\n",
       "      <th>claim_id</th>\n",
       "      <th>enrollee_id</th>\n",
       "      <th>enrollee_cum_claim_count</th>\n",
       "      <th>enrollee_cum_claim_amount</th>\n",
       "      <th>provider_id</th>\n",
       "      <th>hmo_id</th>\n",
       "      <th>care_id</th>\n",
       "      <th>diagnosis_id</th>\n",
       "      <th>qty</th>\n",
       "      <th>amount</th>\n",
       "      <th>unit_price</th>\n",
       "      <th>tariffs</th>\n",
       "      <th>create_m</th>\n",
       "      <th>vetted_m</th>\n",
       "      <th>label</th>\n",
       "    </tr>\n",
       "  </thead>\n",
       "  <tbody>\n",
       "    <tr>\n",
       "      <td>0</td>\n",
       "      <td>10.0</td>\n",
       "      <td>89.0</td>\n",
       "      <td>1</td>\n",
       "      <td>1816.08</td>\n",
       "      <td>1.0</td>\n",
       "      <td>1.0</td>\n",
       "      <td>586.0</td>\n",
       "      <td>9.0</td>\n",
       "      <td>6.0</td>\n",
       "      <td>1816.08</td>\n",
       "      <td>302.68</td>\n",
       "      <td>302.68</td>\n",
       "      <td>3</td>\n",
       "      <td>5</td>\n",
       "      <td>0</td>\n",
       "    </tr>\n",
       "    <tr>\n",
       "      <td>1</td>\n",
       "      <td>11.0</td>\n",
       "      <td>89.0</td>\n",
       "      <td>2</td>\n",
       "      <td>3632.16</td>\n",
       "      <td>1.0</td>\n",
       "      <td>1.0</td>\n",
       "      <td>586.0</td>\n",
       "      <td>15925.0</td>\n",
       "      <td>6.0</td>\n",
       "      <td>1816.08</td>\n",
       "      <td>302.68</td>\n",
       "      <td>302.68</td>\n",
       "      <td>3</td>\n",
       "      <td>5</td>\n",
       "      <td>0</td>\n",
       "    </tr>\n",
       "    <tr>\n",
       "      <td>2</td>\n",
       "      <td>13.0</td>\n",
       "      <td>74.0</td>\n",
       "      <td>1</td>\n",
       "      <td>115.00</td>\n",
       "      <td>1.0</td>\n",
       "      <td>1.0</td>\n",
       "      <td>434.0</td>\n",
       "      <td>4342.0</td>\n",
       "      <td>5.0</td>\n",
       "      <td>115.00</td>\n",
       "      <td>23.00</td>\n",
       "      <td>23.00</td>\n",
       "      <td>3</td>\n",
       "      <td>5</td>\n",
       "      <td>0</td>\n",
       "    </tr>\n",
       "    <tr>\n",
       "      <td>3</td>\n",
       "      <td>13.0</td>\n",
       "      <td>74.0</td>\n",
       "      <td>2</td>\n",
       "      <td>1380.00</td>\n",
       "      <td>1.0</td>\n",
       "      <td>1.0</td>\n",
       "      <td>1102.0</td>\n",
       "      <td>4342.0</td>\n",
       "      <td>10.0</td>\n",
       "      <td>1265.00</td>\n",
       "      <td>126.50</td>\n",
       "      <td>126.50</td>\n",
       "      <td>3</td>\n",
       "      <td>5</td>\n",
       "      <td>0</td>\n",
       "    </tr>\n",
       "    <tr>\n",
       "      <td>4</td>\n",
       "      <td>13.0</td>\n",
       "      <td>74.0</td>\n",
       "      <td>3</td>\n",
       "      <td>1518.00</td>\n",
       "      <td>1.0</td>\n",
       "      <td>1.0</td>\n",
       "      <td>299.0</td>\n",
       "      <td>4342.0</td>\n",
       "      <td>15.0</td>\n",
       "      <td>138.00</td>\n",
       "      <td>9.20</td>\n",
       "      <td>9.20</td>\n",
       "      <td>3</td>\n",
       "      <td>5</td>\n",
       "      <td>0</td>\n",
       "    </tr>\n",
       "  </tbody>\n",
       "</table>\n",
       "</div>"
      ],
      "text/plain": [
       "   claim_id  enrollee_id  enrollee_cum_claim_count  enrollee_cum_claim_amount  \\\n",
       "0      10.0         89.0                         1                    1816.08   \n",
       "1      11.0         89.0                         2                    3632.16   \n",
       "2      13.0         74.0                         1                     115.00   \n",
       "3      13.0         74.0                         2                    1380.00   \n",
       "4      13.0         74.0                         3                    1518.00   \n",
       "\n",
       "   provider_id  hmo_id  care_id  diagnosis_id   qty   amount  unit_price  \\\n",
       "0          1.0     1.0    586.0           9.0   6.0  1816.08      302.68   \n",
       "1          1.0     1.0    586.0       15925.0   6.0  1816.08      302.68   \n",
       "2          1.0     1.0    434.0        4342.0   5.0   115.00       23.00   \n",
       "3          1.0     1.0   1102.0        4342.0  10.0  1265.00      126.50   \n",
       "4          1.0     1.0    299.0        4342.0  15.0   138.00        9.20   \n",
       "\n",
       "   tariffs  create_m  vetted_m  label  \n",
       "0   302.68         3         5      0  \n",
       "1   302.68         3         5      0  \n",
       "2    23.00         3         5      0  \n",
       "3   126.50         3         5      0  \n",
       "4     9.20         3         5      0  "
      ]
     },
     "execution_count": 3,
     "metadata": {},
     "output_type": "execute_result"
    }
   ],
   "source": [
    "df.head()"
   ]
  },
  {
   "cell_type": "code",
   "execution_count": 3,
   "metadata": {},
   "outputs": [],
   "source": [
    "df['tariffs'] = df['tariffs'].fillna(0)"
   ]
  },
  {
   "cell_type": "code",
   "execution_count": 4,
   "metadata": {},
   "outputs": [],
   "source": [
    "df.dropna(inplace=True)"
   ]
  },
  {
   "cell_type": "code",
   "execution_count": 5,
   "metadata": {},
   "outputs": [],
   "source": [
    "# training and testing data\n",
    "y = df['label']\n",
    "X = df.drop(columns=['claim_id','enrollee_id','vetted_m','label'])\n"
   ]
  },
  {
   "cell_type": "code",
   "execution_count": 10,
   "metadata": {},
   "outputs": [],
   "source": [
    "Xtrain,Xtest,ytrain,ytest = train_test_split(X,y,random_state=0,test_size=0.2)"
   ]
  },
  {
   "cell_type": "code",
   "execution_count": 11,
   "metadata": {},
   "outputs": [],
   "source": [
    "# tranform value of each feature according to their probability in two types of groups\n",
    "def prob_transform(col,df,labels): # A is the column value array\n",
    "    counts = {}\n",
    "    value = {} # normalized value in total\n",
    "    total = {} # total claim items each feature pair\n",
    "    dif = {} # diference between false claim (1) and legal claim (0)\n",
    "    \n",
    "    for i,label in zip(df[col],labels):\n",
    "        if i in counts:\n",
    "            if label:\n",
    "                counts[i][1] += 1\n",
    "            else:\n",
    "                counts[i][0] += 1\n",
    "        else:\n",
    "            if label:\n",
    "                counts[i] = {1:1,0:0}\n",
    "            else:\n",
    "                counts[i] = {1:0,0:1}\n",
    "        total[i] = counts[i][1] + counts[i][0]\n",
    "        dif[i] = counts[i][1] - counts[i][0]\n",
    "        value[i] = dif[i]/total[i]\n",
    "        \n",
    "    prob_dif = []\n",
    "    for loc in range(df.shape[0]):\n",
    "        v = df[col].iloc[loc] # each row value of target column\n",
    "        prob_dif.append(value[v]) # imputate the value to its probability in \n",
    "        \n",
    "    return prob_dif"
   ]
  },
  {
   "cell_type": "code",
   "execution_count": 12,
   "metadata": {},
   "outputs": [
    {
     "name": "stderr",
     "output_type": "stream",
     "text": [
      "  0%|          | 0/11 [00:00<?, ?it/s]/Users/shunling/opt/anaconda3/lib/python3.7/site-packages/ipykernel_launcher.py:2: SettingWithCopyWarning: \n",
      "A value is trying to be set on a copy of a slice from a DataFrame.\n",
      "Try using .loc[row_indexer,col_indexer] = value instead\n",
      "\n",
      "See the caveats in the documentation: http://pandas.pydata.org/pandas-docs/stable/user_guide/indexing.html#returning-a-view-versus-a-copy\n",
      "  \n",
      "100%|██████████| 11/11 [01:22<00:00,  7.47s/it]\n"
     ]
    }
   ],
   "source": [
    "for col in tqdm(X.columns):\n",
    "    Xtrain[col] = prob_transform(col,Xtrain,ytrain)"
   ]
  },
  {
   "cell_type": "code",
   "execution_count": 14,
   "metadata": {},
   "outputs": [
    {
     "data": {
      "text/html": [
       "<div>\n",
       "<style scoped>\n",
       "    .dataframe tbody tr th:only-of-type {\n",
       "        vertical-align: middle;\n",
       "    }\n",
       "\n",
       "    .dataframe tbody tr th {\n",
       "        vertical-align: top;\n",
       "    }\n",
       "\n",
       "    .dataframe thead th {\n",
       "        text-align: right;\n",
       "    }\n",
       "</style>\n",
       "<table border=\"1\" class=\"dataframe\">\n",
       "  <thead>\n",
       "    <tr style=\"text-align: right;\">\n",
       "      <th></th>\n",
       "      <th>enrollee_cum_claim_count</th>\n",
       "      <th>enrollee_cum_claim_amount</th>\n",
       "      <th>provider_id</th>\n",
       "      <th>hmo_id</th>\n",
       "      <th>care_id</th>\n",
       "      <th>diagnosis_id</th>\n",
       "      <th>qty</th>\n",
       "      <th>amount</th>\n",
       "      <th>unit_price</th>\n",
       "      <th>tariffs</th>\n",
       "      <th>create_m</th>\n",
       "    </tr>\n",
       "  </thead>\n",
       "  <tbody>\n",
       "    <tr>\n",
       "      <td>652088</td>\n",
       "      <td>-0.935657</td>\n",
       "      <td>1.000000</td>\n",
       "      <td>-0.730042</td>\n",
       "      <td>-0.914951</td>\n",
       "      <td>-0.895044</td>\n",
       "      <td>-0.898870</td>\n",
       "      <td>-0.924615</td>\n",
       "      <td>-0.894549</td>\n",
       "      <td>-0.883454</td>\n",
       "      <td>-0.891726</td>\n",
       "      <td>-0.836194</td>\n",
       "    </tr>\n",
       "    <tr>\n",
       "      <td>634079</td>\n",
       "      <td>-0.918791</td>\n",
       "      <td>-1.000000</td>\n",
       "      <td>-0.756679</td>\n",
       "      <td>-0.914951</td>\n",
       "      <td>-1.000000</td>\n",
       "      <td>-0.882548</td>\n",
       "      <td>-0.924433</td>\n",
       "      <td>-0.929750</td>\n",
       "      <td>-0.916982</td>\n",
       "      <td>-0.927192</td>\n",
       "      <td>-0.897087</td>\n",
       "    </tr>\n",
       "    <tr>\n",
       "      <td>260284</td>\n",
       "      <td>-0.916866</td>\n",
       "      <td>-1.000000</td>\n",
       "      <td>-0.935940</td>\n",
       "      <td>-0.914951</td>\n",
       "      <td>-0.988571</td>\n",
       "      <td>-0.939440</td>\n",
       "      <td>-0.890627</td>\n",
       "      <td>-0.925671</td>\n",
       "      <td>-0.863585</td>\n",
       "      <td>-0.856610</td>\n",
       "      <td>-0.941105</td>\n",
       "    </tr>\n",
       "    <tr>\n",
       "      <td>209538</td>\n",
       "      <td>-0.905313</td>\n",
       "      <td>-0.333333</td>\n",
       "      <td>-0.942508</td>\n",
       "      <td>-0.914951</td>\n",
       "      <td>-0.868996</td>\n",
       "      <td>-0.936244</td>\n",
       "      <td>-0.924615</td>\n",
       "      <td>-0.905929</td>\n",
       "      <td>-0.913715</td>\n",
       "      <td>-0.922789</td>\n",
       "      <td>-0.938208</td>\n",
       "    </tr>\n",
       "    <tr>\n",
       "      <td>634881</td>\n",
       "      <td>-0.961165</td>\n",
       "      <td>0.000000</td>\n",
       "      <td>-0.960444</td>\n",
       "      <td>-0.914951</td>\n",
       "      <td>-1.000000</td>\n",
       "      <td>-0.979296</td>\n",
       "      <td>-0.910280</td>\n",
       "      <td>-0.930367</td>\n",
       "      <td>-0.883454</td>\n",
       "      <td>-0.891726</td>\n",
       "      <td>-0.897087</td>\n",
       "    </tr>\n",
       "  </tbody>\n",
       "</table>\n",
       "</div>"
      ],
      "text/plain": [
       "        enrollee_cum_claim_count  enrollee_cum_claim_amount  provider_id  \\\n",
       "652088                 -0.935657                   1.000000    -0.730042   \n",
       "634079                 -0.918791                  -1.000000    -0.756679   \n",
       "260284                 -0.916866                  -1.000000    -0.935940   \n",
       "209538                 -0.905313                  -0.333333    -0.942508   \n",
       "634881                 -0.961165                   0.000000    -0.960444   \n",
       "\n",
       "          hmo_id   care_id  diagnosis_id       qty    amount  unit_price  \\\n",
       "652088 -0.914951 -0.895044     -0.898870 -0.924615 -0.894549   -0.883454   \n",
       "634079 -0.914951 -1.000000     -0.882548 -0.924433 -0.929750   -0.916982   \n",
       "260284 -0.914951 -0.988571     -0.939440 -0.890627 -0.925671   -0.863585   \n",
       "209538 -0.914951 -0.868996     -0.936244 -0.924615 -0.905929   -0.913715   \n",
       "634881 -0.914951 -1.000000     -0.979296 -0.910280 -0.930367   -0.883454   \n",
       "\n",
       "         tariffs  create_m  \n",
       "652088 -0.891726 -0.836194  \n",
       "634079 -0.927192 -0.897087  \n",
       "260284 -0.856610 -0.941105  \n",
       "209538 -0.922789 -0.938208  \n",
       "634881 -0.891726 -0.897087  "
      ]
     },
     "execution_count": 14,
     "metadata": {},
     "output_type": "execute_result"
    }
   ],
   "source": [
    "Xtrain.head()"
   ]
  },
  {
   "cell_type": "code",
   "execution_count": 18,
   "metadata": {},
   "outputs": [],
   "source": [
    "# Calculate probability difference between \n",
    "\n",
    "def NorCount(col1,col2,df,labels):\n",
    "    counts = {}\n",
    "    value = {} # normalized value in total\n",
    "    total = {} # total claim items each feature pair\n",
    "    dif = {} # diference between false claim (1) and legal claim (0)\n",
    "    \n",
    "    for x,y,label in zip(df[col1],df[col2],labels):\n",
    "        if (x,y) in counts:\n",
    "            if label:\n",
    "                counts[(x,y)][1] += 1\n",
    "            else:\n",
    "                counts[(x,y)][0] += 1\n",
    "        else:\n",
    "            if label:\n",
    "                counts[(x,y)] = {1:1,0:0}\n",
    "            else:\n",
    "                counts[(x,y)] = {1:0,0:1}\n",
    "        \n",
    "        # normalized to total counts of each feature pair\n",
    "    \n",
    "        total[(x,y)] = counts[(x,y)][1] + counts[(x,y)][0]\n",
    "        dif[(x,y)] = counts[(x,y)][1] - counts[(x,y)][0] # positive is associated with false claim    \n",
    "        value[(x,y)] = dif[(x,y)]/total[(x,y)]\n",
    "        \n",
    "    return value,total,dif"
   ]
  },
  {
   "cell_type": "code",
   "execution_count": 16,
   "metadata": {},
   "outputs": [],
   "source": [
    "columns = ['enrollee_cum_claim_count', 'enrollee_cum_claim_amount', 'provider_id',\n",
    "       'care_id', 'diagnosis_id', 'qty', 'amount', 'unit_price',\n",
    "       'tariffs', 'create_m']"
   ]
  },
  {
   "cell_type": "code",
   "execution_count": 20,
   "metadata": {},
   "outputs": [
    {
     "name": "stderr",
     "output_type": "stream",
     "text": [
      "  0%|          | 0/10 [00:00<?, ?it/s]/Users/shunling/opt/anaconda3/lib/python3.7/site-packages/ipykernel_launcher.py:10: SettingWithCopyWarning: \n",
      "A value is trying to be set on a copy of a slice from a DataFrame.\n",
      "Try using .loc[row_indexer,col_indexer] = value instead\n",
      "\n",
      "See the caveats in the documentation: http://pandas.pydata.org/pandas-docs/stable/user_guide/indexing.html#returning-a-view-versus-a-copy\n",
      "  # Remove the CWD from sys.path while we load stuff.\n",
      "100%|██████████| 10/10 [01:42<00:00, 10.30s/it]\n"
     ]
    }
   ],
   "source": [
    "for i in tqdm(range(len(columns))):\n",
    "    col1 = columns[i]\n",
    "    for col2 in columns[i+1:]:\n",
    "        probdif = []\n",
    "        value,total,dif = NorCount(col1,col2,Xtrain,ytrain)\n",
    "        \n",
    "        for x,y in zip(Xtrain[col1],Xtrain[col2]):\n",
    "            probdif.append(value[(x,y)])\n",
    "            \n",
    "        Xtrain[(col1,col2)] = probdif"
   ]
  },
  {
   "cell_type": "code",
   "execution_count": 42,
   "metadata": {},
   "outputs": [
    {
     "data": {
      "text/html": [
       "<div>\n",
       "<style scoped>\n",
       "    .dataframe tbody tr th:only-of-type {\n",
       "        vertical-align: middle;\n",
       "    }\n",
       "\n",
       "    .dataframe tbody tr th {\n",
       "        vertical-align: top;\n",
       "    }\n",
       "\n",
       "    .dataframe thead th {\n",
       "        text-align: right;\n",
       "    }\n",
       "</style>\n",
       "<table border=\"1\" class=\"dataframe\">\n",
       "  <thead>\n",
       "    <tr style=\"text-align: right;\">\n",
       "      <th></th>\n",
       "      <th>enrollee_cum_claim_count</th>\n",
       "      <th>enrollee_cum_claim_amount</th>\n",
       "      <th>provider_id</th>\n",
       "      <th>hmo_id</th>\n",
       "      <th>care_id</th>\n",
       "      <th>diagnosis_id</th>\n",
       "      <th>qty</th>\n",
       "      <th>amount</th>\n",
       "      <th>unit_price</th>\n",
       "      <th>tariffs</th>\n",
       "      <th>...</th>\n",
       "      <th>(qty, amount)</th>\n",
       "      <th>(qty, unit_price)</th>\n",
       "      <th>(qty, tariffs)</th>\n",
       "      <th>(qty, create_m)</th>\n",
       "      <th>(amount, unit_price)</th>\n",
       "      <th>(amount, tariffs)</th>\n",
       "      <th>(amount, create_m)</th>\n",
       "      <th>(unit_price, tariffs)</th>\n",
       "      <th>(unit_price, create_m)</th>\n",
       "      <th>(tariffs, create_m)</th>\n",
       "    </tr>\n",
       "  </thead>\n",
       "  <tbody>\n",
       "    <tr>\n",
       "      <td>0</td>\n",
       "      <td>-0.892271</td>\n",
       "      <td>-1.000000</td>\n",
       "      <td>-0.746835</td>\n",
       "      <td>-0.914932</td>\n",
       "      <td>-1.000000</td>\n",
       "      <td>-0.914766</td>\n",
       "      <td>-0.931920</td>\n",
       "      <td>-1.000000</td>\n",
       "      <td>-0.976331</td>\n",
       "      <td>-0.975155</td>\n",
       "      <td>...</td>\n",
       "      <td>-1.000000</td>\n",
       "      <td>-1.000000</td>\n",
       "      <td>-1.000000</td>\n",
       "      <td>-0.954198</td>\n",
       "      <td>-1.000000</td>\n",
       "      <td>-1.000000</td>\n",
       "      <td>-1.0</td>\n",
       "      <td>-0.975155</td>\n",
       "      <td>-1.0</td>\n",
       "      <td>-1.0</td>\n",
       "    </tr>\n",
       "    <tr>\n",
       "      <td>1</td>\n",
       "      <td>-0.897805</td>\n",
       "      <td>-1.000000</td>\n",
       "      <td>-0.746835</td>\n",
       "      <td>-0.914932</td>\n",
       "      <td>-1.000000</td>\n",
       "      <td>-1.000000</td>\n",
       "      <td>-0.931920</td>\n",
       "      <td>-1.000000</td>\n",
       "      <td>-0.976331</td>\n",
       "      <td>-0.975155</td>\n",
       "      <td>...</td>\n",
       "      <td>-1.000000</td>\n",
       "      <td>-1.000000</td>\n",
       "      <td>-1.000000</td>\n",
       "      <td>-0.954198</td>\n",
       "      <td>-1.000000</td>\n",
       "      <td>-1.000000</td>\n",
       "      <td>-1.0</td>\n",
       "      <td>-0.975155</td>\n",
       "      <td>-1.0</td>\n",
       "      <td>-1.0</td>\n",
       "    </tr>\n",
       "    <tr>\n",
       "      <td>2</td>\n",
       "      <td>-0.892271</td>\n",
       "      <td>-0.833333</td>\n",
       "      <td>-0.746835</td>\n",
       "      <td>-0.914932</td>\n",
       "      <td>-1.000000</td>\n",
       "      <td>-1.000000</td>\n",
       "      <td>-0.895253</td>\n",
       "      <td>-0.838710</td>\n",
       "      <td>-0.921739</td>\n",
       "      <td>-0.915094</td>\n",
       "      <td>...</td>\n",
       "      <td>-1.000000</td>\n",
       "      <td>-1.000000</td>\n",
       "      <td>-1.000000</td>\n",
       "      <td>-0.993092</td>\n",
       "      <td>-1.000000</td>\n",
       "      <td>-1.000000</td>\n",
       "      <td>-1.0</td>\n",
       "      <td>-0.924171</td>\n",
       "      <td>-1.0</td>\n",
       "      <td>-1.0</td>\n",
       "    </tr>\n",
       "    <tr>\n",
       "      <td>3</td>\n",
       "      <td>-0.897805</td>\n",
       "      <td>-0.739130</td>\n",
       "      <td>-0.746835</td>\n",
       "      <td>-0.914932</td>\n",
       "      <td>-0.714286</td>\n",
       "      <td>-1.000000</td>\n",
       "      <td>-0.922073</td>\n",
       "      <td>-0.913793</td>\n",
       "      <td>-0.890625</td>\n",
       "      <td>-0.872000</td>\n",
       "      <td>...</td>\n",
       "      <td>-0.866667</td>\n",
       "      <td>-0.866667</td>\n",
       "      <td>-0.833333</td>\n",
       "      <td>-0.904278</td>\n",
       "      <td>-0.866667</td>\n",
       "      <td>-0.864407</td>\n",
       "      <td>-1.0</td>\n",
       "      <td>-0.887097</td>\n",
       "      <td>-1.0</td>\n",
       "      <td>-1.0</td>\n",
       "    </tr>\n",
       "    <tr>\n",
       "      <td>4</td>\n",
       "      <td>-0.899106</td>\n",
       "      <td>-1.000000</td>\n",
       "      <td>-0.746835</td>\n",
       "      <td>-0.914932</td>\n",
       "      <td>-1.000000</td>\n",
       "      <td>-1.000000</td>\n",
       "      <td>-0.904683</td>\n",
       "      <td>-0.806452</td>\n",
       "      <td>-0.660377</td>\n",
       "      <td>-0.660377</td>\n",
       "      <td>...</td>\n",
       "      <td>-0.636364</td>\n",
       "      <td>-0.636364</td>\n",
       "      <td>-0.636364</td>\n",
       "      <td>-0.965049</td>\n",
       "      <td>-0.636364</td>\n",
       "      <td>-0.636364</td>\n",
       "      <td>-1.0</td>\n",
       "      <td>-0.660377</td>\n",
       "      <td>-1.0</td>\n",
       "      <td>-1.0</td>\n",
       "    </tr>\n",
       "  </tbody>\n",
       "</table>\n",
       "<p>5 rows × 56 columns</p>\n",
       "</div>"
      ],
      "text/plain": [
       "   enrollee_cum_claim_count  enrollee_cum_claim_amount  provider_id    hmo_id  \\\n",
       "0                 -0.892271                  -1.000000    -0.746835 -0.914932   \n",
       "1                 -0.897805                  -1.000000    -0.746835 -0.914932   \n",
       "2                 -0.892271                  -0.833333    -0.746835 -0.914932   \n",
       "3                 -0.897805                  -0.739130    -0.746835 -0.914932   \n",
       "4                 -0.899106                  -1.000000    -0.746835 -0.914932   \n",
       "\n",
       "    care_id  diagnosis_id       qty    amount  unit_price   tariffs  ...  \\\n",
       "0 -1.000000     -0.914766 -0.931920 -1.000000   -0.976331 -0.975155  ...   \n",
       "1 -1.000000     -1.000000 -0.931920 -1.000000   -0.976331 -0.975155  ...   \n",
       "2 -1.000000     -1.000000 -0.895253 -0.838710   -0.921739 -0.915094  ...   \n",
       "3 -0.714286     -1.000000 -0.922073 -0.913793   -0.890625 -0.872000  ...   \n",
       "4 -1.000000     -1.000000 -0.904683 -0.806452   -0.660377 -0.660377  ...   \n",
       "\n",
       "   (qty, amount)  (qty, unit_price)  (qty, tariffs)  (qty, create_m)  \\\n",
       "0      -1.000000          -1.000000       -1.000000        -0.954198   \n",
       "1      -1.000000          -1.000000       -1.000000        -0.954198   \n",
       "2      -1.000000          -1.000000       -1.000000        -0.993092   \n",
       "3      -0.866667          -0.866667       -0.833333        -0.904278   \n",
       "4      -0.636364          -0.636364       -0.636364        -0.965049   \n",
       "\n",
       "   (amount, unit_price)  (amount, tariffs)  (amount, create_m)  \\\n",
       "0             -1.000000          -1.000000                -1.0   \n",
       "1             -1.000000          -1.000000                -1.0   \n",
       "2             -1.000000          -1.000000                -1.0   \n",
       "3             -0.866667          -0.864407                -1.0   \n",
       "4             -0.636364          -0.636364                -1.0   \n",
       "\n",
       "   (unit_price, tariffs)  (unit_price, create_m)  (tariffs, create_m)  \n",
       "0              -0.975155                    -1.0                 -1.0  \n",
       "1              -0.975155                    -1.0                 -1.0  \n",
       "2              -0.924171                    -1.0                 -1.0  \n",
       "3              -0.887097                    -1.0                 -1.0  \n",
       "4              -0.660377                    -1.0                 -1.0  \n",
       "\n",
       "[5 rows x 56 columns]"
      ]
     },
     "execution_count": 42,
     "metadata": {},
     "output_type": "execute_result"
    }
   ],
   "source": [
    "Xtrain.head()"
   ]
  },
  {
   "cell_type": "code",
   "execution_count": 43,
   "metadata": {},
   "outputs": [
    {
     "name": "stdout",
     "output_type": "stream",
     "text": [
      "<class 'pandas.core.frame.DataFrame'>\n",
      "Int64Index: 744861 entries, 0 to 744869\n",
      "Data columns (total 56 columns):\n",
      "enrollee_cum_claim_count                                 744861 non-null float64\n",
      "enrollee_cum_claim_amount                                744861 non-null float64\n",
      "provider_id                                              744861 non-null float64\n",
      "hmo_id                                                   744861 non-null float64\n",
      "care_id                                                  744861 non-null float64\n",
      "diagnosis_id                                             744861 non-null float64\n",
      "qty                                                      744861 non-null float64\n",
      "amount                                                   744861 non-null float64\n",
      "unit_price                                               744861 non-null float64\n",
      "tariffs                                                  744861 non-null float64\n",
      "create_m                                                 744861 non-null float64\n",
      "(enrollee_cum_claim_count, enrollee_cum_claim_amount)    744861 non-null float64\n",
      "(enrollee_cum_claim_count, provider_id)                  744861 non-null float64\n",
      "(enrollee_cum_claim_count, care_id)                      744861 non-null float64\n",
      "(enrollee_cum_claim_count, diagnosis_id)                 744861 non-null float64\n",
      "(enrollee_cum_claim_count, qty)                          744861 non-null float64\n",
      "(enrollee_cum_claim_count, amount)                       744861 non-null float64\n",
      "(enrollee_cum_claim_count, unit_price)                   744861 non-null float64\n",
      "(enrollee_cum_claim_count, tariffs)                      744861 non-null float64\n",
      "(enrollee_cum_claim_count, create_m)                     744861 non-null float64\n",
      "(enrollee_cum_claim_amount, provider_id)                 744861 non-null float64\n",
      "(enrollee_cum_claim_amount, care_id)                     744861 non-null float64\n",
      "(enrollee_cum_claim_amount, diagnosis_id)                744861 non-null float64\n",
      "(enrollee_cum_claim_amount, qty)                         744861 non-null float64\n",
      "(enrollee_cum_claim_amount, amount)                      744861 non-null float64\n",
      "(enrollee_cum_claim_amount, unit_price)                  744861 non-null float64\n",
      "(enrollee_cum_claim_amount, tariffs)                     744861 non-null float64\n",
      "(enrollee_cum_claim_amount, create_m)                    744861 non-null float64\n",
      "(provider_id, care_id)                                   744861 non-null float64\n",
      "(provider_id, diagnosis_id)                              744861 non-null float64\n",
      "(provider_id, qty)                                       744861 non-null float64\n",
      "(provider_id, amount)                                    744861 non-null float64\n",
      "(provider_id, unit_price)                                744861 non-null float64\n",
      "(provider_id, tariffs)                                   744861 non-null float64\n",
      "(provider_id, create_m)                                  744861 non-null float64\n",
      "(care_id, diagnosis_id)                                  744861 non-null float64\n",
      "(care_id, qty)                                           744861 non-null float64\n",
      "(care_id, amount)                                        744861 non-null float64\n",
      "(care_id, unit_price)                                    744861 non-null float64\n",
      "(care_id, tariffs)                                       744861 non-null float64\n",
      "(care_id, create_m)                                      744861 non-null float64\n",
      "(diagnosis_id, qty)                                      744861 non-null float64\n",
      "(diagnosis_id, amount)                                   744861 non-null float64\n",
      "(diagnosis_id, unit_price)                               744861 non-null float64\n",
      "(diagnosis_id, tariffs)                                  744861 non-null float64\n",
      "(diagnosis_id, create_m)                                 744861 non-null float64\n",
      "(qty, amount)                                            744861 non-null float64\n",
      "(qty, unit_price)                                        744861 non-null float64\n",
      "(qty, tariffs)                                           744861 non-null float64\n",
      "(qty, create_m)                                          744861 non-null float64\n",
      "(amount, unit_price)                                     744861 non-null float64\n",
      "(amount, tariffs)                                        744861 non-null float64\n",
      "(amount, create_m)                                       744861 non-null float64\n",
      "(unit_price, tariffs)                                    744861 non-null float64\n",
      "(unit_price, create_m)                                   744861 non-null float64\n",
      "(tariffs, create_m)                                      744861 non-null float64\n",
      "dtypes: float64(56)\n",
      "memory usage: 323.9 MB\n"
     ]
    }
   ],
   "source": [
    "X.info()"
   ]
  },
  {
   "cell_type": "markdown",
   "metadata": {},
   "source": [
    "# Logistic Regression"
   ]
  },
  {
   "cell_type": "code",
   "execution_count": 21,
   "metadata": {},
   "outputs": [],
   "source": [
    "from sklearn.linear_model import LogisticRegression"
   ]
  },
  {
   "cell_type": "code",
   "execution_count": 22,
   "metadata": {},
   "outputs": [],
   "source": [
    "cls = LogisticRegression(class_weight='balanced')"
   ]
  },
  {
   "cell_type": "code",
   "execution_count": 23,
   "metadata": {},
   "outputs": [
    {
     "name": "stderr",
     "output_type": "stream",
     "text": [
      "/Users/shunling/opt/anaconda3/lib/python3.7/site-packages/sklearn/linear_model/_logistic.py:940: ConvergenceWarning: lbfgs failed to converge (status=1):\n",
      "STOP: TOTAL NO. of ITERATIONS REACHED LIMIT.\n",
      "\n",
      "Increase the number of iterations (max_iter) or scale the data as shown in:\n",
      "    https://scikit-learn.org/stable/modules/preprocessing.html\n",
      "Please also refer to the documentation for alternative solver options:\n",
      "    https://scikit-learn.org/stable/modules/linear_model.html#logistic-regression\n",
      "  extra_warning_msg=_LOGISTIC_SOLVER_CONVERGENCE_MSG)\n"
     ]
    },
    {
     "data": {
      "text/plain": [
       "LogisticRegression(C=1.0, class_weight='balanced', dual=False,\n",
       "                   fit_intercept=True, intercept_scaling=1, l1_ratio=None,\n",
       "                   max_iter=100, multi_class='auto', n_jobs=None, penalty='l2',\n",
       "                   random_state=None, solver='lbfgs', tol=0.0001, verbose=0,\n",
       "                   warm_start=False)"
      ]
     },
     "execution_count": 23,
     "metadata": {},
     "output_type": "execute_result"
    }
   ],
   "source": [
    "cls.fit(Xtrain,ytrain)"
   ]
  },
  {
   "cell_type": "code",
   "execution_count": 25,
   "metadata": {},
   "outputs": [
    {
     "data": {
      "text/plain": [
       "array([[568552,   1965],\n",
       "       [   144,  25227]])"
      ]
     },
     "execution_count": 25,
     "metadata": {},
     "output_type": "execute_result"
    }
   ],
   "source": [
    "confusion_matrix(ytrain,cls.predict(Xtrain))"
   ]
  },
  {
   "cell_type": "code",
   "execution_count": 29,
   "metadata": {},
   "outputs": [
    {
     "data": {
      "text/plain": [
       "(0.9954399920094383, 0.9598767193653331)"
      ]
     },
     "execution_count": 29,
     "metadata": {},
     "output_type": "execute_result"
    }
   ],
   "source": [
    "roc_auc_score(ytrain,cls.predict(Xtrain)),f1_score(ytrain,cls.predict(Xtrain))"
   ]
  },
  {
   "cell_type": "code",
   "execution_count": null,
   "metadata": {},
   "outputs": [],
   "source": []
  },
  {
   "cell_type": "markdown",
   "metadata": {},
   "source": [
    "# Random Forest"
   ]
  },
  {
   "cell_type": "code",
   "execution_count": 64,
   "metadata": {},
   "outputs": [],
   "source": [
    "from sklearn.ensemble import RandomForestClassifier"
   ]
  },
  {
   "cell_type": "code",
   "execution_count": 69,
   "metadata": {},
   "outputs": [],
   "source": [
    "rdf = RandomForestClassifier(n_estimators=100, max_depth=20, \n",
    "                             min_samples_split=2, min_samples_leaf=1, min_weight_fraction_leaf=0.0,\n",
    "                             max_features='auto', max_leaf_nodes=None, min_impurity_decrease=0.0, \n",
    "                             min_impurity_split=None, bootstrap=True, oob_score=False, n_jobs=4, \n",
    "                             random_state=None, verbose=0, warm_start=False, ccp_alpha=0.0, max_samples=None)"
   ]
  },
  {
   "cell_type": "code",
   "execution_count": 70,
   "metadata": {},
   "outputs": [
    {
     "data": {
      "text/plain": [
       "RandomForestClassifier(bootstrap=True, ccp_alpha=0.0, class_weight=None,\n",
       "                       criterion='gini', max_depth=20, max_features='auto',\n",
       "                       max_leaf_nodes=None, max_samples=None,\n",
       "                       min_impurity_decrease=0.0, min_impurity_split=None,\n",
       "                       min_samples_leaf=1, min_samples_split=2,\n",
       "                       min_weight_fraction_leaf=0.0, n_estimators=100, n_jobs=4,\n",
       "                       oob_score=False, random_state=None, verbose=0,\n",
       "                       warm_start=False)"
      ]
     },
     "execution_count": 70,
     "metadata": {},
     "output_type": "execute_result"
    }
   ],
   "source": [
    "rdf.fit(Xtrain,ytrain)"
   ]
  },
  {
   "cell_type": "code",
   "execution_count": 71,
   "metadata": {},
   "outputs": [
    {
     "data": {
      "text/plain": [
       "(0.9996452223273415, 0.9969993682880607)"
      ]
     },
     "execution_count": 71,
     "metadata": {},
     "output_type": "execute_result"
    }
   ],
   "source": [
    "f1_score(ytrain,rdf.predict(Xtrain)),f1_score(ytest,rdf.predict(Xtest))"
   ]
  },
  {
   "cell_type": "code",
   "execution_count": 75,
   "metadata": {},
   "outputs": [
    {
     "data": {
      "text/plain": [
       "array([[570511,      6],\n",
       "       [    12,  25359]])"
      ]
     },
     "execution_count": 75,
     "metadata": {},
     "output_type": "execute_result"
    }
   ],
   "source": [
    "confusion_matrix(ytrain,rdf.predict(Xtrain))"
   ]
  },
  {
   "cell_type": "code",
   "execution_count": 74,
   "metadata": {},
   "outputs": [
    {
     "data": {
      "text/plain": [
       "array([[142622,      3],\n",
       "       [    35,   6313]])"
      ]
     },
     "execution_count": 74,
     "metadata": {},
     "output_type": "execute_result"
    }
   ],
   "source": [
    "confusion_matrix(ytest,rdf.predict(Xtest))"
   ]
  },
  {
   "cell_type": "code",
   "execution_count": 85,
   "metadata": {},
   "outputs": [],
   "source": [
    "importance = {}\n",
    "for feature,score in zip(X.columns,rdf.feature_importances_):\n",
    "     importance[feature] = round(score,5)"
   ]
  },
  {
   "cell_type": "code",
   "execution_count": 99,
   "metadata": {},
   "outputs": [],
   "source": [
    "importance_feature = sorted(importance, key=importance.__getitem__, reverse=True)"
   ]
  },
  {
   "cell_type": "code",
   "execution_count": 102,
   "metadata": {},
   "outputs": [],
   "source": [
    "\n",
    "sorted_score = [importance[k] for k in importance_feature]"
   ]
  },
  {
   "cell_type": "code",
   "execution_count": 113,
   "metadata": {},
   "outputs": [
    {
     "ename": "AttributeError",
     "evalue": "'AxesSubplot' object has no attribute 'x_ticks'",
     "output_type": "error",
     "traceback": [
      "\u001b[0;31m---------------------------------------------------------------------------\u001b[0m",
      "\u001b[0;31mAttributeError\u001b[0m                            Traceback (most recent call last)",
      "\u001b[0;32m<ipython-input-113-76603a50a2e0>\u001b[0m in \u001b[0;36m<module>\u001b[0;34m\u001b[0m\n\u001b[1;32m      1\u001b[0m \u001b[0mfig\u001b[0m\u001b[0;34m,\u001b[0m \u001b[0max\u001b[0m \u001b[0;34m=\u001b[0m \u001b[0mplt\u001b[0m\u001b[0;34m.\u001b[0m\u001b[0msubplots\u001b[0m\u001b[0;34m(\u001b[0m\u001b[0mfigsize\u001b[0m \u001b[0;34m=\u001b[0m \u001b[0;34m(\u001b[0m\u001b[0;36m20\u001b[0m\u001b[0;34m,\u001b[0m\u001b[0;36m10\u001b[0m\u001b[0;34m)\u001b[0m\u001b[0;34m)\u001b[0m\u001b[0;34m\u001b[0m\u001b[0;34m\u001b[0m\u001b[0m\n\u001b[1;32m      2\u001b[0m \u001b[0max\u001b[0m\u001b[0;34m.\u001b[0m\u001b[0mbarh\u001b[0m\u001b[0;34m(\u001b[0m\u001b[0mrange\u001b[0m\u001b[0;34m(\u001b[0m\u001b[0mX\u001b[0m\u001b[0;34m.\u001b[0m\u001b[0mshape\u001b[0m\u001b[0;34m[\u001b[0m\u001b[0;36m1\u001b[0m\u001b[0;34m]\u001b[0m\u001b[0;34m)\u001b[0m\u001b[0;34m,\u001b[0m\u001b[0msorted_score\u001b[0m\u001b[0;34m)\u001b[0m\u001b[0;34m\u001b[0m\u001b[0;34m\u001b[0m\u001b[0m\n\u001b[0;32m----> 3\u001b[0;31m \u001b[0max\u001b[0m\u001b[0;34m.\u001b[0m\u001b[0mx_ticks\u001b[0m\u001b[0;34m(\u001b[0m\u001b[0mnp\u001b[0m\u001b[0;34m.\u001b[0m\u001b[0marange\u001b[0m\u001b[0;34m(\u001b[0m\u001b[0mX\u001b[0m\u001b[0;34m.\u001b[0m\u001b[0mshape\u001b[0m\u001b[0;34m[\u001b[0m\u001b[0;36m1\u001b[0m\u001b[0;34m]\u001b[0m\u001b[0;34m)\u001b[0m\u001b[0;34m,\u001b[0m\u001b[0mimportance_feature\u001b[0m\u001b[0;34m)\u001b[0m\u001b[0;34m\u001b[0m\u001b[0;34m\u001b[0m\u001b[0m\n\u001b[0m",
      "\u001b[0;31mAttributeError\u001b[0m: 'AxesSubplot' object has no attribute 'x_ticks'"
     ]
    },
    {
     "data": {
      "image/png": "[encoded data removed]",
      "text/plain": [
       "<Figure size 1440x720 with 1 Axes>"
      ]
     },
     "metadata": {
      "needs_background": "light"
     },
     "output_type": "display_data"
    }
   ],
   "source": [
    "fig, ax = plt.subplots(figsize = (20,10))\n",
    "ax.barh(range(X.shape[1]),sorted_score)\n",
    "ax.x_ticks(np.arange(X.shape[1]),importance_feature)"
   ]
  },
  {
   "cell_type": "code",
   "execution_count": null,
   "metadata": {},
   "outputs": [],
   "source": []
  }
 ],
 "metadata": {
  "kernelspec": {
   "display_name": "Python 3",
   "language": "python",
   "name": "python3"
  },
  "language_info": {
   "codemirror_mode": {
    "name": "ipython",
    "version": 3
   },
   "file_extension": ".py",
   "mimetype": "text/x-python",
   "name": "python",
   "nbconvert_exporter": "python",
   "pygments_lexer": "ipython3",
   "version": "3.7.4"
  }
 },
 "nbformat": 4,
 "nbformat_minor": 2
}
