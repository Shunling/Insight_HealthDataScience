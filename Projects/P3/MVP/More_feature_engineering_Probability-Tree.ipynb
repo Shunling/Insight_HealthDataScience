{
 "cells": [
  {
   "cell_type": "code",
   "execution_count": 1,
   "metadata": {},
   "outputs": [
    {
     "name": "stderr",
     "output_type": "stream",
     "text": [
      "/Users/shunling/opt/anaconda3/lib/python3.7/site-packages/lightgbm/__init__.py:48: UserWarning: Starting from version 2.2.1, the library file in distribution wheels for macOS is built by the Apple Clang (Xcode_8.3.3) compiler.\n",
      "This means that in case of installing LightGBM from PyPI via the ``pip install lightgbm`` command, you don't need to install the gcc compiler anymore.\n",
      "Instead of that, you need to install the OpenMP library, which is required for running LightGBM on the system with the Apple Clang compiler.\n",
      "You can install the OpenMP library by the following command: ``brew install libomp``.\n",
      "  \"You can install the OpenMP library by the following command: ``brew install libomp``.\", UserWarning)\n"
     ]
    }
   ],
   "source": [
    "from lightgbm import LGBMClassifier\n",
    "from sklearn.naive_bayes import ComplementNB\n",
    "import lightgbm\n",
    "import pandas as pd\n",
    "import numpy as np\n",
    "\n",
    "from sklearn.model_selection import train_test_split\n",
    "from sklearn.model_selection import KFold\n",
    "import pickle\n",
    "\n",
    "from sklearn.metrics import confusion_matrix,f1_score,roc_auc_score,roc_curve\n",
    "import matplotlib.pyplot as plt\n",
    "\n",
    "from tqdm import tqdm \n",
    "\n",
    "%matplotlib inline"
   ]
  },
  {
   "cell_type": "markdown",
   "metadata": {},
   "source": [
    "# Feature Engineering"
   ]
  },
  {
   "cell_type": "code",
   "execution_count": 2,
   "metadata": {},
   "outputs": [],
   "source": [
    "df = pd.read_csv('Processed_data/feature_engineered.csv',index_col=0)"
   ]
  },
  {
   "cell_type": "code",
   "execution_count": 3,
   "metadata": {},
   "outputs": [
    {
     "data": {
      "text/html": [
       "<div>\n",
       "<style scoped>\n",
       "    .dataframe tbody tr th:only-of-type {\n",
       "        vertical-align: middle;\n",
       "    }\n",
       "\n",
       "    .dataframe tbody tr th {\n",
       "        vertical-align: top;\n",
       "    }\n",
       "\n",
       "    .dataframe thead th {\n",
       "        text-align: right;\n",
       "    }\n",
       "</style>\n",
       "<table border=\"1\" class=\"dataframe\">\n",
       "  <thead>\n",
       "    <tr style=\"text-align: right;\">\n",
       "      <th></th>\n",
       "      <th>claim_id</th>\n",
       "      <th>enrollee_id</th>\n",
       "      <th>enrollee_cum_claim_count</th>\n",
       "      <th>enrollee_cum_claim_amount</th>\n",
       "      <th>provider_id</th>\n",
       "      <th>hmo_id</th>\n",
       "      <th>care_id</th>\n",
       "      <th>diagnosis_id</th>\n",
       "      <th>qty</th>\n",
       "      <th>amount</th>\n",
       "      <th>unit_price</th>\n",
       "      <th>tariffs</th>\n",
       "      <th>create_m</th>\n",
       "      <th>vetted_m</th>\n",
       "      <th>label</th>\n",
       "    </tr>\n",
       "  </thead>\n",
       "  <tbody>\n",
       "    <tr>\n",
       "      <td>0</td>\n",
       "      <td>10.0</td>\n",
       "      <td>89.0</td>\n",
       "      <td>1</td>\n",
       "      <td>1816.08</td>\n",
       "      <td>1.0</td>\n",
       "      <td>1.0</td>\n",
       "      <td>586.0</td>\n",
       "      <td>9.0</td>\n",
       "      <td>6.0</td>\n",
       "      <td>1816.08</td>\n",
       "      <td>302.68</td>\n",
       "      <td>302.68</td>\n",
       "      <td>3</td>\n",
       "      <td>5</td>\n",
       "      <td>0</td>\n",
       "    </tr>\n",
       "    <tr>\n",
       "      <td>1</td>\n",
       "      <td>11.0</td>\n",
       "      <td>89.0</td>\n",
       "      <td>2</td>\n",
       "      <td>3632.16</td>\n",
       "      <td>1.0</td>\n",
       "      <td>1.0</td>\n",
       "      <td>586.0</td>\n",
       "      <td>15925.0</td>\n",
       "      <td>6.0</td>\n",
       "      <td>1816.08</td>\n",
       "      <td>302.68</td>\n",
       "      <td>302.68</td>\n",
       "      <td>3</td>\n",
       "      <td>5</td>\n",
       "      <td>0</td>\n",
       "    </tr>\n",
       "    <tr>\n",
       "      <td>2</td>\n",
       "      <td>13.0</td>\n",
       "      <td>74.0</td>\n",
       "      <td>1</td>\n",
       "      <td>115.00</td>\n",
       "      <td>1.0</td>\n",
       "      <td>1.0</td>\n",
       "      <td>434.0</td>\n",
       "      <td>4342.0</td>\n",
       "      <td>5.0</td>\n",
       "      <td>115.00</td>\n",
       "      <td>23.00</td>\n",
       "      <td>23.00</td>\n",
       "      <td>3</td>\n",
       "      <td>5</td>\n",
       "      <td>0</td>\n",
       "    </tr>\n",
       "    <tr>\n",
       "      <td>3</td>\n",
       "      <td>13.0</td>\n",
       "      <td>74.0</td>\n",
       "      <td>2</td>\n",
       "      <td>1380.00</td>\n",
       "      <td>1.0</td>\n",
       "      <td>1.0</td>\n",
       "      <td>1102.0</td>\n",
       "      <td>4342.0</td>\n",
       "      <td>10.0</td>\n",
       "      <td>1265.00</td>\n",
       "      <td>126.50</td>\n",
       "      <td>126.50</td>\n",
       "      <td>3</td>\n",
       "      <td>5</td>\n",
       "      <td>0</td>\n",
       "    </tr>\n",
       "    <tr>\n",
       "      <td>4</td>\n",
       "      <td>13.0</td>\n",
       "      <td>74.0</td>\n",
       "      <td>3</td>\n",
       "      <td>1518.00</td>\n",
       "      <td>1.0</td>\n",
       "      <td>1.0</td>\n",
       "      <td>299.0</td>\n",
       "      <td>4342.0</td>\n",
       "      <td>15.0</td>\n",
       "      <td>138.00</td>\n",
       "      <td>9.20</td>\n",
       "      <td>9.20</td>\n",
       "      <td>3</td>\n",
       "      <td>5</td>\n",
       "      <td>0</td>\n",
       "    </tr>\n",
       "  </tbody>\n",
       "</table>\n",
       "</div>"
      ],
      "text/plain": [
       "   claim_id  enrollee_id  enrollee_cum_claim_count  enrollee_cum_claim_amount  \\\n",
       "0      10.0         89.0                         1                    1816.08   \n",
       "1      11.0         89.0                         2                    3632.16   \n",
       "2      13.0         74.0                         1                     115.00   \n",
       "3      13.0         74.0                         2                    1380.00   \n",
       "4      13.0         74.0                         3                    1518.00   \n",
       "\n",
       "   provider_id  hmo_id  care_id  diagnosis_id   qty   amount  unit_price  \\\n",
       "0          1.0     1.0    586.0           9.0   6.0  1816.08      302.68   \n",
       "1          1.0     1.0    586.0       15925.0   6.0  1816.08      302.68   \n",
       "2          1.0     1.0    434.0        4342.0   5.0   115.00       23.00   \n",
       "3          1.0     1.0   1102.0        4342.0  10.0  1265.00      126.50   \n",
       "4          1.0     1.0    299.0        4342.0  15.0   138.00        9.20   \n",
       "\n",
       "   tariffs  create_m  vetted_m  label  \n",
       "0   302.68         3         5      0  \n",
       "1   302.68         3         5      0  \n",
       "2    23.00         3         5      0  \n",
       "3   126.50         3         5      0  \n",
       "4     9.20         3         5      0  "
      ]
     },
     "execution_count": 3,
     "metadata": {},
     "output_type": "execute_result"
    }
   ],
   "source": [
    "df.head()"
   ]
  },
  {
   "cell_type": "code",
   "execution_count": 3,
   "metadata": {},
   "outputs": [],
   "source": [
    "df['tariffs'] = df['tariffs'].fillna(0)"
   ]
  },
  {
   "cell_type": "code",
   "execution_count": 4,
   "metadata": {},
   "outputs": [],
   "source": [
    "df.dropna(inplace=True)"
   ]
  },
  {
   "cell_type": "code",
   "execution_count": 5,
   "metadata": {},
   "outputs": [],
   "source": [
    "# training and testing data\n",
    "\n",
    "X = df.drop(columns=['claim_id','enrollee_id','vetted_m','label'])\n"
   ]
  },
  {
   "cell_type": "code",
   "execution_count": 7,
   "metadata": {},
   "outputs": [
    {
     "data": {
      "text/html": [
       "<div>\n",
       "<style scoped>\n",
       "    .dataframe tbody tr th:only-of-type {\n",
       "        vertical-align: middle;\n",
       "    }\n",
       "\n",
       "    .dataframe tbody tr th {\n",
       "        vertical-align: top;\n",
       "    }\n",
       "\n",
       "    .dataframe thead th {\n",
       "        text-align: right;\n",
       "    }\n",
       "</style>\n",
       "<table border=\"1\" class=\"dataframe\">\n",
       "  <thead>\n",
       "    <tr style=\"text-align: right;\">\n",
       "      <th></th>\n",
       "      <th>enrollee_cum_claim_count</th>\n",
       "      <th>enrollee_cum_claim_amount</th>\n",
       "      <th>provider_id</th>\n",
       "      <th>hmo_id</th>\n",
       "      <th>care_id</th>\n",
       "      <th>diagnosis_id</th>\n",
       "      <th>qty</th>\n",
       "      <th>amount</th>\n",
       "      <th>unit_price</th>\n",
       "      <th>tariffs</th>\n",
       "      <th>create_m</th>\n",
       "    </tr>\n",
       "  </thead>\n",
       "  <tbody>\n",
       "    <tr>\n",
       "      <td>0</td>\n",
       "      <td>1</td>\n",
       "      <td>1816.08</td>\n",
       "      <td>1.0</td>\n",
       "      <td>1.0</td>\n",
       "      <td>586.0</td>\n",
       "      <td>9.0</td>\n",
       "      <td>6.0</td>\n",
       "      <td>1816.08</td>\n",
       "      <td>302.68</td>\n",
       "      <td>302.68</td>\n",
       "      <td>3</td>\n",
       "    </tr>\n",
       "    <tr>\n",
       "      <td>1</td>\n",
       "      <td>2</td>\n",
       "      <td>3632.16</td>\n",
       "      <td>1.0</td>\n",
       "      <td>1.0</td>\n",
       "      <td>586.0</td>\n",
       "      <td>15925.0</td>\n",
       "      <td>6.0</td>\n",
       "      <td>1816.08</td>\n",
       "      <td>302.68</td>\n",
       "      <td>302.68</td>\n",
       "      <td>3</td>\n",
       "    </tr>\n",
       "    <tr>\n",
       "      <td>2</td>\n",
       "      <td>1</td>\n",
       "      <td>115.00</td>\n",
       "      <td>1.0</td>\n",
       "      <td>1.0</td>\n",
       "      <td>434.0</td>\n",
       "      <td>4342.0</td>\n",
       "      <td>5.0</td>\n",
       "      <td>115.00</td>\n",
       "      <td>23.00</td>\n",
       "      <td>23.00</td>\n",
       "      <td>3</td>\n",
       "    </tr>\n",
       "    <tr>\n",
       "      <td>3</td>\n",
       "      <td>2</td>\n",
       "      <td>1380.00</td>\n",
       "      <td>1.0</td>\n",
       "      <td>1.0</td>\n",
       "      <td>1102.0</td>\n",
       "      <td>4342.0</td>\n",
       "      <td>10.0</td>\n",
       "      <td>1265.00</td>\n",
       "      <td>126.50</td>\n",
       "      <td>126.50</td>\n",
       "      <td>3</td>\n",
       "    </tr>\n",
       "    <tr>\n",
       "      <td>4</td>\n",
       "      <td>3</td>\n",
       "      <td>1518.00</td>\n",
       "      <td>1.0</td>\n",
       "      <td>1.0</td>\n",
       "      <td>299.0</td>\n",
       "      <td>4342.0</td>\n",
       "      <td>15.0</td>\n",
       "      <td>138.00</td>\n",
       "      <td>9.20</td>\n",
       "      <td>9.20</td>\n",
       "      <td>3</td>\n",
       "    </tr>\n",
       "  </tbody>\n",
       "</table>\n",
       "</div>"
      ],
      "text/plain": [
       "   enrollee_cum_claim_count  enrollee_cum_claim_amount  provider_id  hmo_id  \\\n",
       "0                         1                    1816.08          1.0     1.0   \n",
       "1                         2                    3632.16          1.0     1.0   \n",
       "2                         1                     115.00          1.0     1.0   \n",
       "3                         2                    1380.00          1.0     1.0   \n",
       "4                         3                    1518.00          1.0     1.0   \n",
       "\n",
       "   care_id  diagnosis_id   qty   amount  unit_price  tariffs  create_m  \n",
       "0    586.0           9.0   6.0  1816.08      302.68   302.68         3  \n",
       "1    586.0       15925.0   6.0  1816.08      302.68   302.68         3  \n",
       "2    434.0        4342.0   5.0   115.00       23.00    23.00         3  \n",
       "3   1102.0        4342.0  10.0  1265.00      126.50   126.50         3  \n",
       "4    299.0        4342.0  15.0   138.00        9.20     9.20         3  "
      ]
     },
     "execution_count": 7,
     "metadata": {},
     "output_type": "execute_result"
    }
   ],
   "source": [
    "X.head()"
   ]
  },
  {
   "cell_type": "code",
   "execution_count": 8,
   "metadata": {},
   "outputs": [],
   "source": [
    "columns = ['enrollee_cum_claim_count', 'enrollee_cum_claim_amount', 'provider_id',\n",
    "       'care_id', 'diagnosis_id', 'qty', 'amount', 'unit_price',\n",
    "       'tariffs', 'create_m']"
   ]
  },
  {
   "cell_type": "code",
   "execution_count": 9,
   "metadata": {},
   "outputs": [
    {
     "name": "stderr",
     "output_type": "stream",
     "text": [
      "100%|██████████| 10/10 [00:47<00:00,  4.79s/it]\n"
     ]
    }
   ],
   "source": [
    "# create feature correlation features\n",
    "for i in tqdm(range(len(columns))):\n",
    "    col1 = columns[i]\n",
    "    for col2 in columns[i+1:]:\n",
    "        new = []\n",
    "        pairs = {}\n",
    "        n = 1\n",
    "        for x,y in zip(df[col1],df[col2]):\n",
    "            if (x,y) not in pairs:\n",
    "                pairs[(x,y)] = n\n",
    "                n += 1\n",
    "            new.append(pairs[(x,y)])\n",
    "                \n",
    "            \n",
    "        X[col1+\"&\"+col2] = new"
   ]
  },
  {
   "cell_type": "code",
   "execution_count": 10,
   "metadata": {},
   "outputs": [
    {
     "name": "stdout",
     "output_type": "stream",
     "text": [
      "<class 'pandas.core.frame.DataFrame'>\n",
      "Int64Index: 744861 entries, 0 to 744869\n",
      "Data columns (total 56 columns):\n",
      "enrollee_cum_claim_count                              744861 non-null int64\n",
      "enrollee_cum_claim_amount                             744861 non-null float64\n",
      "provider_id                                           744861 non-null float64\n",
      "hmo_id                                                744861 non-null float64\n",
      "care_id                                               744861 non-null float64\n",
      "diagnosis_id                                          744861 non-null float64\n",
      "qty                                                   744861 non-null float64\n",
      "amount                                                744861 non-null float64\n",
      "unit_price                                            744861 non-null float64\n",
      "tariffs                                               744861 non-null float64\n",
      "create_m                                              744861 non-null int64\n",
      "enrollee_cum_claim_count&enrollee_cum_claim_amount    744861 non-null int64\n",
      "enrollee_cum_claim_count&provider_id                  744861 non-null int64\n",
      "enrollee_cum_claim_count&care_id                      744861 non-null int64\n",
      "enrollee_cum_claim_count&diagnosis_id                 744861 non-null int64\n",
      "enrollee_cum_claim_count&qty                          744861 non-null int64\n",
      "enrollee_cum_claim_count&amount                       744861 non-null int64\n",
      "enrollee_cum_claim_count&unit_price                   744861 non-null int64\n",
      "enrollee_cum_claim_count&tariffs                      744861 non-null int64\n",
      "enrollee_cum_claim_count&create_m                     744861 non-null int64\n",
      "enrollee_cum_claim_amount&provider_id                 744861 non-null int64\n",
      "enrollee_cum_claim_amount&care_id                     744861 non-null int64\n",
      "enrollee_cum_claim_amount&diagnosis_id                744861 non-null int64\n",
      "enrollee_cum_claim_amount&qty                         744861 non-null int64\n",
      "enrollee_cum_claim_amount&amount                      744861 non-null int64\n",
      "enrollee_cum_claim_amount&unit_price                  744861 non-null int64\n",
      "enrollee_cum_claim_amount&tariffs                     744861 non-null int64\n",
      "enrollee_cum_claim_amount&create_m                    744861 non-null int64\n",
      "provider_id&care_id                                   744861 non-null int64\n",
      "provider_id&diagnosis_id                              744861 non-null int64\n",
      "provider_id&qty                                       744861 non-null int64\n",
      "provider_id&amount                                    744861 non-null int64\n",
      "provider_id&unit_price                                744861 non-null int64\n",
      "provider_id&tariffs                                   744861 non-null int64\n",
      "provider_id&create_m                                  744861 non-null int64\n",
      "care_id&diagnosis_id                                  744861 non-null int64\n",
      "care_id&qty                                           744861 non-null int64\n",
      "care_id&amount                                        744861 non-null int64\n",
      "care_id&unit_price                                    744861 non-null int64\n",
      "care_id&tariffs                                       744861 non-null int64\n",
      "care_id&create_m                                      744861 non-null int64\n",
      "diagnosis_id&qty                                      744861 non-null int64\n",
      "diagnosis_id&amount                                   744861 non-null int64\n",
      "diagnosis_id&unit_price                               744861 non-null int64\n",
      "diagnosis_id&tariffs                                  744861 non-null int64\n",
      "diagnosis_id&create_m                                 744861 non-null int64\n",
      "qty&amount                                            744861 non-null int64\n",
      "qty&unit_price                                        744861 non-null int64\n",
      "qty&tariffs                                           744861 non-null int64\n",
      "qty&create_m                                          744861 non-null int64\n",
      "amount&unit_price                                     744861 non-null int64\n",
      "amount&tariffs                                        744861 non-null int64\n",
      "amount&create_m                                       744861 non-null int64\n",
      "unit_price&tariffs                                    744861 non-null int64\n",
      "unit_price&create_m                                   744861 non-null int64\n",
      "tariffs&create_m                                      744861 non-null int64\n",
      "dtypes: float64(9), int64(47)\n",
      "memory usage: 323.9 MB\n"
     ]
    }
   ],
   "source": [
    "X.info()"
   ]
  },
  {
   "cell_type": "code",
   "execution_count": 11,
   "metadata": {},
   "outputs": [
    {
     "data": {
      "text/html": [
       "<div>\n",
       "<style scoped>\n",
       "    .dataframe tbody tr th:only-of-type {\n",
       "        vertical-align: middle;\n",
       "    }\n",
       "\n",
       "    .dataframe tbody tr th {\n",
       "        vertical-align: top;\n",
       "    }\n",
       "\n",
       "    .dataframe thead th {\n",
       "        text-align: right;\n",
       "    }\n",
       "</style>\n",
       "<table border=\"1\" class=\"dataframe\">\n",
       "  <thead>\n",
       "    <tr style=\"text-align: right;\">\n",
       "      <th></th>\n",
       "      <th>enrollee_cum_claim_count</th>\n",
       "      <th>enrollee_cum_claim_amount</th>\n",
       "      <th>provider_id</th>\n",
       "      <th>hmo_id</th>\n",
       "      <th>care_id</th>\n",
       "      <th>diagnosis_id</th>\n",
       "      <th>qty</th>\n",
       "      <th>amount</th>\n",
       "      <th>unit_price</th>\n",
       "      <th>tariffs</th>\n",
       "      <th>...</th>\n",
       "      <th>qty&amp;amount</th>\n",
       "      <th>qty&amp;unit_price</th>\n",
       "      <th>qty&amp;tariffs</th>\n",
       "      <th>qty&amp;create_m</th>\n",
       "      <th>amount&amp;unit_price</th>\n",
       "      <th>amount&amp;tariffs</th>\n",
       "      <th>amount&amp;create_m</th>\n",
       "      <th>unit_price&amp;tariffs</th>\n",
       "      <th>unit_price&amp;create_m</th>\n",
       "      <th>tariffs&amp;create_m</th>\n",
       "    </tr>\n",
       "  </thead>\n",
       "  <tbody>\n",
       "    <tr>\n",
       "      <td>0</td>\n",
       "      <td>1</td>\n",
       "      <td>1816.08</td>\n",
       "      <td>1.0</td>\n",
       "      <td>1.0</td>\n",
       "      <td>586.0</td>\n",
       "      <td>9.0</td>\n",
       "      <td>6.0</td>\n",
       "      <td>1816.08</td>\n",
       "      <td>302.68</td>\n",
       "      <td>302.68</td>\n",
       "      <td>...</td>\n",
       "      <td>1</td>\n",
       "      <td>1</td>\n",
       "      <td>1</td>\n",
       "      <td>1</td>\n",
       "      <td>1</td>\n",
       "      <td>1</td>\n",
       "      <td>1</td>\n",
       "      <td>1</td>\n",
       "      <td>1</td>\n",
       "      <td>1</td>\n",
       "    </tr>\n",
       "    <tr>\n",
       "      <td>1</td>\n",
       "      <td>2</td>\n",
       "      <td>3632.16</td>\n",
       "      <td>1.0</td>\n",
       "      <td>1.0</td>\n",
       "      <td>586.0</td>\n",
       "      <td>15925.0</td>\n",
       "      <td>6.0</td>\n",
       "      <td>1816.08</td>\n",
       "      <td>302.68</td>\n",
       "      <td>302.68</td>\n",
       "      <td>...</td>\n",
       "      <td>1</td>\n",
       "      <td>1</td>\n",
       "      <td>1</td>\n",
       "      <td>1</td>\n",
       "      <td>1</td>\n",
       "      <td>1</td>\n",
       "      <td>1</td>\n",
       "      <td>1</td>\n",
       "      <td>1</td>\n",
       "      <td>1</td>\n",
       "    </tr>\n",
       "    <tr>\n",
       "      <td>2</td>\n",
       "      <td>1</td>\n",
       "      <td>115.00</td>\n",
       "      <td>1.0</td>\n",
       "      <td>1.0</td>\n",
       "      <td>434.0</td>\n",
       "      <td>4342.0</td>\n",
       "      <td>5.0</td>\n",
       "      <td>115.00</td>\n",
       "      <td>23.00</td>\n",
       "      <td>23.00</td>\n",
       "      <td>...</td>\n",
       "      <td>2</td>\n",
       "      <td>2</td>\n",
       "      <td>2</td>\n",
       "      <td>2</td>\n",
       "      <td>2</td>\n",
       "      <td>2</td>\n",
       "      <td>2</td>\n",
       "      <td>2</td>\n",
       "      <td>2</td>\n",
       "      <td>2</td>\n",
       "    </tr>\n",
       "    <tr>\n",
       "      <td>3</td>\n",
       "      <td>2</td>\n",
       "      <td>1380.00</td>\n",
       "      <td>1.0</td>\n",
       "      <td>1.0</td>\n",
       "      <td>1102.0</td>\n",
       "      <td>4342.0</td>\n",
       "      <td>10.0</td>\n",
       "      <td>1265.00</td>\n",
       "      <td>126.50</td>\n",
       "      <td>126.50</td>\n",
       "      <td>...</td>\n",
       "      <td>3</td>\n",
       "      <td>3</td>\n",
       "      <td>3</td>\n",
       "      <td>3</td>\n",
       "      <td>3</td>\n",
       "      <td>3</td>\n",
       "      <td>3</td>\n",
       "      <td>3</td>\n",
       "      <td>3</td>\n",
       "      <td>3</td>\n",
       "    </tr>\n",
       "    <tr>\n",
       "      <td>4</td>\n",
       "      <td>3</td>\n",
       "      <td>1518.00</td>\n",
       "      <td>1.0</td>\n",
       "      <td>1.0</td>\n",
       "      <td>299.0</td>\n",
       "      <td>4342.0</td>\n",
       "      <td>15.0</td>\n",
       "      <td>138.00</td>\n",
       "      <td>9.20</td>\n",
       "      <td>9.20</td>\n",
       "      <td>...</td>\n",
       "      <td>4</td>\n",
       "      <td>4</td>\n",
       "      <td>4</td>\n",
       "      <td>4</td>\n",
       "      <td>4</td>\n",
       "      <td>4</td>\n",
       "      <td>4</td>\n",
       "      <td>4</td>\n",
       "      <td>4</td>\n",
       "      <td>4</td>\n",
       "    </tr>\n",
       "  </tbody>\n",
       "</table>\n",
       "<p>5 rows × 56 columns</p>\n",
       "</div>"
      ],
      "text/plain": [
       "   enrollee_cum_claim_count  enrollee_cum_claim_amount  provider_id  hmo_id  \\\n",
       "0                         1                    1816.08          1.0     1.0   \n",
       "1                         2                    3632.16          1.0     1.0   \n",
       "2                         1                     115.00          1.0     1.0   \n",
       "3                         2                    1380.00          1.0     1.0   \n",
       "4                         3                    1518.00          1.0     1.0   \n",
       "\n",
       "   care_id  diagnosis_id   qty   amount  unit_price  tariffs  ...  qty&amount  \\\n",
       "0    586.0           9.0   6.0  1816.08      302.68   302.68  ...           1   \n",
       "1    586.0       15925.0   6.0  1816.08      302.68   302.68  ...           1   \n",
       "2    434.0        4342.0   5.0   115.00       23.00    23.00  ...           2   \n",
       "3   1102.0        4342.0  10.0  1265.00      126.50   126.50  ...           3   \n",
       "4    299.0        4342.0  15.0   138.00        9.20     9.20  ...           4   \n",
       "\n",
       "   qty&unit_price  qty&tariffs  qty&create_m  amount&unit_price  \\\n",
       "0               1            1             1                  1   \n",
       "1               1            1             1                  1   \n",
       "2               2            2             2                  2   \n",
       "3               3            3             3                  3   \n",
       "4               4            4             4                  4   \n",
       "\n",
       "   amount&tariffs  amount&create_m  unit_price&tariffs  unit_price&create_m  \\\n",
       "0               1                1                   1                    1   \n",
       "1               1                1                   1                    1   \n",
       "2               2                2                   2                    2   \n",
       "3               3                3                   3                    3   \n",
       "4               4                4                   4                    4   \n",
       "\n",
       "   tariffs&create_m  \n",
       "0                 1  \n",
       "1                 1  \n",
       "2                 2  \n",
       "3                 3  \n",
       "4                 4  \n",
       "\n",
       "[5 rows x 56 columns]"
      ]
     },
     "execution_count": 11,
     "metadata": {},
     "output_type": "execute_result"
    }
   ],
   "source": [
    "X.head()"
   ]
  },
  {
   "cell_type": "code",
   "execution_count": 13,
   "metadata": {},
   "outputs": [],
   "source": [
    "y = df['label']"
   ]
  },
  {
   "cell_type": "code",
   "execution_count": 14,
   "metadata": {},
   "outputs": [],
   "source": [
    "Xtrain,Xtest,ytrain,ytest = train_test_split(X,y,test_size=0.2, random_state=0)"
   ]
  },
  {
   "cell_type": "code",
   "execution_count": 16,
   "metadata": {},
   "outputs": [],
   "source": [
    "def init_scores():\n",
    "    \n",
    "    scores = {}\n",
    "    scores['f1_socre'] = []\n",
    "    scores['precision'] = []\n",
    "    scores['recall'] = []\n",
    "    scores['FPR'] = []\n",
    "    scores['specificity'] = []\n",
    "    scores['roc_auc'] = []\n",
    "    \n",
    "    return scores\n",
    "\n",
    "\n",
    "def evaluation(ytest,Xtest,cls):\n",
    "\n",
    "    scores = init_scores()\n",
    "    ypred = cls.predict(Xtest)\n",
    "    C = confusion_matrix(ytest,ypred)\n",
    "    TN = C[0][0]\n",
    "    FN = C[1][0]\n",
    "    TP = C[1][1]\n",
    "    FP = C[0][1]\n",
    "\n",
    "    print('f1_socre: {:0.3f}'.format(f1_score(ytest,ypred)))\n",
    "    scores['f1_socre'].append(f1_score(ytest,ypred))\n",
    "    print('precision: {:0.3f}'.format(TP/(TP+FP)))\n",
    "    scores['precision'].append(TP/(TP+FP))\n",
    "    print('recall/sensitivity(true positive rate): {:0.3f}'.format(TP/(TP+FN)))\n",
    "    scores['recall'].append(TP/(TP+FN))\n",
    "    print('false positive rate (FPR): {:0.3f}'.format(1-(TN/(TN+FP)))) # 1 - specificity\n",
    "    scores['FPR'].append(1-(TN/(TN+FP)))\n",
    "    print('spcificity(true negative rate): {:0.3f}'.format(TN/(TN+FP)))\n",
    "    scores['specificity'].append(TN/(TN+FP))\n",
    "    print('ROC_AUC_score: {:0.3f}'.format(roc_auc_score(ytest,ypred)))\n",
    "    scores['roc_auc'].append(roc_auc_score(ytest,ypred))\n",
    "    \n",
    "    return scores\n",
    "    \n",
    "def cv(Xtrain,ytrain,model):\n",
    "\n",
    "    models = []\n",
    "    kf = KFold(n_splits=4)\n",
    "    print(model)\n",
    "    n = 0\n",
    "    for train_index, test_index in kf.split(Xtrain):\n",
    "        print('cross_validate_run: {}'.format(n))\n",
    "        Xtr, Xte = Xtrain[train_index], Xtrain[test_index]\n",
    "        ytr, yte = ytrain[train_index], ytrain[test_index]\n",
    "        cls = model.fit(Xtr, ytr) \n",
    "        models.append(cls)\n",
    "        scores = evaluation(yte,Xte,cls)\n",
    "        n += 1\n",
    "    \n",
    "    print('\\n mean scores +/- sd: \\n')\n",
    "    for k in scores:\n",
    "        print('{} : {:0.3f} +/- {:0.3f}'.format(k, np.array(scores[k]).mean(),  np.array(scores[k]).std()))\n",
    "        \n",
    "    \n",
    "    return models, scores"
   ]
  },
  {
   "cell_type": "markdown",
   "metadata": {},
   "source": [
    "# Probability Solution"
   ]
  },
  {
   "cell_type": "code",
   "execution_count": 17,
   "metadata": {},
   "outputs": [],
   "source": [
    "# tranform value of each feature according to their probability in two types of groups\n",
    "def prob(col,df,labels): # A is the column value array\n",
    "    counts = {}\n",
    "    value = {} # normalized value in total\n",
    "    total = {} # total claim items each feature pair\n",
    "    dif = {} # diference between false claim (1) and legal claim (0)\n",
    "    \n",
    "    for i,label in zip(df[col],labels):\n",
    "        if i in counts:\n",
    "            if label:\n",
    "                counts[i][1] += 1\n",
    "            else:\n",
    "                counts[i][0] += 1\n",
    "        else:\n",
    "            if label:\n",
    "                counts[i] = {1:1,0:0}\n",
    "            else:\n",
    "                counts[i] = {1:0,0:1}\n",
    "        total[i] = counts[i][1] + counts[i][0]\n",
    "        dif[i] = counts[i][1] - counts[i][0]\n",
    "        value[i] = dif[i]/total[i]\n",
    "        \n",
    "    return value"
   ]
  },
  {
   "cell_type": "code",
   "execution_count": 18,
   "metadata": {},
   "outputs": [],
   "source": [
    "Xtrain.to_csv('Processed_data/Xtrain56.csv')"
   ]
  },
  {
   "cell_type": "code",
   "execution_count": 19,
   "metadata": {},
   "outputs": [],
   "source": [
    "Xtest.to_csv('Processed_data/Xtest56.csv')"
   ]
  },
  {
   "cell_type": "code",
   "execution_count": 20,
   "metadata": {},
   "outputs": [
    {
     "name": "stderr",
     "output_type": "stream",
     "text": [
      "100%|██████████| 56/56 [00:54<00:00,  1.04it/s]\n"
     ]
    }
   ],
   "source": [
    "Rules = {}\n",
    "for col in tqdm(Xtrain.columns):\n",
    "    Rules[col] = prob(col,Xtrain,ytrain)"
   ]
  },
  {
   "cell_type": "code",
   "execution_count": 21,
   "metadata": {},
   "outputs": [],
   "source": [
    "def convert_prob(df,Rules):\n",
    "    \n",
    "    col_prob = {}\n",
    "    for col in tqdm(df.columns):\n",
    "        col_prob[col] = []\n",
    "        for x in df[col]:\n",
    "            if x in Rules[col]:\n",
    "                col_prob[col].append(Rules[col][x])\n",
    "            else:\n",
    "                col_prob[col].append(0)\n",
    "    return col_prob"
   ]
  },
  {
   "cell_type": "code",
   "execution_count": 22,
   "metadata": {},
   "outputs": [
    {
     "name": "stderr",
     "output_type": "stream",
     "text": [
      "100%|██████████| 56/56 [00:15<00:00,  3.71it/s]\n"
     ]
    }
   ],
   "source": [
    "X_train = convert_prob(Xtrain,Rules)\n"
   ]
  },
  {
   "cell_type": "code",
   "execution_count": 26,
   "metadata": {},
   "outputs": [],
   "source": [
    "X_train_df = pd.DataFrame(X_train)"
   ]
  },
  {
   "cell_type": "code",
   "execution_count": 23,
   "metadata": {},
   "outputs": [
    {
     "name": "stderr",
     "output_type": "stream",
     "text": [
      "100%|██████████| 56/56 [00:04<00:00, 12.89it/s]\n"
     ]
    }
   ],
   "source": [
    "X_test = convert_prob(Xtest,Rules)"
   ]
  },
  {
   "cell_type": "code",
   "execution_count": 28,
   "metadata": {},
   "outputs": [],
   "source": [
    "X_test_df = pd.DataFrame(X_test)"
   ]
  },
  {
   "cell_type": "code",
   "execution_count": 60,
   "metadata": {},
   "outputs": [],
   "source": [
    "probTrain = X_train_df.mean(axis=1)\n",
    "probTrain = probTrain.apply(lambda x: x>=0)"
   ]
  },
  {
   "cell_type": "code",
   "execution_count": 63,
   "metadata": {},
   "outputs": [],
   "source": [
    "probTest = X_test_df.mean(axis=1)\n",
    "probTest = probTest.apply(lambda x: x>=0)"
   ]
  },
  {
   "cell_type": "code",
   "execution_count": 64,
   "metadata": {},
   "outputs": [
    {
     "data": {
      "text/plain": [
       "(0.13434811383189937, 0.022422921208346314)"
      ]
     },
     "execution_count": 64,
     "metadata": {},
     "output_type": "execute_result"
    }
   ],
   "source": [
    "f1_score(ytrain,probTrain.values),f1_score(ytest,probTest.values)"
   ]
  },
  {
   "cell_type": "code",
   "execution_count": 62,
   "metadata": {},
   "outputs": [
    {
     "data": {
      "text/plain": [
       "array([[570517,      0],\n",
       "       [ 23544,   1827]])"
      ]
     },
     "execution_count": 62,
     "metadata": {},
     "output_type": "execute_result"
    }
   ],
   "source": [
    "confusion_matrix(ytrain,probTrain.values)"
   ]
  },
  {
   "cell_type": "code",
   "execution_count": 65,
   "metadata": {},
   "outputs": [
    {
     "data": {
      "text/plain": [
       "array([[142623,      2],\n",
       "       [  6276,     72]])"
      ]
     },
     "execution_count": 65,
     "metadata": {},
     "output_type": "execute_result"
    }
   ],
   "source": [
    "confusion_matrix(ytest,probTest.values)"
   ]
  },
  {
   "cell_type": "code",
   "execution_count": null,
   "metadata": {},
   "outputs": [],
   "source": []
  }
 ],
 "metadata": {
  "kernelspec": {
   "display_name": "Python 3",
   "language": "python",
   "name": "python3"
  },
  "language_info": {
   "codemirror_mode": {
    "name": "ipython",
    "version": 3
   },
   "file_extension": ".py",
   "mimetype": "text/x-python",
   "name": "python",
   "nbconvert_exporter": "python",
   "pygments_lexer": "ipython3",
   "version": "3.7.4"
  }
 },
 "nbformat": 4,
 "nbformat_minor": 2
}
