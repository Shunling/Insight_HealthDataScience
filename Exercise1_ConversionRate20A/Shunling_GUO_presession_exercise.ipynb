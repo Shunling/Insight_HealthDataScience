{
 "cells": [
  {
   "cell_type": "markdown",
   "metadata": {},
   "source": [
    "# Exercise: Conversion Rate\n",
    "We have data about users who hit our site. We know whether they converted or not, as well as\n",
    "some of their basic characteristics such as the country they’re in, the marketing channel that\n",
    "brought them to the site, their age, whether they are repeat users, and the number of pages\n",
    "visited during that session (as a proxy for site activity/time spent on the site).\n",
    "The project is to:\n",
    "\n",
    "1. Perform Exploratory Data Analysis and produce 2-3 plots that show either important\n",
    "features or interesting patterns in the data. It is up to you what you want to highlight.\n",
    "2. Build a model to predict conversion rate and critically evaluate it, explaining your choice\n",
    "of model and performance metric.\n",
    "3. Come up with recommendations for the product team and the marketing team to\n",
    "improve conversion rate.\n"
   ]
  },
  {
   "cell_type": "code",
   "execution_count": 12,
   "metadata": {},
   "outputs": [],
   "source": [
    "import pandas as pd\n",
    "import numpy as np\n",
    "import matplotlib.pyplot as plt\n",
    "\n",
    "%matplotlib inline"
   ]
  },
  {
   "cell_type": "markdown",
   "metadata": {},
   "source": [
    "## 1. Load data: \n",
    "<ol>\n",
    "It has 6 attributes, 2 of them are categorical (country and source) and 4 of them are numerical.\n",
    "</ol>"
   ]
  },
  {
   "cell_type": "code",
   "execution_count": 3,
   "metadata": {},
   "outputs": [
    {
     "data": {
      "text/html": [
       "<div>\n",
       "<style scoped>\n",
       "    .dataframe tbody tr th:only-of-type {\n",
       "        vertical-align: middle;\n",
       "    }\n",
       "\n",
       "    .dataframe tbody tr th {\n",
       "        vertical-align: top;\n",
       "    }\n",
       "\n",
       "    .dataframe thead th {\n",
       "        text-align: right;\n",
       "    }\n",
       "</style>\n",
       "<table border=\"1\" class=\"dataframe\">\n",
       "  <thead>\n",
       "    <tr style=\"text-align: right;\">\n",
       "      <th></th>\n",
       "      <th>country</th>\n",
       "      <th>age</th>\n",
       "      <th>new_user</th>\n",
       "      <th>source</th>\n",
       "      <th>total_pages_visited</th>\n",
       "      <th>converted</th>\n",
       "    </tr>\n",
       "  </thead>\n",
       "  <tbody>\n",
       "    <tr>\n",
       "      <td>0</td>\n",
       "      <td>UK</td>\n",
       "      <td>25</td>\n",
       "      <td>1</td>\n",
       "      <td>Ads</td>\n",
       "      <td>1</td>\n",
       "      <td>0</td>\n",
       "    </tr>\n",
       "    <tr>\n",
       "      <td>1</td>\n",
       "      <td>US</td>\n",
       "      <td>23</td>\n",
       "      <td>1</td>\n",
       "      <td>Seo</td>\n",
       "      <td>5</td>\n",
       "      <td>0</td>\n",
       "    </tr>\n",
       "    <tr>\n",
       "      <td>2</td>\n",
       "      <td>US</td>\n",
       "      <td>28</td>\n",
       "      <td>1</td>\n",
       "      <td>Seo</td>\n",
       "      <td>4</td>\n",
       "      <td>0</td>\n",
       "    </tr>\n",
       "    <tr>\n",
       "      <td>3</td>\n",
       "      <td>China</td>\n",
       "      <td>39</td>\n",
       "      <td>1</td>\n",
       "      <td>Seo</td>\n",
       "      <td>5</td>\n",
       "      <td>0</td>\n",
       "    </tr>\n",
       "    <tr>\n",
       "      <td>4</td>\n",
       "      <td>US</td>\n",
       "      <td>30</td>\n",
       "      <td>1</td>\n",
       "      <td>Seo</td>\n",
       "      <td>6</td>\n",
       "      <td>0</td>\n",
       "    </tr>\n",
       "  </tbody>\n",
       "</table>\n",
       "</div>"
      ],
      "text/plain": [
       "  country  age  new_user source  total_pages_visited  converted\n",
       "0      UK   25         1    Ads                    1          0\n",
       "1      US   23         1    Seo                    5          0\n",
       "2      US   28         1    Seo                    4          0\n",
       "3   China   39         1    Seo                    5          0\n",
       "4      US   30         1    Seo                    6          0"
      ]
     },
     "execution_count": 3,
     "metadata": {},
     "output_type": "execute_result"
    }
   ],
   "source": [
    "data = pd.read_csv('conversion_data.csv')\n",
    "data.head()"
   ]
  },
  {
   "cell_type": "code",
   "execution_count": 4,
   "metadata": {},
   "outputs": [
    {
     "name": "stdout",
     "output_type": "stream",
     "text": [
      "<class 'pandas.core.frame.DataFrame'>\n",
      "RangeIndex: 316200 entries, 0 to 316199\n",
      "Data columns (total 6 columns):\n",
      "country                316200 non-null object\n",
      "age                    316200 non-null int64\n",
      "new_user               316200 non-null int64\n",
      "source                 316200 non-null object\n",
      "total_pages_visited    316200 non-null int64\n",
      "converted              316200 non-null int64\n",
      "dtypes: int64(4), object(2)\n",
      "memory usage: 14.5+ MB\n"
     ]
    }
   ],
   "source": [
    "data.info()"
   ]
  },
  {
   "cell_type": "markdown",
   "metadata": {},
   "source": [
    "## 2. EDA\n",
    "<ol>\n",
    "    <li>\n",
    "    scatter plot of numerical data with correlation and distribution\n",
    "        </li>\n",
    "       <li> \n",
    "    bar plot of catergorical data with distribution\n",
    "    </li>\n",
    "</ol>"
   ]
  },
  {
   "cell_type": "code",
   "execution_count": 11,
   "metadata": {},
   "outputs": [
    {
     "name": "stdout",
     "output_type": "stream",
     "text": [
      "CPU times: user 10.3 s, sys: 153 ms, total: 10.5 s\n",
      "Wall time: 9.06 s\n"
     ]
    },
    {
     "data": {
      "image/png": "[encoded data removed]",
      "text/plain": [
       "<Figure size 720x720 with 16 Axes>"
      ]
     },
     "metadata": {
      "needs_background": "light"
     },
     "output_type": "display_data"
    }
   ],
   "source": [
    "%%time\n",
    "_ = pd.plotting.scatter_matrix(data, alpha=0.2, figsize=(10,10))"
   ]
  },
  {
   "cell_type": "markdown",
   "metadata": {},
   "source": [
    "### EDA findings -1:\n",
    "<ol>\n",
    "    <li>\n",
    "    'converted' rate is very low according to chart matrix[3][3]\n",
    "    </li>\n",
    "    <li>\n",
    "    there seems a correlation between 'age' and 'total_pages_visited': matrix[0][2]\n",
    "    </li>\n",
    "    <li>\n",
    "    we could see a logistic_regression trend between 'total_pages_visited' and 'converted': matrix[3][2]\n",
    "    </li>\n",
    "</ol>\n",
    "    "
   ]
  },
  {
   "cell_type": "code",
   "execution_count": 16,
   "metadata": {},
   "outputs": [
    {
     "data": {
      "text/plain": [
       "<matplotlib.axes._subplots.AxesSubplot at 0x15c0946d0>"
      ]
     },
     "execution_count": 16,
     "metadata": {},
     "output_type": "execute_result"
    },
    {
     "data": {
      "image/png": "[encoded data removed]",
      "text/plain": [
       "<Figure size 432x288 with 1 Axes>"
      ]
     },
     "metadata": {
      "needs_background": "light"
     },
     "output_type": "display_data"
    }
   ],
   "source": [
    "# average convert rate by country\n",
    "data[['country','converted']].groupby('country').mean().plot(kind='bar')"
   ]
  },
  {
   "cell_type": "code",
   "execution_count": 17,
   "metadata": {},
   "outputs": [
    {
     "data": {
      "text/plain": [
       "<matplotlib.axes._subplots.AxesSubplot at 0x11b162510>"
      ]
     },
     "execution_count": 17,
     "metadata": {},
     "output_type": "execute_result"
    },
    {
     "data": {
      "image/png": "[encoded data removed]",
      "text/plain": [
       "<Figure size 432x288 with 1 Axes>"
      ]
     },
     "metadata": {
      "needs_background": "light"
     },
     "output_type": "display_data"
    }
   ],
   "source": [
    "# total convert rate by country\n",
    "data[['country','converted']].groupby('country').sum().plot(kind='bar')"
   ]
  },
  {
   "cell_type": "code",
   "execution_count": 21,
   "metadata": {},
   "outputs": [
    {
     "data": {
      "text/plain": [
       "<matplotlib.axes._subplots.AxesSubplot at 0x12a800950>"
      ]
     },
     "execution_count": 21,
     "metadata": {},
     "output_type": "execute_result"
    },
    {
     "data": {
      "image/png": "[encoded data removed]",
      "text/plain": [
       "<Figure size 432x288 with 1 Axes>"
      ]
     },
     "metadata": {
      "needs_background": "light"
     },
     "output_type": "display_data"
    }
   ],
   "source": [
    "data[['source','converted']].groupby('source').mean().plot(kind='bar')"
   ]
  },
  {
   "cell_type": "code",
   "execution_count": 23,
   "metadata": {},
   "outputs": [
    {
     "data": {
      "text/plain": [
       "<matplotlib.axes._subplots.AxesSubplot at 0x1239cfc90>"
      ]
     },
     "execution_count": 23,
     "metadata": {},
     "output_type": "execute_result"
    },
    {
     "data": {
      "image/png": "[encoded data removed]",
      "text/plain": [
       "<Figure size 432x288 with 1 Axes>"
      ]
     },
     "metadata": {
      "needs_background": "light"
     },
     "output_type": "display_data"
    }
   ],
   "source": [
    "data[['source','converted']].groupby('source').sum().plot(kind='bar')"
   ]
  },
  {
   "cell_type": "markdown",
   "metadata": {},
   "source": [
    "### EDA findings -2:\n",
    "<ol>\n",
    "    <li>\n",
    "    country might be a strong factor since the mean rate is strongly different between groups\n",
    "    </li>\n",
    "    <li>\n",
    "    source might not be a strong factor but still could contribute since the difference is noticable\n",
    "\n",
    "\n",
    "</ol>\n",
    "    "
   ]
  },
  {
   "cell_type": "markdown",
   "metadata": {},
   "source": [
    "## 3. Modeling\n",
    "\n",
    "According to EDA, we don't have reason to drop any attributes. We will build a full model.\n",
    "we will try two models:\n",
    "    <ol>\n",
    "    <li>\n",
    "    random forest\n",
    "        </li><li>\n",
    "    xgboost"
   ]
  },
  {
   "cell_type": "code",
   "execution_count": 24,
   "metadata": {},
   "outputs": [
    {
     "data": {
      "text/html": [
       "<div>\n",
       "<style scoped>\n",
       "    .dataframe tbody tr th:only-of-type {\n",
       "        vertical-align: middle;\n",
       "    }\n",
       "\n",
       "    .dataframe tbody tr th {\n",
       "        vertical-align: top;\n",
       "    }\n",
       "\n",
       "    .dataframe thead th {\n",
       "        text-align: right;\n",
       "    }\n",
       "</style>\n",
       "<table border=\"1\" class=\"dataframe\">\n",
       "  <thead>\n",
       "    <tr style=\"text-align: right;\">\n",
       "      <th></th>\n",
       "      <th>age</th>\n",
       "      <th>new_user</th>\n",
       "      <th>total_pages_visited</th>\n",
       "      <th>country_China</th>\n",
       "      <th>country_Germany</th>\n",
       "      <th>country_UK</th>\n",
       "      <th>country_US</th>\n",
       "      <th>source_Ads</th>\n",
       "      <th>source_Direct</th>\n",
       "      <th>source_Seo</th>\n",
       "    </tr>\n",
       "  </thead>\n",
       "  <tbody>\n",
       "    <tr>\n",
       "      <td>0</td>\n",
       "      <td>25</td>\n",
       "      <td>1</td>\n",
       "      <td>1</td>\n",
       "      <td>0</td>\n",
       "      <td>0</td>\n",
       "      <td>1</td>\n",
       "      <td>0</td>\n",
       "      <td>1</td>\n",
       "      <td>0</td>\n",
       "      <td>0</td>\n",
       "    </tr>\n",
       "    <tr>\n",
       "      <td>1</td>\n",
       "      <td>23</td>\n",
       "      <td>1</td>\n",
       "      <td>5</td>\n",
       "      <td>0</td>\n",
       "      <td>0</td>\n",
       "      <td>0</td>\n",
       "      <td>1</td>\n",
       "      <td>0</td>\n",
       "      <td>0</td>\n",
       "      <td>1</td>\n",
       "    </tr>\n",
       "    <tr>\n",
       "      <td>2</td>\n",
       "      <td>28</td>\n",
       "      <td>1</td>\n",
       "      <td>4</td>\n",
       "      <td>0</td>\n",
       "      <td>0</td>\n",
       "      <td>0</td>\n",
       "      <td>1</td>\n",
       "      <td>0</td>\n",
       "      <td>0</td>\n",
       "      <td>1</td>\n",
       "    </tr>\n",
       "    <tr>\n",
       "      <td>3</td>\n",
       "      <td>39</td>\n",
       "      <td>1</td>\n",
       "      <td>5</td>\n",
       "      <td>1</td>\n",
       "      <td>0</td>\n",
       "      <td>0</td>\n",
       "      <td>0</td>\n",
       "      <td>0</td>\n",
       "      <td>0</td>\n",
       "      <td>1</td>\n",
       "    </tr>\n",
       "    <tr>\n",
       "      <td>4</td>\n",
       "      <td>30</td>\n",
       "      <td>1</td>\n",
       "      <td>6</td>\n",
       "      <td>0</td>\n",
       "      <td>0</td>\n",
       "      <td>0</td>\n",
       "      <td>1</td>\n",
       "      <td>0</td>\n",
       "      <td>0</td>\n",
       "      <td>1</td>\n",
       "    </tr>\n",
       "  </tbody>\n",
       "</table>\n",
       "</div>"
      ],
      "text/plain": [
       "   age  new_user  total_pages_visited  country_China  country_Germany  \\\n",
       "0   25         1                    1              0                0   \n",
       "1   23         1                    5              0                0   \n",
       "2   28         1                    4              0                0   \n",
       "3   39         1                    5              1                0   \n",
       "4   30         1                    6              0                0   \n",
       "\n",
       "   country_UK  country_US  source_Ads  source_Direct  source_Seo  \n",
       "0           1           0           1              0           0  \n",
       "1           0           1           0              0           1  \n",
       "2           0           1           0              0           1  \n",
       "3           0           0           0              0           1  \n",
       "4           0           1           0              0           1  "
      ]
     },
     "execution_count": 24,
     "metadata": {},
     "output_type": "execute_result"
    }
   ],
   "source": [
    "# preprocess data\n",
    "y = data['converted']\n",
    "X = data.drop('converted',axis=1)\n",
    "X = pd.get_dummies(X)\n",
    "X.head(5)"
   ]
  },
  {
   "cell_type": "code",
   "execution_count": 28,
   "metadata": {},
   "outputs": [],
   "source": [
    "from sklearn.ensemble import RandomForestClassifier\n",
    "from sklearn.metrics import confusion_matrix, precision_recall_fscore_support, roc_auc_score\n",
    "from xgboost import XGBClassifier\n",
    "from sklearn.model_selection import train_test_split\n",
    "from sklearn.model_selection import GridSearchCV"
   ]
  },
  {
   "cell_type": "code",
   "execution_count": 31,
   "metadata": {},
   "outputs": [],
   "source": [
    "X_train,X_test,y_train,y_test = train_test_split(X,y,test_size=0.3)"
   ]
  },
  {
   "cell_type": "code",
   "execution_count": 32,
   "metadata": {},
   "outputs": [
    {
     "name": "stderr",
     "output_type": "stream",
     "text": [
      "/Users/shunling/opt/anaconda3/lib/python3.7/site-packages/sklearn/model_selection/_split.py:1978: FutureWarning: The default value of cv will change from 3 to 5 in version 0.22. Specify it explicitly to silence this warning.\n",
      "  warnings.warn(CV_WARNING, FutureWarning)\n",
      "/Users/shunling/opt/anaconda3/lib/python3.7/site-packages/sklearn/model_selection/_split.py:1978: FutureWarning: The default value of cv will change from 3 to 5 in version 0.22. Specify it explicitly to silence this warning.\n",
      "  warnings.warn(CV_WARNING, FutureWarning)\n"
     ]
    }
   ],
   "source": [
    "rf = RandomForestClassifier(n_estimators=200)\n",
    "xgb = XGBClassifier(n_estimators=200)\n",
    "\n",
    "\n",
    "grid = [\n",
    "    {\n",
    "        'max_depth': [3,6,8],\n",
    "        'bootstrap':[True, False],\n",
    "        \n",
    "    },\n",
    "    {\n",
    "        'max_depth': [3,6,8],\n",
    "        'lambda':[0.5,1],\n",
    "        'alpha':[0,0.5],\n",
    "    }\n",
    "]\n",
    "clf_rf = GridSearchCV(rf, n_jobs=3, scoring = 'neg_log_loss', param_grid = grid[0],cv=4).fit(X_train,y_train)\n",
    "clf_xgb = GridSearchCV(xgb, n_jobs=3, scoring = 'neg_log_loss', param_grid = grid[1],cv=4).fit(X_train,y_train)"
   ]
  },
  {
   "cell_type": "markdown",
   "metadata": {},
   "source": [
    "### Evaluating model:\n",
    "<ol>\n",
    "    <li> two models are very close. \n",
    "    <li> roc_auc score > 0.8 indicates a good classification effects. \n",
    "    <li> f1 score > 0.75 also indicates a reasonable classification.\n",
    "    <li> recall is about 0.67, although not high, but still above 0.5, means it successful predict something.\n",
    "    \n",
    "        "
   ]
  },
  {
   "cell_type": "code",
   "execution_count": 41,
   "metadata": {},
   "outputs": [],
   "source": [
    "def metrics(y_test,y_predict):\n",
    "\n",
    "    print('confusion matrix:\\n', confusion_matrix(y_test,y_predict))\n",
    "    print('roc_auc:', round(roc_auc_score(y_test,y_predict), 4))\n",
    "    \n",
    "    report = precision_recall_fscore_support(y_test,y_predict,labels=[1])\n",
    "\n",
    "    print('precision:', round(report[0][0],4))\n",
    "    print('recall:', round(report[1][0],4))\n",
    "    print('fscore:', round(report[2][0],4))\n",
    "    print('support:', round(report[3][0],4))"
   ]
  },
  {
   "cell_type": "code",
   "execution_count": 42,
   "metadata": {},
   "outputs": [
    {
     "name": "stdout",
     "output_type": "stream",
     "text": [
      "metrics for random forest:\n",
      "\n",
      "confusion matrix:\n",
      " [[91468   332]\n",
      " [ 1012  2048]]\n",
      "roc_auc: 0.8328\n",
      "precision: 0.8605\n",
      "recall: 0.6693\n",
      "fscore: 0.7529\n",
      "support: 3060\n",
      "\n",
      "\n",
      "metrics for xgb:\n",
      "\n",
      "confusion matrix:\n",
      " [[91454   346]\n",
      " [  989  2071]]\n",
      "roc_auc: 0.8365\n",
      "precision: 0.8568\n",
      "recall: 0.6768\n",
      "fscore: 0.7563\n",
      "support: 3060\n"
     ]
    }
   ],
   "source": [
    "rf_pred = clf_rf.best_estimator_.predict(X_test)\n",
    "xgb_pred = clf_xgb.best_estimator_.predict(X_test)\n",
    "print('metrics for random forest:\\n')\n",
    "metrics(y_test,rf_pred)\n",
    "print('\\n')\n",
    "print('metrics for xgb:\\n')\n",
    "metrics(y_test,xgb_pred)"
   ]
  },
  {
   "cell_type": "markdown",
   "metadata": {},
   "source": [
    "### Feature importance\n",
    "\n",
    "#### For RandomForest model:\n",
    "<li>\n",
    "The most important feature is total_pages_visited. \n",
    "    <li>\n",
    "All other features are greatly less important, making them negletable.\n",
    "\n",
    "#### For Xgboost model:\n",
    "<li>\n",
    "total_pages_visited is still the most important feature, but other features are also considered:\n",
    "<ol><ol>\n",
    "<li>country_china\n",
    "    <li>new_user and age.\n",
    "</ol></ol>\n",
    "    </li></li>\n",
    "\n",
    "According to the importance score, the Xgboost might be more resonable, since from EDA we see a strong effect of country, age might be correlated with total_pages_visited, although age and new_user might not be obvious to see the effect to impact outcome, but it's worthy to consider.\n"
   ]
  },
  {
   "cell_type": "code",
   "execution_count": 44,
   "metadata": {},
   "outputs": [
    {
     "name": "stdout",
     "output_type": "stream",
     "text": [
      "feature importance of random forest model:\n",
      "\n",
      "total_pages_visited : 0.8951133148660364\n",
      "new_user : 0.041424343564608446\n",
      "country_China : 0.027461640663077776\n",
      "age : 0.025714943428129123\n",
      "country_US : 0.003151418929451237\n",
      "country_UK : 0.00281951202092206\n",
      "country_Germany : 0.0017934255340012546\n",
      "source_Ads : 0.000895251228960308\n",
      "source_Direct : 0.0008590655393209826\n",
      "source_Seo : 0.0007670842254924317\n",
      "\n",
      "feature importance of Xgboost model:\n",
      "\n",
      "total_pages_visited : 0.57103646\n",
      "country_China : 0.20168774\n",
      "new_user : 0.14126664\n",
      "country_US : 0.035077747\n",
      "age : 0.031818956\n",
      "source_Direct : 0.008404475\n",
      "country_Germany : 0.004499986\n",
      "source_Seo : 0.0024704384\n",
      "source_Ads : 0.0020458635\n",
      "country_UK : 0.0016916663\n"
     ]
    }
   ],
   "source": [
    "sorted_idx = np.argsort(clf_rf.best_estimator_.feature_importances_)[::-1]\n",
    "print('feature importance of random forest model:\\n')\n",
    "for idx in sorted_idx:\n",
    "    print(X_train.columns[idx], ':', clf_rf.best_estimator_.feature_importances_[idx])\n",
    "print('\\nfeature importance of Xgboost model:\\n')\n",
    "sorted_idx = np.argsort(clf_xgb.best_estimator_.feature_importances_)[::-1]\n",
    "for idx in sorted_idx:\n",
    "    print(X_train.columns[idx], ':', clf_xgb.best_estimator_.feature_importances_[idx])"
   ]
  },
  {
   "cell_type": "markdown",
   "metadata": {},
   "source": [
    "## 4. Insights\n",
    "\n",
    "\n",
    "###    <li>Try to increase total_pages_visited to increase converted rate: Experimenting with A/B test. Design more features and metrics to evaluate performance.</li>\n",
    "###  <li> Figure out why China has significant diffence in terms of total and average converted_rate, try to make improvement in that market</li>"
   ]
  },
  {
   "cell_type": "code",
   "execution_count": null,
   "metadata": {},
   "outputs": [],
   "source": []
  },
  {
   "cell_type": "code",
   "execution_count": null,
   "metadata": {},
   "outputs": [],
   "source": []
  }
 ],
 "metadata": {
  "kernelspec": {
   "display_name": "Python 3",
   "language": "python",
   "name": "python3"
  },
  "language_info": {
   "codemirror_mode": {
    "name": "ipython",
    "version": 3
   },
   "file_extension": ".py",
   "mimetype": "text/x-python",
   "name": "python",
   "nbconvert_exporter": "python",
   "pygments_lexer": "ipython3",
   "version": "3.7.4"
  }
 },
 "nbformat": 4,
 "nbformat_minor": 2
}
